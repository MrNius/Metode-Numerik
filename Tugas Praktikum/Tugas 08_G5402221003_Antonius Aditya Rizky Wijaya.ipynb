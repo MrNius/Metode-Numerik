{
 "cells": [
  {
   "cell_type": "markdown",
   "id": "92f357af-b729-4143-8679-48ed0a060128",
   "metadata": {},
   "source": [
    "# TUGAS PRAKTIKUM 8 METODE NUMERIK\n",
    "__Solusi Akar Persamaan Tak-Linear__\n",
    "\n",
    "```Nama: Antonius Aditya Rizky Wijaya```\n",
    "\n",
    "```NIM: G5402221003```"
   ]
  },
  {
   "cell_type": "markdown",
   "id": "c4c31086-b541-4505-bd58-7e40616963b8",
   "metadata": {},
   "source": [
    "<hr style=\"border:2px solid black\"> </hr>"
   ]
  },
  {
   "cell_type": "markdown",
   "id": "3460d91e-34aa-4770-8dd2-97aea365b26a",
   "metadata": {},
   "source": [
    "### Function metode yang harus dijalankan terlebih dahulu :"
   ]
  },
  {
   "cell_type": "code",
   "execution_count": 89,
   "id": "6f0552ad-a607-4294-8775-06c31430ce38",
   "metadata": {},
   "outputs": [],
   "source": [
    "# Fungsi untuk mencari interval akar dari suatu fungsi yang diduga memiliki lebih dari satu akar\n",
    "function interval_akar(f, a, b, subinterval)\n",
    "    interval_akar = []\n",
    "    nilai_a = a\n",
    "    while nilai_a < b\n",
    "        nilai_b = nilai_a + subinterval\n",
    "        if f(nilai_a) * f(nilai_b) < 0\n",
    "            push!(interval_akar, (nilai_a, nilai_b))\n",
    "        end\n",
    "        nilai_a += subinterval\n",
    "    end\n",
    "    return interval_akar\n",
    "end;"
   ]
  },
  {
   "cell_type": "markdown",
   "id": "f37a2cfc-5996-45b2-b372-0e6d16919d8c",
   "metadata": {},
   "source": [
    "### 1. Metode _Bisection_\n",
    "Metode ini memiliki syarat, yaitu nilai evaluasi fungsi pada ujung selang $ [a,b] $ yaitu $ f(a) $ dan $ f(b) $ memiliki **tanda yang berbeda**."
   ]
  },
  {
   "cell_type": "code",
   "execution_count": 90,
   "id": "59086398-86f8-427e-a856-646e91b983c4",
   "metadata": {},
   "outputs": [],
   "source": [
    "function bisection(f,a,b)\n",
    "    # Definisikan nilai toleransi dan maksimum iterasi yang telah ditentukan.\n",
    "    delta = 10^-7;\n",
    "    maxi = 100;\n",
    "    flag = 1;\n",
    "    M = Array{Float64}(undef, 0, 5);\n",
    "    # Cek Syarat kekonvergenan, yaitu f(a) dan f(b) harus berbeda tanda.\n",
    "    fa = f(a);\n",
    "    fb = f(b);\n",
    "    if fa*fb>0\n",
    "        c = \"error: f(a) dan f(b) harus berbeda tanda\";\n",
    "        flag = 2; \n",
    "        return;\n",
    "    end\n",
    "    k = 1\n",
    "    # Mulai proses metode bisection\n",
    "    while k<=maxi\n",
    "        # Isi dengan rumus bisection untuk mencari nilai c.\n",
    "        c  = (b+a)/2; \n",
    "        fc = f(c); \n",
    "        M = [M; [k-1 a c b fc] ];\n",
    "        # Analisa nilai tengah yang memiliki nilai tanda yang berbeda dengan titik ujung selang.\n",
    "        if fc == 0\n",
    "            a = c;\n",
    "            b = c;\n",
    "        elseif fa*fc>0\n",
    "            a = c;\n",
    "            fa = fc;\n",
    "        else\n",
    "            b = c;\n",
    "            fb = fc;\n",
    "        end\n",
    "        # Kriteria pemberhentian\n",
    "        if b-a < delta || abs(fc) < delta\n",
    "            flag = 0;\n",
    "            break;\n",
    "        end\n",
    "        k+=1\n",
    "    end\n",
    "    return c,flag, M\n",
    "end;"
   ]
  },
  {
   "cell_type": "markdown",
   "id": "4d0cf437-bb23-4bf4-8871-ff33e3b4e383",
   "metadata": {},
   "source": [
    "### 2. Metode _Regula Falsi_\n",
    "Sama seperti metode _bisection_, metode ini memiliki syarat yaitu nilai evaluasi fungsi pada ujung selang $ [a,b] $ yaitu $ f(a) $ dan $ f(b) $ memiliki **tanda yang berbeda**."
   ]
  },
  {
   "cell_type": "code",
   "execution_count": 91,
   "id": "520e4ce7-31f4-44a3-b755-a6b0bb202a43",
   "metadata": {},
   "outputs": [],
   "source": [
    "#=\n",
    "METODE REGULA FALSI UNTUK MENCARI AKAR PERSAMAAN\n",
    " [c,flag,M] = regulaFalsi(f,a,b)\n",
    " Input  : f    -> fungsi f\n",
    "          a,b  -> titik ujung selang [a,b]\n",
    " Output : c    -> solusi numerik dari nilai hampiran akar\n",
    "          flag -> 0 -> toleransi terpehuhi\n",
    "                  1 -> maksimum iterasi terpenuhi\n",
    "                  2 -> error: f(a) dan f(b) memiliki tanda yang sama \n",
    "          M    -> Matriks yang berisi nilai iterasi, a, c, b, dan f(c)\n",
    "=#\n",
    "function regulaFalsi(f,a,b)\n",
    "    # Definisikan nilai toleransi dan maksimum iterasi yang ditentukan.\n",
    "    delta = 10^-7;\n",
    "    maxi = 100;\n",
    "    flag = 1;\n",
    "    M = Array{Float64}(undef, 0, 5);\n",
    "    # Cek Syarat kekonvergenan, yaitu f(a) dan f(b) harus berbeda tanda.\n",
    "    fa = f(a);\n",
    "    fb = f(b);\n",
    "    if fa*fb > 0\n",
    "        c = \"error : fa fb harus beda tanda\";\n",
    "        flag = 2; \n",
    "        return;\n",
    "    end \n",
    "    # Mulai proses metode regula falsi\n",
    "    for k = 1:maxi\n",
    "        c = b-fb*(b-a)/(fb-fa);# Isi dengan rumus nilai c regula falsi.\n",
    "        fc = f(c); \n",
    "        dx = min(c-a,b-c);\n",
    "        M = [M ; [k-1 a c b fc] ]; \n",
    "        # Analisa nilai tengah dengan titik ujung selang.\n",
    "        if fc == 0\n",
    "            a = c;\n",
    "            b = c;\n",
    "        elseif fa*fc>0\n",
    "            a = c;\n",
    "            fa= fc;\n",
    "        else\n",
    "            b = c;\n",
    "            fb= fc;\n",
    "        end\n",
    "        # Kriteria pemberhentian\n",
    "        if abs(fc) < delta || abs(dx)< delta\n",
    "            flag = 0; break;\n",
    "        end\n",
    "    end\n",
    "    return c,flag,M\n",
    "end;"
   ]
  },
  {
   "cell_type": "markdown",
   "id": "48aa2585-261f-43e4-b164-efc25a5eebf7",
   "metadata": {},
   "source": [
    "### 3. Metode _Newton-Raphson_\n",
    "$p_k = p_{k-1} - \\frac{f(p_{k-1})}{f'(p_{k-1})}$"
   ]
  },
  {
   "cell_type": "code",
   "execution_count": 92,
   "id": "0803ba0a-7e67-4fa6-8766-6df32a38a7ee",
   "metadata": {},
   "outputs": [],
   "source": [
    "#= %%METODE NEWTON-RAPHSON \n",
    "% [pk, flag, M] = newtonRaphson (f,df,p0)\n",
    "% Input  : f    -> fungsi f\n",
    "%        : df   -> fungsi turunan dari f\n",
    "%          p0   -> starting value\n",
    "% Output : pk   -> nilai akar\n",
    "%          flag -> tanda : 0 -> berhasil\n",
    "%                          1 -> gagal \n",
    "%          M    -> matriks yang berisi nilai iterasi, hampiran akar dan\n",
    "%                  galat\n",
    "=#\n",
    "function newtonRaphson(f,df,p0)\n",
    "    # Definisikan nilai toleransi, maksimum iterasi dan tebakan awal yang telah ditentukan.\n",
    "    delta = 10^-7;\n",
    "    maxi = 100;\n",
    "    pk = p0\n",
    "    M = [0 pk NaN];\n",
    "    # Mulai langkah iterasi\n",
    "    flag = 1;\n",
    "    for k = 2:maxi\n",
    "        # Rumus metode Newton-Raphson\n",
    "        pk1 = pk\n",
    "        pk = pk1 - f(pk1)/df(pk1); \n",
    "        # Hitung nilai galat mutlak dan relatif\n",
    "        err = abs(pk-pk1);\n",
    "        rel = 2*err/(abs(pk)+eps());\n",
    "        M = [M; [k-1 pk err]]\n",
    "        # Kriteria penghentian iterasi jika galat memenuhi toleransi.\n",
    "        if err<delta || rel<delta\n",
    "            flag = 0;\n",
    "            break\n",
    "        end\n",
    "    end \n",
    "    return pk, flag, M\n",
    "end;"
   ]
  },
  {
   "cell_type": "markdown",
   "id": "12980672-4c64-4131-b0ac-21299a89903c",
   "metadata": {},
   "source": [
    "### 4. Metode _Secant_\n",
    "$ p_{k+1}=p_k - f(p_{k}) \\dfrac{p_k-p_{k-1}}{f(p_k)-f(p_{k-1})}$"
   ]
  },
  {
   "cell_type": "code",
   "execution_count": 93,
   "id": "49a8b0a7-4295-4149-a546-aa8b5e5f6776",
   "metadata": {},
   "outputs": [],
   "source": [
    "#=\n",
    "%%METODE SECANT\n",
    "% [pk, flag, M] = secant(f,p0,p1)\n",
    "% Input  : f    -> fungsi f \n",
    "%          p0,p1-> starting value\n",
    "% Output : pk   -> nilai akar\n",
    "%          flag -> tanda \n",
    "%                  0 -> berhasil\n",
    "%                  1 -> gagal \n",
    "%          M    -> matriks yang berisi nilai iterasi, hampiran akar dan galat\n",
    "=#\n",
    "function secant(f,p0,p1)\n",
    "    # Definisikan nilai toleransi, maksimum iterasi dan tebakan awal yang telah ditentukan.\n",
    "    delta = 10^-12;\n",
    "    maxi = 100; \n",
    "    M = [0 p0 NaN\n",
    "         1 p1 NaN];\n",
    "    p = [p0 p1];\n",
    "    pk = p1;\n",
    "    flag = 1; \n",
    "    # Mulai langkah iterasi\n",
    "    for k = 2:maxi\n",
    "        # rumus metode secant \n",
    "        pk=p[k]-f(p[k])*(p[k]-p[k-1])/(f(p[k])-f(p[k-1]));\n",
    "        p = [p pk]\n",
    "        # Hitung nilai galat mutlak dan relatif\n",
    "        err=abs(p[k+1]-p[k]);\n",
    "        rel=2*err/(abs(p[k]) + eps());\n",
    "        M = [M; [k pk err]] \n",
    "        # Kriteria penghentian iterasi jika galat memenuhi toleransi.\n",
    "        if err<delta || rel<delta\n",
    "            flag = 0;\n",
    "            break\n",
    "        end\n",
    "    end\n",
    "    return pk, flag, M\n",
    "end;"
   ]
  },
  {
   "cell_type": "markdown",
   "id": "c6176f82-0e37-4f42-86d0-04c7928e07c6",
   "metadata": {},
   "source": [
    "<hr style=\"border:2px solid black\"> </hr>"
   ]
  },
  {
   "cell_type": "markdown",
   "id": "f50dfac6-4124-4a9a-89ff-6ca39395ae1c",
   "metadata": {},
   "source": [
    "### __Soal 1__\n",
    "Berapa banyak solusi dari persamaan berikut? $$sin(10x)−x = 0$$\n",
    "Carilah semua solusi akar persamaan tak linear di atas menggunakan metode _bracketing_!"
   ]
  },
  {
   "cell_type": "code",
   "execution_count": 94,
   "id": "fd82ee2d-d63a-453d-81ae-6bdfbd3ab866",
   "metadata": {},
   "outputs": [
    {
     "data": {
      "text/plain": [
       "(1.5440211108893698, -1.5440211108893698)"
      ]
     },
     "execution_count": 94,
     "metadata": {},
     "output_type": "execute_result"
    }
   ],
   "source": [
    "f(x) = sin(10x)-x;\n",
    "a = -1.0; b = 1.0;\n",
    "f(a), f(b)"
   ]
  },
  {
   "cell_type": "markdown",
   "id": "b25a234f-f544-4a80-813f-534af3cb1d6e",
   "metadata": {},
   "source": [
    "Berdasarkan nilai $f(a)$ dan $f(b)$, maka dipastikan terdapat akar persamaan $f(x) = 0$ pada interval $[-1 , 1]$"
   ]
  },
  {
   "cell_type": "code",
   "execution_count": 95,
   "id": "ee83b033-2afe-40d0-9b50-58a8f57f43dd",
   "metadata": {},
   "outputs": [
    {
     "name": "stdout",
     "output_type": "stream",
     "text": [
      "Interval yang memiliki tepat satu akar:\n",
      "> (-0.9, -0.8)\n",
      "> (-0.8, -0.7000000000000001)\n",
      "> (-0.30000000000000016, -0.20000000000000015)\n",
      "> (-1.3877787807814457e-16, 0.09999999999999987)\n",
      "> (0.19999999999999987, 0.2999999999999999)\n",
      "> (0.6999999999999998, 0.7999999999999998)\n",
      "> (0.7999999999999998, 0.8999999999999998)\n"
     ]
    }
   ],
   "source": [
    "function f(x)\n",
    "    return sin(10x)-x\n",
    "end;\n",
    "\n",
    "a = -1.0;\n",
    "b = 1.0;\n",
    "subinterval = 0.1\n",
    "interval = interval_akar(f, a, b, subinterval)\n",
    "println(\"Interval yang memiliki tepat satu akar:\")\n",
    "for i in interval\n",
    "    println(\"> \", i)\n",
    "end"
   ]
  },
  {
   "cell_type": "markdown",
   "id": "2de45203-89da-44b5-bd9c-2877fef4e82a",
   "metadata": {},
   "source": [
    "**Terkonfirmasi** bahwa persamaan $sin(10x)−x = 0$ memiliki 7 nilai akar yang masing - masing terdapat pada interval ```[-0.9 , -0.8]``` , ```[-0.8 , -0.7]``` , ```[-0.3 , -0.2]``` , ```[0.0 , 0.1]``` , ```[0.2 , 0.3]``` , ```[0.7 , 0.8]``` , dan ```[0.8 , 0.9]```"
   ]
  },
  {
   "cell_type": "markdown",
   "id": "ace253a5-0db5-4c81-8b34-df6451a3dce2",
   "metadata": {},
   "source": [
    "### __> Dengan metode Bisection__"
   ]
  },
  {
   "cell_type": "code",
   "execution_count": 96,
   "id": "ed0ad41c-bd15-4162-8ec9-beb1bb19ac68",
   "metadata": {},
   "outputs": [
    {
     "name": "stdout",
     "output_type": "stream",
     "text": [
      "\u001b[1mSolusi fungsi sin(10x) - x = 0 dengan metode bisection:\u001b[0m\n",
      "\n",
      "Solusi 1 = -0.8423203468322755\n",
      "Solusi 2 = -0.7068174362182618\n",
      "Solusi 3 = -0.28523416519165046\n",
      "Solusi 4 = 9.5367431640625e-8\n",
      "Solusi 5 = 0.28523416519165046\n",
      "Solusi 6 = 0.7068174362182618\n",
      "Solusi 7 = 0.8423203468322755\n"
     ]
    }
   ],
   "source": [
    "c1, flag1, M1 = bisection(f, -0.9, -0.8);\n",
    "c2, flag2, M2 = bisection(f, -0.8, -0.7);\n",
    "c3, flag3, M3 = bisection(f, -0.3, -0.2);\n",
    "c4, flag4, M4 = bisection(f, 0.0 , 0.1);\n",
    "c5, flag5, M5 = bisection(f, 0.2, 0.3);\n",
    "c6, flag6, M6 = bisection(f, 0.7, 0.8);\n",
    "c7, flag7, M7 = bisection(f, 0.8, 0.9);\n",
    "\n",
    "println(\"\\e[1mSolusi fungsi sin(10x) - x = 0 dengan metode bisection:\\e[0m\\n\")\n",
    "println(\"Solusi 1 = \", c1)\n",
    "println(\"Solusi 2 = \", c2)\n",
    "println(\"Solusi 3 = \", c3)\n",
    "println(\"Solusi 4 = \", c4)\n",
    "println(\"Solusi 5 = \", c5)\n",
    "println(\"Solusi 6 = \", c6)\n",
    "println(\"Solusi 7 = \", c7)"
   ]
  },
  {
   "cell_type": "markdown",
   "id": "7ae9c096-6867-4339-85bb-51cf77b5b047",
   "metadata": {},
   "source": [
    "### __> Dengan metode Regula Falsi__"
   ]
  },
  {
   "cell_type": "code",
   "execution_count": 97,
   "id": "a96a6722-e4b1-4242-9d7b-9cc9de2b63b2",
   "metadata": {},
   "outputs": [
    {
     "name": "stdout",
     "output_type": "stream",
     "text": [
      "\u001b[1mSolusi fungsi sin(10x) - x = 0 dengan metode regula falsi:\u001b[0m\n",
      "\n",
      "Solusi 1 = -0.8423203805355834\n",
      "Solusi 2 = -0.7068174367544002\n",
      "Solusi 3 = -0.2852341891820905\n",
      "Solusi 4 = 0.0\n",
      "Solusi 5 = 0.2852341891820905\n",
      "Solusi 6 = 0.7068174367544002\n",
      "Solusi 7 = 0.8423203805355834\n"
     ]
    }
   ],
   "source": [
    "c1, flag1, M1 = regulaFalsi(f, -0.9, -0.8);\n",
    "c2, flag2, M2 = regulaFalsi(f, -0.8, -0.7);\n",
    "c3, flag3, M3 = regulaFalsi(f, -0.3, -0.2);\n",
    "c4, flag4, M4 = regulaFalsi(f, 0.0 , 0.1);\n",
    "c5, flag5, M5 = regulaFalsi(f, 0.2, 0.3);\n",
    "c6, flag6, M6 = regulaFalsi(f, 0.7, 0.8);\n",
    "c7, flag7, M7 = regulaFalsi(f, 0.8, 0.9);\n",
    "\n",
    "println(\"\\e[1mSolusi fungsi sin(10x) - x = 0 dengan metode regula falsi:\\e[0m\\n\")\n",
    "println(\"Solusi 1 = \", c1)\n",
    "println(\"Solusi 2 = \", c2)\n",
    "println(\"Solusi 3 = \", c3)\n",
    "println(\"Solusi 4 = \", c4)\n",
    "println(\"Solusi 5 = \", c5)\n",
    "println(\"Solusi 6 = \", c6)\n",
    "println(\"Solusi 7 = \", c7)"
   ]
  },
  {
   "cell_type": "markdown",
   "id": "aa8d6b84-d297-4619-95a8-2d2d6a81af56",
   "metadata": {},
   "source": [
    "<hr style=\"border:2px solid black\"> </hr>"
   ]
  },
  {
   "cell_type": "markdown",
   "id": "735afb90-e322-4f56-9982-acb820f9bc34",
   "metadata": {},
   "source": [
    "### __Soal 2__\n",
    "Implementasikan metode _bisection_, Newton, dan _secant_ untuk menyelesaikan persamaan $$e^{-x} = x$$\n",
    "\n",
    "setidaknya untuk salah satu akar persamaannya.\n",
    "\n",
    "__(a)__ Kriteria pemberhentian apa yang tepat digunakan masing-masing metode?\n",
    "\n",
    "__(b)__ Apa laju kekonvergenan yang diperoleh dari setiap kasus?\n",
    "\n",
    "__(c)__ Bandingkan hasil yang diperoleh! (dari segi solusi dan laju kekonvergenan)"
   ]
  },
  {
   "cell_type": "code",
   "execution_count": 98,
   "id": "0c2e4f8c-3c2a-42d5-a284-c1159888d65a",
   "metadata": {},
   "outputs": [
    {
     "data": {
      "text/plain": [
       "(1.0, -0.6321205588285577)"
      ]
     },
     "execution_count": 98,
     "metadata": {},
     "output_type": "execute_result"
    }
   ],
   "source": [
    "f(x) = exp(-x) - x;\n",
    "df(x) = -exp(-x) - 1;\n",
    "a = 0.0; b = 1.0;\n",
    "f(a), f(b)"
   ]
  },
  {
   "cell_type": "markdown",
   "id": "a5479146-c647-4740-8b57-b1153c51e584",
   "metadata": {},
   "source": [
    "Berdasarkan nilai $f(a)$ dan $f(b)$, maka dipastikan terdapat akar persamaan $f(x) = 0$ pada interval $[0 , 1]$"
   ]
  },
  {
   "cell_type": "code",
   "execution_count": 99,
   "id": "c4db678e-f8a7-4126-aaa9-3d3807c1b4ad",
   "metadata": {},
   "outputs": [
    {
     "name": "stdout",
     "output_type": "stream",
     "text": [
      "Interval yang memiliki tepat satu akar:\n",
      "> (0.5, 0.6)\n"
     ]
    }
   ],
   "source": [
    "function f(x)\n",
    "    return exp(-x)-x\n",
    "end;\n",
    "\n",
    "a = 0.0;\n",
    "b = 1.0;\n",
    "subinterval = 0.1\n",
    "interval = interval_akar(f, a, b, subinterval)\n",
    "println(\"Interval yang memiliki tepat satu akar:\")\n",
    "for i in interval\n",
    "    println(\"> \", i)\n",
    "end"
   ]
  },
  {
   "cell_type": "markdown",
   "id": "367a41f6-8c32-44ff-a3ee-2cd814dfe8a4",
   "metadata": {},
   "source": [
    "Dengan demikian, untuk metode _bisection_ saya akan gunakan interval $[0.5 , 0.6]$ sebagai interval solusinya. Kemudian saya akan gunakan $p_0 = 0.5$ dan $p_1 = 0.6$ sebagai tebakan awal untuk metode _newton-raphson_ dan _secant_.\n"
   ]
  },
  {
   "cell_type": "code",
   "execution_count": 100,
   "id": "5cd21785-73a3-4950-a4e6-0840615075da",
   "metadata": {},
   "outputs": [],
   "source": [
    "p0 = 0.5; p1 = 0.6;"
   ]
  },
  {
   "cell_type": "markdown",
   "id": "f27977ae-5332-4d65-9b6c-400438456221",
   "metadata": {},
   "source": [
    "### __> Dengan metode Bisection__"
   ]
  },
  {
   "cell_type": "code",
   "execution_count": 101,
   "id": "13504a17-fbf8-4249-96c0-773046e7e1b3",
   "metadata": {},
   "outputs": [
    {
     "name": "stdout",
     "output_type": "stream",
     "text": [
      "\u001b[1mMetode Bisection:\u001b[0m\n",
      "\u001b[1mSolusi: \u001b[0m0.5671432495117188\n"
     ]
    },
    {
     "data": {
      "text/plain": [
       "16×5 Matrix{Float64}:\n",
       "  0.0  0.5       0.55      0.6        0.0269498\n",
       "  1.0  0.55      0.575     0.6       -0.0122951\n",
       "  2.0  0.55      0.5625    0.575      0.00728282\n",
       "  3.0  0.5625    0.56875   0.575     -0.00251721\n",
       "  4.0  0.5625    0.565625  0.56875    0.00238003\n",
       "  5.0  0.565625  0.567187  0.56875   -6.92822e-5\n",
       "  6.0  0.565625  0.566406  0.567187   0.0011552\n",
       "  7.0  0.566406  0.566797  0.567187   0.000542917\n",
       "  8.0  0.566797  0.566992  0.567187   0.000236806\n",
       "  9.0  0.566992  0.56709   0.567187   8.37594e-5\n",
       " 10.0  0.56709   0.567139  0.567187   7.23791e-6\n",
       " 11.0  0.567139  0.567163  0.567187  -3.10223e-5\n",
       " 12.0  0.567139  0.567151  0.567163  -1.18922e-5\n",
       " 13.0  0.567139  0.567145  0.567151  -2.32718e-6\n",
       " 14.0  0.567139  0.567142  0.567145   2.45536e-6\n",
       " 15.0  0.567142  0.567143  0.567145   6.40931e-8"
      ]
     },
     "execution_count": 101,
     "metadata": {},
     "output_type": "execute_result"
    }
   ],
   "source": [
    "c, flag_bisection, M_bisection = bisection(f, p0, p1)\n",
    "println(\"\\e[1mMetode Bisection:\\e[0m\")\n",
    "if flag_bisection == 0\n",
    "    println(\"\\e[1mSolusi: \\e[0m\", c)\n",
    "    M_bisection\n",
    "else\n",
    "    println(\"Metode bisection tidak konvergen\")\n",
    "end"
   ]
  },
  {
   "cell_type": "code",
   "execution_count": 104,
   "id": "60918fae-0239-47a3-8d5f-31bc1624530d",
   "metadata": {},
   "outputs": [
    {
     "data": {
      "text/plain": [
       "16-element Vector{Float64}:\n",
       " 0.01714324951171875\n",
       " 0.007856750488281161\n",
       " 0.004643249511718794\n",
       " 0.0016067504882811834\n",
       " 0.00151824951171875\n",
       " 4.425048828116118e-5\n",
       " 0.0007369995117187944\n",
       " 0.0003463745117188166\n",
       " 0.00015106201171888323\n",
       " 5.340576171886102e-5\n",
       " 4.577636718794409e-6\n",
       " 1.9836425781183387e-5\n",
       " 7.62939453125e-6\n",
       " 1.5258789062277955e-6\n",
       " 1.5258789063388178e-6\n",
       " 0.0"
      ]
     },
     "execution_count": 104,
     "metadata": {},
     "output_type": "execute_result"
    }
   ],
   "source": [
    "#Hitung nilai galat\n",
    "Ek_bisection = abs.(c .- M_bisection[:,3])"
   ]
  },
  {
   "cell_type": "markdown",
   "id": "9b162139-a46c-435b-80eb-ff2d8998d1e7",
   "metadata": {},
   "source": [
    "Hitung nilai rasio galat $ |E_{k+1}|/|E_k|^R $. Dengan $R=\\frac{1}{2}$."
   ]
  },
  {
   "cell_type": "code",
   "execution_count": 105,
   "id": "50a25d84-868f-44c5-ade9-901a060095d6",
   "metadata": {},
   "outputs": [
    {
     "data": {
      "text/plain": [
       "15-element Vector{Float64}:\n",
       " 0.0600062363352685\n",
       " 0.05238422717370047\n",
       " 0.02357965408586542\n",
       " 0.0378764205386507\n",
       " 0.0011356551958098674\n",
       " 0.11079193985386855\n",
       " 0.012758873351237675\n",
       " 0.00811675244843416\n",
       " 0.004345207112454477\n",
       " 0.0006263935357376703\n",
       " 0.009271345374360298\n",
       " 0.0017130039439619176\n",
       " 0.0005524271727939513\n",
       " 0.001235264711084163\n",
       " 0.0"
      ]
     },
     "execution_count": 105,
     "metadata": {},
     "output_type": "execute_result"
    }
   ],
   "source": [
    "R = 0.5;\n",
    "RasioGalat = abs.(Ek_bisection[2:end]) ./ abs.(Ek_bisection[1:end-1].^R)"
   ]
  },
  {
   "cell_type": "markdown",
   "id": "20d60979-d89c-458c-b224-b8ea034ac30d",
   "metadata": {},
   "source": [
    "Berdasarkan hasil yang didapatkan, nilai $ |E_{k+1}|/|E_k|^R $ konvergen menuju suatu bilangan, yaitu $0.0012$. \n",
    "\n",
    "Sehingga, metode _Bisection_ memiliki laju kekonvergenan $R=\\frac{1}{2}$ untuk _single root_."
   ]
  },
  {
   "cell_type": "markdown",
   "id": "8c2914e5-361c-47ab-a561-4daafc5fb653",
   "metadata": {},
   "source": [
    "### __> Dengan metode Newton-Raphson__"
   ]
  },
  {
   "cell_type": "code",
   "execution_count": 106,
   "id": "81dda3d7-0751-434d-9802-1cd856147dcf",
   "metadata": {},
   "outputs": [
    {
     "name": "stdout",
     "output_type": "stream",
     "text": [
      "\u001b[1mMetode Newton-Raphson:\u001b[0m\n",
      "\u001b[1mSolusi: \u001b[0m0.567143290409784\n"
     ]
    },
    {
     "data": {
      "text/plain": [
       "5×3 Matrix{Float64}:\n",
       " 0.0  0.5       NaN\n",
       " 1.0  0.566311    0.066311\n",
       " 2.0  0.567143    0.000832162\n",
       " 3.0  0.567143    1.25375e-7\n",
       " 4.0  0.567143    2.88658e-15"
      ]
     },
     "execution_count": 106,
     "metadata": {},
     "output_type": "execute_result"
    }
   ],
   "source": [
    "pk_newton, flag_newton, M_newton = newtonRaphson(f, df, p0)\n",
    "println(\"\\e[1mMetode Newton-Raphson:\\e[0m\")\n",
    "if flag_newton == 0\n",
    "    println(\"\\e[1mSolusi: \\e[0m\", pk_newton)\n",
    "    M_newton\n",
    "else\n",
    "    println(\"Metode Newton-Raphson tidak konvergen\")\n",
    "end"
   ]
  },
  {
   "cell_type": "code",
   "execution_count": 107,
   "id": "31f60061-720f-4e38-bfdf-98bbbfbb82ac",
   "metadata": {},
   "outputs": [
    {
     "data": {
      "text/plain": [
       "5-element Vector{Float64}:\n",
       " 0.06714329040978395\n",
       " 0.0008322872125657854\n",
       " 1.2537492177777665e-7\n",
       " 2.886579864025407e-15\n",
       " 0.0"
      ]
     },
     "execution_count": 107,
     "metadata": {},
     "output_type": "execute_result"
    }
   ],
   "source": [
    "# Hitung nilai galat\n",
    "Ek_newton = abs.(pk_newton .-M_newton[:,2])"
   ]
  },
  {
   "cell_type": "markdown",
   "id": "5dfc8ad4-4ac4-4bde-bde2-0daa3424fffa",
   "metadata": {},
   "source": [
    "Hitung nilai rasio galat $ |E_{k+1}|/|E_k|^R $. Dengan $R=2$ untuk _single root_ dan $R=1$ untuk _double root_. \n",
    "\n",
    "Berdasarkan hasil komputasi sebelumnya, persamaan $e^{-x} = x$ memiliki 1 akar penyelesaian (_single root_), sehingga pilih $R=2$."
   ]
  },
  {
   "cell_type": "code",
   "execution_count": 108,
   "id": "2480eaca-60ea-47af-a2c9-9e9cf3704dfe",
   "metadata": {},
   "outputs": [
    {
     "data": {
      "text/plain": [
       "4-element Vector{Float64}:\n",
       " 0.18461542369661624\n",
       " 0.18099402198565437\n",
       " 0.18363786190783848\n",
       " 0.0"
      ]
     },
     "execution_count": 108,
     "metadata": {},
     "output_type": "execute_result"
    }
   ],
   "source": [
    "R = 2;\n",
    "RasioGalat = abs.(Ek_newton[2:end]) ./ abs.(Ek_newton[1:end-1].^R)"
   ]
  },
  {
   "cell_type": "markdown",
   "id": "708eba3e-c64d-4dbf-a9d5-7bb88d632022",
   "metadata": {},
   "source": [
    "Berdasarkan hasil yang didapatkan, nilai $ |E_{k+1}|/|E_k|^2 $ konvergen menuju suatu bilangan, yaitu $0.18$. \n",
    "\n",
    "Sehingga metode _Newton-Raphson_ memiliki laju kekonvergenan $R=2$ untuk _single root_."
   ]
  },
  {
   "cell_type": "markdown",
   "id": "4dddf369-243e-42ad-b7ce-e3c3faec12ad",
   "metadata": {},
   "source": [
    "### __> Dengan metode Secant__"
   ]
  },
  {
   "cell_type": "code",
   "execution_count": 109,
   "id": "d9279454-1e86-4fe7-8052-bd133c1da606",
   "metadata": {},
   "outputs": [
    {
     "name": "stdout",
     "output_type": "stream",
     "text": [
      "\u001b[1mMetode Secant:\u001b[0m\n",
      "\u001b[1mSolusi: \u001b[0m0.5671432904097838\n"
     ]
    },
    {
     "data": {
      "text/plain": [
       "7×3 Matrix{Float64}:\n",
       " 0.0  0.5       NaN\n",
       " 1.0  0.6       NaN\n",
       " 2.0  0.567545    0.0324554\n",
       " 3.0  0.567141    0.000403668\n",
       " 4.0  0.567143    2.37391e-6\n",
       " 5.0  0.567143    1.72355e-10\n",
       " 6.0  0.567143    1.11022e-16"
      ]
     },
     "execution_count": 109,
     "metadata": {},
     "output_type": "execute_result"
    }
   ],
   "source": [
    "pk_secant, flag_secant, M_secant = secant(f, p0, p1)\n",
    "println(\"\\e[1mMetode Secant:\\e[0m\")\n",
    "if flag_secant == 0\n",
    "    println(\"\\e[1mSolusi: \\e[0m\", pk_secant)\n",
    "    M_secant\n",
    "else\n",
    "    println(\"Metode Secant tidak konvergen\")\n",
    "end"
   ]
  },
  {
   "cell_type": "code",
   "execution_count": 110,
   "id": "d38500bc-c0bf-499c-9549-62ebeed96a84",
   "metadata": {},
   "outputs": [
    {
     "data": {
      "text/plain": [
       "7-element Vector{Float64}:\n",
       " 0.06714329040978384\n",
       " 0.03285670959021614\n",
       " 0.0004012944275175734\n",
       " 2.3737362090381353e-6\n",
       " 1.7235479710109303e-10\n",
       " 1.1102230246251565e-16\n",
       " 0.0"
      ]
     },
     "execution_count": 110,
     "metadata": {},
     "output_type": "execute_result"
    }
   ],
   "source": [
    "# Hitung nilai galat\n",
    "Ek_secant = abs.(pk_secant .-M_secant[:,2])"
   ]
  },
  {
   "cell_type": "markdown",
   "id": "13e584bc-ee31-4682-b7d4-a1584e2a6cfb",
   "metadata": {},
   "source": [
    "Hitung nilai rasio galat $ |E_{k+1}|/|E_k|^R $. Pilih $ R=\\dfrac{1+\\sqrt{5}}{2} $"
   ]
  },
  {
   "cell_type": "code",
   "execution_count": 111,
   "id": "831204cf-9566-4570-b39b-70edc199d42c",
   "metadata": {},
   "outputs": [
    {
     "data": {
      "text/plain": [
       "6-element Vector{Float64}:\n",
       " 2.5976085083783413\n",
       " 0.1008360449499241\n",
       " 0.7432664945397057\n",
       " 0.2173525981802943\n",
       " 0.6969619358315214\n",
       " 0.0"
      ]
     },
     "execution_count": 111,
     "metadata": {},
     "output_type": "execute_result"
    }
   ],
   "source": [
    "R = (1+sqrt(5))/2;\n",
    "RasioGalat = abs.(Ek_secant[2:end]) ./ abs.(Ek_secant[1:end-1].^R)"
   ]
  },
  {
   "cell_type": "markdown",
   "id": "cd108679-1dd5-4297-8de4-df75320f1b3d",
   "metadata": {},
   "source": [
    "Berdasarkan hasil yang didapatkan, nilai $ |E_{k+1}|/|E_k|^R $ konvergen menuju suatu bilangan, yaitu $0.7$. \n",
    "\n",
    "Sehingga, metode _Secant_ memiliki laju kekonvergenan $ R=\\dfrac{1+\\sqrt{5}}{2}\\approx1.618 $ untuk _single root_."
   ]
  },
  {
   "cell_type": "markdown",
   "id": "13dea800-ab6d-42a7-8a83-043b131c6be5",
   "metadata": {},
   "source": [
    "### Kesimpulan dan jawaban nomor 2a, 2b, dan 2c:\n",
    "\n",
    "Solusi dari persamaan $e^{-x} = x$ :\n",
    "- Metode Bisection: $0.5671432495117188$, dengan $15$ kali iterasi dan akurasi $7$ angka dibelakang koma.\n",
    "- Metode Newton-Raphson: $0.567143290409784$, dengan $4$ kali iterasi dan akurasi $7$ angka dibelakang koma.\n",
    "- Metode Secant: $0.5671432904097838$, dengan $6$ kali iterasi dan akurasi $12$ angka dibelakang koma."
   ]
  },
  {
   "cell_type": "markdown",
   "id": "57c26b50-201a-4114-95cf-e433441ebd8d",
   "metadata": {},
   "source": [
    "__(a) Kriteria pemberhentian apa yang tepat digunakan masing-masing metode?__\n",
    "\n",
    "Berdasarkan materi yang dipaparkan pada modul dan notebook praktikum:\n",
    "- Kriteria pemberhentian metode _bisection_ adalah ketika panjang interval $|b-a|$ lebih kecil dari toleransi $delta$, atau ketika nilai fungsi di titik tengah $f(c)$ mendekati nol.\n",
    "\n",
    "- Kriteria pemberhentian metode _newton-raphson_ adalah ketika perubahan relatif antara iterasi ke $k$ dan $k+1$ lebih kecil dari toleransi $delta$, atau ketika nilai fungsi mendekati nol.\n",
    "\n",
    "- Kriteria pemberhentian metode _secant_ adalah ketika perubahan relatif antara iterasi ke $k$ dan $k+1$ lebih kecil dari toleransi $delta$, atau ketika nilai fungsi mendekati nol."
   ]
  },
  {
   "cell_type": "markdown",
   "id": "2ef4ce05-496d-4331-8343-dfaa702f3f6f",
   "metadata": {},
   "source": [
    "__(b) Apa laju kekonvergenan yang diperoleh dari setiap kasus?__\n",
    "\n",
    "Berdasarkan hasil komputasi diatas:\n",
    "- Laju kekonvergenan metode _bisection_ untuk persamaan $e^{-x} = x$ adalah $R=\\frac{1}{2}$.\n",
    "\n",
    "- Laju kekonvergenan metode _newton-raphson_ umumnya memiliki nilai $R=2$ untuk _single root_ dan $R=1$ untuk _double root_. Namun karena persamaan $e^{-x} = x$ memiliki 1 akar penyelesaian maka laju kekonvergenannya  adalah $R=2$.\n",
    "\n",
    "- Laju kekonvergenan metode _secant_ untuk persamaan $e^{-x} = x$ adalah $R=\\dfrac{1+\\sqrt{5}}{2}\\approx1.618$."
   ]
  },
  {
   "cell_type": "markdown",
   "id": "a4103068-83e6-47ad-87a7-d0ad55ee6799",
   "metadata": {},
   "source": [
    "__(c) Bandingkan hasil yang diperoleh! (dari segi solusi dan laju kekonvergenan)__\n",
    "\n",
    "- Metode _bisection_ menjamin konvergensi terhadap solusinya, namun dengan iterasi yang lebih banyak dan laju kekonvergenan yang lebih lambat dibandingkan dengan _newton-raphson_ dan _secant_. Selain itu, metode _bisection_ lebih stabil dan tidak memerlukan turunan fungsi.\n",
    "\n",
    "- Metode _newton-raphson_ cenderung memberikan solusi lebih cepat dengan iterasi yang lebih sedikit dibandingkan dengan metode _bisection_ dan _secant_. Namun, hasilnya dapat bervariasi tergantung pada tebakan awal yang diberikan dan memerlukan turunan fungsinya.\n",
    "\n",
    "- Metode _secant_ memiliki konvergensi yang lebih cepat daripada metode _bisection_ tetapi lebih lambat daripada _newton-raphson_. Metode ini tidak memerlukan perhitungan turunan seperti _newton-raphson_, sehingga cocok untuk menyelesaikan fungsi yang turunannya sulit dicari, tetapi hasilnya lebih bergantung pada pemilihan tebakan awal yang tepat."
   ]
  },
  {
   "cell_type": "markdown",
   "id": "b971e840-1b37-4081-95f9-e98e2191ae77",
   "metadata": {},
   "source": [
    "<hr style=\"border:2px solid black\"> </hr>"
   ]
  },
  {
   "cell_type": "markdown",
   "id": "2b6f7faf-16ee-4b77-afa7-d4bc78668b1e",
   "metadata": {},
   "source": [
    "### __Soal 3__\n",
    "A certain nonlinear spring develops a restoring force given by $$F = c_1x+c_3x^3+c_5x^5$$\n",
    "\n",
    "where F is in Kg force and x is in cm. The values of the constants are\n",
    "$$c_1 = 5.25 kg/cm,$$\n",
    "\n",
    "$$c_3 = 0.60 kg/cm,$$\n",
    "\n",
    "$$c_5 = 0.0118 kg/cm.$$\n",
    "\n",
    "If a 12.5 kg weight is placed on the spring, how far will it compress?\n",
    "(where standard gravity is 9.80665 $m/s^2$)"
   ]
  },
  {
   "cell_type": "code",
   "execution_count": 112,
   "id": "fd789932-5dc0-4456-a26c-4daefe45e8d2",
   "metadata": {},
   "outputs": [
    {
     "data": {
      "text/plain": [
       "(-116.721325, 15.541875000000005)"
      ]
     },
     "execution_count": 112,
     "metadata": {},
     "output_type": "execute_result"
    }
   ],
   "source": [
    "c1 = 5.25\n",
    "c3 = 0.60\n",
    "c5 = 0.0118\n",
    "massa = 12.5\n",
    "gravitasi = 9.80665\n",
    "f(x) = c1*x + c3*x^3 + c5*x^5 - massa * gravitasi\n",
    "df(x) = c1 + 3*c3*x^2 + 5*c5*x^4\n",
    "\n",
    "a = 1.0\n",
    "b = 5.0\n",
    "f(a), f(b)"
   ]
  },
  {
   "cell_type": "markdown",
   "id": "478ed121-c84e-487f-8da7-1f99a0217263",
   "metadata": {},
   "source": [
    "Berdasarkan nilai $f(a)$ dan $f(b)$, maka dipastikan terdapat akar persamaan $f(x) = 0$ pada interval $[1 , 5]$"
   ]
  },
  {
   "cell_type": "code",
   "execution_count": 113,
   "id": "925d80fa-fff4-4ed4-92de-36cc43af58f2",
   "metadata": {},
   "outputs": [
    {
     "name": "stdout",
     "output_type": "stream",
     "text": [
      "Interval yang memiliki tepat satu akar:\n",
      "> (4.8, 4.8999999999999995)\n"
     ]
    }
   ],
   "source": [
    "function f(x)\n",
    "    return c1*x + c3*x^3 + c5*x^5 - massa * gravitasi\n",
    "end;\n",
    "\n",
    "a = 1.0;\n",
    "b = 5.0;\n",
    "subinterval = 0.1\n",
    "interval = interval_akar(f, a, b, subinterval)\n",
    "println(\"Interval yang memiliki tepat satu akar:\")\n",
    "for i in interval\n",
    "    println(\"> \", i)\n",
    "end"
   ]
  },
  {
   "cell_type": "markdown",
   "id": "d5cf328a-c99a-4007-a61f-24e7a43edcc3",
   "metadata": {},
   "source": [
    "Dengan demikian, untuk metode _bisection_ saya akan gunakan interval $[4.8 , 4.9]$ sebagai interval solusinya. Kemudian saya akan gunakan $p_0 = 4.8$ dan $p_1 = 4.9$ sebagai tebakan awal untuk metode _newton-raphson_ dan _secant_.\n"
   ]
  },
  {
   "cell_type": "code",
   "execution_count": 114,
   "id": "40fe9e8b-8dbb-4434-9add-69e18d7aafa2",
   "metadata": {},
   "outputs": [],
   "source": [
    "p0 = 4.8; p1 = 4.9;"
   ]
  },
  {
   "cell_type": "markdown",
   "id": "d92e000d-f481-477f-8691-b8f7f07ec329",
   "metadata": {},
   "source": [
    "### __> Dengan metode Bisection__"
   ]
  },
  {
   "cell_type": "code",
   "execution_count": 118,
   "id": "63154d09-2b8b-4661-a835-5266c535d623",
   "metadata": {},
   "outputs": [
    {
     "name": "stdout",
     "output_type": "stream",
     "text": [
      "\u001b[1mJarak kompresi pegas saat diberikan massa sebesar 12.5 kg\u001b[0m: 4.8122727394104 cm\n"
     ]
    },
    {
     "data": {
      "text/plain": [
       "20×5 Matrix{Float64}:\n",
       "  0.0  4.8      4.85     4.9       2.99567\n",
       "  1.0  4.8      4.825    4.85      1.00359\n",
       "  2.0  4.8      4.8125   4.825     0.0178594\n",
       "  3.0  4.8      4.80625  4.8125   -0.472448\n",
       "  4.0  4.80625  4.80938  4.8125   -0.227507\n",
       "  5.0  4.80938  4.81094  4.8125   -0.104877\n",
       "  6.0  4.81094  4.81172  4.8125   -0.0435221\n",
       "  7.0  4.81172  4.81211  4.8125   -0.0128347\n",
       "  8.0  4.81211  4.8123   4.8125    0.00251154\n",
       "  9.0  4.81211  4.81221  4.8123   -0.00516178\n",
       " 10.0  4.81221  4.81226  4.8123   -0.00132517\n",
       " 11.0  4.81226  4.81228  4.8123    0.000593173\n",
       " 12.0  4.81226  4.81227  4.81228  -0.000366002\n",
       " 13.0  4.81227  4.81227  4.81228   0.000113585\n",
       " 14.0  4.81227  4.81227  4.81227  -0.000126209\n",
       " 15.0  4.81227  4.81227  4.81227  -6.3118e-6\n",
       " 16.0  4.81227  4.81227  4.81227   5.36366e-5\n",
       " 17.0  4.81227  4.81227  4.81227   2.36624e-5\n",
       " 18.0  4.81227  4.81227  4.81227   8.6753e-6\n",
       " 19.0  4.81227  4.81227  4.81227   1.18175e-6"
      ]
     },
     "execution_count": 118,
     "metadata": {},
     "output_type": "execute_result"
    }
   ],
   "source": [
    "jarak_kompresi, flag, M = bisection(f, p0, p1)\n",
    "if flag == 0\n",
    "    println(\"\\e[1mJarak kompresi pegas saat diberikan massa sebesar 12.5 kg\\e[0m: \", jarak_kompresi, \" cm\")\n",
    "    M\n",
    "else\n",
    "    println(\"\\e[1mMetode bisection tidak konvergen\\e[0m\")\n",
    "end"
   ]
  },
  {
   "cell_type": "markdown",
   "id": "c28dc03d-540c-4e48-9790-21593f2c5991",
   "metadata": {},
   "source": [
    "### __> Dengan metode Newton-Raphson__"
   ]
  },
  {
   "cell_type": "code",
   "execution_count": 119,
   "id": "c8e1906f-88d1-4756-9962-6c087a7695f4",
   "metadata": {},
   "outputs": [
    {
     "name": "stdout",
     "output_type": "stream",
     "text": [
      "\u001b[1mJarak kompresi pegas saat diberikan massa sebesar 12.5 kg\u001b[0m: 4.812272724370745 cm\n"
     ]
    },
    {
     "data": {
      "text/plain": [
       "4×3 Matrix{Float64}:\n",
       " 0.0  4.8      NaN\n",
       " 1.0  4.81231    0.0123147\n",
       " 2.0  4.81227    4.19394e-5\n",
       " 3.0  4.81227    4.88276e-10"
      ]
     },
     "execution_count": 119,
     "metadata": {},
     "output_type": "execute_result"
    }
   ],
   "source": [
    "jarak_kompresi, flag, M = newtonRaphson(f, df, p0)\n",
    "if flag == 0\n",
    "    println(\"\\e[1mJarak kompresi pegas saat diberikan massa sebesar 12.5 kg\\e[0m: \", jarak_kompresi, \" cm\")\n",
    "    M\n",
    "else\n",
    "    println(\"\\e[1mMetode Newton-Raphson tidak konvergen\\e[0m\")\n",
    "end"
   ]
  },
  {
   "cell_type": "markdown",
   "id": "e92368da-7d35-46af-bb1d-913f1407350f",
   "metadata": {},
   "source": [
    "### __> Dengan metode Secant__"
   ]
  },
  {
   "cell_type": "code",
   "execution_count": 120,
   "id": "0063ef53-e7bd-4b48-a849-c871096dd019",
   "metadata": {},
   "outputs": [
    {
     "name": "stdout",
     "output_type": "stream",
     "text": [
      "\u001b[1mJarak kompresi pegas saat diberikan massa sebesar 12.5 kg\u001b[0m: 4.812272724370745 cm\n"
     ]
    },
    {
     "data": {
      "text/plain": [
       "7×3 Matrix{Float64}:\n",
       " 0.0  4.8      NaN\n",
       " 1.0  4.9      NaN\n",
       " 2.0  4.81198    0.0880233\n",
       " 3.0  4.81227    0.000288929\n",
       " 4.0  4.81227    7.13209e-6\n",
       " 5.0  4.81227    5.86128e-10\n",
       " 6.0  4.81227    8.88178e-16"
      ]
     },
     "execution_count": 120,
     "metadata": {},
     "output_type": "execute_result"
    }
   ],
   "source": [
    "jarak_kompresi, flag, M = secant(f, p0, p1)\n",
    "if flag == 0\n",
    "    println(\"\\e[1mJarak kompresi pegas saat diberikan massa sebesar 12.5 kg\\e[0m: \", jarak_kompresi, \" cm\")\n",
    "    M\n",
    "else\n",
    "    println(\"\\e[1mMetode secant tidak konvergen\\e[0m\")\n",
    "end"
   ]
  },
  {
   "cell_type": "markdown",
   "id": "cbdffa5d-69c0-43e8-acc3-04bb7e324797",
   "metadata": {},
   "source": [
    "### Kesimpulan nomor 3:\n",
    "\n",
    "Dari ketiga metode yang digunakan, didapatkan jarak kompresi pegas saat diberikan massa sebesar $12.5$ kg adalah sekitar $4.8122727$ cm. Namun jika dilihat dari jumlah iterasi yang diperlukan untuk mendapat solusi tersebut, metode _newton-raphson_ lebih efisien karena hanya membutuhkan $3$ kali iterasi saja."
   ]
  },
  {
   "cell_type": "markdown",
   "id": "c556d2fd-bcb7-431a-bd6d-8acee8859e36",
   "metadata": {},
   "source": [
    "<hr style=\"border:2px solid black\"> </hr>"
   ]
  }
 ],
 "metadata": {
  "kernelspec": {
   "display_name": "Julia 1.10.1",
   "language": "julia",
   "name": "julia-1.10"
  },
  "language_info": {
   "file_extension": ".jl",
   "mimetype": "application/julia",
   "name": "julia",
   "version": "1.10.1"
  }
 },
 "nbformat": 4,
 "nbformat_minor": 5
}
