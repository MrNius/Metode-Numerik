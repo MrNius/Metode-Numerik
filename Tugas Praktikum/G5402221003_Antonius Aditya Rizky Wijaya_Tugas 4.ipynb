{
 "cells": [
  {
   "cell_type": "markdown",
   "metadata": {
    "slideshow": {
     "slide_type": "-"
    }
   },
   "source": [
    "# PRAKTIKUM 4\n",
    "__Solusi Sistem Persamaan Linear : Metode Iteratif__"
   ]
  },
  {
   "cell_type": "markdown",
   "metadata": {},
   "source": [
    "### 6.6.2 Soal Pemrograman\n",
    "\n",
    "```Nama : Antonius Aditya Rizky Wijaya```\n",
    "\n",
    "```NIM : G5402221003```"
   ]
  },
  {
   "cell_type": "markdown",
   "metadata": {},
   "source": [
    "<hr style=\"border:2px solid black\"> </hr>"
   ]
  },
  {
   "cell_type": "markdown",
   "metadata": {},
   "source": [
    " ## Metode Jacobi"
   ]
  },
  {
   "cell_type": "code",
   "execution_count": 42,
   "metadata": {},
   "outputs": [
    {
     "data": {
      "text/plain": [
       "jacobi (generic function with 1 method)"
      ]
     },
     "execution_count": 42,
     "metadata": {},
     "output_type": "execute_result"
    }
   ],
   "source": [
    "using LinearAlgebra\n",
    "function jacobi(A, B, Xawal::Array{Int64,1})\n",
    "    # Definisikan nilai toleransi dan maksimum iterasi yang ditentukan.\n",
    "    delta = 10^-7;\n",
    "    maxi = 100;\n",
    "    flag = 1;\n",
    "    # Dekomposisi matriks A menjadi A=D+R\n",
    "    D = Diagonal(diag(A))\n",
    "    R = A - D;\n",
    "    # Tentukan nilai tebakan awal dari metode Jacobi\n",
    "    X = Xawal;\n",
    "    M = [0 X' NaN];\n",
    "    # Mulai proses iterasi metode jacobi\n",
    "    for k = 1:maxi\n",
    "        Xlama = X;\n",
    "        X = inv(D)*(B - R*Xlama); # Isi dengan rumus iterasi jacobi\n",
    "        # Hitung panjang vektor galat iterasi jacobi, jika Xn-Xn-1 atau B-AX telah memenuhi toleransi maka proses iterasi dapat dihentikan.\n",
    "        err = norm(X-Xlama);\n",
    "        M = [M; [k X' err] ];\n",
    "        if err<delta || norm(B-A*X)<delta\n",
    "            flag = 0;\n",
    "            break\n",
    "        end\n",
    "    end\n",
    "    err = M[end,end]\n",
    "    return X, flag, err, M\n",
    "end"
   ]
  },
  {
   "cell_type": "code",
   "execution_count": 43,
   "metadata": {},
   "outputs": [
    {
     "name": "stdout",
     "output_type": "stream",
     "text": [
      "X = [1.9999999884128572, 3.9999999907302857, 3.0000000018539428]\n",
      "flag = 0\n",
      "err = 3.777053140308286e-8\n"
     ]
    },
    {
     "data": {
      "text/plain": [
       "18×5 Matrix{Float64}:\n",
       "  0.0  1.0      2.0      2.0      NaN\n",
       "  1.0  1.75     3.375    3.0        1.85826\n",
       "  2.0  1.84375  3.875    3.025      0.509327\n",
       "  3.0  1.9625   3.925    2.9625     0.143205\n",
       "  4.0  1.99062  3.97656  3.0        0.0696847\n",
       "  5.0  1.99414  3.99531  3.00094    0.0190998\n",
       "  6.0  1.99859  3.99719  2.99859    0.00537021\n",
       "  7.0  1.99965  3.99912  3.0        0.00261318\n",
       "  8.0  1.99978  3.99982  3.00004    0.000716241\n",
       "  9.0  1.99995  3.99989  2.99995    0.000201383\n",
       " 10.0  1.99999  3.99997  3.0        9.79941e-5\n",
       " 11.0  1.99999  3.99999  3.0        2.6859e-5\n",
       " 12.0  2.0      4.0      3.0        7.55185e-6\n",
       " 13.0  2.0      4.0      3.0        3.67478e-6\n",
       " 14.0  2.0      4.0      3.0        1.00721e-6\n",
       " 15.0  2.0      4.0      3.0        2.83194e-7\n",
       " 16.0  2.0      4.0      3.0        1.37804e-7\n",
       " 17.0  2.0      4.0      3.0        3.77705e-8"
      ]
     },
     "execution_count": 43,
     "metadata": {},
     "output_type": "execute_result"
    }
   ],
   "source": [
    "A = [4 -1  1\n",
    "     4 -8  1\n",
    "    -2  1  5];\n",
    "B = [7;-21;15];\n",
    "Xa = [1,2,2];\n",
    "X,flag,err,M = jacobi(A,B,Xa)\n",
    "@show X\n",
    "@show flag\n",
    "@show err\n",
    "M"
   ]
  },
  {
   "cell_type": "code",
   "execution_count": null,
   "metadata": {},
   "outputs": [],
   "source": [
    "using Pkg\n",
    "Pkg.add(\"Plots\")"
   ]
  },
  {
   "cell_type": "code",
   "execution_count": null,
   "metadata": {
    "scrolled": true
   },
   "outputs": [],
   "source": [
    "using Plots\n",
    "# Plot panjang vektor galat.\n",
    "iter = M[:,1]\n",
    "err = M[:,end]\n",
    "p1 = plot(iter, err, yaxis = :log, label = :none)\n",
    "# Tambahkan title dan label\n",
    "title!(\"Plot perambatan panjang vektor galat\")\n",
    "xlabel!(\"iterasi\")\n",
    "ylabel!(\"panjang vektor galat\")"
   ]
  },
  {
   "cell_type": "markdown",
   "metadata": {},
   "source": [
    "## Metode Gauss-Seidel"
   ]
  },
  {
   "cell_type": "code",
   "execution_count": 44,
   "metadata": {},
   "outputs": [
    {
     "data": {
      "text/plain": [
       "gaussSeidel (generic function with 1 method)"
      ]
     },
     "execution_count": 44,
     "metadata": {},
     "output_type": "execute_result"
    }
   ],
   "source": [
    "using LinearAlgebra\n",
    "function gaussSeidel(A,B,Xawal::Array{Int64,1}) \n",
    "    # Definisikan nilai toleransi dan maksimum iterasi yang ditentukan.\n",
    "    delta = 10^-7;\n",
    "    maxi = 100;\n",
    "    flag = 1;\n",
    "    # Dekomposisi matriks A menjadi A=L+U\n",
    "    D = Diagonal(diag(A))\n",
    "    R = tril(A);\n",
    "    U = triu(A,1);\n",
    "    # Tentukan nilai tebakan awal dari metode Gauss-Seidel\n",
    "    X = Xawal; \n",
    "    M = [0 X' NaN];\n",
    "    # Mulai proses iterasi metode Gauss-Seidel\n",
    "    for k = 1:maxi\n",
    "        Xlama = X;\n",
    "        X = inv(R)*(B - U*Xlama); # Isi dengan rumus iterasi Gauss-Seidel \n",
    "        # Hitung panjang vektor galat iterasi jacobi, jika galat telah \n",
    "        # memenuhi toleransi maka proses iterasi dapat dihentikan.\n",
    "        err = norm(X-Xlama);\n",
    "        M = [M; [k X' err] ];\n",
    "        if err<delta\n",
    "            flag = 0;\n",
    "            break\n",
    "        end\n",
    "    end\n",
    "    err = M[end,end]\n",
    "    return X, flag, err, M\n",
    "end"
   ]
  },
  {
   "cell_type": "code",
   "execution_count": 45,
   "metadata": {
    "scrolled": false
   },
   "outputs": [
    {
     "name": "stdout",
     "output_type": "stream",
     "text": [
      "X = [1.99999999743314, 3.999999998137355, 2.999999999345785]\n",
      "flag = 0\n",
      "err = 2.1378379298357413e-8\n"
     ]
    },
    {
     "data": {
      "text/plain": [
       "11×5 Matrix{Float64}:\n",
       "  0.0  1.0      2.0      2.0      NaN\n",
       "  1.0  1.75     3.75     2.95       2.12779\n",
       "  2.0  1.95     3.96875  2.98625    0.298606\n",
       "  3.0  1.99562  3.99609  2.99903    0.0547054\n",
       "  4.0  1.99927  3.99951  2.9998     0.00505308\n",
       "  5.0  1.99993  3.99994  2.99998    0.000807443\n",
       "  6.0  1.99999  3.99999  3.0        8.30727e-5\n",
       "  7.0  2.0      4.0      3.0        1.21519e-5\n",
       "  8.0  2.0      4.0      3.0        1.34052e-6\n",
       "  9.0  2.0      4.0      3.0        1.85294e-7\n",
       " 10.0  2.0      4.0      3.0        2.13784e-8"
      ]
     },
     "execution_count": 45,
     "metadata": {},
     "output_type": "execute_result"
    }
   ],
   "source": [
    "A = [4 -1  1\n",
    "     4 -8  1\n",
    "    -2  1  5];\n",
    "B = [7;-21;15];\n",
    "Xa = [1,2,2];\n",
    "X,flag,err,M = gaussSeidel(A,B,Xa)\n",
    "@show X\n",
    "@show flag\n",
    "@show err\n",
    "M"
   ]
  },
  {
   "cell_type": "code",
   "execution_count": null,
   "metadata": {
    "scrolled": false
   },
   "outputs": [],
   "source": [
    "# Plot panjang vektor galat.\n",
    "iter = M[:,1]\n",
    "err = M[:,end]\n",
    "p2= plot(iter, err, yaxis = :log, label = :none)\n",
    "# Tambahkan title dan label\n",
    "title!(\"Plot perambatan panjang vektor galat\")\n",
    "xlabel!(\"iterasi\")\n",
    "ylabel!(\"panjang vektor galat\")"
   ]
  },
  {
   "cell_type": "markdown",
   "metadata": {},
   "source": [
    "## Metode Rekonstruksi Aljabar"
   ]
  },
  {
   "cell_type": "code",
   "execution_count": 46,
   "metadata": {},
   "outputs": [
    {
     "data": {
      "text/plain": [
       "rekons (generic function with 1 method)"
      ]
     },
     "execution_count": 46,
     "metadata": {},
     "output_type": "execute_result"
    }
   ],
   "source": [
    "using LinearAlgebra\n",
    "function rekons(A,B,Xawal::Array{Int64,1})\n",
    "    delta = 10^-7;\n",
    "    maxi = 100;\n",
    "    flag = 1; \n",
    "    X = Xawal;\n",
    "    Xlama = X;\n",
    "    M = [0 X' NaN]; \n",
    "    for k = 1:maxi\n",
    "        for i = 1:length(B)\n",
    "            Xlama = X; \n",
    "            X = Xlama + A[i,:]*(B[i]-A[i,:]'Xlama)/(A[i,:]'A[i,:])\n",
    "        end\n",
    "        err = norm(X-Xlama) \n",
    "        M = [M; [k X' err] ];\n",
    "        if err<delta\n",
    "            flag = 0;\n",
    "            break\n",
    "        end\n",
    "    end\n",
    "    err = M[end,end]\n",
    "    return X, flag, err, M\n",
    "end"
   ]
  },
  {
   "cell_type": "code",
   "execution_count": 47,
   "metadata": {},
   "outputs": [
    {
     "name": "stdout",
     "output_type": "stream",
     "text": [
      "X = [1.9999987931831584, 3.9999993707528194, 2.9999996431226994]\n",
      "flag = 0\n",
      "err = 7.477270454885512e-8\n"
     ]
    },
    {
     "data": {
      "text/plain": [
       "18×5 Matrix{Float64}:\n",
       "  0.0  1.0       2.0      2.0      NaN\n",
       "  1.0  0.677229  3.45151  2.58059    0.658544\n",
       "  2.0  1.51207   3.75397  2.85403    0.0644652\n",
       "  3.0  1.79762   3.89498  2.94005    0.0145717\n",
       "  4.0  1.91453   3.95547  2.97472    0.0054161\n",
       "  5.0  1.96381   3.98113  2.9893     0.00224922\n",
       "  6.0  1.98467   3.99201  2.99547    0.000950041\n",
       "  7.0  1.99351   3.99662  2.99808    0.000402252\n",
       "  8.0  1.99725   3.99857  2.99919    0.000170373\n",
       "  9.0  1.99884   3.99939  2.99966    7.21649e-5\n",
       " 10.0  1.99951   3.99974  2.99985    3.0567e-5\n",
       " 11.0  1.99979   3.99989  2.99994    1.29473e-5\n",
       " 12.0  1.99991   3.99995  2.99997    5.48412e-6\n",
       " 13.0  1.99996   3.99998  2.99999    2.32292e-6\n",
       " 14.0  1.99998   3.99999  3.0        9.83924e-7\n",
       " 15.0  1.99999   4.0      3.0        4.16762e-7\n",
       " 16.0  2.0       4.0      3.0        1.76529e-7\n",
       " 17.0  2.0       4.0      3.0        7.47727e-8"
      ]
     },
     "execution_count": 47,
     "metadata": {},
     "output_type": "execute_result"
    }
   ],
   "source": [
    "A = [4 -1  1\n",
    "     4 -8  1\n",
    "    -2  1  5];\n",
    "B = [7;-21;15];\n",
    "Xa = [1,2,2];\n",
    "X,flag,err,M = rekons(A,B,Xa)\n",
    "@show X\n",
    "@show flag\n",
    "@show err\n",
    "M"
   ]
  },
  {
   "cell_type": "code",
   "execution_count": null,
   "metadata": {
    "scrolled": false
   },
   "outputs": [],
   "source": [
    "# Plot panjang vektor galat.\n",
    "iter = M[:,1]\n",
    "err = M[:,end]\n",
    "p3 = plot(iter, err, yaxis = :log, label = :none)\n",
    "# Tambahkan title dan label\n",
    "title!(\"Plot perambatan panjang vektor galat\")\n",
    "xlabel!(\"iterasi\")\n",
    "ylabel!(\"panjang vektor galat\")"
   ]
  },
  {
   "cell_type": "markdown",
   "metadata": {},
   "source": [
    "## Conjugate Gradient"
   ]
  },
  {
   "cell_type": "code",
   "execution_count": 48,
   "metadata": {},
   "outputs": [
    {
     "data": {
      "text/plain": [
       "conGrad (generic function with 1 method)"
      ]
     },
     "execution_count": 48,
     "metadata": {},
     "output_type": "execute_result"
    }
   ],
   "source": [
    "using LinearAlgebra\n",
    "function conGrad(A,B,Xawal::Array{Int64,1})\n",
    "    if ~(isposdef(A) && issymmetric(A))\n",
    "        error(\"matriks A harus simetrik definit positif\")\n",
    "    end\n",
    "    delta = 10^-7;\n",
    "    maxi = 10000;\n",
    "    flag = 1; \n",
    "    X = Xawal;\n",
    "    r = B-A*X\n",
    "    d = r\n",
    "    M = [0 X' NaN]; \n",
    "    for k = 1:maxi\n",
    "        Xlama = X\n",
    "        rlama = r\n",
    "        dlama = d\n",
    "        X = Xlama + ((rlama'rlama)/(dlama'A*dlama))*dlama\n",
    "        r = rlama - ((rlama'rlama)/(dlama'A*dlama))*A*dlama\n",
    "        d = r - ((r'r)/(rlama'rlama))*dlama\n",
    "        err = norm(X-Xlama) \n",
    "        M = [M; [k X' err] ];\n",
    "        if err<delta\n",
    "            flag = 0;\n",
    "            break\n",
    "        end\n",
    "    end\n",
    "    err = M[end,end]\n",
    "    return X, flag, err, M\n",
    "end"
   ]
  },
  {
   "cell_type": "code",
   "execution_count": 49,
   "metadata": {},
   "outputs": [
    {
     "ename": "LoadError",
     "evalue": "matriks A harus simetrik definit positif",
     "output_type": "error",
     "traceback": [
      "matriks A harus simetrik definit positif",
      "",
      "Stacktrace:",
      " [1] error(s::String)",
      "   @ Base .\\error.jl:35",
      " [2] conGrad(A::Matrix{Int64}, B::Vector{Int64}, Xawal::Vector{Int64})",
      "   @ Main .\\In[48]:4",
      " [3] top-level scope",
      "   @ In[49]:6"
     ]
    }
   ],
   "source": [
    "A = [4 -1  1\n",
    "     4 -8  1\n",
    "    -2  1  5];\n",
    "B = [7;-21;15];\n",
    "Xa = [1,2,2];\n",
    "X,flag,err,M = conGrad(A,B,Xa)"
   ]
  },
  {
   "cell_type": "code",
   "execution_count": 50,
   "metadata": {},
   "outputs": [
    {
     "name": "stdout",
     "output_type": "stream",
     "text": [
      "X = [1.9999966511060345, 3.999996358616926, 2.9999993316545996]\n",
      "flag = 0\n",
      "err = 9.99868997820265e-8\n"
     ]
    },
    {
     "data": {
      "text/plain": [
       "7907×5 Matrix{Float64}:\n",
       "    0.0  1.0       2.0      2.0      NaN\n",
       "    1.0  0.51751   3.03391  2.19529    1.15754\n",
       "    2.0  1.05617   3.03635  2.64322    0.700569\n",
       "    3.0  0.910543  3.16552  2.55507    0.213692\n",
       "    4.0  1.33662   3.26162  2.87937    0.544011\n",
       "    5.0  1.1788    3.314    2.76781    0.200238\n",
       "    6.0  1.65265   3.53914  3.09575    0.618683\n",
       "    7.0  1.47083   3.546    2.96153    0.226108\n",
       "    8.0  1.92683   3.88324  3.18542    0.609751\n",
       "    9.0  1.80419   3.87796  3.06276    0.173539\n",
       "   10.0  1.92976   3.90414  3.04776    0.129151\n",
       "   11.0  1.89275   3.91689  3.04243    0.0395145\n",
       "   12.0  1.96006   3.93412  3.01269    0.0755878\n",
       "    ⋮                                \n",
       " 7895.0  2.0       4.0      3.0        1.0266e-7\n",
       " 7896.0  2.0       4.0      3.0        1.00173e-7\n",
       " 7897.0  2.0       4.0      3.0        1.02622e-7\n",
       " 7898.0  2.0       4.0      3.0        1.00136e-7\n",
       " 7899.0  2.0       4.0      3.0        1.02584e-7\n",
       " 7900.0  2.0       4.0      3.0        1.00099e-7\n",
       " 7901.0  2.0       4.0      3.0        1.02546e-7\n",
       " 7902.0  2.0       4.0      3.0        1.00062e-7\n",
       " 7903.0  2.0       4.0      3.0        1.02507e-7\n",
       " 7904.0  2.0       4.0      3.0        1.00024e-7\n",
       " 7905.0  2.0       4.0      3.0        1.02469e-7\n",
       " 7906.0  2.0       4.0      3.0        9.99869e-8"
      ]
     },
     "execution_count": 50,
     "metadata": {},
     "output_type": "execute_result"
    }
   ],
   "source": [
    "Amod = A'A\n",
    "Bmod = A'B\n",
    "Xa = [1,2,2];\n",
    "X,flag,err,M = conGrad(Amod,Bmod,Xa)\n",
    "@show X\n",
    "@show flag\n",
    "@show err\n",
    "M"
   ]
  },
  {
   "cell_type": "code",
   "execution_count": null,
   "metadata": {},
   "outputs": [],
   "source": [
    "# Plot panjang vektor galat.\n",
    "iter = M[:,1]\n",
    "err = M[:,end]\n",
    "p4 = plot(iter, err, yaxis = :log, label = :none)\n",
    "# Tambahkan title dan label\n",
    "title!(\"Plot perambatan panjang vektor galat\")\n",
    "xlabel!(\"iterasi\")\n",
    "ylabel!(\"panjang vektor galat\")"
   ]
  },
  {
   "cell_type": "markdown",
   "metadata": {},
   "source": [
    "<hr style=\"border:2px solid black\"> </hr>"
   ]
  },
  {
   "cell_type": "markdown",
   "metadata": {},
   "source": [
    "### Soal 1\n",
    "\n",
    "Dengan menggunakan metode __Jacobi__ dan __Gauss-Seidel__, carilah solusi SPL dibawah ini ! Apakah kedua metode konvergen ke solusi ? Jelaskan !\n",
    "\n",
    "(a) Matriks 1\n",
    "\n",
    "$$\\begin{align*}\n",
    "\\begin{pmatrix}\n",
    "  4 &  8 & 4 &  0 \\\\\n",
    " 1 & 5 & 4 &  -3 \\\\\n",
    "  1 & 4 &  7 & 2 \\\\\n",
    "  1 & 3 & 0 &  -2 \\\\\n",
    "\\end{pmatrix}\n",
    "\\begin{pmatrix}\n",
    "x_1\\\\x_2\\\\x_3\\\\x_4\\\\\n",
    "\\end{pmatrix}=\n",
    "\\begin{pmatrix}\n",
    "6\\\\7\\\\14\\\\2\n",
    "\\end{pmatrix}\n",
    "\\end{align*}$$\n",
    "\n",
    "(b) Matriks 2\n",
    "\n",
    "$$\\begin{align*}\n",
    "\\begin{pmatrix}\n",
    "  8 &  1 & 4 &  0 \\\\\n",
    " 1 & -9 & 1 &  -2 \\\\\n",
    "  1 & 1 &  7 & 2 \\\\\n",
    "  1 & 3 & 0 &  -5 \\\\\n",
    "\\end{pmatrix}\n",
    "\\begin{pmatrix}\n",
    "x_1\\\\x_2\\\\x_3\\\\x_4\\\\\n",
    "\\end{pmatrix}=\n",
    "\\begin{pmatrix}\n",
    "13\\\\-9\\\\11\\\\-1\n",
    "\\end{pmatrix}\n",
    "\\end{align*}$$\n"
   ]
  },
  {
   "cell_type": "markdown",
   "metadata": {},
   "source": [
    "__(a) Matriks 1__"
   ]
  },
  {
   "cell_type": "code",
   "execution_count": null,
   "metadata": {},
   "outputs": [],
   "source": [
    "# Metode Jacobi\n",
    "\n",
    "A = [4 8 4 0\n",
    "    1 5 4 -3\n",
    "    1 4 7 2\n",
    "    1 3 0 -2];\n",
    "B = [6;7;14;2];\n",
    "Xa = [1,2,3,4];\n",
    "X,flag,err,M = jacobi(A,B,Xa)\n",
    "@show X\n",
    "@show flag\n",
    "@show err\n",
    "M"
   ]
  },
  {
   "cell_type": "code",
   "execution_count": null,
   "metadata": {},
   "outputs": [],
   "source": [
    "# Metode Gauss-Seidel\n",
    "\n",
    "A = [4 8 4 0\n",
    "    1 5 4 -3\n",
    "    1 4 7 2\n",
    "    1 3 0 -2];\n",
    "B = [6;7;14;2];\n",
    "Xa = [1,2,3,4];\n",
    "X,flag,err,M = gaussSeidel(A,B,Xa)\n",
    "@show X\n",
    "@show flag\n",
    "@show err\n",
    "M"
   ]
  },
  {
   "cell_type": "markdown",
   "metadata": {},
   "source": [
    "__Penjelasan :__\n",
    "\n",
    "Setelah 100 iterasi, solusi dari matriks 1 baik menggunakan metode Jacobi maupun Gauss-Seidel menghasilkan error yang besar (>1) dan flag = 1. Artinya dengan kedua metode tersebut, matriks 1 __tidak menghasilkan nilai yang konvergen ke solusi__."
   ]
  },
  {
   "cell_type": "markdown",
   "metadata": {},
   "source": [
    "__(b) Matriks 2__"
   ]
  },
  {
   "cell_type": "code",
   "execution_count": null,
   "metadata": {},
   "outputs": [],
   "source": [
    "# Metode Jacobi\n",
    "\n",
    "A = [8 1 4 0\n",
    "    1 -9 1 -2\n",
    "    1 1 7 2\n",
    "    1 3 0 -5];\n",
    "B = [13;-9;11;-1];\n",
    "Xa = [1,2,3,4];\n",
    "X,flag,err,M = jacobi(A,B,Xa)\n",
    "@show X\n",
    "@show flag\n",
    "@show err\n",
    "M"
   ]
  },
  {
   "cell_type": "code",
   "execution_count": null,
   "metadata": {},
   "outputs": [],
   "source": [
    "# Metode Gauss-Seidel\n",
    "\n",
    "A = [8 1 4 0\n",
    "    1 -9 1 -2\n",
    "    1 1 7 2\n",
    "    1 3 0 -5];\n",
    "B = [13;-9;11;-1];\n",
    "Xa = [1,2,3,4];\n",
    "X,flag,err,M = gaussSeidel(A,B,Xa)\n",
    "@show X\n",
    "@show flag\n",
    "@show err\n",
    "M"
   ]
  },
  {
   "cell_type": "markdown",
   "metadata": {},
   "source": [
    "__Penjelasan :__\n",
    "\n",
    "Setelah beberapa iterasi, solusi dari matriks 2 baik menggunakan metode Jacobi maupun Gauss-Seidel menghasilkan error yang kecil (<1) dan flag = 0. Artinya dengan kedua metode tersebut, matriks 2 __menghasilkan nilai yang konvergen ke solusi__."
   ]
  },
  {
   "cell_type": "markdown",
   "metadata": {},
   "source": [
    "<hr style=\"border:2px solid black\"> </hr>"
   ]
  },
  {
   "cell_type": "markdown",
   "metadata": {},
   "source": [
    "### Soal 3\n",
    "\n",
    "Diberikan suatu sistem persamaan linear (SPL) sebagai berikut:\n",
    "\n",
    "$$\\begin{align*}\n",
    "\\begin{bmatrix}\n",
    "  12 &  -2 & 1 &  0 & 0 & 0 & 0 &  0\\\\\n",
    "  -2 & 12 & -2 &  1 & 0 & 0 & 0 &  0\\\\\n",
    "  1 & -2 &  12 & -2 & 1 & 0 & 0 &  0\\\\\n",
    "  0 & 1 & -2 &  12 & -2 & 1 & 0 &  0\\\\\n",
    "  0 & 0 & 1 &  -2 & 12 & -2 & 1 &  0\\\\\n",
    "  0 & 0 & 0 &  1 & -2 & 12 & -2 &  1\\\\\n",
    "  0 & 0 & 0 &  0 & 1 & -2 & 12 &  -2\\\\\n",
    "  0 & 0 & 0 &  0 & 0 & 1 & -2 &  12\\\\\n",
    "\\end{bmatrix}\n",
    "\\begin{bmatrix}\n",
    "x_1\\\\x_2\\\\x_3\\\\x_4\\\\x_5\\\\x_6\\\\x_7\\\\x_8\\\\\n",
    "\\end{bmatrix}=\n",
    "\\begin{bmatrix}\n",
    "5\\\\5\\\\5\\\\5\\\\5\\\\5\\\\5\\\\5\\\\\n",
    "\\end{bmatrix}\n",
    "\\end{align*}$$\n",
    "\n",
    "(a) Gunakan metode iterasi Jacobi dan Gauss-Seidel untuk mencari solusi SPL diatas, lalu gambarkan plot perambatan galat masing-masing metode.\n",
    "\n",
    "(b) Gunakan metode iterasi rekonstruksi aljabar dan conjugate gradient untuk mencari solusi SPL di atas, lalu gambarkan plot perambatan galat masing-masing metode.\n",
    "\n",
    "(c) Apa yang terjadi terhadap nilai solusi jika dimensi SPL $AX = B$ diubah menjadi $A_{10×10}$, $A_{25×25}$, dan $A_{50×50}$."
   ]
  },
  {
   "cell_type": "code",
   "execution_count": 55,
   "metadata": {},
   "outputs": [
    {
     "name": "stdout",
     "output_type": "stream",
     "text": [
      "X = [0.46381148766096825, 0.5373729743333224, 0.5090081763275643, 0.4971635075418928, 0.49716352943019065, 0.5090081568074184, 0.5373729891485015, 0.4638114784779091]\n",
      "flag = 0\n",
      "err = 7.82113169454377e-8\n"
     ]
    },
    {
     "data": {
      "text/plain": [
       "22×10 Matrix{Float64}:\n",
       "  0.0  1.0       2.0       3.0       …  7.0       8.0       NaN\n",
       "  1.0  0.5       0.75      0.916667     2.33333   1.08333    10.9246\n",
       "  2.0  0.465278  0.5625    0.576389     0.729167  0.6875      1.98278\n",
       "  3.0  0.462384  0.540509  0.524306     0.623264  0.46875     0.411263\n",
       "  4.0  0.463059  0.540268  0.504389     0.536748  0.476804    0.106771\n",
       "  5.0  0.464679  0.535715  0.511658  …  0.543897  0.461818    0.0367766\n",
       "  6.0  0.463314  0.538298  0.507504     0.536044  0.465158    0.0149741\n",
       "  7.0  0.464091  0.53689   0.509666     0.538185  0.463378    0.00647358\n",
       "  8.0  0.463676  0.537601  0.50868      0.537086  0.464014    0.00285357\n",
       "  9.0  0.463877  0.537264  0.509154     0.537508  0.46373     0.00126659\n",
       " 10.0  0.463781  0.537423  0.50894   …  0.537317  0.463848    0.000563737\n",
       " 11.0  0.463825  0.53735   0.509038     0.537398  0.463796    0.000251203\n",
       " 12.0  0.463805  0.537383  0.508994     0.537362  0.463818    0.000111995\n",
       " 13.0  0.463814  0.537368  0.509014     0.537378  0.463808    4.99427e-5\n",
       " 14.0  0.46381   0.537375  0.509005     0.537371  0.463813    2.22737e-5\n",
       " 15.0  0.463812  0.537372  0.509009  …  0.537374  0.463811    9.93419e-6\n",
       " 16.0  0.463811  0.537373  0.509008     0.537373  0.463812    4.43081e-6\n",
       " 17.0  0.463812  0.537373  0.509008     0.537373  0.463811    1.97623e-6\n",
       " 18.0  0.463811  0.537373  0.509008     0.537373  0.463812    8.81444e-7\n",
       " 19.0  0.463812  0.537373  0.509008     0.537373  0.463811    3.93145e-7\n",
       " 20.0  0.463811  0.537373  0.509008  …  0.537373  0.463811    1.75352e-7\n",
       " 21.0  0.463811  0.537373  0.509008     0.537373  0.463811    7.82113e-8"
      ]
     },
     "execution_count": 55,
     "metadata": {},
     "output_type": "execute_result"
    }
   ],
   "source": [
    "# Metode iterasi Jacobi\n",
    "\n",
    "A = diagm(0=>12*ones(8), 1=>-2*ones(7), -1=>-2*ones(7), 2=>ones(6), -2=>ones(6));\n",
    "B = 5*ones(8);\n",
    "Xa = [1,2,3,4,5,6,7,8];\n",
    "X,flag,err,M = jacobi(A,B,Xa)\n",
    "@show X\n",
    "@show flag\n",
    "@show err\n",
    "M"
   ]
  },
  {
   "cell_type": "code",
   "execution_count": 57,
   "metadata": {},
   "outputs": [
    {
     "name": "stdout",
     "output_type": "stream",
     "text": [
      "X = [0.4638114862743379, 0.5373729807886587, 0.5090081648366768, 0.4971635183265054, 0.49716351885805415, 0.5090081666857685, 0.5373729817041171, 0.4638114830602054]\n",
      "flag = 0\n",
      "err = 4.17066489746935e-8\n"
     ]
    },
    {
     "data": {
      "text/plain": [
       "12×10 Matrix{Float64}:\n",
       "  0.0  1.0       2.0       3.0       …  7.0       8.0       NaN\n",
       "  1.0  0.5       0.666667  0.736111     1.84097   0.640168   11.8241\n",
       "  2.0  0.466435  0.548997  0.529803     0.601417  0.45814     1.40959\n",
       "  3.0  0.464016  0.538365  0.516132     0.537242  0.4624      0.203213\n",
       "  4.0  0.463383  0.540086  0.504338     0.536942  0.463695    0.0351857\n",
       "  5.0  0.464653  0.536607  0.50878   …  0.537322  0.463809    0.00671948\n",
       "  6.0  0.463703  0.537271  0.509073     0.53737   0.463812    0.00131516\n",
       "  7.0  0.463789  0.537375  0.509021     0.537373  0.463812    0.00015758\n",
       "  8.0  0.463811  0.537375  0.509009     0.537373  0.463811    2.5037e-5\n",
       "  9.0  0.463812  0.537373  0.509008     0.537373  0.463811    2.19251e-6\n",
       " 10.0  0.463812  0.537373  0.509008  …  0.537373  0.463811    2.93984e-7\n",
       " 11.0  0.463811  0.537373  0.509008     0.537373  0.463811    4.17066e-8"
      ]
     },
     "execution_count": 57,
     "metadata": {},
     "output_type": "execute_result"
    }
   ],
   "source": [
    "# Metode iterasi Gauss-Seidel\n",
    "\n",
    "A = diagm(0=>12*ones(8), 1=>-2*ones(7), -1=>-2*ones(7), 2=>ones(6), -2=>ones(6));\n",
    "B = 5*ones(8);\n",
    "Xa = [1,2,3,4,5,6,7,8];\n",
    "X,flag,err,M = gaussSeidel(A,B,Xa)\n",
    "@show X\n",
    "@show flag\n",
    "@show err\n",
    "M"
   ]
  },
  {
   "cell_type": "code",
   "execution_count": 58,
   "metadata": {},
   "outputs": [
    {
     "name": "stdout",
     "output_type": "stream",
     "text": [
      "X = [0.463812279477824, 0.5373730726300844, 0.5090076655768303, 0.4971632866310348, 0.49716362141348247, 0.5090082631365513, 0.5373729864302567, 0.46381147581033016]\n",
      "flag = 0\n",
      "err = 4.715929787094704e-9\n"
     ]
    },
    {
     "data": {
      "text/plain": [
       "15×10 Matrix{Float64}:\n",
       "  0.0  1.0       2.0       3.0       …  7.0       8.0       NaN\n",
       "  1.0  0.546612  0.858156  1.06556      3.33535   0.844645    7.76375\n",
       "  2.0  0.477731  0.612291  0.61189      0.938039  0.463404    0.759785\n",
       "  3.0  0.475395  0.522859  0.62204      0.57245   0.452337    0.0401792\n",
       "  4.0  0.436624  0.590135  0.470478     0.532768  0.459874    0.0137141\n",
       "  5.0  0.483611  0.536735  0.489182  …  0.533848  0.46291     0.00677323\n",
       "  6.0  0.46846   0.530539  0.505536     0.53621   0.463677    0.00190859\n",
       "  7.0  0.462823  0.534629  0.509567     0.537103  0.463813    0.000380456\n",
       "  8.0  0.462892  0.536839  0.509646     0.537334  0.463822    3.78875e-5\n",
       "  9.0  0.463498  0.537391  0.509273     0.537375  0.463816    1.01956e-5\n",
       " 10.0  0.463753  0.537432  0.509082  …  0.537377  0.463813    7.52612e-6\n",
       " 11.0  0.463812  0.5374    0.509021     0.537375  0.463812    2.71863e-6\n",
       " 12.0  0.463817  0.537381  0.509008     0.537373  0.463812    6.84223e-7\n",
       " 13.0  0.463814  0.537375  0.509007     0.537373  0.463811    1.06195e-7\n",
       " 14.0  0.463812  0.537373  0.509008     0.537373  0.463811    4.71593e-9"
      ]
     },
     "execution_count": 58,
     "metadata": {},
     "output_type": "execute_result"
    }
   ],
   "source": [
    "# Metode iterasi rekonstruksi aljabar\n",
    "\n",
    "A = diagm(0=>12*ones(8), 1=>-2*ones(7), -1=>-2*ones(7), 2=>ones(6), -2=>ones(6));\n",
    "B = 5*ones(8);\n",
    "Xa = [1,2,3,4,5,6,7,8];\n",
    "X,flag,err,M = rekons(A,B,Xa)\n",
    "@show X\n",
    "@show flag\n",
    "@show err\n",
    "M"
   ]
  },
  {
   "cell_type": "code",
   "execution_count": 60,
   "metadata": {},
   "outputs": [
    {
     "name": "stdout",
     "output_type": "stream",
     "text": [
      "X = [0.463812279477824, 0.5373730726300844, 0.5090076655768303, 0.4971632866310348, 0.49716362141348247, 0.5090082631365513, 0.5373729864302567, 0.46381147581033016]\n",
      "flag = 0\n",
      "err = 4.715929787094704e-9\n"
     ]
    },
    {
     "data": {
      "text/plain": [
       "15×10 Matrix{Float64}:\n",
       "  0.0  1.0       2.0       3.0       …  7.0       8.0       NaN\n",
       "  1.0  0.546612  0.858156  1.06556      3.33535   0.844645    7.76375\n",
       "  2.0  0.477731  0.612291  0.61189      0.938039  0.463404    0.759785\n",
       "  3.0  0.475395  0.522859  0.62204      0.57245   0.452337    0.0401792\n",
       "  4.0  0.436624  0.590135  0.470478     0.532768  0.459874    0.0137141\n",
       "  5.0  0.483611  0.536735  0.489182  …  0.533848  0.46291     0.00677323\n",
       "  6.0  0.46846   0.530539  0.505536     0.53621   0.463677    0.00190859\n",
       "  7.0  0.462823  0.534629  0.509567     0.537103  0.463813    0.000380456\n",
       "  8.0  0.462892  0.536839  0.509646     0.537334  0.463822    3.78875e-5\n",
       "  9.0  0.463498  0.537391  0.509273     0.537375  0.463816    1.01956e-5\n",
       " 10.0  0.463753  0.537432  0.509082  …  0.537377  0.463813    7.52612e-6\n",
       " 11.0  0.463812  0.5374    0.509021     0.537375  0.463812    2.71863e-6\n",
       " 12.0  0.463817  0.537381  0.509008     0.537373  0.463812    6.84223e-7\n",
       " 13.0  0.463814  0.537375  0.509007     0.537373  0.463811    1.06195e-7\n",
       " 14.0  0.463812  0.537373  0.509008     0.537373  0.463811    4.71593e-9"
      ]
     },
     "execution_count": 60,
     "metadata": {},
     "output_type": "execute_result"
    }
   ],
   "source": [
    "# Metode iterasi conjugate gradient\n",
    "\n",
    "A = diagm(0=>12*ones(8), 1=>-2*ones(7), -1=>-2*ones(7), 2=>ones(6), -2=>ones(6));\n",
    "B = 5*ones(8);\n",
    "Xa = [1,2,3,4,5,6,7,8];\n",
    "X,flag,err,M = rekons(A,B,Xa)\n",
    "@show X\n",
    "@show flag\n",
    "@show err\n",
    "M"
   ]
  },
  {
   "cell_type": "code",
   "execution_count": 51,
   "metadata": {},
   "outputs": [
    {
     "name": "stderr",
     "output_type": "stream",
     "text": [
      "\u001b[32m\u001b[1m    Updating\u001b[22m\u001b[39m registry at `C:\\Users\\MAT473\\.julia\\registries\\General`\n"
     ]
    },
    {
     "ename": "LoadError",
     "evalue": "GitError(Code:EOWNER, Class:Config, repository path 'C:/Users/MAT473/.julia/registries/General/' is not owned by current user)",
     "output_type": "error",
     "traceback": [
      "GitError(Code:EOWNER, Class:Config, repository path 'C:/Users/MAT473/.julia/registries/General/' is not owned by current user)",
      "",
      "Stacktrace:",
      "  [1] macro expansion",
      "    @ LibGit2 C:\\Users\\MAT473\\AppData\\Local\\Programs\\Julia-1.10.0\\share\\julia\\stdlib\\v1.10\\LibGit2\\src\\error.jl:112 [inlined]",
      "  [2] LibGit2.GitRepo(path::String)",
      "    @ LibGit2 C:\\Users\\MAT473\\AppData\\Local\\Programs\\Julia-1.10.0\\share\\julia\\stdlib\\v1.10\\LibGit2\\src\\repository.jl:11",
      "  [3] (::Pkg.Registry.var\"#73#78\"{IJulia.IJuliaStdio{Base.PipeEndpoint}, Dates.Day, Dict{String, Any}, String, Vector{Pkg.Registry.RegistryInstance}})()",
      "    @ Pkg.Registry C:\\Users\\MAT473\\AppData\\Local\\Programs\\Julia-1.10.0\\share\\julia\\stdlib\\v1.10\\Pkg\\src\\Registry\\Registry.jl:449",
      "  [4] mkpidlock(f::Pkg.Registry.var\"#73#78\"{IJulia.IJuliaStdio{Base.PipeEndpoint}, Dates.Day, Dict{String, Any}, String, Vector{Pkg.Registry.RegistryInstance}}, at::String, pid::Int32; kwopts::@Kwargs{stale_age::Int64})",
      "    @ FileWatching.Pidfile C:\\Users\\MAT473\\AppData\\Local\\Programs\\Julia-1.10.0\\share\\julia\\stdlib\\v1.10\\FileWatching\\src\\pidfile.jl:93",
      "  [5] #mkpidlock#6",
      "    @ C:\\Users\\MAT473\\AppData\\Local\\Programs\\Julia-1.10.0\\share\\julia\\stdlib\\v1.10\\FileWatching\\src\\pidfile.jl:88 [inlined]",
      "  [6] update(regs::Vector{Pkg.Registry.RegistrySpec}; io::IJulia.IJuliaStdio{Base.PipeEndpoint}, force::Bool, depots::Vector{String}, update_cooldown::Dates.Day)",
      "    @ Pkg.Registry C:\\Users\\MAT473\\AppData\\Local\\Programs\\Julia-1.10.0\\share\\julia\\stdlib\\v1.10\\Pkg\\src\\Registry\\Registry.jl:379",
      "  [7] update",
      "    @ Pkg.Registry C:\\Users\\MAT473\\AppData\\Local\\Programs\\Julia-1.10.0\\share\\julia\\stdlib\\v1.10\\Pkg\\src\\Registry\\Registry.jl:372 [inlined]",
      "  [8] update_registries(ctx::Pkg.Types.Context; force::Bool, kwargs::@Kwargs{update_cooldown::Dates.Day})",
      "    @ Pkg.Operations C:\\Users\\MAT473\\AppData\\Local\\Programs\\Julia-1.10.0\\share\\julia\\stdlib\\v1.10\\Pkg\\src\\Operations.jl:1269",
      "  [9] update_registries",
      "    @ C:\\Users\\MAT473\\AppData\\Local\\Programs\\Julia-1.10.0\\share\\julia\\stdlib\\v1.10\\Pkg\\src\\Operations.jl:1266 [inlined]",
      " [10] add(ctx::Pkg.Types.Context, pkgs::Vector{Pkg.Types.PackageSpec}; preserve::Pkg.Types.PreserveLevel, platform::Base.BinaryPlatforms.Platform, kwargs::@Kwargs{io::IJulia.IJuliaStdio{Base.PipeEndpoint}})",
      "    @ Pkg.API C:\\Users\\MAT473\\AppData\\Local\\Programs\\Julia-1.10.0\\share\\julia\\stdlib\\v1.10\\Pkg\\src\\API.jl:262",
      " [11] add(pkgs::Vector{Pkg.Types.PackageSpec}; io::IJulia.IJuliaStdio{Base.PipeEndpoint}, kwargs::@Kwargs{})",
      "    @ Pkg.API C:\\Users\\MAT473\\AppData\\Local\\Programs\\Julia-1.10.0\\share\\julia\\stdlib\\v1.10\\Pkg\\src\\API.jl:159",
      " [12] add(pkgs::Vector{Pkg.Types.PackageSpec})",
      "    @ Pkg.API C:\\Users\\MAT473\\AppData\\Local\\Programs\\Julia-1.10.0\\share\\julia\\stdlib\\v1.10\\Pkg\\src\\API.jl:148",
      " [13] add",
      "    @ Pkg.API C:\\Users\\MAT473\\AppData\\Local\\Programs\\Julia-1.10.0\\share\\julia\\stdlib\\v1.10\\Pkg\\src\\API.jl:147 [inlined]",
      " [14] add(pkg::String)",
      "    @ Pkg.API C:\\Users\\MAT473\\AppData\\Local\\Programs\\Julia-1.10.0\\share\\julia\\stdlib\\v1.10\\Pkg\\src\\API.jl:146",
      " [15] top-level scope",
      "    @ In[51]:2"
     ]
    }
   ],
   "source": [
    "using Pkg\n",
    "Pkg.add(\"Plots\")"
   ]
  },
  {
   "cell_type": "code",
   "execution_count": 61,
   "metadata": {},
   "outputs": [
    {
     "ename": "LoadError",
     "evalue": "ArgumentError: Package Plots not found in current path.\n- Run `import Pkg; Pkg.add(\"Plots\")` to install the Plots package.",
     "output_type": "error",
     "traceback": [
      "ArgumentError: Package Plots not found in current path.\n- Run `import Pkg; Pkg.add(\"Plots\")` to install the Plots package.",
      "",
      "Stacktrace:",
      " [1] macro expansion",
      "   @ Base .\\loading.jl:1766 [inlined]",
      " [2] macro expansion",
      "   @ Base .\\lock.jl:267 [inlined]",
      " [3] __require(into::Module, mod::Symbol)",
      "   @ Base .\\loading.jl:1747",
      " [4] #invoke_in_world#3",
      "   @ Base .\\essentials.jl:921 [inlined]",
      " [5] invoke_in_world",
      "   @ Base .\\essentials.jl:918 [inlined]",
      " [6] require(into::Module, mod::Symbol)",
      "   @ Base .\\loading.jl:1740"
     ]
    }
   ],
   "source": [
    "using Plots\n",
    "# Plot panjang vektor galat.\n",
    "iter = M[:,1]\n",
    "err = M[:,end]\n",
    "p1 = plot(iter, err, yaxis = :log, label = :none)\n",
    "# Tambahkan title dan label\n",
    "title!(\"Plot perambatan panjang vektor galat\")\n",
    "xlabel!(\"iterasi\")\n",
    "ylabel!(\"panjang vektor galat\")"
   ]
  },
  {
   "cell_type": "code",
   "execution_count": null,
   "metadata": {},
   "outputs": [],
   "source": []
  }
 ],
 "metadata": {
  "kernelspec": {
   "display_name": "Julia 1.10.0",
   "language": "julia",
   "name": "julia-1.10"
  },
  "language_info": {
   "file_extension": ".jl",
   "mimetype": "application/julia",
   "name": "julia",
   "version": "1.10.0"
  }
 },
 "nbformat": 4,
 "nbformat_minor": 4
}
