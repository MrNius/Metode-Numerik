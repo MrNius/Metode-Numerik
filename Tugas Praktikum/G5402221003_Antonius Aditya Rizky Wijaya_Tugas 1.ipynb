{
 "cells": [
  {
   "cell_type": "markdown",
   "id": "9eda90ad-8343-4cc3-96ec-ab26e26d82f4",
   "metadata": {},
   "source": [
    "# TUGAS 1 METODE NUMERIK\n",
    "### 1.4.2 Soal Pemrograman\n",
    "```Nama: Antonius Aditya Rizky Wijaya```\n",
    "\n",
    "```NIM: G54022221003```"
   ]
  },
  {
   "cell_type": "markdown",
   "id": "c4c31086-b541-4505-bd58-7e40616963b8",
   "metadata": {},
   "source": [
    "<hr style=\"border:2px solid black\"> </hr>"
   ]
  },
  {
   "cell_type": "markdown",
   "id": "4ccbb892-a848-42fc-b639-065af77602c3",
   "metadata": {},
   "source": [
    "#### __Soal 1__\n",
    "Tentukan nilai fungsi berikut jika diketahui $t = 25$, $x = 43$, $y = 15.25$, dan $z = 8.2$\n",
    "\n",
    "(a) $M = 4x^2+3y+10$\n",
    "\n",
    "(b) $N = e^{2x}+x$\n",
    "\n",
    "(c) $O = \\sqrt{\\dfrac{1}{x+y}+\\dfrac{1}{t +y}}$\n",
    "\n",
    "(d) $P = 4e^{−x/2}sin(πx)$\n",
    "\n",
    "(e) $Q = 4 sin(t/4)+exp(−xy)$"
   ]
  },
  {
   "cell_type": "code",
   "execution_count": 1,
   "id": "ecc812e2-a0e5-4d9b-820a-f210ceb3ca9e",
   "metadata": {},
   "outputs": [
    {
     "name": "stdout",
     "output_type": "stream",
     "text": [
      "M = 7451.75\n",
      "N = 2.235246603734715e37\n",
      "O = 0.20496854019859567\n",
      "P = 1.6223066512856564e-23\n",
      "Q = -0.13271686619022727\n"
     ]
    }
   ],
   "source": [
    "t = 25\n",
    "x = 43\n",
    "y = 15.25\n",
    "z = 8.2\n",
    "\n",
    "# (a)\n",
    "function M(x,y)\n",
    "    return 4*x^2+3*y+10\n",
    "end\n",
    "\n",
    "# (b)\n",
    "function N(x)\n",
    "    return exp(2x)+x\n",
    "end\n",
    "\n",
    "# (c)\n",
    "function O(x,y,t)\n",
    "    return sqrt(1/(x+y)+1/(t+y))\n",
    "end\n",
    "\n",
    "# (d)\n",
    "function P(x)\n",
    "    return 4*exp(-x/2)*sin(π*x)\n",
    "end\n",
    "\n",
    "# (e)\n",
    "function Q(t,x,y)\n",
    "    return 4*sin(t/4)+exp(-x*y)\n",
    "end\n",
    "\n",
    "println(\"M = \", M(x, y))\n",
    "println(\"N = \", N(x))\n",
    "println(\"O = \", O(x, y, t))\n",
    "println(\"P = \", P(x))\n",
    "println(\"Q = \", Q(t, x, y))"
   ]
  },
  {
   "cell_type": "markdown",
   "id": "aa8d6b84-d297-4619-95a8-2d2d6a81af56",
   "metadata": {},
   "source": [
    "<hr style=\"border:2px solid black\"> </hr>"
   ]
  },
  {
   "cell_type": "markdown",
   "id": "98d6cb57-d1b2-419d-b320-8c934c06e641",
   "metadata": {},
   "source": [
    "#### __Soal 2__\n",
    "Diketahui $a = 3/2$ , $b = 1/2$, dan $c = 2/3$, hitung nilai:\n",
    "\n",
    "(a) $\\dfrac{a^2b+ab^2}{b^2+2ac}$\n",
    "\n",
    "(b) $\\sqrt{abc}+\\sqrt{a+b+c}$\n",
    "\n",
    "(c) $sin(a)+2ln(b)-11$\n",
    "\n",
    "(d) $\\dfrac{cos(abc)}{asin(bc)}$\n",
    "\n",
    "(e) $\\dfrac{tan^{-1}(a)sec(c)}{sin^{-1}(b)}$"
   ]
  },
  {
   "cell_type": "code",
   "execution_count": 2,
   "id": "600b1e6f-f454-46ed-9ea2-e5bf17e75eb6",
   "metadata": {},
   "outputs": [
    {
     "name": "stdout",
     "output_type": "stream",
     "text": [
      "(a) Hasil: 8.0\n",
      "(b) Hasil: 2.3400999430419995\n",
      "(c) Hasil: -11.388799374515836\n",
      "(d) Hasil: 0.19142690683420735\n",
      "(e) Hasil: 2.3883804240297257\n"
     ]
    }
   ],
   "source": [
    "a = 3/2\n",
    "b = 1/2\n",
    "c = 2/3\n",
    "\n",
    "# (a)\n",
    "soalA = (a^2*b+a*b^2)/b^2+2*a*c\n",
    "# (b)\n",
    "soalB = sqrt(a*b*c)+sqrt(a+b+c)\n",
    "# (c)\n",
    "soalC = sin(a)+2*log(b)-11\n",
    "# (d)\n",
    "soalD = cos(a*b*c)/a*sin(b * c)\n",
    "# (e)\n",
    "soalE = atan(a)*sec(c)/asin(b)\n",
    "\n",
    "println(\"(a) Hasil: \", soalA)\n",
    "println(\"(b) Hasil: \", soalB)\n",
    "println(\"(c) Hasil: \", soalC)\n",
    "println(\"(d) Hasil: \", soalD)\n",
    "println(\"(e) Hasil: \", soalE)"
   ]
  },
  {
   "cell_type": "markdown",
   "id": "89928720-b0fa-451a-8d9f-e8a89159ec10",
   "metadata": {},
   "source": [
    "<hr style=\"border:2px solid black\"> </hr>"
   ]
  },
  {
   "cell_type": "markdown",
   "id": "b43e8434-5bae-4724-8f90-5a2c05173caf",
   "metadata": {},
   "source": [
    "#### __Soal 3__\n",
    "__Sistem Persamaan Linear.__ Definisikan matriks _A_ dan _B_ seperti berikut.\n",
    "\n",
    "$$ A = \\left( \\begin{array}{}\n",
    "\t3  &  -7  & 2 \\\\\n",
    "\t1  &  3  &  4 \\\\\n",
    "\t2  &  3  &  8 \\\\\n",
    "\t\\end{array}\\right)$$\n",
    "\n",
    "$$ B = \\left( \\begin{array}{}\n",
    "    29 \\\\\n",
    "\t-3 \\\\\n",
    "\t3 \\\\\n",
    "\t\\end{array}\\right)$$\n",
    "\n",
    "(a) Hitung solusi _X_ dari SPL _AX = B_ menggunakan operator bagi terbalik ’```\\```’.\n",
    "\n",
    "(b) Hitung solusi _X_ dari SPL _AX = B_ menggunakan fungsi invers ’```inv(A)```’."
   ]
  },
  {
   "cell_type": "code",
   "execution_count": 3,
   "id": "de34d06c-5e43-4380-87b0-b41b4e6174b8",
   "metadata": {},
   "outputs": [],
   "source": [
    "# Matriks A dan B\n",
    "A = [3 -7 2; 1 3 4; 2 3 8];\n",
    "B = [29; -3; 3];"
   ]
  },
  {
   "cell_type": "code",
   "execution_count": 4,
   "id": "fa2b3d81-8c77-4cbc-84a6-1c1df701c16e",
   "metadata": {},
   "outputs": [
    {
     "data": {
      "text/plain": [
       "3-element Vector{Float64}:\n",
       "  1.999999999999999\n",
       " -3.0000000000000004\n",
       "  1.0"
      ]
     },
     "execution_count": 4,
     "metadata": {},
     "output_type": "execute_result"
    }
   ],
   "source": [
    "X1 = A \\ B"
   ]
  },
  {
   "cell_type": "code",
   "execution_count": 5,
   "id": "9d17683d-9298-4879-8ed1-5d383c637dd6",
   "metadata": {},
   "outputs": [
    {
     "data": {
      "text/plain": [
       "3-element Vector{Float64}:\n",
       "  1.9999999999999987\n",
       " -2.9999999999999996\n",
       "  0.9999999999999987"
      ]
     },
     "execution_count": 5,
     "metadata": {},
     "output_type": "execute_result"
    }
   ],
   "source": [
    "X2 = inv(A) * B"
   ]
  },
  {
   "cell_type": "markdown",
   "id": "7570e165-6d6f-409c-8b8e-3d8fb097e1d1",
   "metadata": {},
   "source": [
    "<hr style=\"border:2px solid black\"> </hr>"
   ]
  },
  {
   "cell_type": "markdown",
   "id": "818a1a59-f4f3-402b-9d34-da1a1f497730",
   "metadata": {},
   "source": [
    "#### __Soal 4__\n",
    "__Faktorisasi QR.__ Kerjakan langkah-langkah berikut.\n",
    "\n",
    "(a) Buatlah matriks M yaitu\n",
    "$$ M = \\left[ \\begin{array}{}\n",
    "\t2  &  2 \\\\\n",
    "\t0  &  1 \\\\\n",
    "\t0  &  3 \\\\\n",
    "\t\\end{array}\\right]$$\n",
    "\n",
    "(b) Dari matriks _M_ tersebut, bentuklah matriks _a_ dan _b_ yaitu matriks kolom ke-1 dan 2 dari _M_\n",
    "$$ a = \\left[ \\begin{array}{}\n",
    "\t2 \\\\\n",
    "\t0 \\\\\n",
    "\t0 \\\\\n",
    "\t\\end{array}\\right]$$\n",
    "$$ b = \\left[ \\begin{array}{}\n",
    "\t2 \\\\\n",
    "\t1 \\\\\n",
    "\t3 \\\\\n",
    "\t\\end{array}\\right]$$\n",
    "\n",
    "(c) Hitung $q1 = \\dfrac{a}{||a||}$ (gunakan fungsi norm(a) untuk menghitung $||a||$)\n",
    "\n",
    "(d) Hitung $p1 = b - (b^Tq1)q1$ dan $q2 = \\dfrac{p1}{||p1||}$\n",
    "\n",
    "(e) Bentuk matriks $Q$ yaitu $Q = [q1, q2]$, apakah $Q$ matriks ortogonal?\n",
    "\n",
    "(f) Hitung nilai $R$ yaitu $R = Q^TM$, apakah $R$ matriks segitiga atas? Selain itu, apakah $M = QR$?"
   ]
  },
  {
   "cell_type": "code",
   "execution_count": 6,
   "id": "3e7aa25c-a89a-4810-9355-8dee2380f7ba",
   "metadata": {},
   "outputs": [],
   "source": [
    "using LinearAlgebra"
   ]
  },
  {
   "cell_type": "code",
   "execution_count": 7,
   "id": "67ecbb3b-5d93-4a59-98cb-4d8b2ad6c396",
   "metadata": {},
   "outputs": [
    {
     "data": {
      "text/plain": [
       "3×2 Matrix{Int64}:\n",
       " 2  2\n",
       " 0  1\n",
       " 0  3"
      ]
     },
     "execution_count": 7,
     "metadata": {},
     "output_type": "execute_result"
    }
   ],
   "source": [
    "# (a)\n",
    "M_matriks = [2 2; 0 1; 0 3]"
   ]
  },
  {
   "cell_type": "code",
   "execution_count": 8,
   "id": "32c6bf3d-00d1-48e7-bfb2-febdd8c2f225",
   "metadata": {},
   "outputs": [
    {
     "data": {
      "text/plain": [
       "3-element Vector{Int64}:\n",
       " 2\n",
       " 0\n",
       " 0"
      ]
     },
     "execution_count": 8,
     "metadata": {},
     "output_type": "execute_result"
    }
   ],
   "source": [
    "# (b)\n",
    "a = M_matriks[:, 1]"
   ]
  },
  {
   "cell_type": "code",
   "execution_count": 9,
   "id": "e3508f8a-aa4c-475e-9abd-6f39db890ca0",
   "metadata": {},
   "outputs": [
    {
     "data": {
      "text/plain": [
       "3-element Vector{Int64}:\n",
       " 2\n",
       " 1\n",
       " 3"
      ]
     },
     "execution_count": 9,
     "metadata": {},
     "output_type": "execute_result"
    }
   ],
   "source": [
    "b = M_matriks[:, 2]"
   ]
  },
  {
   "cell_type": "code",
   "execution_count": 10,
   "id": "9a043b6f-8fa5-403a-a36e-a1a75a528b45",
   "metadata": {},
   "outputs": [
    {
     "data": {
      "text/plain": [
       "3-element Vector{Float64}:\n",
       " 1.0\n",
       " 0.0\n",
       " 0.0"
      ]
     },
     "execution_count": 10,
     "metadata": {},
     "output_type": "execute_result"
    }
   ],
   "source": [
    "# (c)\n",
    "q1 = a/norm(a)"
   ]
  },
  {
   "cell_type": "code",
   "execution_count": 11,
   "id": "67414a2a-d188-48e0-a0a3-b20d288c45eb",
   "metadata": {},
   "outputs": [
    {
     "data": {
      "text/plain": [
       "3-element Vector{Float64}:\n",
       " 0.0\n",
       " 1.0\n",
       " 3.0"
      ]
     },
     "execution_count": 11,
     "metadata": {},
     "output_type": "execute_result"
    }
   ],
   "source": [
    "# (d)\n",
    "p1 = b-(b'*q1)*q1"
   ]
  },
  {
   "cell_type": "code",
   "execution_count": 12,
   "id": "36265c66-2367-4ced-afab-24164d936fb0",
   "metadata": {},
   "outputs": [
    {
     "data": {
      "text/plain": [
       "3-element Vector{Float64}:\n",
       " 0.0\n",
       " 0.31622776601683794\n",
       " 0.9486832980505138"
      ]
     },
     "execution_count": 12,
     "metadata": {},
     "output_type": "execute_result"
    }
   ],
   "source": [
    "q2 = p1/norm(p1)"
   ]
  },
  {
   "cell_type": "code",
   "execution_count": 13,
   "id": "42847c37-5068-40b7-a52f-7be9a40a7842",
   "metadata": {},
   "outputs": [
    {
     "data": {
      "text/plain": [
       "3×2 Matrix{Float64}:\n",
       " 1.0  0.0\n",
       " 0.0  0.316228\n",
       " 0.0  0.948683"
      ]
     },
     "execution_count": 13,
     "metadata": {},
     "output_type": "execute_result"
    }
   ],
   "source": [
    "# (e)\n",
    "Q_matriks = [q1 q2]"
   ]
  },
  {
   "cell_type": "code",
   "execution_count": 14,
   "id": "ead21c69-02ae-4c85-ae1a-3a42405b8b29",
   "metadata": {},
   "outputs": [
    {
     "data": {
      "text/plain": [
       "0.0"
      ]
     },
     "execution_count": 14,
     "metadata": {},
     "output_type": "execute_result"
    }
   ],
   "source": [
    "q1'*q2"
   ]
  },
  {
   "cell_type": "code",
   "execution_count": 15,
   "id": "ec084540-f3c8-459c-9b3e-ad386dc9c6d5",
   "metadata": {},
   "outputs": [
    {
     "data": {
      "text/plain": [
       "1.0"
      ]
     },
     "execution_count": 15,
     "metadata": {},
     "output_type": "execute_result"
    }
   ],
   "source": [
    "norm(q1)"
   ]
  },
  {
   "cell_type": "code",
   "execution_count": 16,
   "id": "74d956bf-f741-4fee-b1cf-5eef23158411",
   "metadata": {},
   "outputs": [
    {
     "data": {
      "text/plain": [
       "0.9999999999999999"
      ]
     },
     "execution_count": 16,
     "metadata": {},
     "output_type": "execute_result"
    }
   ],
   "source": [
    "norm(q2)"
   ]
  },
  {
   "cell_type": "markdown",
   "id": "a55cebdc-8c6f-4179-b01d-94d7950c7298",
   "metadata": {},
   "source": [
    "Karena $q1^T×q2 = 0$ dan $||q1|| = ||q2|| = 1$, maka $Q$ matriks __ortogonal__ sekaligus __ortonormal__"
   ]
  },
  {
   "cell_type": "code",
   "execution_count": 17,
   "id": "c8622b21-f43e-4d9e-b958-2315ae213e4b",
   "metadata": {},
   "outputs": [
    {
     "data": {
      "text/plain": [
       "2×2 Matrix{Float64}:\n",
       " 2.0  2.0\n",
       " 0.0  3.16228"
      ]
     },
     "execution_count": 17,
     "metadata": {},
     "output_type": "execute_result"
    }
   ],
   "source": [
    "# (f)\n",
    "R_matriks = Q_matriks' * M_matriks"
   ]
  },
  {
   "cell_type": "markdown",
   "id": "098f7b0a-5bf7-4004-8e2b-616ed41519af",
   "metadata": {},
   "source": [
    "$R$ adalah __matriks segitiga atas__ karena setiap entri di bawah diagonal utamanya bernilai 0. "
   ]
  },
  {
   "cell_type": "code",
   "execution_count": 18,
   "id": "c422a325-b125-44d3-967e-7804f5e697a2",
   "metadata": {},
   "outputs": [
    {
     "data": {
      "text/plain": [
       "3×2 Matrix{Float64}:\n",
       " 2.0  2.0\n",
       " 0.0  1.0\n",
       " 0.0  3.0"
      ]
     },
     "execution_count": 18,
     "metadata": {},
     "output_type": "execute_result"
    }
   ],
   "source": [
    "Q_matriks*R_matriks"
   ]
  },
  {
   "cell_type": "code",
   "execution_count": 19,
   "id": "e022aa1c-df62-4908-a0f4-96fbcf0f9f6e",
   "metadata": {},
   "outputs": [
    {
     "data": {
      "text/plain": [
       "3×2 Matrix{Int64}:\n",
       " 2  2\n",
       " 0  1\n",
       " 0  3"
      ]
     },
     "execution_count": 19,
     "metadata": {},
     "output_type": "execute_result"
    }
   ],
   "source": [
    "M_matriks"
   ]
  },
  {
   "cell_type": "markdown",
   "id": "38bf691f-e8c7-43be-8a2d-eeb2eaab7c8d",
   "metadata": {},
   "source": [
    "Selain itu, secara analitik nilai $M = QR$. Hanya saja, dalam kasus ini nilai matriks $M$ disimpan sebagai ```Int64``` sedangkan matriks $QR$ disimpan sebagai ```Float64```, sehingga jika disandingkan dengan ```==``` hasilnya akan false."
   ]
  },
  {
   "cell_type": "markdown",
   "id": "92638d65-d717-41c9-a9d1-bac884031998",
   "metadata": {},
   "source": [
    "<hr style=\"border:2px solid black\"> </hr>"
   ]
  },
  {
   "cell_type": "markdown",
   "id": "13c6d70c-5f98-4683-a7a6-d6a2c575c180",
   "metadata": {},
   "source": [
    "#### __Soal 5__\n",
    "__Pembangkitan Data.__ Kerjakan langkah-langkah berikut ini.\n",
    "\n",
    "(a) Tampilkan bantuan dan pelajari fungsi ```rand, sum, repeat```.\n",
    "\n",
    "(b) Bangkitkan suatu matriks _A10×4_ (10 baris, 4 kolom) yang berisi bilangan bulat antara 10-100. (Petunjuk: gunakan ```rand```)\n",
    "\n",
    "(c) Hitung jumlah setiap kolom kemudian simpan sebagai ```jumlah```. (Petunjuk: ukuran matriks yang dihasilkan adalah 1×4, gunakan ```sum``` untuk menghitung jumlah.)\n",
    "\n",
    "(d) Hitung rataan data setiap kolom dan simpan sebagai ```rataan```. (Petunjuk: ukuran matriks yang dihasilkan adalah 1×4, bagi ```jumlah``` dengan banyaknya baris.)\n",
    "\n",
    "(e) ```matriksRataan``` merupakan data rataan yang disusun berulang sebanyak 10 kali. (Petunjuk: ukuran matriks yang dihasilkan 10×4, gunakan ```repeat```.)\n",
    "\n",
    "(f) $B=A-$```matriksRataan```. Tunjukkan rataan kolom B mendekati 0."
   ]
  },
  {
   "cell_type": "code",
   "execution_count": null,
   "id": "fe3972c0-885a-452f-8691-3aca8bdfc6bb",
   "metadata": {},
   "outputs": [],
   "source": [
    "?rand"
   ]
  },
  {
   "cell_type": "code",
   "execution_count": null,
   "id": "aae128cb-d656-4e9b-8d40-9c09e3172316",
   "metadata": {},
   "outputs": [],
   "source": [
    "?sum"
   ]
  },
  {
   "cell_type": "code",
   "execution_count": null,
   "id": "8dfdd0f4-5fff-4184-907b-bbc8994dafbe",
   "metadata": {},
   "outputs": [],
   "source": [
    "?repeat"
   ]
  },
  {
   "cell_type": "code",
   "execution_count": 20,
   "id": "5fee4738-acf1-4cfe-a9c6-3aac39d09a64",
   "metadata": {},
   "outputs": [
    {
     "data": {
      "text/plain": [
       "10×4 Matrix{Int64}:\n",
       " 90  76  85  67\n",
       " 74  53  38  44\n",
       " 24  93  50  64\n",
       " 49  93  54  93\n",
       " 67  84  61  91\n",
       " 43  96  51  16\n",
       " 97  13  61  33\n",
       " 39  78  14  19\n",
       " 37  65  15  48\n",
       " 32  96  41  45"
      ]
     },
     "execution_count": 20,
     "metadata": {},
     "output_type": "execute_result"
    }
   ],
   "source": [
    "# (b)\n",
    "A = rand(10:100, 10, 4)"
   ]
  },
  {
   "cell_type": "code",
   "execution_count": 21,
   "id": "247c1c3e-3c94-4a2b-94db-454400713f1a",
   "metadata": {},
   "outputs": [
    {
     "data": {
      "text/plain": [
       "1×4 Matrix{Int64}:\n",
       " 552  747  470  520"
      ]
     },
     "execution_count": 21,
     "metadata": {},
     "output_type": "execute_result"
    }
   ],
   "source": [
    "# (c)\n",
    "jumlah = sum(A, dims=1)"
   ]
  },
  {
   "cell_type": "code",
   "execution_count": 22,
   "id": "0afb4fb5-395c-4731-86d3-e57c3876b99e",
   "metadata": {},
   "outputs": [
    {
     "data": {
      "text/plain": [
       "1×4 Matrix{Float64}:\n",
       " 55.2  74.7  47.0  52.0"
      ]
     },
     "execution_count": 22,
     "metadata": {},
     "output_type": "execute_result"
    }
   ],
   "source": [
    "# (d)\n",
    "rataan = sum(A, dims=1) / size(A, 1)"
   ]
  },
  {
   "cell_type": "code",
   "execution_count": 23,
   "id": "eac1fcc7-017d-4be0-9cf5-2ad1b47db621",
   "metadata": {},
   "outputs": [
    {
     "data": {
      "text/plain": [
       "10×4 Matrix{Float64}:\n",
       " 55.2  74.7  47.0  52.0\n",
       " 55.2  74.7  47.0  52.0\n",
       " 55.2  74.7  47.0  52.0\n",
       " 55.2  74.7  47.0  52.0\n",
       " 55.2  74.7  47.0  52.0\n",
       " 55.2  74.7  47.0  52.0\n",
       " 55.2  74.7  47.0  52.0\n",
       " 55.2  74.7  47.0  52.0\n",
       " 55.2  74.7  47.0  52.0\n",
       " 55.2  74.7  47.0  52.0"
      ]
     },
     "execution_count": 23,
     "metadata": {},
     "output_type": "execute_result"
    }
   ],
   "source": [
    "# (e)\n",
    "matriksRataan = repeat(rataan, 10, 1)"
   ]
  },
  {
   "cell_type": "code",
   "execution_count": 24,
   "id": "cf7b57d2-a257-460c-afa1-963a411a2a2c",
   "metadata": {},
   "outputs": [
    {
     "data": {
      "text/plain": [
       "1×4 Matrix{Float64}:\n",
       " -2.84217e-15  -2.84217e-15  0.0  0.0"
      ]
     },
     "execution_count": 24,
     "metadata": {},
     "output_type": "execute_result"
    }
   ],
   "source": [
    "# (f)\n",
    "B = A .- matriksRataan\n",
    "rataanB = sum(B, dims=1) / size(B, 1)"
   ]
  },
  {
   "cell_type": "markdown",
   "id": "2edfdeb6-66c5-4980-bc2a-ba2875138c72",
   "metadata": {},
   "source": [
    "Terlihat bahwa rataan __kolom B__ bernilai sangat kecil dengan nilai $10^{-15}$, nilai ini bisa dianggap __mendekati 0__"
   ]
  },
  {
   "cell_type": "markdown",
   "id": "01709e29-237a-4510-b8d5-c48aa7509af3",
   "metadata": {},
   "source": [
    "<hr style=\"border:2px solid black\"> </hr>"
   ]
  },
  {
   "cell_type": "markdown",
   "id": "41466201-1e61-4a01-8461-f0000b34dd3f",
   "metadata": {},
   "source": [
    "#### __Soal 6__\n",
    "__Maksimum dan minimum.__ Buatlah fungsi yang mengeluarkan nilai maksimum dan minimum dari vektor $x$  dengan format ```maks,mins=maxmin(x)```.Contoh keluaran fungsi:\n",
    "\n",
    "```Inp: x= [-4,-10,2,1,7,-6,21,32,1,5];```\n",
    "\n",
    "```Inp: maks, mins = maxnmin(x)```\n",
    "\n",
    "```     maks```\n",
    "\n",
    "```Out: 32```\n",
    "\n",
    "```Inp: mins```\n",
    "\n",
    "```Out: -10```"
   ]
  },
  {
   "cell_type": "code",
   "execution_count": 25,
   "id": "016cd31f-e6c6-4a53-9312-147b905dc298",
   "metadata": {},
   "outputs": [],
   "source": [
    "function maxnmin(x)\n",
    "    maks = maximum(x)\n",
    "    mins = minimum(x)\n",
    "    return maks, mins\n",
    "end;"
   ]
  },
  {
   "cell_type": "code",
   "execution_count": 26,
   "id": "81ca76b2-9872-41a6-bc95-a3556ef68ef7",
   "metadata": {},
   "outputs": [
    {
     "data": {
      "text/plain": [
       "32"
      ]
     },
     "execution_count": 26,
     "metadata": {},
     "output_type": "execute_result"
    }
   ],
   "source": [
    "x = [-4, -10, 2, 1, 7, -6, 21, 32, 1, 5];\n",
    "maks, mins = maxnmin(x)\n",
    "maks"
   ]
  },
  {
   "cell_type": "code",
   "execution_count": 27,
   "id": "2289695f-fc45-4e42-8e85-a2acca52f8a8",
   "metadata": {},
   "outputs": [
    {
     "data": {
      "text/plain": [
       "-10"
      ]
     },
     "execution_count": 27,
     "metadata": {},
     "output_type": "execute_result"
    }
   ],
   "source": [
    "mins"
   ]
  },
  {
   "cell_type": "markdown",
   "id": "77320e92-7d26-488c-954e-93ad7f8139d5",
   "metadata": {},
   "source": [
    "<hr style=\"border:2px solid black\"> </hr>"
   ]
  },
  {
   "cell_type": "markdown",
   "id": "8b158a1b-9ceb-4073-b89c-5c67a380b8ba",
   "metadata": {},
   "source": [
    "#### __Soal 7__\n",
    "__Pembulatan.__ Tampilkan bantuan dan pelajari fungsi ```round```. Buatlah suatu fungsi dengan nama ```bulat(x,n)``` yaitu fungsi yang dapat membulatkan $n$-angka desimal dibelakang koma dari bilangan real $x$. Contoh keluaran fungsi:\n",
    "\n",
    "```Inp: x = 1.26356863;```\n",
    "\n",
    "```Inp: bulat(x,5)```\n",
    "\n",
    "```Out: 1.26357```\n",
    "\n",
    "```Inp: bulat(x,6)```\n",
    "\n",
    "```Out: 1.263568```"
   ]
  },
  {
   "cell_type": "code",
   "execution_count": null,
   "id": "4e66c892-b94f-4e7f-8d09-56f7f5657691",
   "metadata": {},
   "outputs": [],
   "source": [
    "?round"
   ]
  },
  {
   "cell_type": "code",
   "execution_count": 28,
   "id": "8a20871e-35cd-4e77-9718-c8ea4c5dd3c4",
   "metadata": {},
   "outputs": [],
   "source": [
    "function bulat(x, n)\n",
    "    return round(x, digits=n)\n",
    "end;"
   ]
  },
  {
   "cell_type": "code",
   "execution_count": 29,
   "id": "d8184537-8fa0-46e2-acd2-95254efd5cc5",
   "metadata": {},
   "outputs": [
    {
     "data": {
      "text/plain": [
       "1.26357"
      ]
     },
     "execution_count": 29,
     "metadata": {},
     "output_type": "execute_result"
    }
   ],
   "source": [
    "x = 1.26356863;\n",
    "bulat(x, 5)"
   ]
  },
  {
   "cell_type": "code",
   "execution_count": 30,
   "id": "1fea096f-f201-48cb-b630-664e0e10d4e2",
   "metadata": {},
   "outputs": [
    {
     "data": {
      "text/plain": [
       "1.263569"
      ]
     },
     "execution_count": 30,
     "metadata": {},
     "output_type": "execute_result"
    }
   ],
   "source": [
    "bulat(x, 6)"
   ]
  },
  {
   "cell_type": "markdown",
   "id": "daae44c4-ef72-4457-8a72-4cb9788b1827",
   "metadata": {},
   "source": [
    "<hr style=\"border:2px solid black\"> </hr>"
   ]
  },
  {
   "cell_type": "markdown",
   "id": "36beac8e-c4bb-4f96-b171-216ea8cdea9c",
   "metadata": {},
   "source": [
    "#### __Soal 8__\n",
    "Diberikan fungsi \n",
    "\n",
    "$$y = f(x) = x^3-2$$\n",
    "\n",
    "dengan garis singgung di $x=1$ yaitu $y=L(x)=3x-4$. Gambarkan grafik fungsi $f(x)$ dan garis singgung $L$ pada satu grafik dengan ketentuan:\n",
    "\n",
    "• grafik $f(x)$ berupa garis lurus berwarna hitam pada selang $[-1,3]$, dan\n",
    "\n",
    "• grafik $L(x)$ berupa garis putus-putus berwarna biru pada selang $[0,2]$."
   ]
  },
  {
   "cell_type": "code",
   "execution_count": 31,
   "id": "288529e8-7f87-4910-ad4f-44a8263bc3a7",
   "metadata": {},
   "outputs": [],
   "source": [
    "using Pkg\n",
    "Pkg.add(\"Plots\")"
   ]
  },
  {
   "cell_type": "code",
   "execution_count": 36,
   "id": "28e36f22-5138-4d0f-b9c3-1f350c65fe62",
   "metadata": {},
   "outputs": [
    {
     "data": {
      "image/svg+xml": [
       "<?xml version=\"1.0\" encoding=\"utf-8\"?>\n",
       "<svg xmlns=\"http://www.w3.org/2000/svg\" xmlns:xlink=\"http://www.w3.org/1999/xlink\" width=\"600\" height=\"400\" viewBox=\"0 0 2400 1600\">\n",
       "<defs>\n",
       "  <clipPath id=\"clip740\">\n",
       "    <rect x=\"0\" y=\"0\" width=\"2400\" height=\"1600\"/>\n",
       "  </clipPath>\n",
       "</defs>\n",
       "<path clip-path=\"url(#clip740)\" d=\"M0 1600 L2400 1600 L2400 0 L0 0  Z\" fill=\"#ffffff\" fill-rule=\"evenodd\" fill-opacity=\"1\"/>\n",
       "<defs>\n",
       "  <clipPath id=\"clip741\">\n",
       "    <rect x=\"480\" y=\"0\" width=\"1681\" height=\"1600\"/>\n",
       "  </clipPath>\n",
       "</defs>\n",
       "<path clip-path=\"url(#clip740)\" d=\"M203.964 1423.18 L2352.76 1423.18 L2352.76 123.472 L203.964 123.472  Z\" fill=\"#ffffff\" fill-rule=\"evenodd\" fill-opacity=\"1\"/>\n",
       "<defs>\n",
       "  <clipPath id=\"clip742\">\n",
       "    <rect x=\"203\" y=\"123\" width=\"2150\" height=\"1301\"/>\n",
       "  </clipPath>\n",
       "</defs>\n",
       "<polyline clip-path=\"url(#clip742)\" style=\"stroke:#000000; stroke-linecap:round; stroke-linejoin:round; stroke-width:2; stroke-opacity:0.1; fill:none\" points=\"264.778,1423.18 264.778,123.472 \"/>\n",
       "<polyline clip-path=\"url(#clip742)\" style=\"stroke:#000000; stroke-linecap:round; stroke-linejoin:round; stroke-width:2; stroke-opacity:0.1; fill:none\" points=\"771.569,1423.18 771.569,123.472 \"/>\n",
       "<polyline clip-path=\"url(#clip742)\" style=\"stroke:#000000; stroke-linecap:round; stroke-linejoin:round; stroke-width:2; stroke-opacity:0.1; fill:none\" points=\"1278.36,1423.18 1278.36,123.472 \"/>\n",
       "<polyline clip-path=\"url(#clip742)\" style=\"stroke:#000000; stroke-linecap:round; stroke-linejoin:round; stroke-width:2; stroke-opacity:0.1; fill:none\" points=\"1785.15,1423.18 1785.15,123.472 \"/>\n",
       "<polyline clip-path=\"url(#clip742)\" style=\"stroke:#000000; stroke-linecap:round; stroke-linejoin:round; stroke-width:2; stroke-opacity:0.1; fill:none\" points=\"2291.94,1423.18 2291.94,123.472 \"/>\n",
       "<polyline clip-path=\"url(#clip740)\" style=\"stroke:#000000; stroke-linecap:round; stroke-linejoin:round; stroke-width:4; stroke-opacity:1; fill:none\" points=\"203.964,1423.18 2352.76,1423.18 \"/>\n",
       "<polyline clip-path=\"url(#clip740)\" style=\"stroke:#000000; stroke-linecap:round; stroke-linejoin:round; stroke-width:4; stroke-opacity:1; fill:none\" points=\"264.778,1423.18 264.778,1404.28 \"/>\n",
       "<polyline clip-path=\"url(#clip740)\" style=\"stroke:#000000; stroke-linecap:round; stroke-linejoin:round; stroke-width:4; stroke-opacity:1; fill:none\" points=\"771.569,1423.18 771.569,1404.28 \"/>\n",
       "<polyline clip-path=\"url(#clip740)\" style=\"stroke:#000000; stroke-linecap:round; stroke-linejoin:round; stroke-width:4; stroke-opacity:1; fill:none\" points=\"1278.36,1423.18 1278.36,1404.28 \"/>\n",
       "<polyline clip-path=\"url(#clip740)\" style=\"stroke:#000000; stroke-linecap:round; stroke-linejoin:round; stroke-width:4; stroke-opacity:1; fill:none\" points=\"1785.15,1423.18 1785.15,1404.28 \"/>\n",
       "<polyline clip-path=\"url(#clip740)\" style=\"stroke:#000000; stroke-linecap:round; stroke-linejoin:round; stroke-width:4; stroke-opacity:1; fill:none\" points=\"2291.94,1423.18 2291.94,1404.28 \"/>\n",
       "<path clip-path=\"url(#clip740)\" d=\"M234.536 1468.75 L264.211 1468.75 L264.211 1472.69 L234.536 1472.69 L234.536 1468.75 Z\" fill=\"#000000\" fill-rule=\"nonzero\" fill-opacity=\"1\" /><path clip-path=\"url(#clip740)\" d=\"M275.114 1481.64 L282.753 1481.64 L282.753 1455.28 L274.443 1456.95 L274.443 1452.69 L282.707 1451.02 L287.382 1451.02 L287.382 1481.64 L295.021 1481.64 L295.021 1485.58 L275.114 1485.58 L275.114 1481.64 Z\" fill=\"#000000\" fill-rule=\"nonzero\" fill-opacity=\"1\" /><path clip-path=\"url(#clip740)\" d=\"M771.569 1454.1 Q767.958 1454.1 766.129 1457.66 Q764.324 1461.2 764.324 1468.33 Q764.324 1475.44 766.129 1479.01 Q767.958 1482.55 771.569 1482.55 Q775.203 1482.55 777.009 1479.01 Q778.838 1475.44 778.838 1468.33 Q778.838 1461.2 777.009 1457.66 Q775.203 1454.1 771.569 1454.1 M771.569 1450.39 Q777.379 1450.39 780.435 1455 Q783.513 1459.58 783.513 1468.33 Q783.513 1477.06 780.435 1481.67 Q777.379 1486.25 771.569 1486.25 Q765.759 1486.25 762.68 1481.67 Q759.625 1477.06 759.625 1468.33 Q759.625 1459.58 762.68 1455 Q765.759 1450.39 771.569 1450.39 Z\" fill=\"#000000\" fill-rule=\"nonzero\" fill-opacity=\"1\" /><path clip-path=\"url(#clip740)\" d=\"M1268.74 1481.64 L1276.38 1481.64 L1276.38 1455.28 L1268.07 1456.95 L1268.07 1452.69 L1276.33 1451.02 L1281.01 1451.02 L1281.01 1481.64 L1288.65 1481.64 L1288.65 1485.58 L1268.74 1485.58 L1268.74 1481.64 Z\" fill=\"#000000\" fill-rule=\"nonzero\" fill-opacity=\"1\" /><path clip-path=\"url(#clip740)\" d=\"M1779.8 1481.64 L1796.12 1481.64 L1796.12 1485.58 L1774.18 1485.58 L1774.18 1481.64 Q1776.84 1478.89 1781.42 1474.26 Q1786.03 1469.61 1787.21 1468.27 Q1789.46 1465.74 1790.34 1464.01 Q1791.24 1462.25 1791.24 1460.56 Q1791.24 1457.8 1789.29 1456.07 Q1787.37 1454.33 1784.27 1454.33 Q1782.07 1454.33 1779.62 1455.09 Q1777.19 1455.86 1774.41 1457.41 L1774.41 1452.69 Q1777.23 1451.55 1779.69 1450.97 Q1782.14 1450.39 1784.18 1450.39 Q1789.55 1450.39 1792.74 1453.08 Q1795.94 1455.77 1795.94 1460.26 Q1795.94 1462.39 1795.13 1464.31 Q1794.34 1466.2 1792.23 1468.8 Q1791.65 1469.47 1788.55 1472.69 Q1785.45 1475.88 1779.8 1481.64 Z\" fill=\"#000000\" fill-rule=\"nonzero\" fill-opacity=\"1\" /><path clip-path=\"url(#clip740)\" d=\"M2296.19 1466.95 Q2299.55 1467.66 2301.42 1469.93 Q2303.32 1472.2 2303.32 1475.53 Q2303.32 1480.65 2299.8 1483.45 Q2296.28 1486.25 2289.8 1486.25 Q2287.62 1486.25 2285.31 1485.81 Q2283.02 1485.39 2280.56 1484.54 L2280.56 1480.02 Q2282.51 1481.16 2284.82 1481.74 Q2287.14 1482.32 2289.66 1482.32 Q2294.06 1482.32 2296.35 1480.58 Q2298.67 1478.84 2298.67 1475.53 Q2298.67 1472.48 2296.51 1470.77 Q2294.38 1469.03 2290.56 1469.03 L2286.54 1469.03 L2286.54 1465.19 L2290.75 1465.19 Q2294.2 1465.19 2296.03 1463.82 Q2297.86 1462.43 2297.86 1459.84 Q2297.86 1457.18 2295.96 1455.77 Q2294.08 1454.33 2290.56 1454.33 Q2288.64 1454.33 2286.44 1454.75 Q2284.24 1455.16 2281.61 1456.04 L2281.61 1451.88 Q2284.27 1451.14 2286.58 1450.77 Q2288.92 1450.39 2290.98 1450.39 Q2296.3 1450.39 2299.41 1452.83 Q2302.51 1455.23 2302.51 1459.35 Q2302.51 1462.22 2300.86 1464.21 Q2299.22 1466.18 2296.19 1466.95 Z\" fill=\"#000000\" fill-rule=\"nonzero\" fill-opacity=\"1\" /><path clip-path=\"url(#clip740)\" d=\"M1294.97 1532.4 L1282.08 1549.74 L1295.64 1568.04 L1288.74 1568.04 L1278.36 1554.04 L1267.98 1568.04 L1261.08 1568.04 L1274.92 1549.39 L1262.25 1532.4 L1269.16 1532.4 L1278.61 1545.1 L1288.07 1532.4 L1294.97 1532.4 Z\" fill=\"#000000\" fill-rule=\"nonzero\" fill-opacity=\"1\" /><polyline clip-path=\"url(#clip742)\" style=\"stroke:#000000; stroke-linecap:round; stroke-linejoin:round; stroke-width:2; stroke-opacity:0.1; fill:none\" points=\"203.964,1217.27 2352.76,1217.27 \"/>\n",
       "<polyline clip-path=\"url(#clip742)\" style=\"stroke:#000000; stroke-linecap:round; stroke-linejoin:round; stroke-width:2; stroke-opacity:0.1; fill:none\" points=\"203.964,1005.87 2352.76,1005.87 \"/>\n",
       "<polyline clip-path=\"url(#clip742)\" style=\"stroke:#000000; stroke-linecap:round; stroke-linejoin:round; stroke-width:2; stroke-opacity:0.1; fill:none\" points=\"203.964,794.466 2352.76,794.466 \"/>\n",
       "<polyline clip-path=\"url(#clip742)\" style=\"stroke:#000000; stroke-linecap:round; stroke-linejoin:round; stroke-width:2; stroke-opacity:0.1; fill:none\" points=\"203.964,583.063 2352.76,583.063 \"/>\n",
       "<polyline clip-path=\"url(#clip742)\" style=\"stroke:#000000; stroke-linecap:round; stroke-linejoin:round; stroke-width:2; stroke-opacity:0.1; fill:none\" points=\"203.964,371.66 2352.76,371.66 \"/>\n",
       "<polyline clip-path=\"url(#clip742)\" style=\"stroke:#000000; stroke-linecap:round; stroke-linejoin:round; stroke-width:2; stroke-opacity:0.1; fill:none\" points=\"203.964,160.256 2352.76,160.256 \"/>\n",
       "<polyline clip-path=\"url(#clip740)\" style=\"stroke:#000000; stroke-linecap:round; stroke-linejoin:round; stroke-width:4; stroke-opacity:1; fill:none\" points=\"203.964,1423.18 203.964,123.472 \"/>\n",
       "<polyline clip-path=\"url(#clip740)\" style=\"stroke:#000000; stroke-linecap:round; stroke-linejoin:round; stroke-width:4; stroke-opacity:1; fill:none\" points=\"203.964,1217.27 222.861,1217.27 \"/>\n",
       "<polyline clip-path=\"url(#clip740)\" style=\"stroke:#000000; stroke-linecap:round; stroke-linejoin:round; stroke-width:4; stroke-opacity:1; fill:none\" points=\"203.964,1005.87 222.861,1005.87 \"/>\n",
       "<polyline clip-path=\"url(#clip740)\" style=\"stroke:#000000; stroke-linecap:round; stroke-linejoin:round; stroke-width:4; stroke-opacity:1; fill:none\" points=\"203.964,794.466 222.861,794.466 \"/>\n",
       "<polyline clip-path=\"url(#clip740)\" style=\"stroke:#000000; stroke-linecap:round; stroke-linejoin:round; stroke-width:4; stroke-opacity:1; fill:none\" points=\"203.964,583.063 222.861,583.063 \"/>\n",
       "<polyline clip-path=\"url(#clip740)\" style=\"stroke:#000000; stroke-linecap:round; stroke-linejoin:round; stroke-width:4; stroke-opacity:1; fill:none\" points=\"203.964,371.66 222.861,371.66 \"/>\n",
       "<polyline clip-path=\"url(#clip740)\" style=\"stroke:#000000; stroke-linecap:round; stroke-linejoin:round; stroke-width:4; stroke-opacity:1; fill:none\" points=\"203.964,160.256 222.861,160.256 \"/>\n",
       "<path clip-path=\"url(#clip740)\" d=\"M156.019 1203.07 Q152.408 1203.07 150.579 1206.64 Q148.774 1210.18 148.774 1217.31 Q148.774 1224.41 150.579 1227.98 Q152.408 1231.52 156.019 1231.52 Q159.653 1231.52 161.459 1227.98 Q163.288 1224.41 163.288 1217.31 Q163.288 1210.18 161.459 1206.64 Q159.653 1203.07 156.019 1203.07 M156.019 1199.37 Q161.829 1199.37 164.885 1203.97 Q167.964 1208.56 167.964 1217.31 Q167.964 1226.03 164.885 1230.64 Q161.829 1235.22 156.019 1235.22 Q150.209 1235.22 147.13 1230.64 Q144.075 1226.03 144.075 1217.31 Q144.075 1208.56 147.13 1203.97 Q150.209 1199.37 156.019 1199.37 Z\" fill=\"#000000\" fill-rule=\"nonzero\" fill-opacity=\"1\" /><path clip-path=\"url(#clip740)\" d=\"M147.061 988.59 L165.417 988.59 L165.417 992.525 L151.343 992.525 L151.343 1001 Q152.362 1000.65 153.38 1000.49 Q154.399 1000.3 155.417 1000.3 Q161.204 1000.3 164.584 1003.47 Q167.964 1006.65 167.964 1012.06 Q167.964 1017.64 164.491 1020.74 Q161.019 1023.82 154.7 1023.82 Q152.524 1023.82 150.255 1023.45 Q148.01 1023.08 145.603 1022.34 L145.603 1017.64 Q147.686 1018.77 149.908 1019.33 Q152.13 1019.89 154.607 1019.89 Q158.612 1019.89 160.95 1017.78 Q163.288 1015.67 163.288 1012.06 Q163.288 1008.45 160.95 1006.34 Q158.612 1004.24 154.607 1004.24 Q152.732 1004.24 150.857 1004.65 Q149.005 1005.07 147.061 1005.95 L147.061 988.59 Z\" fill=\"#000000\" fill-rule=\"nonzero\" fill-opacity=\"1\" /><path clip-path=\"url(#clip740)\" d=\"M116.668 807.811 L124.306 807.811 L124.306 781.446 L115.996 783.112 L115.996 778.853 L124.26 777.186 L128.936 777.186 L128.936 807.811 L136.575 807.811 L136.575 811.746 L116.668 811.746 L116.668 807.811 Z\" fill=\"#000000\" fill-rule=\"nonzero\" fill-opacity=\"1\" /><path clip-path=\"url(#clip740)\" d=\"M156.019 780.265 Q152.408 780.265 150.579 783.83 Q148.774 787.371 148.774 794.501 Q148.774 801.607 150.579 805.172 Q152.408 808.714 156.019 808.714 Q159.653 808.714 161.459 805.172 Q163.288 801.607 163.288 794.501 Q163.288 787.371 161.459 783.83 Q159.653 780.265 156.019 780.265 M156.019 776.561 Q161.829 776.561 164.885 781.168 Q167.964 785.751 167.964 794.501 Q167.964 803.228 164.885 807.834 Q161.829 812.418 156.019 812.418 Q150.209 812.418 147.13 807.834 Q144.075 803.228 144.075 794.501 Q144.075 785.751 147.13 781.168 Q150.209 776.561 156.019 776.561 Z\" fill=\"#000000\" fill-rule=\"nonzero\" fill-opacity=\"1\" /><path clip-path=\"url(#clip740)\" d=\"M117.663 596.408 L125.302 596.408 L125.302 570.042 L116.992 571.709 L116.992 567.45 L125.255 565.783 L129.931 565.783 L129.931 596.408 L137.57 596.408 L137.57 600.343 L117.663 600.343 L117.663 596.408 Z\" fill=\"#000000\" fill-rule=\"nonzero\" fill-opacity=\"1\" /><path clip-path=\"url(#clip740)\" d=\"M147.061 565.783 L165.417 565.783 L165.417 569.718 L151.343 569.718 L151.343 578.19 Q152.362 577.843 153.38 577.681 Q154.399 577.496 155.417 577.496 Q161.204 577.496 164.584 580.667 Q167.964 583.838 167.964 589.255 Q167.964 594.834 164.491 597.936 Q161.019 601.014 154.7 601.014 Q152.524 601.014 150.255 600.644 Q148.01 600.274 145.603 599.533 L145.603 594.834 Q147.686 595.968 149.908 596.524 Q152.13 597.079 154.607 597.079 Q158.612 597.079 160.95 594.973 Q163.288 592.866 163.288 589.255 Q163.288 585.644 160.95 583.538 Q158.612 581.431 154.607 581.431 Q152.732 581.431 150.857 581.848 Q149.005 582.264 147.061 583.144 L147.061 565.783 Z\" fill=\"#000000\" fill-rule=\"nonzero\" fill-opacity=\"1\" /><path clip-path=\"url(#clip740)\" d=\"M119.885 385.004 L136.204 385.004 L136.204 388.94 L114.26 388.94 L114.26 385.004 Q116.922 382.25 121.505 377.62 Q126.112 372.968 127.292 371.625 Q129.538 369.102 130.417 367.366 Q131.32 365.606 131.32 363.917 Q131.32 361.162 129.376 359.426 Q127.455 357.69 124.353 357.69 Q122.154 357.69 119.7 358.454 Q117.269 359.218 114.492 360.768 L114.492 356.046 Q117.316 354.912 119.769 354.333 Q122.223 353.755 124.26 353.755 Q129.63 353.755 132.825 356.44 Q136.019 359.125 136.019 363.616 Q136.019 365.745 135.209 367.667 Q134.422 369.565 132.316 372.157 Q131.737 372.829 128.635 376.046 Q125.533 379.241 119.885 385.004 Z\" fill=\"#000000\" fill-rule=\"nonzero\" fill-opacity=\"1\" /><path clip-path=\"url(#clip740)\" d=\"M156.019 357.458 Q152.408 357.458 150.579 361.023 Q148.774 364.565 148.774 371.694 Q148.774 378.801 150.579 382.366 Q152.408 385.907 156.019 385.907 Q159.653 385.907 161.459 382.366 Q163.288 378.801 163.288 371.694 Q163.288 364.565 161.459 361.023 Q159.653 357.458 156.019 357.458 M156.019 353.755 Q161.829 353.755 164.885 358.361 Q167.964 362.944 167.964 371.694 Q167.964 380.421 164.885 385.028 Q161.829 389.611 156.019 389.611 Q150.209 389.611 147.13 385.028 Q144.075 380.421 144.075 371.694 Q144.075 362.944 147.13 358.361 Q150.209 353.755 156.019 353.755 Z\" fill=\"#000000\" fill-rule=\"nonzero\" fill-opacity=\"1\" /><path clip-path=\"url(#clip740)\" d=\"M120.88 173.601 L137.2 173.601 L137.2 177.536 L115.256 177.536 L115.256 173.601 Q117.918 170.847 122.501 166.217 Q127.107 161.564 128.288 160.222 Q130.533 157.698 131.413 155.962 Q132.316 154.203 132.316 152.513 Q132.316 149.759 130.371 148.023 Q128.45 146.286 125.348 146.286 Q123.149 146.286 120.695 147.05 Q118.265 147.814 115.487 149.365 L115.487 144.643 Q118.311 143.509 120.765 142.93 Q123.218 142.351 125.255 142.351 Q130.626 142.351 133.82 145.036 Q137.015 147.722 137.015 152.212 Q137.015 154.342 136.204 156.263 Q135.417 158.161 133.311 160.754 Q132.732 161.425 129.63 164.643 Q126.529 167.837 120.88 173.601 Z\" fill=\"#000000\" fill-rule=\"nonzero\" fill-opacity=\"1\" /><path clip-path=\"url(#clip740)\" d=\"M147.061 142.976 L165.417 142.976 L165.417 146.911 L151.343 146.911 L151.343 155.384 Q152.362 155.036 153.38 154.874 Q154.399 154.689 155.417 154.689 Q161.204 154.689 164.584 157.86 Q167.964 161.032 167.964 166.448 Q167.964 172.027 164.491 175.129 Q161.019 178.208 154.7 178.208 Q152.524 178.208 150.255 177.837 Q148.01 177.467 145.603 176.726 L145.603 172.027 Q147.686 173.161 149.908 173.717 Q152.13 174.272 154.607 174.272 Q158.612 174.272 160.95 172.166 Q163.288 170.059 163.288 166.448 Q163.288 162.837 160.95 160.731 Q158.612 158.624 154.607 158.624 Q152.732 158.624 150.857 159.041 Q149.005 159.458 147.061 160.337 L147.061 142.976 Z\" fill=\"#000000\" fill-rule=\"nonzero\" fill-opacity=\"1\" /><path clip-path=\"url(#clip740)\" d=\"M67.3143 771.639 Q73.68 774.122 75.6216 776.477 Q77.5631 778.832 77.5631 782.779 L77.5631 787.458 L72.6615 787.458 L72.6615 784.02 Q72.6615 781.601 71.5157 780.265 Q70.3699 778.928 66.1048 777.305 L63.4312 776.254 L28.3562 790.673 L28.3562 784.466 L56.238 773.326 L28.3562 762.186 L28.3562 755.979 L67.3143 771.639 Z\" fill=\"#000000\" fill-rule=\"nonzero\" fill-opacity=\"1\" /><path clip-path=\"url(#clip740)\" d=\"M380.254 63.9476 L380.254 47.7034 L366.886 47.7034 L366.886 40.9789 L388.356 40.9789 L388.356 66.9452 Q383.616 70.3075 377.904 72.0494 Q372.193 73.7508 365.711 73.7508 Q351.533 73.7508 343.512 65.4869 Q335.532 57.1826 335.532 42.3968 Q335.532 27.5705 343.512 19.3066 Q351.533 11.0023 365.711 11.0023 Q371.626 11.0023 376.932 12.4606 Q382.279 13.9189 386.776 16.7545 L386.776 25.464 Q382.239 21.6156 377.135 19.6712 Q372.031 17.7268 366.4 17.7268 Q355.3 17.7268 349.71 23.9246 Q344.16 30.1225 344.16 42.3968 Q344.16 54.6305 349.71 60.8284 Q355.3 67.0263 366.4 67.0263 Q370.734 67.0263 374.137 66.2971 Q377.54 65.5274 380.254 63.9476 Z\" fill=\"#000000\" fill-rule=\"nonzero\" fill-opacity=\"1\" /><path clip-path=\"url(#clip740)\" d=\"M429.27 34.1734 Q428.014 33.4443 426.515 33.1202 Q425.057 32.7556 423.275 32.7556 Q416.955 32.7556 413.552 36.8875 Q410.19 40.9789 410.19 48.6757 L410.19 72.576 L402.696 72.576 L402.696 27.2059 L410.19 27.2059 L410.19 34.2544 Q412.54 30.1225 416.307 28.1376 Q420.074 26.1121 425.462 26.1121 Q426.232 26.1121 427.163 26.2337 Q428.095 26.3147 429.229 26.5172 L429.27 34.1734 Z\" fill=\"#000000\" fill-rule=\"nonzero\" fill-opacity=\"1\" /><path clip-path=\"url(#clip740)\" d=\"M457.707 49.7694 Q448.674 49.7694 445.19 51.8354 Q441.706 53.9013 441.706 58.8839 Q441.706 62.8538 444.299 65.2034 Q446.932 67.5124 451.428 67.5124 Q457.626 67.5124 461.353 63.1374 Q465.12 58.7219 465.12 51.4303 L465.12 49.7694 L457.707 49.7694 M472.574 46.6907 L472.574 72.576 L465.12 72.576 L465.12 65.6895 Q462.568 69.8214 458.761 71.8063 Q454.953 73.7508 449.443 73.7508 Q442.476 73.7508 438.344 69.8619 Q434.253 65.9325 434.253 59.3701 Q434.253 51.7138 439.357 47.825 Q444.501 43.9361 454.669 43.9361 L465.12 43.9361 L465.12 43.2069 Q465.12 38.0623 461.718 35.2672 Q458.355 32.4315 452.239 32.4315 Q448.35 32.4315 444.663 33.3632 Q440.977 34.295 437.574 36.1584 L437.574 29.2718 Q441.666 27.692 445.514 26.9223 Q449.362 26.1121 453.008 26.1121 Q462.852 26.1121 467.713 31.2163 Q472.574 36.3204 472.574 46.6907 Z\" fill=\"#000000\" fill-rule=\"nonzero\" fill-opacity=\"1\" /><path clip-path=\"url(#clip740)\" d=\"M510.896 9.54393 L510.896 15.7418 L503.766 15.7418 Q499.756 15.7418 498.176 17.3622 Q496.636 18.9825 496.636 23.1955 L496.636 27.2059 L508.911 27.2059 L508.911 32.9987 L496.636 32.9987 L496.636 72.576 L489.142 72.576 L489.142 32.9987 L482.013 32.9987 L482.013 27.2059 L489.142 27.2059 L489.142 24.0462 Q489.142 16.471 492.667 13.0277 Q496.191 9.54393 503.847 9.54393 L510.896 9.54393 Z\" fill=\"#000000\" fill-rule=\"nonzero\" fill-opacity=\"1\" /><path clip-path=\"url(#clip740)\" d=\"M517.134 27.2059 L524.588 27.2059 L524.588 72.576 L517.134 72.576 L517.134 27.2059 M517.134 9.54393 L524.588 9.54393 L524.588 18.9825 L517.134 18.9825 L517.134 9.54393 Z\" fill=\"#000000\" fill-rule=\"nonzero\" fill-opacity=\"1\" /><path clip-path=\"url(#clip740)\" d=\"M539.9 9.54393 L547.394 9.54393 L547.394 46.7717 L569.634 27.2059 L579.153 27.2059 L555.091 48.4326 L580.166 72.576 L570.444 72.576 L547.394 50.4176 L547.394 72.576 L539.9 72.576 L539.9 9.54393 Z\" fill=\"#000000\" fill-rule=\"nonzero\" fill-opacity=\"1\" /><path clip-path=\"url(#clip740)\" d=\"M614.923 12.096 L649.68 12.096 L649.68 18.9825 L623.106 18.9825 L623.106 36.8065 L647.087 36.8065 L647.087 43.6931 L623.106 43.6931 L623.106 72.576 L614.923 72.576 L614.923 12.096 Z\" fill=\"#000000\" fill-rule=\"nonzero\" fill-opacity=\"1\" /><path clip-path=\"url(#clip740)\" d=\"M657.012 54.671 L657.012 27.2059 L664.465 27.2059 L664.465 54.3874 Q664.465 60.8284 666.977 64.0691 Q669.489 67.2693 674.512 67.2693 Q680.548 67.2693 684.031 63.421 Q687.556 59.5726 687.556 52.9291 L687.556 27.2059 L695.009 27.2059 L695.009 72.576 L687.556 72.576 L687.556 65.6084 Q684.842 69.7404 681.236 71.7658 Q677.671 73.7508 672.932 73.7508 Q665.114 73.7508 661.063 68.8897 Q657.012 64.0286 657.012 54.671 M675.767 26.1121 L675.767 26.1121 Z\" fill=\"#000000\" fill-rule=\"nonzero\" fill-opacity=\"1\" /><path clip-path=\"url(#clip740)\" d=\"M748.076 45.1919 L748.076 72.576 L740.622 72.576 L740.622 45.4349 Q740.622 38.994 738.111 35.7938 Q735.599 32.5936 730.576 32.5936 Q724.54 32.5936 721.057 36.4419 Q717.573 40.2903 717.573 46.9338 L717.573 72.576 L710.079 72.576 L710.079 27.2059 L717.573 27.2059 L717.573 34.2544 Q720.246 30.163 723.852 28.1376 Q727.498 26.1121 732.237 26.1121 Q740.055 26.1121 744.066 30.9732 Q748.076 35.7938 748.076 45.1919 Z\" fill=\"#000000\" fill-rule=\"nonzero\" fill-opacity=\"1\" /><path clip-path=\"url(#clip740)\" d=\"M792.798 49.3643 Q792.798 41.2625 789.436 36.8065 Q786.114 32.3505 780.078 32.3505 Q774.083 32.3505 770.721 36.8065 Q767.399 41.2625 767.399 49.3643 Q767.399 57.4256 770.721 61.8816 Q774.083 66.3376 780.078 66.3376 Q786.114 66.3376 789.436 61.8816 Q792.798 57.4256 792.798 49.3643 M800.252 66.9452 Q800.252 78.5308 795.107 84.1616 Q789.962 89.8329 779.349 89.8329 Q775.42 89.8329 771.936 89.2252 Q768.452 88.6581 765.171 87.4428 L765.171 80.1917 Q768.452 81.9741 771.652 82.8248 Q774.853 83.6755 778.174 83.6755 Q785.506 83.6755 789.152 79.8271 Q792.798 76.0193 792.798 68.282 L792.798 64.5957 Q790.489 68.6061 786.884 70.5911 Q783.278 72.576 778.255 72.576 Q769.91 72.576 764.806 66.2161 Q759.702 59.8562 759.702 49.3643 Q759.702 38.832 764.806 32.472 Q769.91 26.1121 778.255 26.1121 Q783.278 26.1121 786.884 28.0971 Q790.489 30.082 792.798 34.0924 L792.798 27.2059 L800.252 27.2059 L800.252 66.9452 Z\" fill=\"#000000\" fill-rule=\"nonzero\" fill-opacity=\"1\" /><path clip-path=\"url(#clip740)\" d=\"M844.528 28.5427 L844.528 35.5912 Q841.368 33.9709 837.966 33.1607 Q834.563 32.3505 830.917 32.3505 Q825.367 32.3505 822.572 34.0519 Q819.818 35.7533 819.818 39.156 Q819.818 41.7486 821.803 43.2475 Q823.788 44.7058 829.783 46.0426 L832.335 46.6097 Q840.275 48.3111 843.596 51.4303 Q846.959 54.509 846.959 60.0587 Q846.959 66.3781 841.936 70.0644 Q836.953 73.7508 828.203 73.7508 Q824.557 73.7508 820.587 73.0216 Q816.658 72.3329 812.283 70.9151 L812.283 63.2184 Q816.415 65.3654 820.425 66.4591 Q824.436 67.5124 828.365 67.5124 Q833.631 67.5124 836.467 65.73 Q839.302 63.9071 839.302 60.6258 Q839.302 57.5877 837.237 55.9673 Q835.211 54.3469 828.284 52.8481 L825.691 52.2405 Q818.764 50.7821 815.686 47.7845 Q812.607 44.7463 812.607 39.4801 Q812.607 33.0797 817.144 29.5959 Q821.681 26.1121 830.026 26.1121 Q834.158 26.1121 837.804 26.7198 Q841.449 27.3274 844.528 28.5427 Z\" fill=\"#000000\" fill-rule=\"nonzero\" fill-opacity=\"1\" /><path clip-path=\"url(#clip740)\" d=\"M858.828 27.2059 L866.282 27.2059 L866.282 72.576 L858.828 72.576 L858.828 27.2059 M858.828 9.54393 L866.282 9.54393 L866.282 18.9825 L858.828 18.9825 L858.828 9.54393 Z\" fill=\"#000000\" fill-rule=\"nonzero\" fill-opacity=\"1\" /><path clip-path=\"url(#clip740)\" d=\"M931.218 9.54393 L931.218 15.7418 L924.088 15.7418 Q920.078 15.7418 918.498 17.3622 Q916.958 18.9825 916.958 23.1955 L916.958 27.2059 L929.233 27.2059 L929.233 32.9987 L916.958 32.9987 L916.958 72.576 L909.464 72.576 L909.464 32.9987 L902.335 32.9987 L902.335 27.2059 L909.464 27.2059 L909.464 24.0462 Q909.464 16.471 912.988 13.0277 Q916.513 9.54393 924.169 9.54393 L931.218 9.54393 Z\" fill=\"#000000\" fill-rule=\"nonzero\" fill-opacity=\"1\" /><path clip-path=\"url(#clip740)\" d=\"M955.361 9.62495 Q949.933 18.942 947.3 28.0566 Q944.667 37.1711 944.667 46.5287 Q944.667 55.8863 947.3 65.0818 Q949.973 74.2369 955.361 83.5134 L948.879 83.5134 Q942.803 73.9938 939.765 64.7983 Q936.767 55.6027 936.767 46.5287 Q936.767 37.4952 939.765 28.3401 Q942.763 19.1851 948.879 9.62495 L955.361 9.62495 Z\" fill=\"#000000\" fill-rule=\"nonzero\" fill-opacity=\"1\" /><path clip-path=\"url(#clip740)\" d=\"M1007.54 27.2059 L991.13 49.2833 L1008.39 72.576 L999.597 72.576 L986.391 54.752 L973.185 72.576 L964.394 72.576 L982.016 48.8377 L965.893 27.2059 L974.684 27.2059 L986.715 43.369 L998.746 27.2059 L1007.54 27.2059 Z\" fill=\"#000000\" fill-rule=\"nonzero\" fill-opacity=\"1\" /><path clip-path=\"url(#clip740)\" d=\"M1017.74 9.62495 L1024.23 9.62495 Q1030.3 19.1851 1033.3 28.3401 Q1036.34 37.4952 1036.34 46.5287 Q1036.34 55.6027 1033.3 64.7983 Q1030.3 73.9938 1024.23 83.5134 L1017.74 83.5134 Q1023.13 74.2369 1025.77 65.0818 Q1028.44 55.8863 1028.44 46.5287 Q1028.44 37.1711 1025.77 28.0566 Q1023.13 18.942 1017.74 9.62495 Z\" fill=\"#000000\" fill-rule=\"nonzero\" fill-opacity=\"1\" /><path clip-path=\"url(#clip740)\" d=\"M1107.51 34.0924 L1107.51 9.54393 L1114.97 9.54393 L1114.97 72.576 L1107.51 72.576 L1107.51 65.7705 Q1105.16 69.8214 1101.56 71.8063 Q1097.99 73.7508 1092.97 73.7508 Q1084.75 73.7508 1079.56 67.1883 Q1074.42 60.6258 1074.42 49.9314 Q1074.42 39.2371 1079.56 32.6746 Q1084.75 26.1121 1092.97 26.1121 Q1097.99 26.1121 1101.56 28.0971 Q1105.16 30.0415 1107.51 34.0924 M1082.11 49.9314 Q1082.11 58.1548 1085.48 62.8538 Q1088.88 67.5124 1094.79 67.5124 Q1100.71 67.5124 1104.11 62.8538 Q1107.51 58.1548 1107.51 49.9314 Q1107.51 41.7081 1104.11 37.0496 Q1100.71 32.3505 1094.79 32.3505 Q1088.88 32.3505 1085.48 37.0496 Q1082.11 41.7081 1082.11 49.9314 Z\" fill=\"#000000\" fill-rule=\"nonzero\" fill-opacity=\"1\" /><path clip-path=\"url(#clip740)\" d=\"M1169.13 48.0275 L1169.13 51.6733 L1134.86 51.6733 Q1135.34 59.3701 1139.47 63.421 Q1143.65 67.4314 1151.06 67.4314 Q1155.35 67.4314 1159.36 66.3781 Q1163.42 65.3249 1167.39 63.2184 L1167.39 70.267 Q1163.37 71.9684 1159.16 72.8596 Q1154.95 73.7508 1150.61 73.7508 Q1139.76 73.7508 1133.4 67.4314 Q1127.08 61.1119 1127.08 50.3365 Q1127.08 39.1965 1133.07 32.6746 Q1139.11 26.1121 1149.32 26.1121 Q1158.47 26.1121 1163.78 32.0264 Q1169.13 37.9003 1169.13 48.0275 M1161.67 45.84 Q1161.59 39.7232 1158.23 36.0774 Q1154.91 32.4315 1149.4 32.4315 Q1143.16 32.4315 1139.39 35.9558 Q1135.67 39.4801 1135.1 45.8805 L1161.67 45.84 Z\" fill=\"#000000\" fill-rule=\"nonzero\" fill-opacity=\"1\" /><path clip-path=\"url(#clip740)\" d=\"M1219.07 45.1919 L1219.07 72.576 L1211.62 72.576 L1211.62 45.4349 Q1211.62 38.994 1209.11 35.7938 Q1206.6 32.5936 1201.57 32.5936 Q1195.54 32.5936 1192.06 36.4419 Q1188.57 40.2903 1188.57 46.9338 L1188.57 72.576 L1181.08 72.576 L1181.08 27.2059 L1188.57 27.2059 L1188.57 34.2544 Q1191.25 30.163 1194.85 28.1376 Q1198.5 26.1121 1203.24 26.1121 Q1211.05 26.1121 1215.06 30.9732 Q1219.07 35.7938 1219.07 45.1919 Z\" fill=\"#000000\" fill-rule=\"nonzero\" fill-opacity=\"1\" /><path clip-path=\"url(#clip740)\" d=\"M1263.8 49.3643 Q1263.8 41.2625 1260.43 36.8065 Q1257.11 32.3505 1251.08 32.3505 Q1245.08 32.3505 1241.72 36.8065 Q1238.4 41.2625 1238.4 49.3643 Q1238.4 57.4256 1241.72 61.8816 Q1245.08 66.3376 1251.08 66.3376 Q1257.11 66.3376 1260.43 61.8816 Q1263.8 57.4256 1263.8 49.3643 M1271.25 66.9452 Q1271.25 78.5308 1266.11 84.1616 Q1260.96 89.8329 1250.35 89.8329 Q1246.42 89.8329 1242.93 89.2252 Q1239.45 88.6581 1236.17 87.4428 L1236.17 80.1917 Q1239.45 81.9741 1242.65 82.8248 Q1245.85 83.6755 1249.17 83.6755 Q1256.51 83.6755 1260.15 79.8271 Q1263.8 76.0193 1263.8 68.282 L1263.8 64.5957 Q1261.49 68.6061 1257.88 70.5911 Q1254.28 72.576 1249.25 72.576 Q1240.91 72.576 1235.8 66.2161 Q1230.7 59.8562 1230.7 49.3643 Q1230.7 38.832 1235.8 32.472 Q1240.91 26.1121 1249.25 26.1121 Q1254.28 26.1121 1257.88 28.0971 Q1261.49 30.082 1263.8 34.0924 L1263.8 27.2059 L1271.25 27.2059 L1271.25 66.9452 Z\" fill=\"#000000\" fill-rule=\"nonzero\" fill-opacity=\"1\" /><path clip-path=\"url(#clip740)\" d=\"M1307.22 49.7694 Q1298.19 49.7694 1294.71 51.8354 Q1291.22 53.9013 1291.22 58.8839 Q1291.22 62.8538 1293.81 65.2034 Q1296.45 67.5124 1300.94 67.5124 Q1307.14 67.5124 1310.87 63.1374 Q1314.64 58.7219 1314.64 51.4303 L1314.64 49.7694 L1307.22 49.7694 M1322.09 46.6907 L1322.09 72.576 L1314.64 72.576 L1314.64 65.6895 Q1312.08 69.8214 1308.28 71.8063 Q1304.47 73.7508 1298.96 73.7508 Q1291.99 73.7508 1287.86 69.8619 Q1283.77 65.9325 1283.77 59.3701 Q1283.77 51.7138 1288.87 47.825 Q1294.02 43.9361 1304.18 43.9361 L1314.64 43.9361 L1314.64 43.2069 Q1314.64 38.0623 1311.23 35.2672 Q1307.87 32.4315 1301.75 32.4315 Q1297.86 32.4315 1294.18 33.3632 Q1290.49 34.295 1287.09 36.1584 L1287.09 29.2718 Q1291.18 27.692 1295.03 26.9223 Q1298.88 26.1121 1302.52 26.1121 Q1312.37 26.1121 1317.23 31.2163 Q1322.09 36.3204 1322.09 46.6907 Z\" fill=\"#000000\" fill-rule=\"nonzero\" fill-opacity=\"1\" /><path clip-path=\"url(#clip740)\" d=\"M1375.16 45.1919 L1375.16 72.576 L1367.7 72.576 L1367.7 45.4349 Q1367.7 38.994 1365.19 35.7938 Q1362.68 32.5936 1357.66 32.5936 Q1351.62 32.5936 1348.14 36.4419 Q1344.65 40.2903 1344.65 46.9338 L1344.65 72.576 L1337.16 72.576 L1337.16 27.2059 L1344.65 27.2059 L1344.65 34.2544 Q1347.33 30.163 1350.93 28.1376 Q1354.58 26.1121 1359.32 26.1121 Q1367.14 26.1121 1371.15 30.9732 Q1375.16 35.7938 1375.16 45.1919 Z\" fill=\"#000000\" fill-rule=\"nonzero\" fill-opacity=\"1\" /><path clip-path=\"url(#clip740)\" d=\"M1457.96 63.9476 L1457.96 47.7034 L1444.59 47.7034 L1444.59 40.9789 L1466.06 40.9789 L1466.06 66.9452 Q1461.32 70.3075 1455.61 72.0494 Q1449.9 73.7508 1443.41 73.7508 Q1429.24 73.7508 1421.21 65.4869 Q1413.23 57.1826 1413.23 42.3968 Q1413.23 27.5705 1421.21 19.3066 Q1429.24 11.0023 1443.41 11.0023 Q1449.33 11.0023 1454.63 12.4606 Q1459.98 13.9189 1464.48 16.7545 L1464.48 25.464 Q1459.94 21.6156 1454.84 19.6712 Q1449.73 17.7268 1444.1 17.7268 Q1433 17.7268 1427.41 23.9246 Q1421.86 30.1225 1421.86 42.3968 Q1421.86 54.6305 1427.41 60.8284 Q1433 67.0263 1444.1 67.0263 Q1448.44 67.0263 1451.84 66.2971 Q1455.24 65.5274 1457.96 63.9476 Z\" fill=\"#000000\" fill-rule=\"nonzero\" fill-opacity=\"1\" /><path clip-path=\"url(#clip740)\" d=\"M1501.3 49.7694 Q1492.27 49.7694 1488.78 51.8354 Q1485.3 53.9013 1485.3 58.8839 Q1485.3 62.8538 1487.89 65.2034 Q1490.53 67.5124 1495.02 67.5124 Q1501.22 67.5124 1504.95 63.1374 Q1508.71 58.7219 1508.71 51.4303 L1508.71 49.7694 L1501.3 49.7694 M1516.17 46.6907 L1516.17 72.576 L1508.71 72.576 L1508.71 65.6895 Q1506.16 69.8214 1502.35 71.8063 Q1498.55 73.7508 1493.04 73.7508 Q1486.07 73.7508 1481.94 69.8619 Q1477.85 65.9325 1477.85 59.3701 Q1477.85 51.7138 1482.95 47.825 Q1488.1 43.9361 1498.26 43.9361 L1508.71 43.9361 L1508.71 43.2069 Q1508.71 38.0623 1505.31 35.2672 Q1501.95 32.4315 1495.83 32.4315 Q1491.94 32.4315 1488.26 33.3632 Q1484.57 34.295 1481.17 36.1584 L1481.17 29.2718 Q1485.26 27.692 1489.11 26.9223 Q1492.96 26.1121 1496.6 26.1121 Q1506.45 26.1121 1511.31 31.2163 Q1516.17 36.3204 1516.17 46.6907 Z\" fill=\"#000000\" fill-rule=\"nonzero\" fill-opacity=\"1\" /><path clip-path=\"url(#clip740)\" d=\"M1557.81 34.1734 Q1556.56 33.4443 1555.06 33.1202 Q1553.6 32.7556 1551.82 32.7556 Q1545.5 32.7556 1542.09 36.8875 Q1538.73 40.9789 1538.73 48.6757 L1538.73 72.576 L1531.24 72.576 L1531.24 27.2059 L1538.73 27.2059 L1538.73 34.2544 Q1541.08 30.1225 1544.85 28.1376 Q1548.62 26.1121 1554 26.1121 Q1554.77 26.1121 1555.7 26.2337 Q1556.64 26.3147 1557.77 26.5172 L1557.81 34.1734 Z\" fill=\"#000000\" fill-rule=\"nonzero\" fill-opacity=\"1\" /><path clip-path=\"url(#clip740)\" d=\"M1565.63 27.2059 L1573.08 27.2059 L1573.08 72.576 L1565.63 72.576 L1565.63 27.2059 M1565.63 9.54393 L1573.08 9.54393 L1573.08 18.9825 L1565.63 18.9825 L1565.63 9.54393 Z\" fill=\"#000000\" fill-rule=\"nonzero\" fill-opacity=\"1\" /><path clip-path=\"url(#clip740)\" d=\"M1617.6 28.5427 L1617.6 35.5912 Q1614.44 33.9709 1611.04 33.1607 Q1607.64 32.3505 1603.99 32.3505 Q1598.44 32.3505 1595.65 34.0519 Q1592.89 35.7533 1592.89 39.156 Q1592.89 41.7486 1594.88 43.2475 Q1596.86 44.7058 1602.86 46.0426 L1605.41 46.6097 Q1613.35 48.3111 1616.67 51.4303 Q1620.03 54.509 1620.03 60.0587 Q1620.03 66.3781 1615.01 70.0644 Q1610.03 73.7508 1601.28 73.7508 Q1597.63 73.7508 1593.66 73.0216 Q1589.73 72.3329 1585.36 70.9151 L1585.36 63.2184 Q1589.49 65.3654 1593.5 66.4591 Q1597.51 67.5124 1601.44 67.5124 Q1606.71 67.5124 1609.54 65.73 Q1612.38 63.9071 1612.38 60.6258 Q1612.38 57.5877 1610.31 55.9673 Q1608.29 54.3469 1601.36 52.8481 L1598.77 52.2405 Q1591.84 50.7821 1588.76 47.7845 Q1585.68 44.7463 1585.68 39.4801 Q1585.68 33.0797 1590.22 29.5959 Q1594.76 26.1121 1603.1 26.1121 Q1607.23 26.1121 1610.88 26.7198 Q1614.52 27.3274 1617.6 28.5427 Z\" fill=\"#000000\" fill-rule=\"nonzero\" fill-opacity=\"1\" /><path clip-path=\"url(#clip740)\" d=\"M1694.85 14.0809 L1694.85 22.0612 Q1690.19 19.8332 1686.06 18.7395 Q1681.93 17.6457 1678.08 17.6457 Q1671.4 17.6457 1667.75 20.2383 Q1664.15 22.8309 1664.15 27.611 Q1664.15 31.6214 1666.54 33.6873 Q1668.97 35.7128 1675.69 36.9686 L1680.63 37.9813 Q1689.79 39.7232 1694.12 44.1387 Q1698.5 48.5136 1698.5 55.8863 Q1698.5 64.6767 1692.58 69.2137 Q1686.71 73.7508 1675.33 73.7508 Q1671.03 73.7508 1666.17 72.7785 Q1661.35 71.8063 1656.17 69.9024 L1656.17 61.4765 Q1661.15 64.2716 1665.93 65.6895 Q1670.71 67.1073 1675.33 67.1073 Q1682.34 67.1073 1686.14 64.3527 Q1689.95 61.598 1689.95 56.4939 Q1689.95 52.0379 1687.2 49.5264 Q1684.48 47.0148 1678.24 45.759 L1673.26 44.7868 Q1664.11 42.9639 1660.02 39.075 Q1655.92 35.1862 1655.92 28.2591 Q1655.92 20.2383 1661.56 15.6203 Q1667.23 11.0023 1677.15 11.0023 Q1681.4 11.0023 1685.82 11.7719 Q1690.24 12.5416 1694.85 14.0809 Z\" fill=\"#000000\" fill-rule=\"nonzero\" fill-opacity=\"1\" /><path clip-path=\"url(#clip740)\" d=\"M1710.94 27.2059 L1718.39 27.2059 L1718.39 72.576 L1710.94 72.576 L1710.94 27.2059 M1710.94 9.54393 L1718.39 9.54393 L1718.39 18.9825 L1710.94 18.9825 L1710.94 9.54393 Z\" fill=\"#000000\" fill-rule=\"nonzero\" fill-opacity=\"1\" /><path clip-path=\"url(#clip740)\" d=\"M1771.7 45.1919 L1771.7 72.576 L1764.25 72.576 L1764.25 45.4349 Q1764.25 38.994 1761.73 35.7938 Q1759.22 32.5936 1754.2 32.5936 Q1748.16 32.5936 1744.68 36.4419 Q1741.2 40.2903 1741.2 46.9338 L1741.2 72.576 L1733.7 72.576 L1733.7 27.2059 L1741.2 27.2059 L1741.2 34.2544 Q1743.87 30.163 1747.47 28.1376 Q1751.12 26.1121 1755.86 26.1121 Q1763.68 26.1121 1767.69 30.9732 Q1771.7 35.7938 1771.7 45.1919 Z\" fill=\"#000000\" fill-rule=\"nonzero\" fill-opacity=\"1\" /><path clip-path=\"url(#clip740)\" d=\"M1816.42 49.3643 Q1816.42 41.2625 1813.06 36.8065 Q1809.74 32.3505 1803.7 32.3505 Q1797.71 32.3505 1794.34 36.8065 Q1791.02 41.2625 1791.02 49.3643 Q1791.02 57.4256 1794.34 61.8816 Q1797.71 66.3376 1803.7 66.3376 Q1809.74 66.3376 1813.06 61.8816 Q1816.42 57.4256 1816.42 49.3643 M1823.87 66.9452 Q1823.87 78.5308 1818.73 84.1616 Q1813.59 89.8329 1802.97 89.8329 Q1799.04 89.8329 1795.56 89.2252 Q1792.08 88.6581 1788.79 87.4428 L1788.79 80.1917 Q1792.08 81.9741 1795.28 82.8248 Q1798.48 83.6755 1801.8 83.6755 Q1809.13 83.6755 1812.78 79.8271 Q1816.42 76.0193 1816.42 68.282 L1816.42 64.5957 Q1814.11 68.6061 1810.51 70.5911 Q1806.9 72.576 1801.88 72.576 Q1793.53 72.576 1788.43 66.2161 Q1783.33 59.8562 1783.33 49.3643 Q1783.33 38.832 1788.43 32.472 Q1793.53 26.1121 1801.88 26.1121 Q1806.9 26.1121 1810.51 28.0971 Q1814.11 30.082 1816.42 34.0924 L1816.42 27.2059 L1823.87 27.2059 L1823.87 66.9452 Z\" fill=\"#000000\" fill-rule=\"nonzero\" fill-opacity=\"1\" /><path clip-path=\"url(#clip740)\" d=\"M1869.08 49.3643 Q1869.08 41.2625 1865.72 36.8065 Q1862.4 32.3505 1856.36 32.3505 Q1850.37 32.3505 1847.01 36.8065 Q1843.68 41.2625 1843.68 49.3643 Q1843.68 57.4256 1847.01 61.8816 Q1850.37 66.3376 1856.36 66.3376 Q1862.4 66.3376 1865.72 61.8816 Q1869.08 57.4256 1869.08 49.3643 M1876.54 66.9452 Q1876.54 78.5308 1871.39 84.1616 Q1866.25 89.8329 1855.63 89.8329 Q1851.7 89.8329 1848.22 89.2252 Q1844.74 88.6581 1841.46 87.4428 L1841.46 80.1917 Q1844.74 81.9741 1847.94 82.8248 Q1851.14 83.6755 1854.46 83.6755 Q1861.79 83.6755 1865.44 79.8271 Q1869.08 76.0193 1869.08 68.282 L1869.08 64.5957 Q1866.77 68.6061 1863.17 70.5911 Q1859.56 72.576 1854.54 72.576 Q1846.2 72.576 1841.09 66.2161 Q1835.99 59.8562 1835.99 49.3643 Q1835.99 38.832 1841.09 32.472 Q1846.2 26.1121 1854.54 26.1121 Q1859.56 26.1121 1863.17 28.0971 Q1866.77 30.082 1869.08 34.0924 L1869.08 27.2059 L1876.54 27.2059 L1876.54 66.9452 Z\" fill=\"#000000\" fill-rule=\"nonzero\" fill-opacity=\"1\" /><path clip-path=\"url(#clip740)\" d=\"M1891.12 54.671 L1891.12 27.2059 L1898.57 27.2059 L1898.57 54.3874 Q1898.57 60.8284 1901.08 64.0691 Q1903.6 67.2693 1908.62 67.2693 Q1914.66 67.2693 1918.14 63.421 Q1921.66 59.5726 1921.66 52.9291 L1921.66 27.2059 L1929.12 27.2059 L1929.12 72.576 L1921.66 72.576 L1921.66 65.6084 Q1918.95 69.7404 1915.34 71.7658 Q1911.78 73.7508 1907.04 73.7508 Q1899.22 73.7508 1895.17 68.8897 Q1891.12 64.0286 1891.12 54.671 M1909.88 26.1121 L1909.88 26.1121 Z\" fill=\"#000000\" fill-rule=\"nonzero\" fill-opacity=\"1\" /><path clip-path=\"url(#clip740)\" d=\"M1982.18 45.1919 L1982.18 72.576 L1974.73 72.576 L1974.73 45.4349 Q1974.73 38.994 1972.22 35.7938 Q1969.71 32.5936 1964.68 32.5936 Q1958.65 32.5936 1955.16 36.4419 Q1951.68 40.2903 1951.68 46.9338 L1951.68 72.576 L1944.19 72.576 L1944.19 27.2059 L1951.68 27.2059 L1951.68 34.2544 Q1954.35 30.163 1957.96 28.1376 Q1961.61 26.1121 1966.35 26.1121 Q1974.16 26.1121 1978.17 30.9732 Q1982.18 35.7938 1982.18 45.1919 Z\" fill=\"#000000\" fill-rule=\"nonzero\" fill-opacity=\"1\" /><path clip-path=\"url(#clip740)\" d=\"M2026.91 49.3643 Q2026.91 41.2625 2023.54 36.8065 Q2020.22 32.3505 2014.19 32.3505 Q2008.19 32.3505 2004.83 36.8065 Q2001.51 41.2625 2001.51 49.3643 Q2001.51 57.4256 2004.83 61.8816 Q2008.19 66.3376 2014.19 66.3376 Q2020.22 66.3376 2023.54 61.8816 Q2026.91 57.4256 2026.91 49.3643 M2034.36 66.9452 Q2034.36 78.5308 2029.22 84.1616 Q2024.07 89.8329 2013.46 89.8329 Q2009.53 89.8329 2006.04 89.2252 Q2002.56 88.6581 1999.28 87.4428 L1999.28 80.1917 Q2002.56 81.9741 2005.76 82.8248 Q2008.96 83.6755 2012.28 83.6755 Q2019.61 83.6755 2023.26 79.8271 Q2026.91 76.0193 2026.91 68.282 L2026.91 64.5957 Q2024.6 68.6061 2020.99 70.5911 Q2017.39 72.576 2012.36 72.576 Q2004.02 72.576 1998.91 66.2161 Q1993.81 59.8562 1993.81 49.3643 Q1993.81 38.832 1998.91 32.472 Q2004.02 26.1121 2012.36 26.1121 Q2017.39 26.1121 2020.99 28.0971 Q2024.6 30.082 2026.91 34.0924 L2026.91 27.2059 L2034.36 27.2059 L2034.36 66.9452 Z\" fill=\"#000000\" fill-rule=\"nonzero\" fill-opacity=\"1\" /><path clip-path=\"url(#clip740)\" d=\"M2076.41 12.096 L2084.59 12.096 L2084.59 65.6895 L2114.04 65.6895 L2114.04 72.576 L2076.41 72.576 L2076.41 12.096 Z\" fill=\"#000000\" fill-rule=\"nonzero\" fill-opacity=\"1\" /><path clip-path=\"url(#clip740)\" d=\"M2140.21 9.62495 Q2134.78 18.942 2132.15 28.0566 Q2129.52 37.1711 2129.52 46.5287 Q2129.52 55.8863 2132.15 65.0818 Q2134.82 74.2369 2140.21 83.5134 L2133.73 83.5134 Q2127.65 73.9938 2124.61 64.7983 Q2121.62 55.6027 2121.62 46.5287 Q2121.62 37.4952 2124.61 28.3401 Q2127.61 19.1851 2133.73 9.62495 L2140.21 9.62495 Z\" fill=\"#000000\" fill-rule=\"nonzero\" fill-opacity=\"1\" /><path clip-path=\"url(#clip740)\" d=\"M2192.39 27.2059 L2175.98 49.2833 L2193.24 72.576 L2184.45 72.576 L2171.24 54.752 L2158.03 72.576 L2149.24 72.576 L2166.86 48.8377 L2150.74 27.2059 L2159.53 27.2059 L2171.56 43.369 L2183.6 27.2059 L2192.39 27.2059 Z\" fill=\"#000000\" fill-rule=\"nonzero\" fill-opacity=\"1\" /><path clip-path=\"url(#clip740)\" d=\"M2202.59 9.62495 L2209.08 9.62495 Q2215.15 19.1851 2218.15 28.3401 Q2221.19 37.4952 2221.19 46.5287 Q2221.19 55.6027 2218.15 64.7983 Q2215.15 73.9938 2209.08 83.5134 L2202.59 83.5134 Q2207.98 74.2369 2210.61 65.0818 Q2213.29 55.8863 2213.29 46.5287 Q2213.29 37.1711 2210.61 28.0566 Q2207.98 18.942 2202.59 9.62495 Z\" fill=\"#000000\" fill-rule=\"nonzero\" fill-opacity=\"1\" /><polyline clip-path=\"url(#clip742)\" style=\"stroke:#000000; stroke-linecap:round; stroke-linejoin:round; stroke-width:8; stroke-opacity:1; fill:none\" points=\"264.778,1344.11 269.846,1342.86 274.914,1341.63 279.982,1340.42 285.05,1339.24 290.118,1338.08 295.186,1336.95 300.254,1335.84 305.322,1334.76 310.39,1333.7 315.458,1332.66 320.525,1331.64 325.593,1330.65 330.661,1329.68 335.729,1328.73 340.797,1327.8 345.865,1326.89 350.933,1326.01 356.001,1325.15 361.069,1324.3 366.137,1323.48 371.204,1322.68 376.272,1321.9 381.34,1321.14 386.408,1320.39 391.476,1319.67 396.544,1318.97 401.612,1318.28 406.68,1317.62 411.748,1316.97 416.816,1316.34 421.884,1315.72 426.951,1315.13 432.019,1314.55 437.087,1313.99 442.155,1313.45 447.223,1312.92 452.291,1312.41 457.359,1311.91 462.427,1311.43 467.495,1310.97 472.563,1310.52 477.631,1310.08 482.698,1309.66 487.766,1309.26 492.834,1308.87 497.902,1308.49 502.97,1308.13 508.038,1307.78 513.106,1307.44 518.174,1307.12 523.242,1306.81 528.31,1306.51 533.377,1306.22 538.445,1305.95 543.513,1305.69 548.581,1305.44 553.649,1305.2 558.717,1304.97 563.785,1304.75 568.853,1304.54 573.921,1304.34 578.989,1304.15 584.057,1303.98 589.124,1303.81 594.192,1303.65 599.26,1303.5 604.328,1303.35 609.396,1303.22 614.464,1303.09 619.532,1302.98 624.6,1302.87 629.668,1302.76 634.736,1302.67 639.804,1302.58 644.871,1302.49 649.939,1302.42 655.007,1302.35 660.075,1302.28 665.143,1302.23 670.211,1302.17 675.279,1302.12 680.347,1302.08 685.415,1302.04 690.483,1302.01 695.55,1301.98 700.618,1301.95 705.686,1301.93 710.754,1301.91 715.822,1301.89 720.89,1301.88 725.958,1301.87 731.026,1301.86 736.094,1301.85 741.162,1301.84 746.23,1301.84 751.297,1301.84 756.365,1301.84 761.433,1301.83 766.501,1301.83 771.569,1301.83 776.637,1301.83 781.705,1301.83 786.773,1301.83 791.841,1301.83 796.909,1301.83 801.977,1301.83 807.044,1301.82 812.112,1301.81 817.18,1301.8 822.248,1301.79 827.316,1301.78 832.384,1301.76 837.452,1301.74 842.52,1301.72 847.588,1301.69 852.656,1301.66 857.724,1301.63 862.791,1301.59 867.859,1301.54 872.927,1301.5 877.995,1301.44 883.063,1301.38 888.131,1301.32 893.199,1301.25 898.267,1301.17 903.335,1301.09 908.403,1301 913.47,1300.91 918.538,1300.8 923.606,1300.69 928.674,1300.57 933.742,1300.45 938.81,1300.31 943.878,1300.17 948.946,1300.02 954.014,1299.86 959.082,1299.69 964.15,1299.51 969.217,1299.33 974.285,1299.13 979.353,1298.92 984.421,1298.7 989.489,1298.47 994.557,1298.23 999.625,1297.98 1004.69,1297.72 1009.76,1297.44 1014.83,1297.16 1019.9,1296.86 1024.96,1296.55 1030.03,1296.23 1035.1,1295.89 1040.17,1295.54 1045.24,1295.18 1050.3,1294.8 1055.37,1294.41 1060.44,1294 1065.51,1293.58 1070.58,1293.15 1075.64,1292.7 1080.71,1292.24 1085.78,1291.76 1090.85,1291.26 1095.92,1290.75 1100.98,1290.22 1106.05,1289.68 1111.12,1289.12 1116.19,1288.54 1121.25,1287.94 1126.32,1287.33 1131.39,1286.7 1136.46,1286.05 1141.53,1285.39 1146.59,1284.7 1151.66,1284 1156.73,1283.27 1161.8,1282.53 1166.87,1281.77 1171.93,1280.99 1177,1280.19 1182.07,1279.36 1187.14,1278.52 1192.21,1277.66 1197.27,1276.77 1202.34,1275.87 1207.41,1274.94 1212.48,1273.99 1217.54,1273.02 1222.61,1272.03 1227.68,1271.01 1232.75,1269.97 1237.82,1268.91 1242.88,1267.83 1247.95,1266.72 1253.02,1265.58 1258.09,1264.43 1263.16,1263.25 1268.22,1262.04 1273.29,1260.81 1278.36,1259.55 1283.43,1258.27 1288.5,1256.97 1293.56,1255.63 1298.63,1254.27 1303.7,1252.89 1308.77,1251.48 1313.84,1250.04 1318.9,1248.57 1323.97,1247.08 1329.04,1245.56 1334.11,1244.01 1339.17,1242.43 1344.24,1240.83 1349.31,1239.19 1354.38,1237.53 1359.45,1235.84 1364.51,1234.12 1369.58,1232.37 1374.65,1230.58 1379.72,1228.77 1384.79,1226.93 1389.85,1225.06 1394.92,1223.16 1399.99,1221.22 1405.06,1219.25 1410.13,1217.26 1415.19,1215.23 1420.26,1213.17 1425.33,1211.07 1430.4,1208.94 1435.46,1206.78 1440.53,1204.59 1445.6,1202.36 1450.67,1200.1 1455.74,1197.81 1460.8,1195.48 1465.87,1193.12 1470.94,1190.72 1476.01,1188.28 1481.08,1185.82 1486.14,1183.31 1491.21,1180.77 1496.28,1178.2 1501.35,1175.58 1506.42,1172.94 1511.48,1170.25 1516.55,1167.53 1521.62,1164.77 1526.69,1161.97 1531.76,1159.14 1536.82,1156.26 1541.89,1153.35 1546.96,1150.4 1552.03,1147.41 1557.09,1144.39 1562.16,1141.32 1567.23,1138.21 1572.3,1135.07 1577.37,1131.88 1582.43,1128.65 1587.5,1125.39 1592.57,1122.08 1597.64,1118.73 1602.71,1115.34 1607.77,1111.9 1612.84,1108.43 1617.91,1104.91 1622.98,1101.35 1628.05,1097.75 1633.11,1094.11 1638.18,1090.42 1643.25,1086.69 1648.32,1082.92 1653.38,1079.1 1658.45,1075.24 1663.52,1071.33 1668.59,1067.38 1673.66,1063.38 1678.72,1059.34 1683.79,1055.25 1688.86,1051.12 1693.93,1046.94 1699,1042.72 1704.06,1038.45 1709.13,1034.13 1714.2,1029.76 1719.27,1025.35 1724.34,1020.89 1729.4,1016.39 1734.47,1011.83 1739.54,1007.23 1744.61,1002.58 1749.68,997.876 1754.74,993.127 1759.81,988.328 1764.88,983.481 1769.95,978.583 1775.01,973.635 1780.08,968.637 1785.15,963.589 1790.22,958.49 1795.29,953.34 1800.35,948.138 1805.42,942.886 1810.49,937.581 1815.56,932.225 1820.63,926.816 1825.69,921.354 1830.76,915.84 1835.83,910.273 1840.9,904.653 1845.97,898.979 1851.03,893.251 1856.1,887.469 1861.17,881.633 1866.24,875.743 1871.3,869.797 1876.37,863.797 1881.44,857.741 1886.51,851.63 1891.58,845.463 1896.64,839.24 1901.71,832.96 1906.78,826.624 1911.85,820.231 1916.92,813.781 1921.98,807.274 1927.05,800.709 1932.12,794.086 1937.19,787.405 1942.26,780.666 1947.32,773.869 1952.39,767.012 1957.46,760.096 1962.53,753.121 1967.6,746.086 1972.66,738.992 1977.73,731.837 1982.8,724.622 1987.87,717.346 1992.93,710.01 1998,702.612 2003.07,695.153 2008.14,687.632 2013.21,680.05 2018.27,672.405 2023.34,664.698 2028.41,656.928 2033.48,649.095 2038.55,641.199 2043.61,633.24 2048.68,625.216 2053.75,617.129 2058.82,608.978 2063.89,600.763 2068.95,592.482 2074.02,584.137 2079.09,575.727 2084.16,567.251 2089.22,558.709 2094.29,550.102 2099.36,541.428 2104.43,532.688 2109.5,523.881 2114.56,515.007 2119.63,506.066 2124.7,497.057 2129.77,487.981 2134.84,478.837 2139.9,469.624 2144.97,460.343 2150.04,450.993 2155.11,441.574 2160.18,432.086 2165.24,422.529 2170.31,412.901 2175.38,403.204 2180.45,393.436 2185.51,383.598 2190.58,373.689 2195.65,363.709 2200.72,353.658 2205.79,343.535 2210.85,333.341 2215.92,323.074 2220.99,312.735 2226.06,302.323 2231.13,291.839 2236.19,281.282 2241.26,270.651 2246.33,259.947 2251.4,249.169 2256.47,238.317 2261.53,227.39 2266.6,216.389 2271.67,205.313 2276.74,194.162 2281.81,182.936 2286.87,171.634 2291.94,160.256 \"/>\n",
       "<polyline clip-path=\"url(#clip742)\" style=\"stroke:#0000ff; stroke-linecap:round; stroke-linejoin:round; stroke-width:4; stroke-opacity:1; fill:none\" stroke-dasharray=\"16, 10\" points=\"771.569,1386.4 776.637,1385.13 781.705,1383.86 786.773,1382.59 791.841,1381.32 796.909,1380.05 801.977,1378.79 807.044,1377.52 812.112,1376.25 817.18,1374.98 822.248,1373.71 827.316,1372.44 832.384,1371.17 837.452,1369.91 842.52,1368.64 847.588,1367.37 852.656,1366.1 857.724,1364.83 862.791,1363.56 867.859,1362.3 872.927,1361.03 877.995,1359.76 883.063,1358.49 888.131,1357.22 893.199,1355.95 898.267,1354.69 903.335,1353.42 908.403,1352.15 913.47,1350.88 918.538,1349.61 923.606,1348.34 928.674,1347.07 933.742,1345.81 938.81,1344.54 943.878,1343.27 948.946,1342 954.014,1340.73 959.082,1339.46 964.15,1338.2 969.217,1336.93 974.285,1335.66 979.353,1334.39 984.421,1333.12 989.489,1331.85 994.557,1330.59 999.625,1329.32 1004.69,1328.05 1009.76,1326.78 1014.83,1325.51 1019.9,1324.24 1024.96,1322.97 1030.03,1321.71 1035.1,1320.44 1040.17,1319.17 1045.24,1317.9 1050.3,1316.63 1055.37,1315.36 1060.44,1314.1 1065.51,1312.83 1070.58,1311.56 1075.64,1310.29 1080.71,1309.02 1085.78,1307.75 1090.85,1306.49 1095.92,1305.22 1100.98,1303.95 1106.05,1302.68 1111.12,1301.41 1116.19,1300.14 1121.25,1298.87 1126.32,1297.61 1131.39,1296.34 1136.46,1295.07 1141.53,1293.8 1146.59,1292.53 1151.66,1291.26 1156.73,1290 1161.8,1288.73 1166.87,1287.46 1171.93,1286.19 1177,1284.92 1182.07,1283.65 1187.14,1282.39 1192.21,1281.12 1197.27,1279.85 1202.34,1278.58 1207.41,1277.31 1212.48,1276.04 1217.54,1274.77 1222.61,1273.51 1227.68,1272.24 1232.75,1270.97 1237.82,1269.7 1242.88,1268.43 1247.95,1267.16 1253.02,1265.9 1258.09,1264.63 1263.16,1263.36 1268.22,1262.09 1273.29,1260.82 1278.36,1259.55 1283.43,1258.29 1288.5,1257.02 1293.56,1255.75 1298.63,1254.48 1303.7,1253.21 1308.77,1251.94 1313.84,1250.67 1318.9,1249.41 1323.97,1248.14 1329.04,1246.87 1334.11,1245.6 1339.17,1244.33 1344.24,1243.06 1349.31,1241.8 1354.38,1240.53 1359.45,1239.26 1364.51,1237.99 1369.58,1236.72 1374.65,1235.45 1379.72,1234.19 1384.79,1232.92 1389.85,1231.65 1394.92,1230.38 1399.99,1229.11 1405.06,1227.84 1410.13,1226.57 1415.19,1225.31 1420.26,1224.04 1425.33,1222.77 1430.4,1221.5 1435.46,1220.23 1440.53,1218.96 1445.6,1217.7 1450.67,1216.43 1455.74,1215.16 1460.8,1213.89 1465.87,1212.62 1470.94,1211.35 1476.01,1210.09 1481.08,1208.82 1486.14,1207.55 1491.21,1206.28 1496.28,1205.01 1501.35,1203.74 1506.42,1202.47 1511.48,1201.21 1516.55,1199.94 1521.62,1198.67 1526.69,1197.4 1531.76,1196.13 1536.82,1194.86 1541.89,1193.6 1546.96,1192.33 1552.03,1191.06 1557.09,1189.79 1562.16,1188.52 1567.23,1187.25 1572.3,1185.99 1577.37,1184.72 1582.43,1183.45 1587.5,1182.18 1592.57,1180.91 1597.64,1179.64 1602.71,1178.37 1607.77,1177.11 1612.84,1175.84 1617.91,1174.57 1622.98,1173.3 1628.05,1172.03 1633.11,1170.76 1638.18,1169.5 1643.25,1168.23 1648.32,1166.96 1653.38,1165.69 1658.45,1164.42 1663.52,1163.15 1668.59,1161.89 1673.66,1160.62 1678.72,1159.35 1683.79,1158.08 1688.86,1156.81 1693.93,1155.54 1699,1154.27 1704.06,1153.01 1709.13,1151.74 1714.2,1150.47 1719.27,1149.2 1724.34,1147.93 1729.4,1146.66 1734.47,1145.4 1739.54,1144.13 1744.61,1142.86 1749.68,1141.59 1754.74,1140.32 1759.81,1139.05 1764.88,1137.79 1769.95,1136.52 1775.01,1135.25 1780.08,1133.98 1785.15,1132.71 \"/>\n",
       "<path clip-path=\"url(#clip740)\" d=\"M275.59 322.316 L811.579 322.316 L811.579 166.796 L275.59 166.796  Z\" fill=\"#ffffff\" fill-rule=\"evenodd\" fill-opacity=\"1\"/>\n",
       "<polyline clip-path=\"url(#clip740)\" style=\"stroke:#000000; stroke-linecap:round; stroke-linejoin:round; stroke-width:4; stroke-opacity:1; fill:none\" points=\"275.59,322.316 811.579,322.316 811.579,166.796 275.59,166.796 275.59,322.316 \"/>\n",
       "<polyline clip-path=\"url(#clip740)\" style=\"stroke:#000000; stroke-linecap:round; stroke-linejoin:round; stroke-width:8; stroke-opacity:1; fill:none\" points=\"299.465,218.636 442.718,218.636 \"/>\n",
       "<path clip-path=\"url(#clip740)\" d=\"M483.098 199.897 L483.098 203.439 L479.024 203.439 Q476.733 203.439 475.83 204.365 Q474.95 205.291 474.95 207.698 L474.95 209.99 L481.964 209.99 L481.964 213.3 L474.95 213.3 L474.95 235.916 L470.668 235.916 L470.668 213.3 L466.594 213.3 L466.594 209.99 L470.668 209.99 L470.668 208.184 Q470.668 203.856 472.682 201.888 Q474.696 199.897 479.071 199.897 L483.098 199.897 Z\" fill=\"#000000\" fill-rule=\"nonzero\" fill-opacity=\"1\" /><path clip-path=\"url(#clip740)\" d=\"M496.895 199.944 Q493.793 205.268 492.288 210.476 Q490.783 215.684 490.783 221.032 Q490.783 226.379 492.288 231.633 Q493.816 236.865 496.895 242.166 L493.191 242.166 Q489.719 236.726 487.983 231.471 Q486.27 226.217 486.27 221.032 Q486.27 215.87 487.983 210.638 Q489.695 205.407 493.191 199.944 L496.895 199.944 Z\" fill=\"#000000\" fill-rule=\"nonzero\" fill-opacity=\"1\" /><path clip-path=\"url(#clip740)\" d=\"M526.709 209.99 L517.334 222.606 L527.195 235.916 L522.172 235.916 L514.626 225.731 L507.08 235.916 L502.057 235.916 L512.126 222.351 L502.913 209.99 L507.936 209.99 L514.811 219.226 L521.686 209.99 L526.709 209.99 Z\" fill=\"#000000\" fill-rule=\"nonzero\" fill-opacity=\"1\" /><path clip-path=\"url(#clip740)\" d=\"M532.542 199.944 L536.246 199.944 Q539.718 205.407 541.431 210.638 Q543.167 215.87 543.167 221.032 Q543.167 226.217 541.431 231.471 Q539.718 236.726 536.246 242.166 L532.542 242.166 Q535.621 236.865 537.126 231.633 Q538.654 226.379 538.654 221.032 Q538.654 215.684 537.126 210.476 Q535.621 205.268 532.542 199.944 Z\" fill=\"#000000\" fill-rule=\"nonzero\" fill-opacity=\"1\" /><path clip-path=\"url(#clip740)\" d=\"M567.334 214.388 L597.01 214.388 L597.01 218.277 L567.334 218.277 L567.334 214.388 M567.334 223.832 L597.01 223.832 L597.01 227.768 L567.334 227.768 L567.334 223.832 Z\" fill=\"#000000\" fill-rule=\"nonzero\" fill-opacity=\"1\" /><path clip-path=\"url(#clip740)\" d=\"M643.121 209.99 L633.746 222.606 L643.607 235.916 L638.584 235.916 L631.037 225.731 L623.491 235.916 L618.468 235.916 L628.537 222.351 L619.324 209.99 L624.348 209.99 L631.222 219.226 L638.097 209.99 L643.121 209.99 Z\" fill=\"#000000\" fill-rule=\"nonzero\" fill-opacity=\"1\" /><path clip-path=\"url(#clip740)\" d=\"M667.287 201.356 L679.856 214.249 L675.204 214.249 L665.019 205.106 L654.833 214.249 L650.181 214.249 L662.75 201.356 L667.287 201.356 Z\" fill=\"#000000\" fill-rule=\"nonzero\" fill-opacity=\"1\" /><path clip-path=\"url(#clip740)\" d=\"M704.116 217.282 Q707.472 217.999 709.347 220.268 Q711.245 222.536 711.245 225.869 Q711.245 230.985 707.727 233.786 Q704.208 236.587 697.727 236.587 Q695.551 236.587 693.236 236.147 Q690.944 235.731 688.491 234.874 L688.491 230.36 Q690.435 231.494 692.75 232.073 Q695.065 232.652 697.588 232.652 Q701.986 232.652 704.278 230.916 Q706.592 229.18 706.592 225.869 Q706.592 222.814 704.44 221.101 Q702.31 219.365 698.491 219.365 L694.463 219.365 L694.463 215.522 L698.676 215.522 Q702.125 215.522 703.954 214.157 Q705.782 212.768 705.782 210.175 Q705.782 207.513 703.884 206.101 Q702.009 204.666 698.491 204.666 Q696.569 204.666 694.37 205.083 Q692.171 205.499 689.532 206.379 L689.532 202.212 Q692.194 201.471 694.509 201.101 Q696.847 200.731 698.907 200.731 Q704.231 200.731 707.333 203.161 Q710.435 205.569 710.435 209.689 Q710.435 212.559 708.792 214.55 Q707.148 216.518 704.116 217.282 Z\" fill=\"#000000\" fill-rule=\"nonzero\" fill-opacity=\"1\" /><path clip-path=\"url(#clip740)\" d=\"M732.426 221.032 L744.902 221.032 L744.902 224.828 L732.426 224.828 L732.426 221.032 Z\" fill=\"#000000\" fill-rule=\"nonzero\" fill-opacity=\"1\" /><path clip-path=\"url(#clip740)\" d=\"M771.384 231.981 L787.703 231.981 L787.703 235.916 L765.759 235.916 L765.759 231.981 Q768.421 229.226 773.004 224.596 Q777.611 219.944 778.791 218.601 Q781.037 216.078 781.916 214.342 Q782.819 212.583 782.819 210.893 Q782.819 208.138 780.874 206.402 Q778.953 204.666 775.851 204.666 Q773.652 204.666 771.199 205.43 Q768.768 206.194 765.99 207.745 L765.99 203.022 Q768.814 201.888 771.268 201.309 Q773.722 200.731 775.759 200.731 Q781.129 200.731 784.324 203.416 Q787.518 206.101 787.518 210.592 Q787.518 212.721 786.708 214.643 Q785.921 216.541 783.814 219.133 Q783.236 219.805 780.134 223.022 Q777.032 226.217 771.384 231.981 Z\" fill=\"#000000\" fill-rule=\"nonzero\" fill-opacity=\"1\" /><polyline clip-path=\"url(#clip740)\" style=\"stroke:#0000ff; stroke-linecap:round; stroke-linejoin:round; stroke-width:4; stroke-opacity:1; fill:none\" stroke-dasharray=\"16, 10\" points=\"299.465,270.476 442.718,270.476 \"/>\n",
       "<path clip-path=\"url(#clip740)\" d=\"M466.594 253.196 L471.27 253.196 L471.27 283.821 L488.098 283.821 L488.098 287.756 L466.594 287.756 L466.594 253.196 Z\" fill=\"#000000\" fill-rule=\"nonzero\" fill-opacity=\"1\" /><path clip-path=\"url(#clip740)\" d=\"M503.052 251.784 Q499.95 257.108 498.445 262.316 Q496.941 267.524 496.941 272.872 Q496.941 278.219 498.445 283.473 Q499.973 288.705 503.052 294.006 L499.348 294.006 Q495.876 288.566 494.14 283.311 Q492.427 278.057 492.427 272.872 Q492.427 267.71 494.14 262.478 Q495.853 257.247 499.348 251.784 L503.052 251.784 Z\" fill=\"#000000\" fill-rule=\"nonzero\" fill-opacity=\"1\" /><path clip-path=\"url(#clip740)\" d=\"M532.867 261.83 L523.492 274.446 L533.353 287.756 L528.33 287.756 L520.783 277.571 L513.237 287.756 L508.214 287.756 L518.283 274.191 L509.07 261.83 L514.093 261.83 L520.968 271.066 L527.843 261.83 L532.867 261.83 Z\" fill=\"#000000\" fill-rule=\"nonzero\" fill-opacity=\"1\" /><path clip-path=\"url(#clip740)\" d=\"M538.7 251.784 L542.404 251.784 Q545.876 257.247 547.589 262.478 Q549.325 267.71 549.325 272.872 Q549.325 278.057 547.589 283.311 Q545.876 288.566 542.404 294.006 L538.7 294.006 Q541.779 288.705 543.283 283.473 Q544.811 278.219 544.811 272.872 Q544.811 267.524 543.283 262.316 Q541.779 257.108 538.7 251.784 Z\" fill=\"#000000\" fill-rule=\"nonzero\" fill-opacity=\"1\" /><path clip-path=\"url(#clip740)\" d=\"M573.491 266.228 L603.167 266.228 L603.167 270.117 L573.491 270.117 L573.491 266.228 M573.491 275.672 L603.167 275.672 L603.167 279.608 L573.491 279.608 L573.491 275.672 Z\" fill=\"#000000\" fill-rule=\"nonzero\" fill-opacity=\"1\" /><path clip-path=\"url(#clip740)\" d=\"M642.496 269.122 Q645.852 269.839 647.727 272.108 Q649.625 274.376 649.625 277.709 Q649.625 282.825 646.107 285.626 Q642.588 288.427 636.107 288.427 Q633.931 288.427 631.616 287.987 Q629.324 287.571 626.871 286.714 L626.871 282.2 Q628.815 283.334 631.13 283.913 Q633.445 284.492 635.968 284.492 Q640.366 284.492 642.658 282.756 Q644.972 281.02 644.972 277.709 Q644.972 274.654 642.82 272.941 Q640.69 271.205 636.871 271.205 L632.843 271.205 L632.843 267.362 L637.056 267.362 Q640.505 267.362 642.334 265.997 Q644.162 264.608 644.162 262.015 Q644.162 259.353 642.264 257.941 Q640.389 256.506 636.871 256.506 Q634.949 256.506 632.75 256.923 Q630.551 257.339 627.912 258.219 L627.912 254.052 Q630.574 253.311 632.889 252.941 Q635.227 252.571 637.287 252.571 Q642.611 252.571 645.713 255.001 Q648.815 257.409 648.815 261.529 Q648.815 264.399 647.171 266.39 Q645.528 268.358 642.496 269.122 Z\" fill=\"#000000\" fill-rule=\"nonzero\" fill-opacity=\"1\" /><path clip-path=\"url(#clip740)\" d=\"M679.44 261.83 L670.065 274.446 L679.926 287.756 L674.903 287.756 L667.357 277.571 L659.81 287.756 L654.787 287.756 L664.857 274.191 L655.644 261.83 L660.667 261.83 L667.542 271.066 L674.417 261.83 L679.44 261.83 Z\" fill=\"#000000\" fill-rule=\"nonzero\" fill-opacity=\"1\" /><path clip-path=\"url(#clip740)\" d=\"M698.861 272.872 L711.338 272.872 L711.338 276.668 L698.861 276.668 L698.861 272.872 Z\" fill=\"#000000\" fill-rule=\"nonzero\" fill-opacity=\"1\" /><path clip-path=\"url(#clip740)\" d=\"M746.639 257.27 L734.833 275.719 L746.639 275.719 L746.639 257.27 M745.412 253.196 L751.291 253.196 L751.291 275.719 L756.222 275.719 L756.222 279.608 L751.291 279.608 L751.291 287.756 L746.639 287.756 L746.639 279.608 L731.037 279.608 L731.037 275.094 L745.412 253.196 Z\" fill=\"#000000\" fill-rule=\"nonzero\" fill-opacity=\"1\" /></svg>\n"
      ]
     },
     "execution_count": 36,
     "metadata": {},
     "output_type": "execute_result"
    }
   ],
   "source": [
    "using Plots\n",
    "\n",
    "f(x) = x^3 - 2\n",
    "L(x) = 3x - 4\n",
    "\n",
    "selang_f(x) = -1:0.01:3\n",
    "selang_L(x) = 0:0.01:2\n",
    "\n",
    "# Grafik f(x) pada selang [-1,3]\n",
    "plot(selang_f(x), f.(selang_f(x)), label=\"f(x) = x^3 - 2\", color=:black, linewidth=2)\n",
    "# Grafik L(x) pada selang [0,2]\n",
    "plot!(selang_L(x), L.(selang_L(x)), label=\"L(x) = 3x - 4\", color=:blue, linestyle=:dash)\n",
    "\n",
    "title!(\"Grafik Fungsi f(x) dengan Garis Singgung L(x)\")\n",
    "xlabel!(\"x\")\n",
    "ylabel!(\"y\")"
   ]
  },
  {
   "cell_type": "markdown",
   "id": "5f84ee04-2af0-490d-8bbb-daa365200331",
   "metadata": {},
   "source": [
    "<hr style=\"border:2px solid black\"> </hr>"
   ]
  },
  {
   "cell_type": "markdown",
   "id": "a0cbdecc-a325-40e6-b5e7-add0dddcf72f",
   "metadata": {},
   "source": [
    "#### __Soal 9__\n",
    "Diberikan fungsi polinom berikut.\n",
    "$$y = f(x) = x^7 - 7x^6 + 21x^5 - 35x^4 + 35x^3 -21x^2 + 7x -1$$\n",
    "Perhatikan: gunakan _broadcast_ dalam mendefinisikan fungsi polinom tersebut di Julia, yaitu gunakan .^ bukan ^ untuk operasi pangkat (kenapa?)\n",
    "\n",
    "(a) Plot grafik fungsi $f(x)$ menggunakan fungsi ```plot``` pada paket __Plots__ di Juia untuk beberapa kemungkinan selang nilai $x : 0.9 ≤ x ≤ 1, 0.985 ≤ x ≤ 1,$ dan $0.99 ≤ x ≤ 1$. Grafik seperti apa yang dihasilkan? Jelaskan!\n",
    "\n",
    "(b) Plot grafik fungsi $f(x)$ menggunakan fungsi ```plot``` pada paket __PyPlot__ di Juia untuk beberapa kemungkinan selang nilai $x : 0.9 ≤ x ≤ 1, 0.985 ≤ x ≤ 1,$ dan $0.99 ≤ x ≤ 1$ dengan lebar sub-interval $10^{-4}$ untuk membagi ketiga selang tersebut. Grafik seperti apa yang dihasilkan? Jelaskan!"
   ]
  },
  {
   "cell_type": "markdown",
   "id": "1958e09a-2db1-4df2-887a-63e2ae417fd1",
   "metadata": {},
   "source": [
    "__Broadcast (tanda .)__ digunakan dalam mendefinisikan fungsi polinom tersebut di Julia karena kita ingin melakukan operasi pangkat pada setiap elemen array atau vektor. Dengan menggunakan ```.^```, kita memastikan bahwa operasi tersebut ```diaplikasikan pada setiap elemen vektor secara terpisah```. Atau dengan kata lain, agar operasi tersebut ```berlaku elemen demi elemen pada vektor```."
   ]
  },
  {
   "cell_type": "code",
   "execution_count": null,
   "id": "c5ffaf60-7f54-49d9-8cdb-41b76ed4d050",
   "metadata": {},
   "outputs": [],
   "source": [
    "using Pkg\n",
    "Pkg.add(\"Plots\")"
   ]
  },
  {
   "cell_type": "code",
   "execution_count": 37,
   "id": "29b1f75c-74d0-4f2e-b432-a303929624eb",
   "metadata": {},
   "outputs": [
    {
     "data": {
      "image/svg+xml": [
       "<?xml version=\"1.0\" encoding=\"utf-8\"?>\n",
       "<svg xmlns=\"http://www.w3.org/2000/svg\" xmlns:xlink=\"http://www.w3.org/1999/xlink\" width=\"600\" height=\"400\" viewBox=\"0 0 2400 1600\">\n",
       "<defs>\n",
       "  <clipPath id=\"clip780\">\n",
       "    <rect x=\"0\" y=\"0\" width=\"2400\" height=\"1600\"/>\n",
       "  </clipPath>\n",
       "</defs>\n",
       "<path clip-path=\"url(#clip780)\" d=\"M0 1600 L2400 1600 L2400 0 L0 0  Z\" fill=\"#ffffff\" fill-rule=\"evenodd\" fill-opacity=\"1\"/>\n",
       "<defs>\n",
       "  <clipPath id=\"clip781\">\n",
       "    <rect x=\"480\" y=\"0\" width=\"1681\" height=\"1600\"/>\n",
       "  </clipPath>\n",
       "</defs>\n",
       "<path clip-path=\"url(#clip780)\" d=\"M437.478 1423.18 L2352.76 1423.18 L2352.76 123.472 L437.478 123.472  Z\" fill=\"#ffffff\" fill-rule=\"evenodd\" fill-opacity=\"1\"/>\n",
       "<defs>\n",
       "  <clipPath id=\"clip782\">\n",
       "    <rect x=\"437\" y=\"123\" width=\"1916\" height=\"1301\"/>\n",
       "  </clipPath>\n",
       "</defs>\n",
       "<polyline clip-path=\"url(#clip782)\" style=\"stroke:#000000; stroke-linecap:round; stroke-linejoin:round; stroke-width:2; stroke-opacity:0.1; fill:none\" points=\"491.684,1423.18 491.684,123.472 \"/>\n",
       "<polyline clip-path=\"url(#clip782)\" style=\"stroke:#000000; stroke-linecap:round; stroke-linejoin:round; stroke-width:2; stroke-opacity:0.1; fill:none\" points=\"943.4,1423.18 943.4,123.472 \"/>\n",
       "<polyline clip-path=\"url(#clip782)\" style=\"stroke:#000000; stroke-linecap:round; stroke-linejoin:round; stroke-width:2; stroke-opacity:0.1; fill:none\" points=\"1395.12,1423.18 1395.12,123.472 \"/>\n",
       "<polyline clip-path=\"url(#clip782)\" style=\"stroke:#000000; stroke-linecap:round; stroke-linejoin:round; stroke-width:2; stroke-opacity:0.1; fill:none\" points=\"1846.83,1423.18 1846.83,123.472 \"/>\n",
       "<polyline clip-path=\"url(#clip782)\" style=\"stroke:#000000; stroke-linecap:round; stroke-linejoin:round; stroke-width:2; stroke-opacity:0.1; fill:none\" points=\"2298.55,1423.18 2298.55,123.472 \"/>\n",
       "<polyline clip-path=\"url(#clip780)\" style=\"stroke:#000000; stroke-linecap:round; stroke-linejoin:round; stroke-width:4; stroke-opacity:1; fill:none\" points=\"437.478,1423.18 2352.76,1423.18 \"/>\n",
       "<polyline clip-path=\"url(#clip780)\" style=\"stroke:#000000; stroke-linecap:round; stroke-linejoin:round; stroke-width:4; stroke-opacity:1; fill:none\" points=\"491.684,1423.18 491.684,1404.28 \"/>\n",
       "<polyline clip-path=\"url(#clip780)\" style=\"stroke:#000000; stroke-linecap:round; stroke-linejoin:round; stroke-width:4; stroke-opacity:1; fill:none\" points=\"943.4,1423.18 943.4,1404.28 \"/>\n",
       "<polyline clip-path=\"url(#clip780)\" style=\"stroke:#000000; stroke-linecap:round; stroke-linejoin:round; stroke-width:4; stroke-opacity:1; fill:none\" points=\"1395.12,1423.18 1395.12,1404.28 \"/>\n",
       "<polyline clip-path=\"url(#clip780)\" style=\"stroke:#000000; stroke-linecap:round; stroke-linejoin:round; stroke-width:4; stroke-opacity:1; fill:none\" points=\"1846.83,1423.18 1846.83,1404.28 \"/>\n",
       "<polyline clip-path=\"url(#clip780)\" style=\"stroke:#000000; stroke-linecap:round; stroke-linejoin:round; stroke-width:4; stroke-opacity:1; fill:none\" points=\"2298.55,1423.18 2298.55,1404.28 \"/>\n",
       "<path clip-path=\"url(#clip780)\" d=\"M438.906 1454.1 Q435.295 1454.1 433.467 1457.66 Q431.661 1461.2 431.661 1468.33 Q431.661 1475.44 433.467 1479.01 Q435.295 1482.55 438.906 1482.55 Q442.541 1482.55 444.346 1479.01 Q446.175 1475.44 446.175 1468.33 Q446.175 1461.2 444.346 1457.66 Q442.541 1454.1 438.906 1454.1 M438.906 1450.39 Q444.717 1450.39 447.772 1455 Q450.851 1459.58 450.851 1468.33 Q450.851 1477.06 447.772 1481.67 Q444.717 1486.25 438.906 1486.25 Q433.096 1486.25 430.018 1481.67 Q426.962 1477.06 426.962 1468.33 Q426.962 1459.58 430.018 1455 Q433.096 1450.39 438.906 1450.39 Z\" fill=\"#000000\" fill-rule=\"nonzero\" fill-opacity=\"1\" /><path clip-path=\"url(#clip780)\" d=\"M459.068 1479.7 L463.953 1479.7 L463.953 1485.58 L459.068 1485.58 L459.068 1479.7 Z\" fill=\"#000000\" fill-rule=\"nonzero\" fill-opacity=\"1\" /><path clip-path=\"url(#clip780)\" d=\"M474.277 1484.86 L474.277 1480.6 Q476.036 1481.44 477.841 1481.88 Q479.647 1482.32 481.383 1482.32 Q486.013 1482.32 488.443 1479.21 Q490.897 1476.09 491.244 1469.75 Q489.902 1471.74 487.841 1472.8 Q485.781 1473.87 483.281 1473.87 Q478.096 1473.87 475.064 1470.74 Q472.054 1467.59 472.054 1462.15 Q472.054 1456.83 475.203 1453.61 Q478.351 1450.39 483.582 1450.39 Q489.577 1450.39 492.726 1455 Q495.897 1459.58 495.897 1468.33 Q495.897 1476.51 492.008 1481.39 Q488.142 1486.25 481.591 1486.25 Q479.832 1486.25 478.027 1485.9 Q476.221 1485.56 474.277 1484.86 M483.582 1470.21 Q486.73 1470.21 488.559 1468.06 Q490.411 1465.9 490.411 1462.15 Q490.411 1458.43 488.559 1456.27 Q486.73 1454.1 483.582 1454.1 Q480.434 1454.1 478.582 1456.27 Q476.753 1458.43 476.753 1462.15 Q476.753 1465.9 478.582 1468.06 Q480.434 1470.21 483.582 1470.21 Z\" fill=\"#000000\" fill-rule=\"nonzero\" fill-opacity=\"1\" /><path clip-path=\"url(#clip780)\" d=\"M514.3 1454.1 Q510.688 1454.1 508.86 1457.66 Q507.054 1461.2 507.054 1468.33 Q507.054 1475.44 508.86 1479.01 Q510.688 1482.55 514.3 1482.55 Q517.934 1482.55 519.739 1479.01 Q521.568 1475.44 521.568 1468.33 Q521.568 1461.2 519.739 1457.66 Q517.934 1454.1 514.3 1454.1 M514.3 1450.39 Q520.11 1450.39 523.165 1455 Q526.244 1459.58 526.244 1468.33 Q526.244 1477.06 523.165 1481.67 Q520.11 1486.25 514.3 1486.25 Q508.489 1486.25 505.411 1481.67 Q502.355 1477.06 502.355 1468.33 Q502.355 1459.58 505.411 1455 Q508.489 1450.39 514.3 1450.39 Z\" fill=\"#000000\" fill-rule=\"nonzero\" fill-opacity=\"1\" /><path clip-path=\"url(#clip780)\" d=\"M544.461 1454.1 Q540.85 1454.1 539.022 1457.66 Q537.216 1461.2 537.216 1468.33 Q537.216 1475.44 539.022 1479.01 Q540.85 1482.55 544.461 1482.55 Q548.096 1482.55 549.901 1479.01 Q551.73 1475.44 551.73 1468.33 Q551.73 1461.2 549.901 1457.66 Q548.096 1454.1 544.461 1454.1 M544.461 1450.39 Q550.272 1450.39 553.327 1455 Q556.406 1459.58 556.406 1468.33 Q556.406 1477.06 553.327 1481.67 Q550.272 1486.25 544.461 1486.25 Q538.651 1486.25 535.573 1481.67 Q532.517 1477.06 532.517 1468.33 Q532.517 1459.58 535.573 1455 Q538.651 1450.39 544.461 1450.39 Z\" fill=\"#000000\" fill-rule=\"nonzero\" fill-opacity=\"1\" /><path clip-path=\"url(#clip780)\" d=\"M891.121 1454.1 Q887.51 1454.1 885.681 1457.66 Q883.875 1461.2 883.875 1468.33 Q883.875 1475.44 885.681 1479.01 Q887.51 1482.55 891.121 1482.55 Q894.755 1482.55 896.56 1479.01 Q898.389 1475.44 898.389 1468.33 Q898.389 1461.2 896.56 1457.66 Q894.755 1454.1 891.121 1454.1 M891.121 1450.39 Q896.931 1450.39 899.986 1455 Q903.065 1459.58 903.065 1468.33 Q903.065 1477.06 899.986 1481.67 Q896.931 1486.25 891.121 1486.25 Q885.31 1486.25 882.232 1481.67 Q879.176 1477.06 879.176 1468.33 Q879.176 1459.58 882.232 1455 Q885.31 1450.39 891.121 1450.39 Z\" fill=\"#000000\" fill-rule=\"nonzero\" fill-opacity=\"1\" /><path clip-path=\"url(#clip780)\" d=\"M911.283 1479.7 L916.167 1479.7 L916.167 1485.58 L911.283 1485.58 L911.283 1479.7 Z\" fill=\"#000000\" fill-rule=\"nonzero\" fill-opacity=\"1\" /><path clip-path=\"url(#clip780)\" d=\"M926.491 1484.86 L926.491 1480.6 Q928.25 1481.44 930.056 1481.88 Q931.861 1482.32 933.597 1482.32 Q938.227 1482.32 940.657 1479.21 Q943.111 1476.09 943.458 1469.75 Q942.116 1471.74 940.056 1472.8 Q937.995 1473.87 935.495 1473.87 Q930.31 1473.87 927.278 1470.74 Q924.269 1467.59 924.269 1462.15 Q924.269 1456.83 927.417 1453.61 Q930.565 1450.39 935.796 1450.39 Q941.792 1450.39 944.94 1455 Q948.111 1459.58 948.111 1468.33 Q948.111 1476.51 944.222 1481.39 Q940.356 1486.25 933.806 1486.25 Q932.046 1486.25 930.241 1485.9 Q928.435 1485.56 926.491 1484.86 M935.796 1470.21 Q938.944 1470.21 940.773 1468.06 Q942.625 1465.9 942.625 1462.15 Q942.625 1458.43 940.773 1456.27 Q938.944 1454.1 935.796 1454.1 Q932.648 1454.1 930.796 1456.27 Q928.968 1458.43 928.968 1462.15 Q928.968 1465.9 930.796 1468.06 Q932.648 1470.21 935.796 1470.21 Z\" fill=\"#000000\" fill-rule=\"nonzero\" fill-opacity=\"1\" /><path clip-path=\"url(#clip780)\" d=\"M960.542 1481.64 L976.861 1481.64 L976.861 1485.58 L954.917 1485.58 L954.917 1481.64 Q957.579 1478.89 962.162 1474.26 Q966.768 1469.61 967.949 1468.27 Q970.194 1465.74 971.074 1464.01 Q971.977 1462.25 971.977 1460.56 Q971.977 1457.8 970.032 1456.07 Q968.111 1454.33 965.009 1454.33 Q962.81 1454.33 960.356 1455.09 Q957.926 1455.86 955.148 1457.41 L955.148 1452.69 Q957.972 1451.55 960.426 1450.97 Q962.879 1450.39 964.917 1450.39 Q970.287 1450.39 973.481 1453.08 Q976.676 1455.77 976.676 1460.26 Q976.676 1462.39 975.866 1464.31 Q975.078 1466.2 972.972 1468.8 Q972.393 1469.47 969.291 1472.69 Q966.19 1475.88 960.542 1481.64 Z\" fill=\"#000000\" fill-rule=\"nonzero\" fill-opacity=\"1\" /><path clip-path=\"url(#clip780)\" d=\"M986.722 1451.02 L1005.08 1451.02 L1005.08 1454.96 L991.004 1454.96 L991.004 1463.43 Q992.023 1463.08 993.041 1462.92 Q994.06 1462.73 995.078 1462.73 Q1000.87 1462.73 1004.25 1465.9 Q1007.62 1469.08 1007.62 1474.49 Q1007.62 1480.07 1004.15 1483.17 Q1000.68 1486.25 994.361 1486.25 Q992.185 1486.25 989.916 1485.88 Q987.671 1485.51 985.264 1484.77 L985.264 1480.07 Q987.347 1481.2 989.569 1481.76 Q991.791 1482.32 994.268 1482.32 Q998.273 1482.32 1000.61 1480.21 Q1002.95 1478.1 1002.95 1474.49 Q1002.95 1470.88 1000.61 1468.77 Q998.273 1466.67 994.268 1466.67 Q992.393 1466.67 990.518 1467.08 Q988.666 1467.5 986.722 1468.38 L986.722 1451.02 Z\" fill=\"#000000\" fill-rule=\"nonzero\" fill-opacity=\"1\" /><path clip-path=\"url(#clip780)\" d=\"M1342.34 1454.1 Q1338.73 1454.1 1336.9 1457.66 Q1335.09 1461.2 1335.09 1468.33 Q1335.09 1475.44 1336.9 1479.01 Q1338.73 1482.55 1342.34 1482.55 Q1345.97 1482.55 1347.78 1479.01 Q1349.61 1475.44 1349.61 1468.33 Q1349.61 1461.2 1347.78 1457.66 Q1345.97 1454.1 1342.34 1454.1 M1342.34 1450.39 Q1348.15 1450.39 1351.21 1455 Q1354.28 1459.58 1354.28 1468.33 Q1354.28 1477.06 1351.21 1481.67 Q1348.15 1486.25 1342.34 1486.25 Q1336.53 1486.25 1333.45 1481.67 Q1330.4 1477.06 1330.4 1468.33 Q1330.4 1459.58 1333.45 1455 Q1336.53 1450.39 1342.34 1450.39 Z\" fill=\"#000000\" fill-rule=\"nonzero\" fill-opacity=\"1\" /><path clip-path=\"url(#clip780)\" d=\"M1362.5 1479.7 L1367.39 1479.7 L1367.39 1485.58 L1362.5 1485.58 L1362.5 1479.7 Z\" fill=\"#000000\" fill-rule=\"nonzero\" fill-opacity=\"1\" /><path clip-path=\"url(#clip780)\" d=\"M1377.71 1484.86 L1377.71 1480.6 Q1379.47 1481.44 1381.27 1481.88 Q1383.08 1482.32 1384.82 1482.32 Q1389.45 1482.32 1391.88 1479.21 Q1394.33 1476.09 1394.68 1469.75 Q1393.33 1471.74 1391.27 1472.8 Q1389.21 1473.87 1386.71 1473.87 Q1381.53 1473.87 1378.5 1470.74 Q1375.49 1467.59 1375.49 1462.15 Q1375.49 1456.83 1378.64 1453.61 Q1381.78 1450.39 1387.02 1450.39 Q1393.01 1450.39 1396.16 1455 Q1399.33 1459.58 1399.33 1468.33 Q1399.33 1476.51 1395.44 1481.39 Q1391.58 1486.25 1385.02 1486.25 Q1383.27 1486.25 1381.46 1485.9 Q1379.65 1485.56 1377.71 1484.86 M1387.02 1470.21 Q1390.16 1470.21 1391.99 1468.06 Q1393.84 1465.9 1393.84 1462.15 Q1393.84 1458.43 1391.99 1456.27 Q1390.16 1454.1 1387.02 1454.1 Q1383.87 1454.1 1382.02 1456.27 Q1380.19 1458.43 1380.19 1462.15 Q1380.19 1465.9 1382.02 1468.06 Q1383.87 1470.21 1387.02 1470.21 Z\" fill=\"#000000\" fill-rule=\"nonzero\" fill-opacity=\"1\" /><path clip-path=\"url(#clip780)\" d=\"M1407.78 1451.02 L1426.14 1451.02 L1426.14 1454.96 L1412.06 1454.96 L1412.06 1463.43 Q1413.08 1463.08 1414.1 1462.92 Q1415.12 1462.73 1416.14 1462.73 Q1421.92 1462.73 1425.3 1465.9 Q1428.68 1469.08 1428.68 1474.49 Q1428.68 1480.07 1425.21 1483.17 Q1421.74 1486.25 1415.42 1486.25 Q1413.24 1486.25 1410.97 1485.88 Q1408.73 1485.51 1406.32 1484.77 L1406.32 1480.07 Q1408.4 1481.2 1410.63 1481.76 Q1412.85 1482.32 1415.33 1482.32 Q1419.33 1482.32 1421.67 1480.21 Q1424.01 1478.1 1424.01 1474.49 Q1424.01 1470.88 1421.67 1468.77 Q1419.33 1466.67 1415.33 1466.67 Q1413.45 1466.67 1411.58 1467.08 Q1409.72 1467.5 1407.78 1468.38 L1407.78 1451.02 Z\" fill=\"#000000\" fill-rule=\"nonzero\" fill-opacity=\"1\" /><path clip-path=\"url(#clip780)\" d=\"M1447.89 1454.1 Q1444.28 1454.1 1442.45 1457.66 Q1440.65 1461.2 1440.65 1468.33 Q1440.65 1475.44 1442.45 1479.01 Q1444.28 1482.55 1447.89 1482.55 Q1451.53 1482.55 1453.33 1479.01 Q1455.16 1475.44 1455.16 1468.33 Q1455.16 1461.2 1453.33 1457.66 Q1451.53 1454.1 1447.89 1454.1 M1447.89 1450.39 Q1453.7 1450.39 1456.76 1455 Q1459.84 1459.58 1459.84 1468.33 Q1459.84 1477.06 1456.76 1481.67 Q1453.7 1486.25 1447.89 1486.25 Q1442.08 1486.25 1439.01 1481.67 Q1435.95 1477.06 1435.95 1468.33 Q1435.95 1459.58 1439.01 1455 Q1442.08 1450.39 1447.89 1450.39 Z\" fill=\"#000000\" fill-rule=\"nonzero\" fill-opacity=\"1\" /><path clip-path=\"url(#clip780)\" d=\"M1794.55 1454.1 Q1790.94 1454.1 1789.11 1457.66 Q1787.31 1461.2 1787.31 1468.33 Q1787.31 1475.44 1789.11 1479.01 Q1790.94 1482.55 1794.55 1482.55 Q1798.19 1482.55 1799.99 1479.01 Q1801.82 1475.44 1801.82 1468.33 Q1801.82 1461.2 1799.99 1457.66 Q1798.19 1454.1 1794.55 1454.1 M1794.55 1450.39 Q1800.36 1450.39 1803.42 1455 Q1806.5 1459.58 1806.5 1468.33 Q1806.5 1477.06 1803.42 1481.67 Q1800.36 1486.25 1794.55 1486.25 Q1788.74 1486.25 1785.66 1481.67 Q1782.61 1477.06 1782.61 1468.33 Q1782.61 1459.58 1785.66 1455 Q1788.74 1450.39 1794.55 1450.39 Z\" fill=\"#000000\" fill-rule=\"nonzero\" fill-opacity=\"1\" /><path clip-path=\"url(#clip780)\" d=\"M1814.72 1479.7 L1819.6 1479.7 L1819.6 1485.58 L1814.72 1485.58 L1814.72 1479.7 Z\" fill=\"#000000\" fill-rule=\"nonzero\" fill-opacity=\"1\" /><path clip-path=\"url(#clip780)\" d=\"M1829.92 1484.86 L1829.92 1480.6 Q1831.68 1481.44 1833.49 1481.88 Q1835.29 1482.32 1837.03 1482.32 Q1841.66 1482.32 1844.09 1479.21 Q1846.54 1476.09 1846.89 1469.75 Q1845.55 1471.74 1843.49 1472.8 Q1841.43 1473.87 1838.93 1473.87 Q1833.74 1473.87 1830.71 1470.74 Q1827.7 1467.59 1827.7 1462.15 Q1827.7 1456.83 1830.85 1453.61 Q1834 1450.39 1839.23 1450.39 Q1845.22 1450.39 1848.37 1455 Q1851.54 1459.58 1851.54 1468.33 Q1851.54 1476.51 1847.66 1481.39 Q1843.79 1486.25 1837.24 1486.25 Q1835.48 1486.25 1833.67 1485.9 Q1831.87 1485.56 1829.92 1484.86 M1839.23 1470.21 Q1842.38 1470.21 1844.21 1468.06 Q1846.06 1465.9 1846.06 1462.15 Q1846.06 1458.43 1844.21 1456.27 Q1842.38 1454.1 1839.23 1454.1 Q1836.08 1454.1 1834.23 1456.27 Q1832.4 1458.43 1832.4 1462.15 Q1832.4 1465.9 1834.23 1468.06 Q1836.08 1470.21 1839.23 1470.21 Z\" fill=\"#000000\" fill-rule=\"nonzero\" fill-opacity=\"1\" /><path clip-path=\"url(#clip780)\" d=\"M1858.77 1451.02 L1880.99 1451.02 L1880.99 1453.01 L1868.44 1485.58 L1863.56 1485.58 L1875.36 1454.96 L1858.77 1454.96 L1858.77 1451.02 Z\" fill=\"#000000\" fill-rule=\"nonzero\" fill-opacity=\"1\" /><path clip-path=\"url(#clip780)\" d=\"M1890.15 1451.02 L1908.51 1451.02 L1908.51 1454.96 L1894.44 1454.96 L1894.44 1463.43 Q1895.46 1463.08 1896.47 1462.92 Q1897.49 1462.73 1898.51 1462.73 Q1904.3 1462.73 1907.68 1465.9 Q1911.06 1469.08 1911.06 1474.49 Q1911.06 1480.07 1907.59 1483.17 Q1904.11 1486.25 1897.79 1486.25 Q1895.62 1486.25 1893.35 1485.88 Q1891.1 1485.51 1888.7 1484.77 L1888.7 1480.07 Q1890.78 1481.2 1893 1481.76 Q1895.22 1482.32 1897.7 1482.32 Q1901.71 1482.32 1904.04 1480.21 Q1906.38 1478.1 1906.38 1474.49 Q1906.38 1470.88 1904.04 1468.77 Q1901.71 1466.67 1897.7 1466.67 Q1895.83 1466.67 1893.95 1467.08 Q1892.1 1467.5 1890.15 1468.38 L1890.15 1451.02 Z\" fill=\"#000000\" fill-rule=\"nonzero\" fill-opacity=\"1\" /><path clip-path=\"url(#clip780)\" d=\"M2235.54 1481.64 L2243.18 1481.64 L2243.18 1455.28 L2234.87 1456.95 L2234.87 1452.69 L2243.13 1451.02 L2247.81 1451.02 L2247.81 1481.64 L2255.45 1481.64 L2255.45 1485.58 L2235.54 1485.58 L2235.54 1481.64 Z\" fill=\"#000000\" fill-rule=\"nonzero\" fill-opacity=\"1\" /><path clip-path=\"url(#clip780)\" d=\"M2264.89 1479.7 L2269.78 1479.7 L2269.78 1485.58 L2264.89 1485.58 L2264.89 1479.7 Z\" fill=\"#000000\" fill-rule=\"nonzero\" fill-opacity=\"1\" /><path clip-path=\"url(#clip780)\" d=\"M2289.96 1454.1 Q2286.35 1454.1 2284.52 1457.66 Q2282.72 1461.2 2282.72 1468.33 Q2282.72 1475.44 2284.52 1479.01 Q2286.35 1482.55 2289.96 1482.55 Q2293.6 1482.55 2295.4 1479.01 Q2297.23 1475.44 2297.23 1468.33 Q2297.23 1461.2 2295.4 1457.66 Q2293.6 1454.1 2289.96 1454.1 M2289.96 1450.39 Q2295.77 1450.39 2298.83 1455 Q2301.91 1459.58 2301.91 1468.33 Q2301.91 1477.06 2298.83 1481.67 Q2295.77 1486.25 2289.96 1486.25 Q2284.15 1486.25 2281.07 1481.67 Q2278.02 1477.06 2278.02 1468.33 Q2278.02 1459.58 2281.07 1455 Q2284.15 1450.39 2289.96 1450.39 Z\" fill=\"#000000\" fill-rule=\"nonzero\" fill-opacity=\"1\" /><path clip-path=\"url(#clip780)\" d=\"M2320.12 1454.1 Q2316.51 1454.1 2314.68 1457.66 Q2312.88 1461.2 2312.88 1468.33 Q2312.88 1475.44 2314.68 1479.01 Q2316.51 1482.55 2320.12 1482.55 Q2323.76 1482.55 2325.56 1479.01 Q2327.39 1475.44 2327.39 1468.33 Q2327.39 1461.2 2325.56 1457.66 Q2323.76 1454.1 2320.12 1454.1 M2320.12 1450.39 Q2325.93 1450.39 2328.99 1455 Q2332.07 1459.58 2332.07 1468.33 Q2332.07 1477.06 2328.99 1481.67 Q2325.93 1486.25 2320.12 1486.25 Q2314.31 1486.25 2311.24 1481.67 Q2308.18 1477.06 2308.18 1468.33 Q2308.18 1459.58 2311.24 1455 Q2314.31 1450.39 2320.12 1450.39 Z\" fill=\"#000000\" fill-rule=\"nonzero\" fill-opacity=\"1\" /><path clip-path=\"url(#clip780)\" d=\"M2350.29 1454.1 Q2346.67 1454.1 2344.85 1457.66 Q2343.04 1461.2 2343.04 1468.33 Q2343.04 1475.44 2344.85 1479.01 Q2346.67 1482.55 2350.29 1482.55 Q2353.92 1482.55 2355.73 1479.01 Q2357.55 1475.44 2357.55 1468.33 Q2357.55 1461.2 2355.73 1457.66 Q2353.92 1454.1 2350.29 1454.1 M2350.29 1450.39 Q2356.1 1450.39 2359.15 1455 Q2362.23 1459.58 2362.23 1468.33 Q2362.23 1477.06 2359.15 1481.67 Q2356.1 1486.25 2350.29 1486.25 Q2344.48 1486.25 2341.4 1481.67 Q2338.34 1477.06 2338.34 1468.33 Q2338.34 1459.58 2341.4 1455 Q2344.48 1450.39 2350.29 1450.39 Z\" fill=\"#000000\" fill-rule=\"nonzero\" fill-opacity=\"1\" /><path clip-path=\"url(#clip780)\" d=\"M1411.73 1532.4 L1398.84 1549.74 L1412.4 1568.04 L1405.49 1568.04 L1395.12 1554.04 L1384.74 1568.04 L1377.83 1568.04 L1391.68 1549.39 L1379.01 1532.4 L1385.92 1532.4 L1395.37 1545.1 L1404.82 1532.4 L1411.73 1532.4 Z\" fill=\"#000000\" fill-rule=\"nonzero\" fill-opacity=\"1\" /><polyline clip-path=\"url(#clip782)\" style=\"stroke:#000000; stroke-linecap:round; stroke-linejoin:round; stroke-width:2; stroke-opacity:0.1; fill:none\" points=\"437.478,1386.4 2352.76,1386.4 \"/>\n",
       "<polyline clip-path=\"url(#clip782)\" style=\"stroke:#000000; stroke-linecap:round; stroke-linejoin:round; stroke-width:2; stroke-opacity:0.1; fill:none\" points=\"437.478,1079.86 2352.76,1079.86 \"/>\n",
       "<polyline clip-path=\"url(#clip782)\" style=\"stroke:#000000; stroke-linecap:round; stroke-linejoin:round; stroke-width:2; stroke-opacity:0.1; fill:none\" points=\"437.478,773.326 2352.76,773.326 \"/>\n",
       "<polyline clip-path=\"url(#clip782)\" style=\"stroke:#000000; stroke-linecap:round; stroke-linejoin:round; stroke-width:2; stroke-opacity:0.1; fill:none\" points=\"437.478,466.791 2352.76,466.791 \"/>\n",
       "<polyline clip-path=\"url(#clip782)\" style=\"stroke:#000000; stroke-linecap:round; stroke-linejoin:round; stroke-width:2; stroke-opacity:0.1; fill:none\" points=\"437.478,160.256 2352.76,160.256 \"/>\n",
       "<polyline clip-path=\"url(#clip780)\" style=\"stroke:#000000; stroke-linecap:round; stroke-linejoin:round; stroke-width:4; stroke-opacity:1; fill:none\" points=\"437.478,1423.18 437.478,123.472 \"/>\n",
       "<polyline clip-path=\"url(#clip780)\" style=\"stroke:#000000; stroke-linecap:round; stroke-linejoin:round; stroke-width:4; stroke-opacity:1; fill:none\" points=\"437.478,1386.4 456.376,1386.4 \"/>\n",
       "<polyline clip-path=\"url(#clip780)\" style=\"stroke:#000000; stroke-linecap:round; stroke-linejoin:round; stroke-width:4; stroke-opacity:1; fill:none\" points=\"437.478,1079.86 456.376,1079.86 \"/>\n",
       "<polyline clip-path=\"url(#clip780)\" style=\"stroke:#000000; stroke-linecap:round; stroke-linejoin:round; stroke-width:4; stroke-opacity:1; fill:none\" points=\"437.478,773.326 456.376,773.326 \"/>\n",
       "<polyline clip-path=\"url(#clip780)\" style=\"stroke:#000000; stroke-linecap:round; stroke-linejoin:round; stroke-width:4; stroke-opacity:1; fill:none\" points=\"437.478,466.791 456.376,466.791 \"/>\n",
       "<polyline clip-path=\"url(#clip780)\" style=\"stroke:#000000; stroke-linecap:round; stroke-linejoin:round; stroke-width:4; stroke-opacity:1; fill:none\" points=\"437.478,160.256 456.376,160.256 \"/>\n",
       "<path clip-path=\"url(#clip780)\" d=\"M114.918 1393.29 L144.594 1393.29 L144.594 1397.23 L114.918 1397.23 L114.918 1393.29 Z\" fill=\"#000000\" fill-rule=\"nonzero\" fill-opacity=\"1\" /><path clip-path=\"url(#clip780)\" d=\"M155.497 1406.19 L163.136 1406.19 L163.136 1379.82 L154.826 1381.49 L154.826 1377.23 L163.089 1375.56 L167.765 1375.56 L167.765 1406.19 L175.404 1406.19 L175.404 1410.12 L155.497 1410.12 L155.497 1406.19 Z\" fill=\"#000000\" fill-rule=\"nonzero\" fill-opacity=\"1\" /><path clip-path=\"url(#clip780)\" d=\"M184.849 1404.24 L189.733 1404.24 L189.733 1410.12 L184.849 1410.12 L184.849 1404.24 Z\" fill=\"#000000\" fill-rule=\"nonzero\" fill-opacity=\"1\" /><path clip-path=\"url(#clip780)\" d=\"M209.918 1378.64 Q206.307 1378.64 204.478 1382.21 Q202.673 1385.75 202.673 1392.88 Q202.673 1399.98 204.478 1403.55 Q206.307 1407.09 209.918 1407.09 Q213.552 1407.09 215.358 1403.55 Q217.186 1399.98 217.186 1392.88 Q217.186 1385.75 215.358 1382.21 Q213.552 1378.64 209.918 1378.64 M209.918 1374.94 Q215.728 1374.94 218.784 1379.54 Q221.862 1384.13 221.862 1392.88 Q221.862 1401.6 218.784 1406.21 Q215.728 1410.79 209.918 1410.79 Q204.108 1410.79 201.029 1406.21 Q197.974 1401.6 197.974 1392.88 Q197.974 1384.13 201.029 1379.54 Q204.108 1374.94 209.918 1374.94 Z\" fill=\"#000000\" fill-rule=\"nonzero\" fill-opacity=\"1\" /><path clip-path=\"url(#clip780)\" d=\"M240.08 1378.64 Q236.469 1378.64 234.64 1382.21 Q232.834 1385.75 232.834 1392.88 Q232.834 1399.98 234.64 1403.55 Q236.469 1407.09 240.08 1407.09 Q243.714 1407.09 245.52 1403.55 Q247.348 1399.98 247.348 1392.88 Q247.348 1385.75 245.52 1382.21 Q243.714 1378.64 240.08 1378.64 M240.08 1374.94 Q245.89 1374.94 248.945 1379.54 Q252.024 1384.13 252.024 1392.88 Q252.024 1401.6 248.945 1406.21 Q245.89 1410.79 240.08 1410.79 Q234.27 1410.79 231.191 1406.21 Q228.135 1401.6 228.135 1392.88 Q228.135 1384.13 231.191 1379.54 Q234.27 1374.94 240.08 1374.94 Z\" fill=\"#000000\" fill-rule=\"nonzero\" fill-opacity=\"1\" /><path clip-path=\"url(#clip780)\" d=\"M288.413 1384.66 L277.834 1395.29 L288.413 1405.86 L285.658 1408.66 L275.033 1398.04 L264.408 1408.66 L261.677 1405.86 L272.232 1395.29 L261.677 1384.66 L264.408 1381.86 L275.033 1392.48 L285.658 1381.86 L288.413 1384.66 Z\" fill=\"#000000\" fill-rule=\"nonzero\" fill-opacity=\"1\" /><path clip-path=\"url(#clip780)\" d=\"M300.774 1406.19 L308.413 1406.19 L308.413 1379.82 L300.103 1381.49 L300.103 1377.23 L308.366 1375.56 L313.042 1375.56 L313.042 1406.19 L320.681 1406.19 L320.681 1410.12 L300.774 1410.12 L300.774 1406.19 Z\" fill=\"#000000\" fill-rule=\"nonzero\" fill-opacity=\"1\" /><path clip-path=\"url(#clip780)\" d=\"M340.126 1378.64 Q336.514 1378.64 334.686 1382.21 Q332.88 1385.75 332.88 1392.88 Q332.88 1399.98 334.686 1403.55 Q336.514 1407.09 340.126 1407.09 Q343.76 1407.09 345.565 1403.55 Q347.394 1399.98 347.394 1392.88 Q347.394 1385.75 345.565 1382.21 Q343.76 1378.64 340.126 1378.64 M340.126 1374.94 Q345.936 1374.94 348.991 1379.54 Q352.07 1384.13 352.07 1392.88 Q352.07 1401.6 348.991 1406.21 Q345.936 1410.79 340.126 1410.79 Q334.315 1410.79 331.237 1406.21 Q328.181 1401.6 328.181 1392.88 Q328.181 1384.13 331.237 1379.54 Q334.315 1374.94 340.126 1374.94 Z\" fill=\"#000000\" fill-rule=\"nonzero\" fill-opacity=\"1\" /><path clip-path=\"url(#clip780)\" d=\"M352.07 1369.04 L376.181 1369.04 L376.181 1372.24 L352.07 1372.24 L352.07 1369.04 Z\" fill=\"#000000\" fill-rule=\"nonzero\" fill-opacity=\"1\" /><path clip-path=\"url(#clip780)\" d=\"M383.422 1354.63 L401.478 1354.63 L401.478 1356.25 L391.284 1382.71 L387.316 1382.71 L396.908 1357.83 L383.422 1357.83 L383.422 1354.63 Z\" fill=\"#000000\" fill-rule=\"nonzero\" fill-opacity=\"1\" /><path clip-path=\"url(#clip780)\" d=\"M114.26 1086.76 L143.936 1086.76 L143.936 1090.7 L114.26 1090.7 L114.26 1086.76 Z\" fill=\"#000000\" fill-rule=\"nonzero\" fill-opacity=\"1\" /><path clip-path=\"url(#clip780)\" d=\"M152.848 1069.03 L175.07 1069.03 L175.07 1071.02 L162.524 1103.59 L157.64 1103.59 L169.445 1072.96 L152.848 1072.96 L152.848 1069.03 Z\" fill=\"#000000\" fill-rule=\"nonzero\" fill-opacity=\"1\" /><path clip-path=\"url(#clip780)\" d=\"M184.19 1097.71 L189.075 1097.71 L189.075 1103.59 L184.19 1103.59 L184.19 1097.71 Z\" fill=\"#000000\" fill-rule=\"nonzero\" fill-opacity=\"1\" /><path clip-path=\"url(#clip780)\" d=\"M199.306 1069.03 L217.662 1069.03 L217.662 1072.96 L203.588 1072.96 L203.588 1081.44 Q204.607 1081.09 205.625 1080.93 Q206.644 1080.74 207.662 1080.74 Q213.449 1080.74 216.829 1083.91 Q220.209 1087.08 220.209 1092.5 Q220.209 1098.08 216.736 1101.18 Q213.264 1104.26 206.945 1104.26 Q204.769 1104.26 202.5 1103.89 Q200.255 1103.52 197.848 1102.78 L197.848 1098.08 Q199.931 1099.21 202.153 1099.77 Q204.375 1100.32 206.852 1100.32 Q210.857 1100.32 213.195 1098.22 Q215.533 1096.11 215.533 1092.5 Q215.533 1088.89 213.195 1086.78 Q210.857 1084.68 206.852 1084.68 Q204.977 1084.68 203.102 1085.09 Q201.25 1085.51 199.306 1086.39 L199.306 1069.03 Z\" fill=\"#000000\" fill-rule=\"nonzero\" fill-opacity=\"1\" /><path clip-path=\"url(#clip780)\" d=\"M239.422 1072.11 Q235.81 1072.11 233.982 1075.67 Q232.176 1079.21 232.176 1086.34 Q232.176 1093.45 233.982 1097.01 Q235.81 1100.56 239.422 1100.56 Q243.056 1100.56 244.861 1097.01 Q246.69 1093.45 246.69 1086.34 Q246.69 1079.21 244.861 1075.67 Q243.056 1072.11 239.422 1072.11 M239.422 1068.4 Q245.232 1068.4 248.287 1073.01 Q251.366 1077.59 251.366 1086.34 Q251.366 1095.07 248.287 1099.68 Q245.232 1104.26 239.422 1104.26 Q233.611 1104.26 230.533 1099.68 Q227.477 1095.07 227.477 1086.34 Q227.477 1077.59 230.533 1073.01 Q233.611 1068.4 239.422 1068.4 Z\" fill=\"#000000\" fill-rule=\"nonzero\" fill-opacity=\"1\" /><path clip-path=\"url(#clip780)\" d=\"M287.755 1078.13 L277.176 1088.75 L287.755 1099.33 L285 1102.13 L274.375 1091.51 L263.75 1102.13 L261.019 1099.33 L271.574 1088.75 L261.019 1078.13 L263.75 1075.32 L274.375 1085.95 L285 1075.32 L287.755 1078.13 Z\" fill=\"#000000\" fill-rule=\"nonzero\" fill-opacity=\"1\" /><path clip-path=\"url(#clip780)\" d=\"M300.116 1099.65 L307.754 1099.65 L307.754 1073.29 L299.444 1074.95 L299.444 1070.7 L307.708 1069.03 L312.384 1069.03 L312.384 1099.65 L320.023 1099.65 L320.023 1103.59 L300.116 1103.59 L300.116 1099.65 Z\" fill=\"#000000\" fill-rule=\"nonzero\" fill-opacity=\"1\" /><path clip-path=\"url(#clip780)\" d=\"M339.467 1072.11 Q335.856 1072.11 334.027 1075.67 Q332.222 1079.21 332.222 1086.34 Q332.222 1093.45 334.027 1097.01 Q335.856 1100.56 339.467 1100.56 Q343.102 1100.56 344.907 1097.01 Q346.736 1093.45 346.736 1086.34 Q346.736 1079.21 344.907 1075.67 Q343.102 1072.11 339.467 1072.11 M339.467 1068.4 Q345.277 1068.4 348.333 1073.01 Q351.412 1077.59 351.412 1086.34 Q351.412 1095.07 348.333 1099.68 Q345.277 1104.26 339.467 1104.26 Q333.657 1104.26 330.578 1099.68 Q327.523 1095.07 327.523 1086.34 Q327.523 1077.59 330.578 1073.01 Q333.657 1068.4 339.467 1068.4 Z\" fill=\"#000000\" fill-rule=\"nonzero\" fill-opacity=\"1\" /><path clip-path=\"url(#clip780)\" d=\"M351.412 1062.5 L375.523 1062.5 L375.523 1065.7 L351.412 1065.7 L351.412 1062.5 Z\" fill=\"#000000\" fill-rule=\"nonzero\" fill-opacity=\"1\" /><path clip-path=\"url(#clip780)\" d=\"M391.848 1062.84 Q389.14 1062.84 387.579 1064.29 Q386.037 1065.74 386.037 1068.28 Q386.037 1070.82 387.579 1072.27 Q389.14 1073.71 391.848 1073.71 Q394.557 1073.71 396.118 1072.27 Q397.679 1070.8 397.679 1068.28 Q397.679 1065.74 396.118 1064.29 Q394.575 1062.84 391.848 1062.84 M388.049 1061.23 Q385.604 1060.62 384.231 1058.95 Q382.877 1057.28 382.877 1054.87 Q382.877 1051.5 385.266 1049.55 Q387.673 1047.59 391.848 1047.59 Q396.043 1047.59 398.431 1049.55 Q400.82 1051.5 400.82 1054.87 Q400.82 1057.28 399.447 1058.95 Q398.093 1060.62 395.666 1061.23 Q398.412 1061.87 399.936 1063.73 Q401.478 1065.59 401.478 1068.28 Q401.478 1072.36 398.977 1074.54 Q396.494 1076.72 391.848 1076.72 Q387.203 1076.72 384.701 1074.54 Q382.219 1072.36 382.219 1068.28 Q382.219 1065.59 383.761 1063.73 Q385.303 1061.87 388.049 1061.23 M386.657 1055.23 Q386.657 1057.41 388.012 1058.63 Q389.385 1059.85 391.848 1059.85 Q394.293 1059.85 395.666 1058.63 Q397.058 1057.41 397.058 1055.23 Q397.058 1053.04 395.666 1051.82 Q394.293 1050.6 391.848 1050.6 Q389.385 1050.6 388.012 1051.82 Q386.657 1053.04 386.657 1055.23 Z\" fill=\"#000000\" fill-rule=\"nonzero\" fill-opacity=\"1\" /><path clip-path=\"url(#clip780)\" d=\"M114.26 780.225 L143.936 780.225 L143.936 784.16 L114.26 784.16 L114.26 780.225 Z\" fill=\"#000000\" fill-rule=\"nonzero\" fill-opacity=\"1\" /><path clip-path=\"url(#clip780)\" d=\"M154.075 762.494 L172.431 762.494 L172.431 766.429 L158.357 766.429 L158.357 774.901 Q159.376 774.554 160.394 774.392 Q161.413 774.207 162.431 774.207 Q168.218 774.207 171.598 777.378 Q174.977 780.549 174.977 785.966 Q174.977 791.544 171.505 794.646 Q168.033 797.725 161.714 797.725 Q159.538 797.725 157.269 797.355 Q155.024 796.984 152.616 796.243 L152.616 791.544 Q154.7 792.679 156.922 793.234 Q159.144 793.79 161.621 793.79 Q165.626 793.79 167.964 791.683 Q170.302 789.577 170.302 785.966 Q170.302 782.355 167.964 780.248 Q165.626 778.142 161.621 778.142 Q159.746 778.142 157.871 778.558 Q156.019 778.975 154.075 779.855 L154.075 762.494 Z\" fill=\"#000000\" fill-rule=\"nonzero\" fill-opacity=\"1\" /><path clip-path=\"url(#clip780)\" d=\"M184.19 791.174 L189.075 791.174 L189.075 797.054 L184.19 797.054 L184.19 791.174 Z\" fill=\"#000000\" fill-rule=\"nonzero\" fill-opacity=\"1\" /><path clip-path=\"url(#clip780)\" d=\"M209.26 765.572 Q205.649 765.572 203.82 769.137 Q202.014 772.679 202.014 779.808 Q202.014 786.915 203.82 790.48 Q205.649 794.021 209.26 794.021 Q212.894 794.021 214.699 790.48 Q216.528 786.915 216.528 779.808 Q216.528 772.679 214.699 769.137 Q212.894 765.572 209.26 765.572 M209.26 761.869 Q215.07 761.869 218.125 766.475 Q221.204 771.058 221.204 779.808 Q221.204 788.535 218.125 793.142 Q215.07 797.725 209.26 797.725 Q203.449 797.725 200.371 793.142 Q197.315 788.535 197.315 779.808 Q197.315 771.058 200.371 766.475 Q203.449 761.869 209.26 761.869 Z\" fill=\"#000000\" fill-rule=\"nonzero\" fill-opacity=\"1\" /><path clip-path=\"url(#clip780)\" d=\"M239.422 765.572 Q235.81 765.572 233.982 769.137 Q232.176 772.679 232.176 779.808 Q232.176 786.915 233.982 790.48 Q235.81 794.021 239.422 794.021 Q243.056 794.021 244.861 790.48 Q246.69 786.915 246.69 779.808 Q246.69 772.679 244.861 769.137 Q243.056 765.572 239.422 765.572 M239.422 761.869 Q245.232 761.869 248.287 766.475 Q251.366 771.058 251.366 779.808 Q251.366 788.535 248.287 793.142 Q245.232 797.725 239.422 797.725 Q233.611 797.725 230.533 793.142 Q227.477 788.535 227.477 779.808 Q227.477 771.058 230.533 766.475 Q233.611 761.869 239.422 761.869 Z\" fill=\"#000000\" fill-rule=\"nonzero\" fill-opacity=\"1\" /><path clip-path=\"url(#clip780)\" d=\"M287.755 771.591 L277.176 782.216 L287.755 792.794 L285 795.595 L274.375 784.97 L263.75 795.595 L261.019 792.794 L271.574 782.216 L261.019 771.591 L263.75 768.79 L274.375 779.415 L285 768.79 L287.755 771.591 Z\" fill=\"#000000\" fill-rule=\"nonzero\" fill-opacity=\"1\" /><path clip-path=\"url(#clip780)\" d=\"M300.116 793.119 L307.754 793.119 L307.754 766.753 L299.444 768.42 L299.444 764.16 L307.708 762.494 L312.384 762.494 L312.384 793.119 L320.023 793.119 L320.023 797.054 L300.116 797.054 L300.116 793.119 Z\" fill=\"#000000\" fill-rule=\"nonzero\" fill-opacity=\"1\" /><path clip-path=\"url(#clip780)\" d=\"M339.467 765.572 Q335.856 765.572 334.027 769.137 Q332.222 772.679 332.222 779.808 Q332.222 786.915 334.027 790.48 Q335.856 794.021 339.467 794.021 Q343.102 794.021 344.907 790.48 Q346.736 786.915 346.736 779.808 Q346.736 772.679 344.907 769.137 Q343.102 765.572 339.467 765.572 M339.467 761.869 Q345.277 761.869 348.333 766.475 Q351.412 771.058 351.412 779.808 Q351.412 788.535 348.333 793.142 Q345.277 797.725 339.467 797.725 Q333.657 797.725 330.578 793.142 Q327.523 788.535 327.523 779.808 Q327.523 771.058 330.578 766.475 Q333.657 761.869 339.467 761.869 Z\" fill=\"#000000\" fill-rule=\"nonzero\" fill-opacity=\"1\" /><path clip-path=\"url(#clip780)\" d=\"M351.412 755.97 L375.523 755.97 L375.523 759.167 L351.412 759.167 L351.412 755.97 Z\" fill=\"#000000\" fill-rule=\"nonzero\" fill-opacity=\"1\" /><path clip-path=\"url(#clip780)\" d=\"M391.848 756.309 Q389.14 756.309 387.579 757.757 Q386.037 759.205 386.037 761.744 Q386.037 764.283 387.579 765.731 Q389.14 767.179 391.848 767.179 Q394.557 767.179 396.118 765.731 Q397.679 764.264 397.679 761.744 Q397.679 759.205 396.118 757.757 Q394.575 756.309 391.848 756.309 M388.049 754.691 Q385.604 754.089 384.231 752.415 Q382.877 750.741 382.877 748.334 Q382.877 744.967 385.266 743.011 Q387.673 741.055 391.848 741.055 Q396.043 741.055 398.431 743.011 Q400.82 744.967 400.82 748.334 Q400.82 750.741 399.447 752.415 Q398.093 754.089 395.666 754.691 Q398.412 755.331 399.936 757.193 Q401.478 759.054 401.478 761.744 Q401.478 765.825 398.977 768.007 Q396.494 770.189 391.848 770.189 Q387.203 770.189 384.701 768.007 Q382.219 765.825 382.219 761.744 Q382.219 759.054 383.761 757.193 Q385.303 755.331 388.049 754.691 M386.657 748.691 Q386.657 750.873 388.012 752.096 Q389.385 753.318 391.848 753.318 Q394.293 753.318 395.666 752.096 Q397.058 750.873 397.058 748.691 Q397.058 746.51 395.666 745.287 Q394.293 744.065 391.848 744.065 Q389.385 744.065 388.012 745.287 Q386.657 746.51 386.657 748.691 Z\" fill=\"#000000\" fill-rule=\"nonzero\" fill-opacity=\"1\" /><path clip-path=\"url(#clip780)\" d=\"M114.26 473.69 L143.936 473.69 L143.936 477.625 L114.26 477.625 L114.26 473.69 Z\" fill=\"#000000\" fill-rule=\"nonzero\" fill-opacity=\"1\" /><path clip-path=\"url(#clip780)\" d=\"M158.056 486.584 L174.376 486.584 L174.376 490.519 L152.431 490.519 L152.431 486.584 Q155.093 483.829 159.677 479.199 Q164.283 474.547 165.464 473.204 Q167.709 470.681 168.589 468.945 Q169.491 467.186 169.491 465.496 Q169.491 462.741 167.547 461.005 Q165.626 459.269 162.524 459.269 Q160.325 459.269 157.871 460.033 Q155.44 460.797 152.663 462.348 L152.663 457.626 Q155.487 456.491 157.94 455.913 Q160.394 455.334 162.431 455.334 Q167.802 455.334 170.996 458.019 Q174.19 460.704 174.19 465.195 Q174.19 467.325 173.38 469.246 Q172.593 471.144 170.487 473.737 Q169.908 474.408 166.806 477.625 Q163.704 480.82 158.056 486.584 Z\" fill=\"#000000\" fill-rule=\"nonzero\" fill-opacity=\"1\" /><path clip-path=\"url(#clip780)\" d=\"M184.19 484.639 L189.075 484.639 L189.075 490.519 L184.19 490.519 L184.19 484.639 Z\" fill=\"#000000\" fill-rule=\"nonzero\" fill-opacity=\"1\" /><path clip-path=\"url(#clip780)\" d=\"M199.306 455.959 L217.662 455.959 L217.662 459.894 L203.588 459.894 L203.588 468.366 Q204.607 468.019 205.625 467.857 Q206.644 467.672 207.662 467.672 Q213.449 467.672 216.829 470.843 Q220.209 474.014 220.209 479.431 Q220.209 485.01 216.736 488.111 Q213.264 491.19 206.945 491.19 Q204.769 491.19 202.5 490.82 Q200.255 490.449 197.848 489.709 L197.848 485.01 Q199.931 486.144 202.153 486.699 Q204.375 487.255 206.852 487.255 Q210.857 487.255 213.195 485.149 Q215.533 483.042 215.533 479.431 Q215.533 475.82 213.195 473.713 Q210.857 471.607 206.852 471.607 Q204.977 471.607 203.102 472.024 Q201.25 472.44 199.306 473.32 L199.306 455.959 Z\" fill=\"#000000\" fill-rule=\"nonzero\" fill-opacity=\"1\" /><path clip-path=\"url(#clip780)\" d=\"M239.422 459.038 Q235.81 459.038 233.982 462.602 Q232.176 466.144 232.176 473.274 Q232.176 480.38 233.982 483.945 Q235.81 487.486 239.422 487.486 Q243.056 487.486 244.861 483.945 Q246.69 480.38 246.69 473.274 Q246.69 466.144 244.861 462.602 Q243.056 459.038 239.422 459.038 M239.422 455.334 Q245.232 455.334 248.287 459.94 Q251.366 464.524 251.366 473.274 Q251.366 482 248.287 486.607 Q245.232 491.19 239.422 491.19 Q233.611 491.19 230.533 486.607 Q227.477 482 227.477 473.274 Q227.477 464.524 230.533 459.94 Q233.611 455.334 239.422 455.334 Z\" fill=\"#000000\" fill-rule=\"nonzero\" fill-opacity=\"1\" /><path clip-path=\"url(#clip780)\" d=\"M287.755 465.056 L277.176 475.681 L287.755 486.26 L285 489.061 L274.375 478.436 L263.75 489.061 L261.019 486.26 L271.574 475.681 L261.019 465.056 L263.75 462.255 L274.375 472.88 L285 462.255 L287.755 465.056 Z\" fill=\"#000000\" fill-rule=\"nonzero\" fill-opacity=\"1\" /><path clip-path=\"url(#clip780)\" d=\"M300.116 486.584 L307.754 486.584 L307.754 460.218 L299.444 461.885 L299.444 457.626 L307.708 455.959 L312.384 455.959 L312.384 486.584 L320.023 486.584 L320.023 490.519 L300.116 490.519 L300.116 486.584 Z\" fill=\"#000000\" fill-rule=\"nonzero\" fill-opacity=\"1\" /><path clip-path=\"url(#clip780)\" d=\"M339.467 459.038 Q335.856 459.038 334.027 462.602 Q332.222 466.144 332.222 473.274 Q332.222 480.38 334.027 483.945 Q335.856 487.486 339.467 487.486 Q343.102 487.486 344.907 483.945 Q346.736 480.38 346.736 473.274 Q346.736 466.144 344.907 462.602 Q343.102 459.038 339.467 459.038 M339.467 455.334 Q345.277 455.334 348.333 459.94 Q351.412 464.524 351.412 473.274 Q351.412 482 348.333 486.607 Q345.277 491.19 339.467 491.19 Q333.657 491.19 330.578 486.607 Q327.523 482 327.523 473.274 Q327.523 464.524 330.578 459.94 Q333.657 455.334 339.467 455.334 Z\" fill=\"#000000\" fill-rule=\"nonzero\" fill-opacity=\"1\" /><path clip-path=\"url(#clip780)\" d=\"M351.412 449.435 L375.523 449.435 L375.523 452.633 L351.412 452.633 L351.412 449.435 Z\" fill=\"#000000\" fill-rule=\"nonzero\" fill-opacity=\"1\" /><path clip-path=\"url(#clip780)\" d=\"M391.848 449.774 Q389.14 449.774 387.579 451.222 Q386.037 452.67 386.037 455.209 Q386.037 457.748 387.579 459.196 Q389.14 460.645 391.848 460.645 Q394.557 460.645 396.118 459.196 Q397.679 457.729 397.679 455.209 Q397.679 452.67 396.118 451.222 Q394.575 449.774 391.848 449.774 M388.049 448.156 Q385.604 447.554 384.231 445.881 Q382.877 444.207 382.877 441.799 Q382.877 438.433 385.266 436.477 Q387.673 434.521 391.848 434.521 Q396.043 434.521 398.431 436.477 Q400.82 438.433 400.82 441.799 Q400.82 444.207 399.447 445.881 Q398.093 447.554 395.666 448.156 Q398.412 448.796 399.936 450.658 Q401.478 452.52 401.478 455.209 Q401.478 459.29 398.977 461.472 Q396.494 463.654 391.848 463.654 Q387.203 463.654 384.701 461.472 Q382.219 459.29 382.219 455.209 Q382.219 452.52 383.761 450.658 Q385.303 448.796 388.049 448.156 M386.657 442.157 Q386.657 444.338 388.012 445.561 Q389.385 446.783 391.848 446.783 Q394.293 446.783 395.666 445.561 Q397.058 444.338 397.058 442.157 Q397.058 439.975 395.666 438.752 Q394.293 437.53 391.848 437.53 Q389.385 437.53 388.012 438.752 Q386.657 439.975 386.657 442.157 Z\" fill=\"#000000\" fill-rule=\"nonzero\" fill-opacity=\"1\" /><path clip-path=\"url(#clip780)\" d=\"M389.534 146.055 Q385.922 146.055 384.094 149.62 Q382.288 153.162 382.288 160.291 Q382.288 167.398 384.094 170.962 Q385.922 174.504 389.534 174.504 Q393.168 174.504 394.973 170.962 Q396.802 167.398 396.802 160.291 Q396.802 153.162 394.973 149.62 Q393.168 146.055 389.534 146.055 M389.534 142.351 Q395.344 142.351 398.399 146.958 Q401.478 151.541 401.478 160.291 Q401.478 169.018 398.399 173.624 Q395.344 178.208 389.534 178.208 Q383.723 178.208 380.645 173.624 Q377.589 169.018 377.589 160.291 Q377.589 151.541 380.645 146.958 Q383.723 142.351 389.534 142.351 Z\" fill=\"#000000\" fill-rule=\"nonzero\" fill-opacity=\"1\" /><path clip-path=\"url(#clip780)\" d=\"M14.479 803.277 L19.3487 803.277 L19.3487 808.878 Q19.3487 812.029 20.6219 813.271 Q21.895 814.48 25.2052 814.48 L28.3562 814.48 L28.3562 804.836 L32.9077 804.836 L32.9077 814.48 L64.0042 814.48 L64.0042 820.369 L32.9077 820.369 L32.9077 825.97 L28.3562 825.97 L28.3562 820.369 L25.8736 820.369 Q19.9216 820.369 17.2162 817.599 Q14.479 814.83 14.479 808.815 L14.479 803.277 Z\" fill=\"#000000\" fill-rule=\"nonzero\" fill-opacity=\"1\" /><path clip-path=\"url(#clip780)\" d=\"M14.5426 784.307 Q21.8632 788.572 29.0246 790.641 Q36.186 792.71 43.5384 792.71 Q50.8908 792.71 58.1159 790.641 Q65.3091 788.54 72.5979 784.307 L72.5979 789.399 Q65.1182 794.174 57.8931 796.561 Q50.668 798.916 43.5384 798.916 Q36.4406 798.916 29.2474 796.561 Q22.0542 794.206 14.5426 789.399 L14.5426 784.307 Z\" fill=\"#000000\" fill-rule=\"nonzero\" fill-opacity=\"1\" /><path clip-path=\"url(#clip780)\" d=\"M28.3562 743.312 L45.7028 756.202 L64.0042 742.643 L64.0042 749.55 L49.9996 759.926 L64.0042 770.302 L64.0042 777.209 L45.3526 763.364 L28.3562 776.031 L28.3562 769.125 L41.0558 759.672 L28.3562 750.218 L28.3562 743.312 Z\" fill=\"#000000\" fill-rule=\"nonzero\" fill-opacity=\"1\" /><path clip-path=\"url(#clip780)\" d=\"M14.5426 735.291 L14.5426 730.198 Q22.0542 725.424 29.2474 723.069 Q36.4406 720.682 43.5384 720.682 Q50.668 720.682 57.8931 723.069 Q65.1182 725.424 72.5979 730.198 L72.5979 735.291 Q65.3091 731.058 58.1159 728.989 Q50.8908 726.888 43.5384 726.888 Q36.186 726.888 29.0246 728.989 Q21.8632 731.058 14.5426 735.291 Z\" fill=\"#000000\" fill-rule=\"nonzero\" fill-opacity=\"1\" /><path clip-path=\"url(#clip780)\" d=\"M541.571 63.9476 L541.571 47.7034 L528.203 47.7034 L528.203 40.9789 L549.673 40.9789 L549.673 66.9452 Q544.933 70.3075 539.222 72.0494 Q533.51 73.7508 527.028 73.7508 Q512.85 73.7508 504.829 65.4869 Q496.849 57.1826 496.849 42.3968 Q496.849 27.5705 504.829 19.3066 Q512.85 11.0023 527.028 11.0023 Q532.943 11.0023 538.249 12.4606 Q543.597 13.9189 548.093 16.7545 L548.093 25.464 Q543.556 21.6156 538.452 19.6712 Q533.348 17.7268 527.717 17.7268 Q516.618 17.7268 511.027 23.9246 Q505.478 30.1225 505.478 42.3968 Q505.478 54.6305 511.027 60.8284 Q516.618 67.0263 527.717 67.0263 Q532.052 67.0263 535.454 66.2971 Q538.857 65.5274 541.571 63.9476 Z\" fill=\"#000000\" fill-rule=\"nonzero\" fill-opacity=\"1\" /><path clip-path=\"url(#clip780)\" d=\"M590.587 34.1734 Q589.331 33.4443 587.832 33.1202 Q586.374 32.7556 584.592 32.7556 Q578.272 32.7556 574.87 36.8875 Q571.507 40.9789 571.507 48.6757 L571.507 72.576 L564.013 72.576 L564.013 27.2059 L571.507 27.2059 L571.507 34.2544 Q573.857 30.1225 577.624 28.1376 Q581.392 26.1121 586.779 26.1121 Q587.549 26.1121 588.481 26.2337 Q589.412 26.3147 590.547 26.5172 L590.587 34.1734 Z\" fill=\"#000000\" fill-rule=\"nonzero\" fill-opacity=\"1\" /><path clip-path=\"url(#clip780)\" d=\"M619.024 49.7694 Q609.991 49.7694 606.507 51.8354 Q603.023 53.9013 603.023 58.8839 Q603.023 62.8538 605.616 65.2034 Q608.249 67.5124 612.746 67.5124 Q618.943 67.5124 622.67 63.1374 Q626.438 58.7219 626.438 51.4303 L626.438 49.7694 L619.024 49.7694 M633.891 46.6907 L633.891 72.576 L626.438 72.576 L626.438 65.6895 Q623.886 69.8214 620.078 71.8063 Q616.27 73.7508 610.761 73.7508 Q603.793 73.7508 599.661 69.8619 Q595.57 65.9325 595.57 59.3701 Q595.57 51.7138 600.674 47.825 Q605.818 43.9361 615.986 43.9361 L626.438 43.9361 L626.438 43.2069 Q626.438 38.0623 623.035 35.2672 Q619.673 32.4315 613.556 32.4315 Q609.667 32.4315 605.981 33.3632 Q602.294 34.295 598.891 36.1584 L598.891 29.2718 Q602.983 27.692 606.831 26.9223 Q610.68 26.1121 614.325 26.1121 Q624.169 26.1121 629.03 31.2163 Q633.891 36.3204 633.891 46.6907 Z\" fill=\"#000000\" fill-rule=\"nonzero\" fill-opacity=\"1\" /><path clip-path=\"url(#clip780)\" d=\"M672.213 9.54393 L672.213 15.7418 L665.083 15.7418 Q661.073 15.7418 659.493 17.3622 Q657.954 18.9825 657.954 23.1955 L657.954 27.2059 L670.228 27.2059 L670.228 32.9987 L657.954 32.9987 L657.954 72.576 L650.459 72.576 L650.459 32.9987 L643.33 32.9987 L643.33 27.2059 L650.459 27.2059 L650.459 24.0462 Q650.459 16.471 653.984 13.0277 Q657.508 9.54393 665.164 9.54393 L672.213 9.54393 Z\" fill=\"#000000\" fill-rule=\"nonzero\" fill-opacity=\"1\" /><path clip-path=\"url(#clip780)\" d=\"M678.451 27.2059 L685.905 27.2059 L685.905 72.576 L678.451 72.576 L678.451 27.2059 M678.451 9.54393 L685.905 9.54393 L685.905 18.9825 L678.451 18.9825 L678.451 9.54393 Z\" fill=\"#000000\" fill-rule=\"nonzero\" fill-opacity=\"1\" /><path clip-path=\"url(#clip780)\" d=\"M701.217 9.54393 L708.711 9.54393 L708.711 46.7717 L730.951 27.2059 L740.471 27.2059 L716.408 48.4326 L741.483 72.576 L731.761 72.576 L708.711 50.4176 L708.711 72.576 L701.217 72.576 L701.217 9.54393 Z\" fill=\"#000000\" fill-rule=\"nonzero\" fill-opacity=\"1\" /><path clip-path=\"url(#clip780)\" d=\"M798.885 9.54393 L798.885 15.7418 L791.755 15.7418 Q787.745 15.7418 786.165 17.3622 Q784.625 18.9825 784.625 23.1955 L784.625 27.2059 L796.9 27.2059 L796.9 32.9987 L784.625 32.9987 L784.625 72.576 L777.131 72.576 L777.131 32.9987 L770.002 32.9987 L770.002 27.2059 L777.131 27.2059 L777.131 24.0462 Q777.131 16.471 780.656 13.0277 Q784.18 9.54393 791.836 9.54393 L798.885 9.54393 Z\" fill=\"#000000\" fill-rule=\"nonzero\" fill-opacity=\"1\" /><path clip-path=\"url(#clip780)\" d=\"M804.353 54.671 L804.353 27.2059 L811.807 27.2059 L811.807 54.3874 Q811.807 60.8284 814.319 64.0691 Q816.83 67.2693 821.853 67.2693 Q827.889 67.2693 831.373 63.421 Q834.897 59.5726 834.897 52.9291 L834.897 27.2059 L842.351 27.2059 L842.351 72.576 L834.897 72.576 L834.897 65.6084 Q832.183 69.7404 828.578 71.7658 Q825.013 73.7508 820.273 73.7508 Q812.455 73.7508 808.404 68.8897 Q804.353 64.0286 804.353 54.671 M823.109 26.1121 L823.109 26.1121 Z\" fill=\"#000000\" fill-rule=\"nonzero\" fill-opacity=\"1\" /><path clip-path=\"url(#clip780)\" d=\"M895.418 45.1919 L895.418 72.576 L887.964 72.576 L887.964 45.4349 Q887.964 38.994 885.452 35.7938 Q882.941 32.5936 877.918 32.5936 Q871.882 32.5936 868.398 36.4419 Q864.914 40.2903 864.914 46.9338 L864.914 72.576 L857.42 72.576 L857.42 27.2059 L864.914 27.2059 L864.914 34.2544 Q867.588 30.163 871.193 28.1376 Q874.839 26.1121 879.579 26.1121 Q887.397 26.1121 891.407 30.9732 Q895.418 35.7938 895.418 45.1919 Z\" fill=\"#000000\" fill-rule=\"nonzero\" fill-opacity=\"1\" /><path clip-path=\"url(#clip780)\" d=\"M940.14 49.3643 Q940.14 41.2625 936.777 36.8065 Q933.456 32.3505 927.42 32.3505 Q921.424 32.3505 918.062 36.8065 Q914.74 41.2625 914.74 49.3643 Q914.74 57.4256 918.062 61.8816 Q921.424 66.3376 927.42 66.3376 Q933.456 66.3376 936.777 61.8816 Q940.14 57.4256 940.14 49.3643 M947.593 66.9452 Q947.593 78.5308 942.449 84.1616 Q937.304 89.8329 926.691 89.8329 Q922.761 89.8329 919.277 89.2252 Q915.794 88.6581 912.512 87.4428 L912.512 80.1917 Q915.794 81.9741 918.994 82.8248 Q922.194 83.6755 925.516 83.6755 Q932.848 83.6755 936.494 79.8271 Q940.14 76.0193 940.14 68.282 L940.14 64.5957 Q937.831 68.6061 934.225 70.5911 Q930.62 72.576 925.597 72.576 Q917.252 72.576 912.148 66.2161 Q907.044 59.8562 907.044 49.3643 Q907.044 38.832 912.148 32.472 Q917.252 26.1121 925.597 26.1121 Q930.62 26.1121 934.225 28.0971 Q937.831 30.082 940.14 34.0924 L940.14 27.2059 L947.593 27.2059 L947.593 66.9452 Z\" fill=\"#000000\" fill-rule=\"nonzero\" fill-opacity=\"1\" /><path clip-path=\"url(#clip780)\" d=\"M991.87 28.5427 L991.87 35.5912 Q988.71 33.9709 985.307 33.1607 Q981.904 32.3505 978.259 32.3505 Q972.709 32.3505 969.914 34.0519 Q967.159 35.7533 967.159 39.156 Q967.159 41.7486 969.144 43.2475 Q971.129 44.7058 977.124 46.0426 L979.676 46.6097 Q987.616 48.3111 990.938 51.4303 Q994.3 54.509 994.3 60.0587 Q994.3 66.3781 989.277 70.0644 Q984.294 73.7508 975.545 73.7508 Q971.899 73.7508 967.929 73.0216 Q963.999 72.3329 959.624 70.9151 L959.624 63.2184 Q963.756 65.3654 967.767 66.4591 Q971.777 67.5124 975.707 67.5124 Q980.973 67.5124 983.808 65.73 Q986.644 63.9071 986.644 60.6258 Q986.644 57.5877 984.578 55.9673 Q982.553 54.3469 975.626 52.8481 L973.033 52.2405 Q966.106 50.7821 963.027 47.7845 Q959.949 44.7463 959.949 39.4801 Q959.949 33.0797 964.486 29.5959 Q969.023 26.1121 977.367 26.1121 Q981.499 26.1121 985.145 26.7198 Q988.791 27.3274 991.87 28.5427 Z\" fill=\"#000000\" fill-rule=\"nonzero\" fill-opacity=\"1\" /><path clip-path=\"url(#clip780)\" d=\"M1006.17 27.2059 L1013.62 27.2059 L1013.62 72.576 L1006.17 72.576 L1006.17 27.2059 M1006.17 9.54393 L1013.62 9.54393 L1013.62 18.9825 L1006.17 18.9825 L1006.17 9.54393 Z\" fill=\"#000000\" fill-rule=\"nonzero\" fill-opacity=\"1\" /><path clip-path=\"url(#clip780)\" d=\"M1078.56 9.54393 L1078.56 15.7418 L1071.43 15.7418 Q1067.42 15.7418 1065.84 17.3622 Q1064.3 18.9825 1064.3 23.1955 L1064.3 27.2059 L1076.57 27.2059 L1076.57 32.9987 L1064.3 32.9987 L1064.3 72.576 L1056.81 72.576 L1056.81 32.9987 L1049.68 32.9987 L1049.68 27.2059 L1056.81 27.2059 L1056.81 24.0462 Q1056.81 16.471 1060.33 13.0277 Q1063.85 9.54393 1071.51 9.54393 L1078.56 9.54393 Z\" fill=\"#000000\" fill-rule=\"nonzero\" fill-opacity=\"1\" /><path clip-path=\"url(#clip780)\" d=\"M1102.7 9.62495 Q1097.27 18.942 1094.64 28.0566 Q1092.01 37.1711 1092.01 46.5287 Q1092.01 55.8863 1094.64 65.0818 Q1097.31 74.2369 1102.7 83.5134 L1096.22 83.5134 Q1090.14 73.9938 1087.11 64.7983 Q1084.11 55.6027 1084.11 46.5287 Q1084.11 37.4952 1087.11 28.3401 Q1090.1 19.1851 1096.22 9.62495 L1102.7 9.62495 Z\" fill=\"#000000\" fill-rule=\"nonzero\" fill-opacity=\"1\" /><path clip-path=\"url(#clip780)\" d=\"M1154.88 27.2059 L1138.47 49.2833 L1155.73 72.576 L1146.94 72.576 L1133.73 54.752 L1120.53 72.576 L1111.74 72.576 L1129.36 48.8377 L1113.23 27.2059 L1122.03 27.2059 L1134.06 43.369 L1146.09 27.2059 L1154.88 27.2059 Z\" fill=\"#000000\" fill-rule=\"nonzero\" fill-opacity=\"1\" /><path clip-path=\"url(#clip780)\" d=\"M1165.09 9.62495 L1171.57 9.62495 Q1177.64 19.1851 1180.64 28.3401 Q1183.68 37.4952 1183.68 46.5287 Q1183.68 55.6027 1180.64 64.7983 Q1177.64 73.9938 1171.57 83.5134 L1165.09 83.5134 Q1170.47 74.2369 1173.11 65.0818 Q1175.78 55.8863 1175.78 46.5287 Q1175.78 37.1711 1173.11 28.0566 Q1170.47 18.942 1165.09 9.62495 Z\" fill=\"#000000\" fill-rule=\"nonzero\" fill-opacity=\"1\" /><path clip-path=\"url(#clip780)\" d=\"M1260.32 35.9153 Q1263.12 30.8922 1267.01 28.5022 Q1270.9 26.1121 1276.16 26.1121 Q1283.25 26.1121 1287.1 31.0947 Q1290.95 36.0368 1290.95 45.1919 L1290.95 72.576 L1283.45 72.576 L1283.45 45.4349 Q1283.45 38.913 1281.14 35.7533 Q1278.84 32.5936 1274.1 32.5936 Q1268.3 32.5936 1264.94 36.4419 Q1261.58 40.2903 1261.58 46.9338 L1261.58 72.576 L1254.08 72.576 L1254.08 45.4349 Q1254.08 38.8725 1251.78 35.7533 Q1249.47 32.5936 1244.65 32.5936 Q1238.93 32.5936 1235.57 36.4824 Q1232.21 40.3308 1232.21 46.9338 L1232.21 72.576 L1224.72 72.576 L1224.72 27.2059 L1232.21 27.2059 L1232.21 34.2544 Q1234.76 30.082 1238.33 28.0971 Q1241.89 26.1121 1246.79 26.1121 Q1251.74 26.1121 1255.18 28.6237 Q1258.66 31.1352 1260.32 35.9153 Z\" fill=\"#000000\" fill-rule=\"nonzero\" fill-opacity=\"1\" /><path clip-path=\"url(#clip780)\" d=\"M1344.62 48.0275 L1344.62 51.6733 L1310.35 51.6733 Q1310.84 59.3701 1314.97 63.421 Q1319.14 67.4314 1326.56 67.4314 Q1330.85 67.4314 1334.86 66.3781 Q1338.91 65.3249 1342.88 63.2184 L1342.88 70.267 Q1338.87 71.9684 1334.66 72.8596 Q1330.44 73.7508 1326.11 73.7508 Q1315.25 73.7508 1308.89 67.4314 Q1302.57 61.1119 1302.57 50.3365 Q1302.57 39.1965 1308.57 32.6746 Q1314.61 26.1121 1324.81 26.1121 Q1333.97 26.1121 1339.28 32.0264 Q1344.62 37.9003 1344.62 48.0275 M1337.17 45.84 Q1337.09 39.7232 1333.73 36.0774 Q1330.4 32.4315 1324.89 32.4315 Q1318.66 32.4315 1314.89 35.9558 Q1311.16 39.4801 1310.59 45.8805 L1337.17 45.84 Z\" fill=\"#000000\" fill-rule=\"nonzero\" fill-opacity=\"1\" /><path clip-path=\"url(#clip780)\" d=\"M1394.57 45.1919 L1394.57 72.576 L1387.12 72.576 L1387.12 45.4349 Q1387.12 38.994 1384.6 35.7938 Q1382.09 32.5936 1377.07 32.5936 Q1371.03 32.5936 1367.55 36.4419 Q1364.07 40.2903 1364.07 46.9338 L1364.07 72.576 L1356.57 72.576 L1356.57 27.2059 L1364.07 27.2059 L1364.07 34.2544 Q1366.74 30.163 1370.35 28.1376 Q1373.99 26.1121 1378.73 26.1121 Q1386.55 26.1121 1390.56 30.9732 Q1394.57 35.7938 1394.57 45.1919 Z\" fill=\"#000000\" fill-rule=\"nonzero\" fill-opacity=\"1\" /><path clip-path=\"url(#clip780)\" d=\"M1439.29 49.3643 Q1439.29 41.2625 1435.93 36.8065 Q1432.61 32.3505 1426.57 32.3505 Q1420.58 32.3505 1417.21 36.8065 Q1413.89 41.2625 1413.89 49.3643 Q1413.89 57.4256 1417.21 61.8816 Q1420.58 66.3376 1426.57 66.3376 Q1432.61 66.3376 1435.93 61.8816 Q1439.29 57.4256 1439.29 49.3643 M1446.75 66.9452 Q1446.75 78.5308 1441.6 84.1616 Q1436.46 89.8329 1425.84 89.8329 Q1421.91 89.8329 1418.43 89.2252 Q1414.95 88.6581 1411.66 87.4428 L1411.66 80.1917 Q1414.95 81.9741 1418.15 82.8248 Q1421.35 83.6755 1424.67 83.6755 Q1432 83.6755 1435.65 79.8271 Q1439.29 76.0193 1439.29 68.282 L1439.29 64.5957 Q1436.98 68.6061 1433.38 70.5911 Q1429.77 72.576 1424.75 72.576 Q1416.4 72.576 1411.3 66.2161 Q1406.2 59.8562 1406.2 49.3643 Q1406.2 38.832 1411.3 32.472 Q1416.4 26.1121 1424.75 26.1121 Q1429.77 26.1121 1433.38 28.0971 Q1436.98 30.082 1439.29 34.0924 L1439.29 27.2059 L1446.75 27.2059 L1446.75 66.9452 Z\" fill=\"#000000\" fill-rule=\"nonzero\" fill-opacity=\"1\" /><path clip-path=\"url(#clip780)\" d=\"M1491.95 49.3643 Q1491.95 41.2625 1488.59 36.8065 Q1485.27 32.3505 1479.23 32.3505 Q1473.24 32.3505 1469.88 36.8065 Q1466.55 41.2625 1466.55 49.3643 Q1466.55 57.4256 1469.88 61.8816 Q1473.24 66.3376 1479.23 66.3376 Q1485.27 66.3376 1488.59 61.8816 Q1491.95 57.4256 1491.95 49.3643 M1499.41 66.9452 Q1499.41 78.5308 1494.26 84.1616 Q1489.12 89.8329 1478.5 89.8329 Q1474.58 89.8329 1471.09 89.2252 Q1467.61 88.6581 1464.33 87.4428 L1464.33 80.1917 Q1467.61 81.9741 1470.81 82.8248 Q1474.01 83.6755 1477.33 83.6755 Q1484.66 83.6755 1488.31 79.8271 Q1491.95 76.0193 1491.95 68.282 L1491.95 64.5957 Q1489.64 68.6061 1486.04 70.5911 Q1482.43 72.576 1477.41 72.576 Q1469.07 72.576 1463.96 66.2161 Q1458.86 59.8562 1458.86 49.3643 Q1458.86 38.832 1463.96 32.472 Q1469.07 26.1121 1477.41 26.1121 Q1482.43 26.1121 1486.04 28.0971 Q1489.64 30.082 1491.95 34.0924 L1491.95 27.2059 L1499.41 27.2059 L1499.41 66.9452 Z\" fill=\"#000000\" fill-rule=\"nonzero\" fill-opacity=\"1\" /><path clip-path=\"url(#clip780)\" d=\"M1513.99 54.671 L1513.99 27.2059 L1521.44 27.2059 L1521.44 54.3874 Q1521.44 60.8284 1523.96 64.0691 Q1526.47 67.2693 1531.49 67.2693 Q1537.53 67.2693 1541.01 63.421 Q1544.53 59.5726 1544.53 52.9291 L1544.53 27.2059 L1551.99 27.2059 L1551.99 72.576 L1544.53 72.576 L1544.53 65.6084 Q1541.82 69.7404 1538.22 71.7658 Q1534.65 73.7508 1529.91 73.7508 Q1522.09 73.7508 1518.04 68.8897 Q1513.99 64.0286 1513.99 54.671 M1532.75 26.1121 L1532.75 26.1121 Z\" fill=\"#000000\" fill-rule=\"nonzero\" fill-opacity=\"1\" /><path clip-path=\"url(#clip780)\" d=\"M1605.06 45.1919 L1605.06 72.576 L1597.6 72.576 L1597.6 45.4349 Q1597.6 38.994 1595.09 35.7938 Q1592.58 32.5936 1587.56 32.5936 Q1581.52 32.5936 1578.04 36.4419 Q1574.55 40.2903 1574.55 46.9338 L1574.55 72.576 L1567.06 72.576 L1567.06 27.2059 L1574.55 27.2059 L1574.55 34.2544 Q1577.23 30.163 1580.83 28.1376 Q1584.48 26.1121 1589.22 26.1121 Q1597.03 26.1121 1601.04 30.9732 Q1605.06 35.7938 1605.06 45.1919 Z\" fill=\"#000000\" fill-rule=\"nonzero\" fill-opacity=\"1\" /><path clip-path=\"url(#clip780)\" d=\"M1640.54 49.7694 Q1631.51 49.7694 1628.02 51.8354 Q1624.54 53.9013 1624.54 58.8839 Q1624.54 62.8538 1627.13 65.2034 Q1629.77 67.5124 1634.26 67.5124 Q1640.46 67.5124 1644.19 63.1374 Q1647.95 58.7219 1647.95 51.4303 L1647.95 49.7694 L1640.54 49.7694 M1655.41 46.6907 L1655.41 72.576 L1647.95 72.576 L1647.95 65.6895 Q1645.4 69.8214 1641.59 71.8063 Q1637.79 73.7508 1632.28 73.7508 Q1625.31 73.7508 1621.18 69.8619 Q1617.09 65.9325 1617.09 59.3701 Q1617.09 51.7138 1622.19 47.825 Q1627.34 43.9361 1637.5 43.9361 L1647.95 43.9361 L1647.95 43.2069 Q1647.95 38.0623 1644.55 35.2672 Q1641.19 32.4315 1635.07 32.4315 Q1631.18 32.4315 1627.5 33.3632 Q1623.81 34.295 1620.41 36.1584 L1620.41 29.2718 Q1624.5 27.692 1628.35 26.9223 Q1632.2 26.1121 1635.84 26.1121 Q1645.69 26.1121 1650.55 31.2163 Q1655.41 36.3204 1655.41 46.6907 Z\" fill=\"#000000\" fill-rule=\"nonzero\" fill-opacity=\"1\" /><path clip-path=\"url(#clip780)\" d=\"M1670.48 9.54393 L1677.97 9.54393 L1677.97 46.7717 L1700.21 27.2059 L1709.73 27.2059 L1685.67 48.4326 L1710.74 72.576 L1701.02 72.576 L1677.97 50.4176 L1677.97 72.576 L1670.48 72.576 L1670.48 9.54393 Z\" fill=\"#000000\" fill-rule=\"nonzero\" fill-opacity=\"1\" /><path clip-path=\"url(#clip780)\" d=\"M1737.97 49.7694 Q1728.93 49.7694 1725.45 51.8354 Q1721.96 53.9013 1721.96 58.8839 Q1721.96 62.8538 1724.56 65.2034 Q1727.19 67.5124 1731.69 67.5124 Q1737.88 67.5124 1741.61 63.1374 Q1745.38 58.7219 1745.38 51.4303 L1745.38 49.7694 L1737.97 49.7694 M1752.83 46.6907 L1752.83 72.576 L1745.38 72.576 L1745.38 65.6895 Q1742.83 69.8214 1739.02 71.8063 Q1735.21 73.7508 1729.7 73.7508 Q1722.73 73.7508 1718.6 69.8619 Q1714.51 65.9325 1714.51 59.3701 Q1714.51 51.7138 1719.61 47.825 Q1724.76 43.9361 1734.93 43.9361 L1745.38 43.9361 L1745.38 43.2069 Q1745.38 38.0623 1741.98 35.2672 Q1738.61 32.4315 1732.5 32.4315 Q1728.61 32.4315 1724.92 33.3632 Q1721.23 34.295 1717.83 36.1584 L1717.83 29.2718 Q1721.92 27.692 1725.77 26.9223 Q1729.62 26.1121 1733.27 26.1121 Q1743.11 26.1121 1747.97 31.2163 Q1752.83 36.3204 1752.83 46.6907 Z\" fill=\"#000000\" fill-rule=\"nonzero\" fill-opacity=\"1\" /><path clip-path=\"url(#clip780)\" d=\"M1805.9 45.1919 L1805.9 72.576 L1798.45 72.576 L1798.45 45.4349 Q1798.45 38.994 1795.93 35.7938 Q1793.42 32.5936 1788.4 32.5936 Q1782.36 32.5936 1778.88 36.4419 Q1775.4 40.2903 1775.4 46.9338 L1775.4 72.576 L1767.9 72.576 L1767.9 27.2059 L1775.4 27.2059 L1775.4 34.2544 Q1778.07 30.163 1781.67 28.1376 Q1785.32 26.1121 1790.06 26.1121 Q1797.88 26.1121 1801.89 30.9732 Q1805.9 35.7938 1805.9 45.1919 Z\" fill=\"#000000\" fill-rule=\"nonzero\" fill-opacity=\"1\" /><path clip-path=\"url(#clip780)\" d=\"M1854.35 65.7705 L1854.35 89.8329 L1846.85 89.8329 L1846.85 27.2059 L1854.35 27.2059 L1854.35 34.0924 Q1856.7 30.0415 1860.26 28.0971 Q1863.87 26.1121 1868.85 26.1121 Q1877.11 26.1121 1882.26 32.6746 Q1887.44 39.2371 1887.44 49.9314 Q1887.44 60.6258 1882.26 67.1883 Q1877.11 73.7508 1868.85 73.7508 Q1863.87 73.7508 1860.26 71.8063 Q1856.7 69.8214 1854.35 65.7705 M1879.71 49.9314 Q1879.71 41.7081 1876.3 37.0496 Q1872.94 32.3505 1867.03 32.3505 Q1861.11 32.3505 1857.71 37.0496 Q1854.35 41.7081 1854.35 49.9314 Q1854.35 58.1548 1857.71 62.8538 Q1861.11 67.5124 1867.03 67.5124 Q1872.94 67.5124 1876.3 62.8538 Q1879.71 58.1548 1879.71 49.9314 Z\" fill=\"#000000\" fill-rule=\"nonzero\" fill-opacity=\"1\" /><path clip-path=\"url(#clip780)\" d=\"M1920.42 49.7694 Q1911.38 49.7694 1907.9 51.8354 Q1904.42 53.9013 1904.42 58.8839 Q1904.42 62.8538 1907.01 65.2034 Q1909.64 67.5124 1914.14 67.5124 Q1920.34 67.5124 1924.06 63.1374 Q1927.83 58.7219 1927.83 51.4303 L1927.83 49.7694 L1920.42 49.7694 M1935.28 46.6907 L1935.28 72.576 L1927.83 72.576 L1927.83 65.6895 Q1925.28 69.8214 1921.47 71.8063 Q1917.66 73.7508 1912.15 73.7508 Q1905.19 73.7508 1901.05 69.8619 Q1896.96 65.9325 1896.96 59.3701 Q1896.96 51.7138 1902.07 47.825 Q1907.21 43.9361 1917.38 43.9361 L1927.83 43.9361 L1927.83 43.2069 Q1927.83 38.0623 1924.43 35.2672 Q1921.07 32.4315 1914.95 32.4315 Q1911.06 32.4315 1907.37 33.3632 Q1903.69 34.295 1900.28 36.1584 L1900.28 29.2718 Q1904.38 27.692 1908.22 26.9223 Q1912.07 26.1121 1915.72 26.1121 Q1925.56 26.1121 1930.42 31.2163 Q1935.28 36.3204 1935.28 46.6907 Z\" fill=\"#000000\" fill-rule=\"nonzero\" fill-opacity=\"1\" /><path clip-path=\"url(#clip780)\" d=\"M1950.35 9.54393 L1957.85 9.54393 L1957.85 46.7717 L1980.09 27.2059 L1989.61 27.2059 L1965.55 48.4326 L1990.62 72.576 L1980.9 72.576 L1957.85 50.4176 L1957.85 72.576 L1950.35 72.576 L1950.35 9.54393 Z\" fill=\"#000000\" fill-rule=\"nonzero\" fill-opacity=\"1\" /><path clip-path=\"url(#clip780)\" d=\"M2034.53 48.0275 L2034.53 51.6733 L2000.26 51.6733 Q2000.75 59.3701 2004.88 63.421 Q2009.05 67.4314 2016.46 67.4314 Q2020.76 67.4314 2024.77 66.3781 Q2028.82 65.3249 2032.79 63.2184 L2032.79 70.267 Q2028.78 71.9684 2024.57 72.8596 Q2020.35 73.7508 2016.02 73.7508 Q2005.16 73.7508 1998.8 67.4314 Q1992.48 61.1119 1992.48 50.3365 Q1992.48 39.1965 1998.48 32.6746 Q2004.51 26.1121 2014.72 26.1121 Q2023.88 26.1121 2029.18 32.0264 Q2034.53 37.9003 2034.53 48.0275 M2027.08 45.84 Q2027 39.7232 2023.63 36.0774 Q2020.31 32.4315 2014.8 32.4315 Q2008.57 32.4315 2004.8 35.9558 Q2001.07 39.4801 2000.5 45.8805 L2027.08 45.84 Z\" fill=\"#000000\" fill-rule=\"nonzero\" fill-opacity=\"1\" /><path clip-path=\"url(#clip780)\" d=\"M2054.14 14.324 L2054.14 27.2059 L2069.49 27.2059 L2069.49 32.9987 L2054.14 32.9987 L2054.14 57.6282 Q2054.14 63.1779 2055.64 64.7578 Q2057.18 66.3376 2061.83 66.3376 L2069.49 66.3376 L2069.49 72.576 L2061.83 72.576 Q2053.21 72.576 2049.93 69.3758 Q2046.64 66.1351 2046.64 57.6282 L2046.64 32.9987 L2041.18 32.9987 L2041.18 27.2059 L2046.64 27.2059 L2046.64 14.324 L2054.14 14.324 Z\" fill=\"#000000\" fill-rule=\"nonzero\" fill-opacity=\"1\" /><path clip-path=\"url(#clip780)\" d=\"M2114.17 18.8205 L2114.17 41.5461 L2124.46 41.5461 Q2130.17 41.5461 2133.29 38.5889 Q2136.41 35.6318 2136.41 30.163 Q2136.41 24.7348 2133.29 21.7777 Q2130.17 18.8205 2124.46 18.8205 L2114.17 18.8205 M2105.99 12.096 L2124.46 12.096 Q2134.63 12.096 2139.81 16.714 Q2145.04 21.2916 2145.04 30.163 Q2145.04 39.1155 2139.81 43.6931 Q2134.63 48.2706 2124.46 48.2706 L2114.17 48.2706 L2114.17 72.576 L2105.99 72.576 L2105.99 12.096 Z\" fill=\"#000000\" fill-rule=\"nonzero\" fill-opacity=\"1\" /><path clip-path=\"url(#clip780)\" d=\"M2155.69 9.54393 L2163.15 9.54393 L2163.15 72.576 L2155.69 72.576 L2155.69 9.54393 Z\" fill=\"#000000\" fill-rule=\"nonzero\" fill-opacity=\"1\" /><path clip-path=\"url(#clip780)\" d=\"M2196.33 32.4315 Q2190.33 32.4315 2186.85 37.1306 Q2183.36 41.7891 2183.36 49.9314 Q2183.36 58.0738 2186.81 62.7728 Q2190.29 67.4314 2196.33 67.4314 Q2202.28 67.4314 2205.76 62.7323 Q2209.25 58.0333 2209.25 49.9314 Q2209.25 41.8701 2205.76 37.1711 Q2202.28 32.4315 2196.33 32.4315 M2196.33 26.1121 Q2206.05 26.1121 2211.6 32.4315 Q2217.15 38.7509 2217.15 49.9314 Q2217.15 61.0714 2211.6 67.4314 Q2206.05 73.7508 2196.33 73.7508 Q2186.56 73.7508 2181.01 67.4314 Q2175.5 61.0714 2175.5 49.9314 Q2175.5 38.7509 2181.01 32.4315 Q2186.56 26.1121 2196.33 26.1121 Z\" fill=\"#000000\" fill-rule=\"nonzero\" fill-opacity=\"1\" /><path clip-path=\"url(#clip780)\" d=\"M2236.87 14.324 L2236.87 27.2059 L2252.23 27.2059 L2252.23 32.9987 L2236.87 32.9987 L2236.87 57.6282 Q2236.87 63.1779 2238.37 64.7578 Q2239.91 66.3376 2244.57 66.3376 L2252.23 66.3376 L2252.23 72.576 L2244.57 72.576 Q2235.94 72.576 2232.66 69.3758 Q2229.38 66.1351 2229.38 57.6282 L2229.38 32.9987 L2223.91 32.9987 L2223.91 27.2059 L2229.38 27.2059 L2229.38 14.324 L2236.87 14.324 Z\" fill=\"#000000\" fill-rule=\"nonzero\" fill-opacity=\"1\" /><path clip-path=\"url(#clip780)\" d=\"M2290.95 28.5427 L2290.95 35.5912 Q2287.79 33.9709 2284.39 33.1607 Q2280.99 32.3505 2277.34 32.3505 Q2271.79 32.3505 2269 34.0519 Q2266.24 35.7533 2266.24 39.156 Q2266.24 41.7486 2268.23 43.2475 Q2270.21 44.7058 2276.21 46.0426 L2278.76 46.6097 Q2286.7 48.3111 2290.02 51.4303 Q2293.38 54.509 2293.38 60.0587 Q2293.38 66.3781 2288.36 70.0644 Q2283.38 73.7508 2274.63 73.7508 Q2270.98 73.7508 2267.01 73.0216 Q2263.08 72.3329 2258.71 70.9151 L2258.71 63.2184 Q2262.84 65.3654 2266.85 66.4591 Q2270.86 67.5124 2274.79 67.5124 Q2280.06 67.5124 2282.89 65.73 Q2285.73 63.9071 2285.73 60.6258 Q2285.73 57.5877 2283.66 55.9673 Q2281.64 54.3469 2274.71 52.8481 L2272.12 52.2405 Q2265.19 50.7821 2262.11 47.7845 Q2259.03 44.7463 2259.03 39.4801 Q2259.03 33.0797 2263.57 29.5959 Q2268.11 26.1121 2276.45 26.1121 Q2280.58 26.1121 2284.23 26.7198 Q2287.88 27.3274 2290.95 28.5427 Z\" fill=\"#000000\" fill-rule=\"nonzero\" fill-opacity=\"1\" /><polyline clip-path=\"url(#clip782)\" style=\"stroke:#0000ff; stroke-linecap:round; stroke-linejoin:round; stroke-width:8; stroke-opacity:1; fill:none\" points=\"491.684,1386.4 493.491,1377.84 495.298,1369.33 497.105,1360.88 498.911,1352.47 500.718,1344.12 502.525,1335.82 504.332,1327.56 506.139,1319.36 507.946,1311.2 509.753,1303.1 511.559,1295.04 513.366,1287.03 515.173,1279.08 516.98,1271.16 518.787,1263.3 520.594,1255.49 522.401,1247.72 524.208,1240 526.014,1232.33 527.821,1224.7 529.628,1217.12 531.435,1209.59 533.242,1202.1 535.049,1194.66 536.856,1187.26 538.662,1179.91 540.469,1172.6 542.276,1165.34 544.083,1158.13 545.89,1150.96 547.697,1143.83 549.504,1136.75 551.311,1129.71 553.117,1122.71 554.924,1115.76 556.731,1108.85 558.538,1101.98 560.345,1095.16 562.152,1088.38 563.959,1081.64 565.765,1074.94 567.572,1068.28 569.379,1061.67 571.186,1055.1 572.993,1048.56 574.8,1042.07 576.607,1035.62 578.413,1029.21 580.22,1022.84 582.027,1016.52 583.834,1010.23 585.641,1003.98 587.448,997.766 589.255,991.595 591.062,985.463 592.868,979.369 594.675,973.315 596.482,967.298 598.289,961.32 600.096,955.38 601.903,949.478 603.71,943.613 605.516,937.786 607.323,931.996 609.13,926.243 610.937,920.527 612.744,914.847 614.551,909.204 616.358,903.597 618.165,898.026 619.971,892.49 621.778,886.991 623.585,881.527 625.392,876.098 627.199,870.704 629.006,865.345 630.813,860.021 632.619,854.731 634.426,849.475 636.233,844.254 638.04,839.067 639.847,833.913 641.654,828.793 643.461,823.706 645.268,818.653 647.074,813.632 648.881,808.645 650.688,803.69 652.495,798.767 654.302,793.877 656.109,789.019 657.916,784.193 659.722,779.399 661.529,774.637 663.336,769.905 665.143,765.205 666.95,760.537 668.757,755.899 670.564,751.292 672.371,746.715 674.177,742.169 675.984,737.653 677.791,733.167 679.598,728.711 681.405,724.285 683.212,719.888 685.019,715.521 686.825,711.183 688.632,706.874 690.439,702.594 692.246,698.343 694.053,694.12 695.86,689.926 697.667,685.76 699.474,681.622 701.28,677.513 703.087,673.43 704.894,669.376 706.701,665.349 708.508,661.35 710.315,657.377 712.122,653.432 713.928,649.513 715.735,645.622 717.542,641.756 719.349,637.917 721.156,634.105 722.963,630.318 724.77,626.558 726.577,622.823 728.383,619.114 730.19,615.431 731.997,611.773 733.804,608.14 735.611,604.532 737.418,600.949 739.225,597.391 741.031,593.858 742.838,590.349 744.645,586.864 746.452,583.404 748.259,579.968 750.066,576.556 751.873,573.167 753.679,569.802 755.486,566.461 757.293,563.143 759.1,559.849 760.907,556.577 762.714,553.329 764.521,550.103 766.328,546.9 768.134,543.72 769.941,540.562 771.748,537.426 773.555,534.313 775.362,531.221 777.169,528.152 778.976,525.104 780.782,522.078 782.589,519.074 784.396,516.091 786.203,513.129 788.01,510.189 789.817,507.269 791.624,504.37 793.431,501.492 795.237,498.635 797.044,495.798 798.851,492.982 800.658,490.186 802.465,487.41 804.272,484.655 806.079,481.919 807.885,479.203 809.692,476.506 811.499,473.829 813.306,471.172 815.113,468.534 816.92,465.915 818.727,463.315 820.534,460.735 822.34,458.173 824.147,455.629 825.954,453.105 827.761,450.599 829.568,448.111 831.375,445.642 833.182,443.191 834.988,440.758 836.795,438.343 838.602,435.945 840.409,433.566 842.216,431.204 844.023,428.859 845.83,426.533 847.637,424.223 849.443,421.93 851.25,419.655 853.057,417.396 854.864,415.155 856.671,412.93 858.478,410.722 860.285,408.53 862.091,406.355 863.898,404.197 865.705,402.054 867.512,399.928 869.319,397.817 871.126,395.723 872.933,393.645 874.74,391.582 876.546,389.535 878.353,387.503 880.16,385.487 881.967,383.486 883.774,381.501 885.581,379.53 887.388,377.575 889.194,375.635 891.001,373.709 892.808,371.799 894.615,369.903 896.422,368.021 898.229,366.154 900.036,364.302 901.843,362.463 903.649,360.639 905.456,358.83 907.263,357.034 909.07,355.252 910.877,353.484 912.684,351.729 914.491,349.989 916.297,348.262 918.104,346.548 919.911,344.848 921.718,343.161 923.525,341.487 925.332,339.827 927.139,338.18 928.945,336.545 930.752,334.923 932.559,333.315 934.366,331.719 936.173,330.135 937.98,328.564 939.787,327.006 941.594,325.46 943.4,323.926 945.207,322.405 947.014,320.895 948.821,319.398 950.628,317.913 952.435,316.439 954.242,314.978 956.048,313.528 957.855,312.09 959.662,310.663 961.469,309.248 963.276,307.844 965.083,306.452 966.89,305.071 968.697,303.701 970.503,302.342 972.31,300.995 974.117,299.658 975.924,298.332 977.731,297.017 979.538,295.713 981.345,294.419 983.151,293.136 984.958,291.864 986.765,290.602 988.572,289.35 990.379,288.109 992.186,286.878 993.993,285.657 995.8,284.446 997.606,283.246 999.413,282.055 1001.22,280.874 1003.03,279.703 1004.83,278.542 1006.64,277.39 1008.45,276.248 1010.25,275.116 1012.06,273.993 1013.87,272.879 1015.68,271.775 1017.48,270.68 1019.29,269.595 1021.1,268.518 1022.9,267.451 1024.71,266.393 1026.52,265.343 1028.32,264.303 1030.13,263.271 1031.94,262.248 1033.74,261.234 1035.55,260.229 1037.36,259.232 1039.16,258.244 1040.97,257.264 1042.78,256.292 1044.58,255.329 1046.39,254.374 1048.2,253.428 1050.01,252.489 1051.81,251.559 1053.62,250.637 1055.43,249.723 1057.23,248.816 1059.04,247.918 1060.85,247.027 1062.65,246.144 1064.46,245.269 1066.27,244.402 1068.07,243.542 1069.88,242.69 1071.69,241.845 1073.49,241.007 1075.3,240.177 1077.11,239.355 1078.92,238.539 1080.72,237.731 1082.53,236.93 1084.34,236.136 1086.14,235.349 1087.95,234.569 1089.76,233.796 1091.56,233.03 1093.37,232.271 1095.18,231.519 1096.98,230.773 1098.79,230.034 1100.6,229.302 1102.4,228.576 1104.21,227.857 1106.02,227.144 1107.83,226.438 1109.63,225.738 1111.44,225.045 1113.25,224.358 1115.05,223.677 1116.86,223.002 1118.67,222.334 1120.47,221.671 1122.28,221.015 1124.09,220.365 1125.89,219.72 1127.7,219.082 1129.51,218.449 1131.31,217.823 1133.12,217.202 1134.93,216.587 1136.74,215.977 1138.54,215.373 1140.35,214.775 1142.16,214.183 1143.96,213.596 1145.77,213.014 1147.58,212.438 1149.38,211.867 1151.19,211.302 1153,210.742 1154.8,210.187 1156.61,209.637 1158.42,209.093 1160.22,208.554 1162.03,208.02 1163.84,207.491 1165.64,206.967 1167.45,206.448 1169.26,205.934 1171.07,205.425 1172.87,204.92 1174.68,204.421 1176.49,203.926 1178.29,203.436 1180.1,202.951 1181.91,202.471 1183.71,201.995 1185.52,201.524 1187.33,201.057 1189.13,200.595 1190.94,200.137 1192.75,199.684 1194.55,199.235 1196.36,198.791 1198.17,198.351 1199.98,197.915 1201.78,197.484 1203.59,197.056 1205.4,196.634 1207.2,196.215 1209.01,195.8 1210.82,195.389 1212.62,194.983 1214.43,194.58 1216.24,194.182 1218.04,193.788 1219.85,193.397 1221.66,193.01 1223.46,192.628 1225.27,192.249 1227.08,191.874 1228.89,191.502 1230.69,191.135 1232.5,190.771 1234.31,190.411 1236.11,190.054 1237.92,189.701 1239.73,189.352 1241.53,189.006 1243.34,188.664 1245.15,188.325 1246.95,187.99 1248.76,187.658 1250.57,187.329 1252.37,187.004 1254.18,186.683 1255.99,186.364 1257.8,186.049 1259.6,185.737 1261.41,185.429 1263.22,185.123 1265.02,184.821 1266.83,184.522 1268.64,184.226 1270.44,183.933 1272.25,183.644 1274.06,183.357 1275.86,183.073 1277.67,182.793 1279.48,182.515 1281.28,182.24 1283.09,181.968 1284.9,181.699 1286.7,181.433 1288.51,181.17 1290.32,180.909 1292.13,180.652 1293.93,180.397 1295.74,180.144 1297.55,179.895 1299.35,179.648 1301.16,179.404 1302.97,179.163 1304.77,178.924 1306.58,178.687 1308.39,178.454 1310.19,178.222 1312,177.994 1313.81,177.768 1315.61,177.544 1317.42,177.323 1319.23,177.104 1321.04,176.888 1322.84,176.674 1324.65,176.462 1326.46,176.253 1328.26,176.046 1330.07,175.841 1331.88,175.639 1333.68,175.438 1335.49,175.24 1337.3,175.045 1339.1,174.851 1340.91,174.66 1342.72,174.471 1344.52,174.284 1346.33,174.099 1348.14,173.916 1349.95,173.735 1351.75,173.557 1353.56,173.38 1355.37,173.205 1357.17,173.033 1358.98,172.862 1360.79,172.693 1362.59,172.527 1364.4,172.362 1366.21,172.199 1368.01,172.038 1369.82,171.878 1371.63,171.721 1373.43,171.566 1375.24,171.412 1377.05,171.26 1378.86,171.11 1380.66,170.961 1382.47,170.815 1384.28,170.67 1386.08,170.527 1387.89,170.385 1389.7,170.245 1391.5,170.107 1393.31,169.971 1395.12,169.836 1396.92,169.702 1398.73,169.571 1400.54,169.44 1402.34,169.312 1404.15,169.185 1405.96,169.059 1407.76,168.935 1409.57,168.813 1411.38,168.692 1413.19,168.572 1414.99,168.454 1416.8,168.338 1418.61,168.222 1420.41,168.109 1422.22,167.996 1424.03,167.885 1425.83,167.776 1427.64,167.667 1429.45,167.56 1431.25,167.455 1433.06,167.35 1434.87,167.247 1436.67,167.146 1438.48,167.045 1440.29,166.946 1442.1,166.848 1443.9,166.751 1445.71,166.656 1447.52,166.561 1449.32,166.468 1451.13,166.376 1452.94,166.286 1454.74,166.196 1456.55,166.108 1458.36,166.02 1460.16,165.934 1461.97,165.849 1463.78,165.765 1465.58,165.682 1467.39,165.6 1469.2,165.519 1471.01,165.44 1472.81,165.361 1474.62,165.283 1476.43,165.207 1478.23,165.131 1480.04,165.056 1481.85,164.983 1483.65,164.91 1485.46,164.838 1487.27,164.767 1489.07,164.697 1490.88,164.629 1492.69,164.561 1494.49,164.493 1496.3,164.427 1498.11,164.362 1499.92,164.297 1501.72,164.234 1503.53,164.171 1505.34,164.109 1507.14,164.048 1508.95,163.988 1510.76,163.929 1512.56,163.87 1514.37,163.813 1516.18,163.756 1517.98,163.699 1519.79,163.644 1521.6,163.589 1523.4,163.535 1525.21,163.482 1527.02,163.43 1528.83,163.378 1530.63,163.327 1532.44,163.277 1534.25,163.228 1536.05,163.179 1537.86,163.131 1539.67,163.083 1541.47,163.036 1543.28,162.99 1545.09,162.945 1546.89,162.9 1548.7,162.856 1550.51,162.812 1552.31,162.769 1554.12,162.727 1555.93,162.685 1557.73,162.644 1559.54,162.604 1561.35,162.564 1563.16,162.525 1564.96,162.486 1566.77,162.448 1568.58,162.41 1570.38,162.373 1572.19,162.337 1574,162.301 1575.8,162.265 1577.61,162.23 1579.42,162.196 1581.22,162.162 1583.03,162.129 1584.84,162.096 1586.64,162.064 1588.45,162.032 1590.26,162 1592.07,161.969 1593.87,161.939 1595.68,161.909 1597.49,161.88 1599.29,161.851 1601.1,161.822 1602.91,161.794 1604.71,161.766 1606.52,161.739 1608.33,161.712 1610.13,161.685 1611.94,161.659 1613.75,161.634 1615.55,161.608 1617.36,161.584 1619.17,161.559 1620.98,161.535 1622.78,161.511 1624.59,161.488 1626.4,161.465 1628.2,161.443 1630.01,161.421 1631.82,161.399 1633.62,161.377 1635.43,161.356 1637.24,161.335 1639.04,161.315 1640.85,161.295 1642.66,161.275 1644.46,161.255 1646.27,161.236 1648.08,161.217 1649.89,161.199 1651.69,161.181 1653.5,161.163 1655.31,161.145 1657.11,161.128 1658.92,161.111 1660.73,161.094 1662.53,161.077 1664.34,161.061 1666.15,161.045 1667.95,161.03 1669.76,161.014 1671.57,160.999 1673.37,160.984 1675.18,160.97 1676.99,160.955 1678.79,160.941 1680.6,160.927 1682.41,160.914 1684.22,160.9 1686.02,160.887 1687.83,160.874 1689.64,160.862 1691.44,160.849 1693.25,160.837 1695.06,160.825 1696.86,160.813 1698.67,160.802 1700.48,160.79 1702.28,160.779 1704.09,160.768 1705.9,160.757 1707.7,160.747 1709.51,160.736 1711.32,160.726 1713.13,160.716 1714.93,160.706 1716.74,160.697 1718.55,160.687 1720.35,160.678 1722.16,160.669 1723.97,160.66 1725.77,160.651 1727.58,160.642 1729.39,160.634 1731.19,160.625 1733,160.617 1734.81,160.609 1736.61,160.601 1738.42,160.594 1740.23,160.586 1742.04,160.579 1743.84,160.572 1745.65,160.564 1747.46,160.557 1749.26,160.551 1751.07,160.544 1752.88,160.537 1754.68,160.531 1756.49,160.525 1758.3,160.518 1760.1,160.512 1761.91,160.506 1763.72,160.5 1765.52,160.495 1767.33,160.489 1769.14,160.484 1770.95,160.478 1772.75,160.473 1774.56,160.468 1776.37,160.463 1778.17,160.458 1779.98,160.453 1781.79,160.448 1783.59,160.444 1785.4,160.439 1787.21,160.435 1789.01,160.43 1790.82,160.426 1792.63,160.422 1794.43,160.418 1796.24,160.414 1798.05,160.41 1799.85,160.406 1801.66,160.402 1803.47,160.399 1805.28,160.395 1807.08,160.391 1808.89,160.388 1810.7,160.385 1812.5,160.381 1814.31,160.378 1816.12,160.375 1817.92,160.372 1819.73,160.369 1821.54,160.366 1823.34,160.363 1825.15,160.36 1826.96,160.358 1828.76,160.355 1830.57,160.352 1832.38,160.35 1834.19,160.347 1835.99,160.345 1837.8,160.342 1839.61,160.34 1841.41,160.338 1843.22,160.336 1845.03,160.333 1846.83,160.331 1848.64,160.329 1850.45,160.327 1852.25,160.325 1854.06,160.323 1855.87,160.321 1857.67,160.32 1859.48,160.318 1861.29,160.316 1863.1,160.314 1864.9,160.313 1866.71,160.311 1868.52,160.31 1870.32,160.308 1872.13,160.306 1873.94,160.305 1875.74,160.303 1877.55,160.302 1879.36,160.301 1881.16,160.299 1882.97,160.298 1884.78,160.297 1886.58,160.296 1888.39,160.294 1890.2,160.293 1892.01,160.292 1893.81,160.291 1895.62,160.29 1897.43,160.289 1899.23,160.288 1901.04,160.287 1902.85,160.286 1904.65,160.285 1906.46,160.284 1908.27,160.283 1910.07,160.282 1911.88,160.282 1913.69,160.281 1915.49,160.28 1917.3,160.279 1919.11,160.278 1920.91,160.278 1922.72,160.277 1924.53,160.276 1926.34,160.276 1928.14,160.275 1929.95,160.274 1931.76,160.274 1933.56,160.273 1935.37,160.273 1937.18,160.272 1938.98,160.272 1940.79,160.271 1942.6,160.271 1944.4,160.27 1946.21,160.27 1948.02,160.269 1949.82,160.269 1951.63,160.268 1953.44,160.268 1955.25,160.267 1957.05,160.267 1958.86,160.267 1960.67,160.266 1962.47,160.266 1964.28,160.266 1966.09,160.265 1967.89,160.265 1969.7,160.265 1971.51,160.264 1973.31,160.264 1975.12,160.264 1976.93,160.263 1978.73,160.263 1980.54,160.263 1982.35,160.263 1984.16,160.262 1985.96,160.262 1987.77,160.262 1989.58,160.262 1991.38,160.261 1993.19,160.261 1995,160.261 1996.8,160.261 1998.61,160.261 2000.42,160.261 2002.22,160.26 2004.03,160.26 2005.84,160.26 2007.64,160.26 2009.45,160.26 2011.26,160.26 2013.07,160.259 2014.87,160.259 2016.68,160.259 2018.49,160.259 2020.29,160.259 2022.1,160.259 2023.91,160.259 2025.71,160.259 2027.52,160.259 2029.33,160.258 2031.13,160.258 2032.94,160.258 2034.75,160.258 2036.55,160.258 2038.36,160.258 2040.17,160.258 2041.97,160.258 2043.78,160.258 2045.59,160.258 2047.4,160.258 2049.2,160.258 2051.01,160.258 2052.82,160.257 2054.62,160.257 2056.43,160.257 2058.24,160.257 2060.04,160.257 2061.85,160.257 2063.66,160.257 2065.46,160.257 2067.27,160.257 2069.08,160.257 2070.88,160.257 2072.69,160.257 2074.5,160.257 2076.31,160.257 2078.11,160.257 2079.92,160.257 2081.73,160.257 2083.53,160.257 2085.34,160.257 2087.15,160.257 2088.95,160.257 2090.76,160.257 2092.57,160.257 2094.37,160.257 2096.18,160.257 2097.99,160.257 2099.79,160.257 2101.6,160.257 2103.41,160.257 2105.22,160.257 2107.02,160.257 2108.83,160.257 2110.64,160.257 2112.44,160.257 2114.25,160.257 2116.06,160.257 2117.86,160.257 2119.67,160.257 2121.48,160.257 2123.28,160.257 2125.09,160.257 2126.9,160.256 2128.7,160.256 2130.51,160.256 2132.32,160.256 2134.13,160.256 2135.93,160.257 2137.74,160.256 2139.55,160.256 2141.35,160.256 2143.16,160.256 2144.97,160.256 2146.77,160.256 2148.58,160.256 2150.39,160.256 2152.19,160.256 2154,160.256 2155.81,160.257 2157.61,160.256 2159.42,160.256 2161.23,160.256 2163.03,160.256 2164.84,160.256 2166.65,160.256 2168.46,160.256 2170.26,160.256 2172.07,160.256 2173.88,160.256 2175.68,160.256 2177.49,160.256 2179.3,160.256 2181.1,160.256 2182.91,160.256 2184.72,160.257 2186.52,160.256 2188.33,160.256 2190.14,160.256 2191.94,160.256 2193.75,160.256 2195.56,160.256 2197.37,160.256 2199.17,160.256 2200.98,160.256 2202.79,160.256 2204.59,160.256 2206.4,160.256 2208.21,160.256 2210.01,160.256 2211.82,160.256 2213.63,160.256 2215.43,160.256 2217.24,160.256 2219.05,160.257 2220.85,160.256 2222.66,160.256 2224.47,160.256 2226.28,160.256 2228.08,160.256 2229.89,160.256 2231.7,160.256 2233.5,160.256 2235.31,160.256 2237.12,160.256 2238.92,160.256 2240.73,160.256 2242.54,160.256 2244.34,160.256 2246.15,160.257 2247.96,160.256 2249.76,160.256 2251.57,160.256 2253.38,160.256 2255.19,160.256 2256.99,160.256 2258.8,160.256 2260.61,160.256 2262.41,160.256 2264.22,160.256 2266.03,160.256 2267.83,160.256 2269.64,160.256 2271.45,160.256 2273.25,160.256 2275.06,160.256 2276.87,160.256 2278.67,160.256 2280.48,160.256 2282.29,160.256 2284.09,160.256 2285.9,160.256 2287.71,160.256 2289.52,160.256 2291.32,160.256 2293.13,160.257 2294.94,160.256 2296.74,160.256 2298.55,160.256 \"/>\n",
       "<polyline clip-path=\"url(#clip782)\" style=\"stroke:#ffff00; stroke-linecap:round; stroke-linejoin:round; stroke-width:8; stroke-opacity:1; fill:none\" points=\"2027.52,160.259 2029.33,160.258 2031.13,160.258 2032.94,160.258 2034.75,160.258 2036.55,160.258 2038.36,160.258 2040.17,160.258 2041.97,160.258 2043.78,160.258 2045.59,160.258 2047.4,160.258 2049.2,160.258 2051.01,160.258 2052.82,160.257 2054.62,160.257 2056.43,160.257 2058.24,160.257 2060.04,160.257 2061.85,160.257 2063.66,160.257 2065.46,160.257 2067.27,160.257 2069.08,160.257 2070.88,160.257 2072.69,160.257 2074.5,160.257 2076.31,160.257 2078.11,160.257 2079.92,160.257 2081.73,160.257 2083.53,160.257 2085.34,160.257 2087.15,160.257 2088.95,160.257 2090.76,160.257 2092.57,160.257 2094.37,160.257 2096.18,160.257 2097.99,160.257 2099.79,160.257 2101.6,160.257 2103.41,160.257 2105.22,160.257 2107.02,160.257 2108.83,160.257 2110.64,160.257 2112.44,160.257 2114.25,160.257 2116.06,160.257 2117.86,160.257 2119.67,160.257 2121.48,160.257 2123.28,160.257 2125.09,160.257 2126.9,160.256 2128.7,160.256 2130.51,160.256 2132.32,160.256 2134.13,160.256 2135.93,160.257 2137.74,160.256 2139.55,160.256 2141.35,160.256 2143.16,160.256 2144.97,160.256 2146.77,160.256 2148.58,160.256 2150.39,160.256 2152.19,160.256 2154,160.256 2155.81,160.257 2157.61,160.256 2159.42,160.256 2161.23,160.256 2163.03,160.256 2164.84,160.256 2166.65,160.256 2168.46,160.256 2170.26,160.256 2172.07,160.256 2173.88,160.256 2175.68,160.256 2177.49,160.256 2179.3,160.256 2181.1,160.256 2182.91,160.256 2184.72,160.257 2186.52,160.256 2188.33,160.256 2190.14,160.256 2191.94,160.256 2193.75,160.256 2195.56,160.256 2197.37,160.256 2199.17,160.256 2200.98,160.256 2202.79,160.256 2204.59,160.256 2206.4,160.256 2208.21,160.256 2210.01,160.256 2211.82,160.256 2213.63,160.256 2215.43,160.256 2217.24,160.256 2219.05,160.257 2220.85,160.256 2222.66,160.256 2224.47,160.256 2226.28,160.256 2228.08,160.256 2229.89,160.256 2231.7,160.256 2233.5,160.256 2235.31,160.256 2237.12,160.256 2238.92,160.256 2240.73,160.256 2242.54,160.256 2244.34,160.256 2246.15,160.257 2247.96,160.256 2249.76,160.256 2251.57,160.256 2253.38,160.256 2255.19,160.256 2256.99,160.256 2258.8,160.256 2260.61,160.256 2262.41,160.256 2264.22,160.256 2266.03,160.256 2267.83,160.256 2269.64,160.256 2271.45,160.256 2273.25,160.256 2275.06,160.256 2276.87,160.256 2278.67,160.256 2280.48,160.256 2282.29,160.256 2284.09,160.256 2285.9,160.256 2287.71,160.256 2289.52,160.256 2291.32,160.256 2293.13,160.257 2294.94,160.256 2296.74,160.256 2298.55,160.256 \"/>\n",
       "<polyline clip-path=\"url(#clip782)\" style=\"stroke:#ff0000; stroke-linecap:round; stroke-linejoin:round; stroke-width:8; stroke-opacity:1; fill:none\" points=\"2117.86,160.257 2119.67,160.257 2121.48,160.257 2123.28,160.257 2125.09,160.257 2126.9,160.256 2128.7,160.256 2130.51,160.256 2132.32,160.256 2134.13,160.256 2135.93,160.257 2137.74,160.256 2139.55,160.256 2141.35,160.256 2143.16,160.256 2144.97,160.256 2146.77,160.256 2148.58,160.256 2150.39,160.256 2152.19,160.256 2154,160.256 2155.81,160.257 2157.61,160.256 2159.42,160.256 2161.23,160.256 2163.03,160.256 2164.84,160.256 2166.65,160.256 2168.46,160.256 2170.26,160.256 2172.07,160.256 2173.88,160.256 2175.68,160.256 2177.49,160.256 2179.3,160.256 2181.1,160.256 2182.91,160.256 2184.72,160.257 2186.52,160.256 2188.33,160.256 2190.14,160.256 2191.94,160.256 2193.75,160.256 2195.56,160.256 2197.37,160.256 2199.17,160.256 2200.98,160.256 2202.79,160.256 2204.59,160.256 2206.4,160.256 2208.21,160.256 2210.01,160.256 2211.82,160.256 2213.63,160.256 2215.43,160.256 2217.24,160.256 2219.05,160.257 2220.85,160.256 2222.66,160.256 2224.47,160.256 2226.28,160.256 2228.08,160.256 2229.89,160.256 2231.7,160.256 2233.5,160.256 2235.31,160.256 2237.12,160.256 2238.92,160.256 2240.73,160.256 2242.54,160.256 2244.34,160.256 2246.15,160.257 2247.96,160.256 2249.76,160.256 2251.57,160.256 2253.38,160.256 2255.19,160.256 2256.99,160.256 2258.8,160.256 2260.61,160.256 2262.41,160.256 2264.22,160.256 2266.03,160.256 2267.83,160.256 2269.64,160.256 2271.45,160.256 2273.25,160.256 2275.06,160.256 2276.87,160.256 2278.67,160.256 2280.48,160.256 2282.29,160.256 2284.09,160.256 2285.9,160.256 2287.71,160.256 2289.52,160.256 2291.32,160.256 2293.13,160.257 2294.94,160.256 2296.74,160.256 2298.55,160.256 \"/>\n",
       "<path clip-path=\"url(#clip780)\" d=\"M1771.23 1379.86 L2288.91 1379.86 L2288.91 1172.5 L1771.23 1172.5  Z\" fill=\"#ffffff\" fill-rule=\"evenodd\" fill-opacity=\"1\"/>\n",
       "<polyline clip-path=\"url(#clip780)\" style=\"stroke:#000000; stroke-linecap:round; stroke-linejoin:round; stroke-width:4; stroke-opacity:1; fill:none\" points=\"1771.23,1379.86 2288.91,1379.86 2288.91,1172.5 1771.23,1172.5 1771.23,1379.86 \"/>\n",
       "<polyline clip-path=\"url(#clip780)\" style=\"stroke:#0000ff; stroke-linecap:round; stroke-linejoin:round; stroke-width:8; stroke-opacity:1; fill:none\" points=\"1792.51,1224.34 1920.2,1224.34 \"/>\n",
       "<path clip-path=\"url(#clip780)\" d=\"M1953.42 1210.13 Q1949.81 1210.13 1947.98 1213.7 Q1946.18 1217.24 1946.18 1224.37 Q1946.18 1231.48 1947.98 1235.04 Q1949.81 1238.58 1953.42 1238.58 Q1957.06 1238.58 1958.86 1235.04 Q1960.69 1231.48 1960.69 1224.37 Q1960.69 1217.24 1958.86 1213.7 Q1957.06 1210.13 1953.42 1210.13 M1953.42 1206.43 Q1959.23 1206.43 1962.29 1211.04 Q1965.37 1215.62 1965.37 1224.37 Q1965.37 1233.1 1962.29 1237.7 Q1959.23 1242.29 1953.42 1242.29 Q1947.61 1242.29 1944.53 1237.7 Q1941.48 1233.1 1941.48 1224.37 Q1941.48 1215.62 1944.53 1211.04 Q1947.61 1206.43 1953.42 1206.43 Z\" fill=\"#000000\" fill-rule=\"nonzero\" fill-opacity=\"1\" /><path clip-path=\"url(#clip780)\" d=\"M1973.58 1235.74 L1978.47 1235.74 L1978.47 1241.62 L1973.58 1241.62 L1973.58 1235.74 Z\" fill=\"#000000\" fill-rule=\"nonzero\" fill-opacity=\"1\" /><path clip-path=\"url(#clip780)\" d=\"M1988.79 1240.9 L1988.79 1236.64 Q1990.55 1237.47 1992.36 1237.91 Q1994.16 1238.35 1995.9 1238.35 Q2000.53 1238.35 2002.96 1235.25 Q2005.41 1232.13 2005.76 1225.78 Q2004.42 1227.77 2002.36 1228.84 Q2000.3 1229.9 1997.8 1229.9 Q1992.61 1229.9 1989.58 1226.78 Q1986.57 1223.63 1986.57 1218.19 Q1986.57 1212.87 1989.72 1209.65 Q1992.87 1206.43 1998.1 1206.43 Q2004.09 1206.43 2007.24 1211.04 Q2010.41 1215.62 2010.41 1224.37 Q2010.41 1232.54 2006.52 1237.43 Q2002.66 1242.29 1996.11 1242.29 Q1994.35 1242.29 1992.54 1241.94 Q1990.74 1241.59 1988.79 1240.9 M1998.1 1226.25 Q2001.24 1226.25 2003.07 1224.09 Q2004.93 1221.94 2004.93 1218.19 Q2004.93 1214.46 2003.07 1212.31 Q2001.24 1210.13 1998.1 1210.13 Q1994.95 1210.13 1993.1 1212.31 Q1991.27 1214.46 1991.27 1218.19 Q1991.27 1221.94 1993.1 1224.09 Q1994.95 1226.25 1998.1 1226.25 Z\" fill=\"#000000\" fill-rule=\"nonzero\" fill-opacity=\"1\" /><path clip-path=\"url(#clip780)\" d=\"M2063.51 1218.1 L2041.29 1224.51 L2063.51 1230.85 L2063.51 1234.97 L2033.84 1226.45 L2033.84 1222.52 L2063.51 1214.02 L2063.51 1218.1 M2033.84 1237.68 L2063.51 1237.68 L2063.51 1241.62 L2033.84 1241.62 L2033.84 1237.68 Z\" fill=\"#000000\" fill-rule=\"nonzero\" fill-opacity=\"1\" /><path clip-path=\"url(#clip780)\" d=\"M2109.62 1215.69 L2100.25 1228.31 L2110.11 1241.62 L2105.09 1241.62 L2097.54 1231.43 L2089.99 1241.62 L2084.97 1241.62 L2095.04 1228.05 L2085.83 1215.69 L2090.85 1215.69 L2097.73 1224.93 L2104.6 1215.69 L2109.62 1215.69 Z\" fill=\"#000000\" fill-rule=\"nonzero\" fill-opacity=\"1\" /><path clip-path=\"url(#clip780)\" d=\"M2161.43 1218.1 L2139.21 1224.51 L2161.43 1230.85 L2161.43 1234.97 L2131.75 1226.45 L2131.75 1222.52 L2161.43 1214.02 L2161.43 1218.1 M2131.75 1237.68 L2161.43 1237.68 L2161.43 1241.62 L2131.75 1241.62 L2131.75 1237.68 Z\" fill=\"#000000\" fill-rule=\"nonzero\" fill-opacity=\"1\" /><path clip-path=\"url(#clip780)\" d=\"M2187.4 1237.68 L2195.04 1237.68 L2195.04 1211.32 L2186.73 1212.98 L2186.73 1208.72 L2194.99 1207.06 L2199.67 1207.06 L2199.67 1237.68 L2207.31 1237.68 L2207.31 1241.62 L2187.4 1241.62 L2187.4 1237.68 Z\" fill=\"#000000\" fill-rule=\"nonzero\" fill-opacity=\"1\" /><polyline clip-path=\"url(#clip780)\" style=\"stroke:#ffff00; stroke-linecap:round; stroke-linejoin:round; stroke-width:8; stroke-opacity:1; fill:none\" points=\"1792.51,1276.18 1920.2,1276.18 \"/>\n",
       "<path clip-path=\"url(#clip780)\" d=\"M1953.42 1261.97 Q1949.81 1261.97 1947.98 1265.54 Q1946.18 1269.08 1946.18 1276.21 Q1946.18 1283.32 1947.98 1286.88 Q1949.81 1290.42 1953.42 1290.42 Q1957.06 1290.42 1958.86 1286.88 Q1960.69 1283.32 1960.69 1276.21 Q1960.69 1269.08 1958.86 1265.54 Q1957.06 1261.97 1953.42 1261.97 M1953.42 1258.27 Q1959.23 1258.27 1962.29 1262.88 Q1965.37 1267.46 1965.37 1276.21 Q1965.37 1284.94 1962.29 1289.54 Q1959.23 1294.13 1953.42 1294.13 Q1947.61 1294.13 1944.53 1289.54 Q1941.48 1284.94 1941.48 1276.21 Q1941.48 1267.46 1944.53 1262.88 Q1947.61 1258.27 1953.42 1258.27 Z\" fill=\"#000000\" fill-rule=\"nonzero\" fill-opacity=\"1\" /><path clip-path=\"url(#clip780)\" d=\"M1973.58 1287.58 L1978.47 1287.58 L1978.47 1293.46 L1973.58 1293.46 L1973.58 1287.58 Z\" fill=\"#000000\" fill-rule=\"nonzero\" fill-opacity=\"1\" /><path clip-path=\"url(#clip780)\" d=\"M1988.79 1292.74 L1988.79 1288.48 Q1990.55 1289.31 1992.36 1289.75 Q1994.16 1290.19 1995.9 1290.19 Q2000.53 1290.19 2002.96 1287.09 Q2005.41 1283.97 2005.76 1277.62 Q2004.42 1279.61 2002.36 1280.68 Q2000.3 1281.74 1997.8 1281.74 Q1992.61 1281.74 1989.58 1278.62 Q1986.57 1275.47 1986.57 1270.03 Q1986.57 1264.71 1989.72 1261.49 Q1992.87 1258.27 1998.1 1258.27 Q2004.09 1258.27 2007.24 1262.88 Q2010.41 1267.46 2010.41 1276.21 Q2010.41 1284.38 2006.52 1289.27 Q2002.66 1294.13 1996.11 1294.13 Q1994.35 1294.13 1992.54 1293.78 Q1990.74 1293.43 1988.79 1292.74 M1998.1 1278.09 Q2001.24 1278.09 2003.07 1275.93 Q2004.93 1273.78 2004.93 1270.03 Q2004.93 1266.3 2003.07 1264.15 Q2001.24 1261.97 1998.1 1261.97 Q1994.95 1261.97 1993.1 1264.15 Q1991.27 1266.3 1991.27 1270.03 Q1991.27 1273.78 1993.1 1275.93 Q1994.95 1278.09 1998.1 1278.09 Z\" fill=\"#000000\" fill-rule=\"nonzero\" fill-opacity=\"1\" /><path clip-path=\"url(#clip780)\" d=\"M2028.81 1277.04 Q2025.48 1277.04 2023.56 1278.83 Q2021.66 1280.61 2021.66 1283.73 Q2021.66 1286.86 2023.56 1288.64 Q2025.48 1290.42 2028.81 1290.42 Q2032.15 1290.42 2034.07 1288.64 Q2035.99 1286.84 2035.99 1283.73 Q2035.99 1280.61 2034.07 1278.83 Q2032.17 1277.04 2028.81 1277.04 M2024.14 1275.05 Q2021.13 1274.31 2019.44 1272.25 Q2017.77 1270.19 2017.77 1267.23 Q2017.77 1263.09 2020.71 1260.68 Q2023.68 1258.27 2028.81 1258.27 Q2033.98 1258.27 2036.92 1260.68 Q2039.86 1263.09 2039.86 1267.23 Q2039.86 1270.19 2038.17 1272.25 Q2036.5 1274.31 2033.51 1275.05 Q2036.89 1275.84 2038.77 1278.13 Q2040.67 1280.42 2040.67 1283.73 Q2040.67 1288.76 2037.59 1291.44 Q2034.53 1294.13 2028.81 1294.13 Q2023.1 1294.13 2020.02 1291.44 Q2016.96 1288.76 2016.96 1283.73 Q2016.96 1280.42 2018.86 1278.13 Q2020.76 1275.84 2024.14 1275.05 M2022.43 1267.67 Q2022.43 1270.35 2024.09 1271.86 Q2025.78 1273.36 2028.81 1273.36 Q2031.82 1273.36 2033.51 1271.86 Q2035.23 1270.35 2035.23 1267.67 Q2035.23 1264.98 2033.51 1263.48 Q2031.82 1261.97 2028.81 1261.97 Q2025.78 1261.97 2024.09 1263.48 Q2022.43 1264.98 2022.43 1267.67 Z\" fill=\"#000000\" fill-rule=\"nonzero\" fill-opacity=\"1\" /><path clip-path=\"url(#clip780)\" d=\"M2049.02 1258.9 L2067.38 1258.9 L2067.38 1262.83 L2053.3 1262.83 L2053.3 1271.3 Q2054.32 1270.96 2055.34 1270.79 Q2056.36 1270.61 2057.38 1270.61 Q2063.17 1270.61 2066.55 1273.78 Q2069.93 1276.95 2069.93 1282.37 Q2069.93 1287.95 2066.45 1291.05 Q2062.98 1294.13 2056.66 1294.13 Q2054.49 1294.13 2052.22 1293.76 Q2049.97 1293.39 2047.56 1292.65 L2047.56 1287.95 Q2049.65 1289.08 2051.87 1289.64 Q2054.09 1290.19 2056.57 1290.19 Q2060.57 1290.19 2062.91 1288.09 Q2065.25 1285.98 2065.25 1282.37 Q2065.25 1278.76 2062.91 1276.65 Q2060.57 1274.54 2056.57 1274.54 Q2054.69 1274.54 2052.82 1274.96 Q2050.97 1275.38 2049.02 1276.26 L2049.02 1258.9 Z\" fill=\"#000000\" fill-rule=\"nonzero\" fill-opacity=\"1\" /><path clip-path=\"url(#clip780)\" d=\"M2123.84 1269.94 L2101.61 1276.35 L2123.84 1282.69 L2123.84 1286.81 L2094.16 1278.29 L2094.16 1274.36 L2123.84 1265.86 L2123.84 1269.94 M2094.16 1289.52 L2123.84 1289.52 L2123.84 1293.46 L2094.16 1293.46 L2094.16 1289.52 Z\" fill=\"#000000\" fill-rule=\"nonzero\" fill-opacity=\"1\" /><path clip-path=\"url(#clip780)\" d=\"M2169.95 1267.53 L2160.57 1280.15 L2170.43 1293.46 L2165.41 1293.46 L2157.86 1283.27 L2150.32 1293.46 L2145.3 1293.46 L2155.36 1279.89 L2146.15 1267.53 L2151.17 1267.53 L2158.05 1276.77 L2164.92 1267.53 L2169.95 1267.53 Z\" fill=\"#000000\" fill-rule=\"nonzero\" fill-opacity=\"1\" /><path clip-path=\"url(#clip780)\" d=\"M2221.75 1269.94 L2199.53 1276.35 L2221.75 1282.69 L2221.75 1286.81 L2192.08 1278.29 L2192.08 1274.36 L2221.75 1265.86 L2221.75 1269.94 M2192.08 1289.52 L2221.75 1289.52 L2221.75 1293.46 L2192.08 1293.46 L2192.08 1289.52 Z\" fill=\"#000000\" fill-rule=\"nonzero\" fill-opacity=\"1\" /><path clip-path=\"url(#clip780)\" d=\"M2247.73 1289.52 L2255.36 1289.52 L2255.36 1263.16 L2247.05 1264.82 L2247.05 1260.56 L2255.32 1258.9 L2259.99 1258.9 L2259.99 1289.52 L2267.63 1289.52 L2267.63 1293.46 L2247.73 1293.46 L2247.73 1289.52 Z\" fill=\"#000000\" fill-rule=\"nonzero\" fill-opacity=\"1\" /><polyline clip-path=\"url(#clip780)\" style=\"stroke:#ff0000; stroke-linecap:round; stroke-linejoin:round; stroke-width:8; stroke-opacity:1; fill:none\" points=\"1792.51,1328.02 1920.2,1328.02 \"/>\n",
       "<path clip-path=\"url(#clip780)\" d=\"M1953.42 1313.81 Q1949.81 1313.81 1947.98 1317.38 Q1946.18 1320.92 1946.18 1328.05 Q1946.18 1335.16 1947.98 1338.72 Q1949.81 1342.26 1953.42 1342.26 Q1957.06 1342.26 1958.86 1338.72 Q1960.69 1335.16 1960.69 1328.05 Q1960.69 1320.92 1958.86 1317.38 Q1957.06 1313.81 1953.42 1313.81 M1953.42 1310.11 Q1959.23 1310.11 1962.29 1314.72 Q1965.37 1319.3 1965.37 1328.05 Q1965.37 1336.78 1962.29 1341.38 Q1959.23 1345.97 1953.42 1345.97 Q1947.61 1345.97 1944.53 1341.38 Q1941.48 1336.78 1941.48 1328.05 Q1941.48 1319.3 1944.53 1314.72 Q1947.61 1310.11 1953.42 1310.11 Z\" fill=\"#000000\" fill-rule=\"nonzero\" fill-opacity=\"1\" /><path clip-path=\"url(#clip780)\" d=\"M1973.58 1339.42 L1978.47 1339.42 L1978.47 1345.3 L1973.58 1345.3 L1973.58 1339.42 Z\" fill=\"#000000\" fill-rule=\"nonzero\" fill-opacity=\"1\" /><path clip-path=\"url(#clip780)\" d=\"M1988.79 1344.58 L1988.79 1340.32 Q1990.55 1341.15 1992.36 1341.59 Q1994.16 1342.03 1995.9 1342.03 Q2000.53 1342.03 2002.96 1338.93 Q2005.41 1335.81 2005.76 1329.46 Q2004.42 1331.45 2002.36 1332.52 Q2000.3 1333.58 1997.8 1333.58 Q1992.61 1333.58 1989.58 1330.46 Q1986.57 1327.31 1986.57 1321.87 Q1986.57 1316.55 1989.72 1313.33 Q1992.87 1310.11 1998.1 1310.11 Q2004.09 1310.11 2007.24 1314.72 Q2010.41 1319.3 2010.41 1328.05 Q2010.41 1336.22 2006.52 1341.11 Q2002.66 1345.97 1996.11 1345.97 Q1994.35 1345.97 1992.54 1345.62 Q1990.74 1345.27 1988.79 1344.58 M1998.1 1329.93 Q2001.24 1329.93 2003.07 1327.77 Q2004.93 1325.62 2004.93 1321.87 Q2004.93 1318.14 2003.07 1315.99 Q2001.24 1313.81 1998.1 1313.81 Q1994.95 1313.81 1993.1 1315.99 Q1991.27 1318.14 1991.27 1321.87 Q1991.27 1325.62 1993.1 1327.77 Q1994.95 1329.93 1998.1 1329.93 Z\" fill=\"#000000\" fill-rule=\"nonzero\" fill-opacity=\"1\" /><path clip-path=\"url(#clip780)\" d=\"M2018.95 1344.58 L2018.95 1340.32 Q2020.71 1341.15 2022.52 1341.59 Q2024.32 1342.03 2026.06 1342.03 Q2030.69 1342.03 2033.12 1338.93 Q2035.57 1335.81 2035.92 1329.46 Q2034.58 1331.45 2032.52 1332.52 Q2030.46 1333.58 2027.96 1333.58 Q2022.77 1333.58 2019.74 1330.46 Q2016.73 1327.31 2016.73 1321.87 Q2016.73 1316.55 2019.88 1313.33 Q2023.03 1310.11 2028.26 1310.11 Q2034.25 1310.11 2037.4 1314.72 Q2040.57 1319.3 2040.57 1328.05 Q2040.57 1336.22 2036.68 1341.11 Q2032.82 1345.97 2026.27 1345.97 Q2024.51 1345.97 2022.7 1345.62 Q2020.9 1345.27 2018.95 1344.58 M2028.26 1329.93 Q2031.41 1329.93 2033.24 1327.77 Q2035.09 1325.62 2035.09 1321.87 Q2035.09 1318.14 2033.24 1315.99 Q2031.41 1313.81 2028.26 1313.81 Q2025.11 1313.81 2023.26 1315.99 Q2021.43 1318.14 2021.43 1321.87 Q2021.43 1325.62 2023.26 1327.77 Q2025.11 1329.93 2028.26 1329.93 Z\" fill=\"#000000\" fill-rule=\"nonzero\" fill-opacity=\"1\" /><path clip-path=\"url(#clip780)\" d=\"M2093.68 1321.78 L2071.45 1328.19 L2093.68 1334.53 L2093.68 1338.65 L2064 1330.13 L2064 1326.2 L2093.68 1317.7 L2093.68 1321.78 M2064 1341.36 L2093.68 1341.36 L2093.68 1345.3 L2064 1345.3 L2064 1341.36 Z\" fill=\"#000000\" fill-rule=\"nonzero\" fill-opacity=\"1\" /><path clip-path=\"url(#clip780)\" d=\"M2139.79 1319.37 L2130.41 1331.99 L2140.27 1345.3 L2135.25 1345.3 L2127.7 1335.11 L2120.16 1345.3 L2115.13 1345.3 L2125.2 1331.73 L2115.99 1319.37 L2121.01 1319.37 L2127.89 1328.61 L2134.76 1319.37 L2139.79 1319.37 Z\" fill=\"#000000\" fill-rule=\"nonzero\" fill-opacity=\"1\" /><path clip-path=\"url(#clip780)\" d=\"M2191.59 1321.78 L2169.37 1328.19 L2191.59 1334.53 L2191.59 1338.65 L2161.92 1330.13 L2161.92 1326.2 L2191.59 1317.7 L2191.59 1321.78 M2161.92 1341.36 L2191.59 1341.36 L2191.59 1345.3 L2161.92 1345.3 L2161.92 1341.36 Z\" fill=\"#000000\" fill-rule=\"nonzero\" fill-opacity=\"1\" /><path clip-path=\"url(#clip780)\" d=\"M2217.56 1341.36 L2225.2 1341.36 L2225.2 1315 L2216.89 1316.66 L2216.89 1312.4 L2225.16 1310.74 L2229.83 1310.74 L2229.83 1341.36 L2237.47 1341.36 L2237.47 1345.3 L2217.56 1345.3 L2217.56 1341.36 Z\" fill=\"#000000\" fill-rule=\"nonzero\" fill-opacity=\"1\" /></svg>\n"
      ]
     },
     "execution_count": 37,
     "metadata": {},
     "output_type": "execute_result"
    }
   ],
   "source": [
    "# (a)\n",
    "\n",
    "using Plots\n",
    "f(x) = x.^7 - 7x.^6 + 21x.^5 - 35x.^4 + 35x.^3 - 21x.^2 + 7x - 1\n",
    "\n",
    "# Selang nilai x\n",
    "selang1_plots = 0.9:0.0001:1\n",
    "selang2_plots = 0.985:0.0001:1\n",
    "selang3_plots = 0.99:0.0001:1\n",
    "\n",
    "# Plot grafik pada selang yang ditentukan\n",
    "plot(selang1_plots, f.(selang1_plots), label=\"0.9 ≤ x ≤ 1\", color=:blue, linewidth=2)\n",
    "plot!(selang2_plots, f.(selang2_plots), label=\"0.985 ≤ x ≤ 1\", color=:yellow, linewidth=2)\n",
    "plot!(selang3_plots, f.(selang3_plots), label=\"0.99 ≤ x ≤ 1\", color=:red, linewidth=2)\n",
    "\n",
    "title!(\"Grafik fungsi f(x) menggunakan paket Plots\")\n",
    "xlabel!(\"x\")\n",
    "ylabel!(\"f(x)\")"
   ]
  },
  {
   "cell_type": "markdown",
   "id": "ac953c2d-713b-40a8-addf-e06c20de0557",
   "metadata": {},
   "source": [
    "__Penjelasan :__\n",
    "\n",
    "Grafik yang dihasilkan adalah grafik polinomial orde 7. Seiring mendekati $x = 1$, grafik fungsi polinomial ini menjadi semakin tajam dan fluktuatif. Secara umum, polinomial orde tinggi seperti ini dapat memiliki tingkah laku yang kompleks. Pada selang $0.9 ≤ x ≤ 1$, grafik yang dihasilkan sekilas terlihat seperti grafik fungsi $ln(x)$, hanya saja pada selang yang ditentukan ini, nilai $f(x)$ belum melebihi 0."
   ]
  },
  {
   "cell_type": "code",
   "execution_count": null,
   "id": "8001133d-e330-4116-8fa5-d8d50c28ef61",
   "metadata": {},
   "outputs": [],
   "source": [
    "using Pkg\n",
    "Pkg.add(\"PyPlot\")"
   ]
  },
  {
   "cell_type": "code",
   "execution_count": 39,
   "id": "91aa7b07-aa73-46ca-acca-a14335f0bc86",
   "metadata": {},
   "outputs": [
    {
     "name": "stderr",
     "output_type": "stream",
     "text": [
      "WARNING: using PyPlot.plot in module Main conflicts with an existing identifier.\n"
     ]
    },
    {
     "data": {
      "image/svg+xml": [
       "<?xml version=\"1.0\" encoding=\"utf-8\"?>\n",
       "<svg xmlns=\"http://www.w3.org/2000/svg\" xmlns:xlink=\"http://www.w3.org/1999/xlink\" width=\"600\" height=\"400\" viewBox=\"0 0 2400 1600\">\n",
       "<defs>\n",
       "  <clipPath id=\"clip820\">\n",
       "    <rect x=\"0\" y=\"0\" width=\"2400\" height=\"1600\"/>\n",
       "  </clipPath>\n",
       "</defs>\n",
       "<path clip-path=\"url(#clip820)\" d=\"M0 1600 L2400 1600 L2400 0 L0 0  Z\" fill=\"#ffffff\" fill-rule=\"evenodd\" fill-opacity=\"1\"/>\n",
       "<defs>\n",
       "  <clipPath id=\"clip821\">\n",
       "    <rect x=\"480\" y=\"0\" width=\"1681\" height=\"1600\"/>\n",
       "  </clipPath>\n",
       "</defs>\n",
       "<path clip-path=\"url(#clip820)\" d=\"M437.478 1423.18 L2352.76 1423.18 L2352.76 123.472 L437.478 123.472  Z\" fill=\"#ffffff\" fill-rule=\"evenodd\" fill-opacity=\"1\"/>\n",
       "<defs>\n",
       "  <clipPath id=\"clip822\">\n",
       "    <rect x=\"437\" y=\"123\" width=\"1916\" height=\"1301\"/>\n",
       "  </clipPath>\n",
       "</defs>\n",
       "<polyline clip-path=\"url(#clip822)\" style=\"stroke:#000000; stroke-linecap:round; stroke-linejoin:round; stroke-width:2; stroke-opacity:0.1; fill:none\" points=\"491.684,1423.18 491.684,123.472 \"/>\n",
       "<polyline clip-path=\"url(#clip822)\" style=\"stroke:#000000; stroke-linecap:round; stroke-linejoin:round; stroke-width:2; stroke-opacity:0.1; fill:none\" points=\"943.4,1423.18 943.4,123.472 \"/>\n",
       "<polyline clip-path=\"url(#clip822)\" style=\"stroke:#000000; stroke-linecap:round; stroke-linejoin:round; stroke-width:2; stroke-opacity:0.1; fill:none\" points=\"1395.12,1423.18 1395.12,123.472 \"/>\n",
       "<polyline clip-path=\"url(#clip822)\" style=\"stroke:#000000; stroke-linecap:round; stroke-linejoin:round; stroke-width:2; stroke-opacity:0.1; fill:none\" points=\"1846.83,1423.18 1846.83,123.472 \"/>\n",
       "<polyline clip-path=\"url(#clip822)\" style=\"stroke:#000000; stroke-linecap:round; stroke-linejoin:round; stroke-width:2; stroke-opacity:0.1; fill:none\" points=\"2298.55,1423.18 2298.55,123.472 \"/>\n",
       "<polyline clip-path=\"url(#clip820)\" style=\"stroke:#000000; stroke-linecap:round; stroke-linejoin:round; stroke-width:4; stroke-opacity:1; fill:none\" points=\"437.478,1423.18 2352.76,1423.18 \"/>\n",
       "<polyline clip-path=\"url(#clip820)\" style=\"stroke:#000000; stroke-linecap:round; stroke-linejoin:round; stroke-width:4; stroke-opacity:1; fill:none\" points=\"491.684,1423.18 491.684,1404.28 \"/>\n",
       "<polyline clip-path=\"url(#clip820)\" style=\"stroke:#000000; stroke-linecap:round; stroke-linejoin:round; stroke-width:4; stroke-opacity:1; fill:none\" points=\"943.4,1423.18 943.4,1404.28 \"/>\n",
       "<polyline clip-path=\"url(#clip820)\" style=\"stroke:#000000; stroke-linecap:round; stroke-linejoin:round; stroke-width:4; stroke-opacity:1; fill:none\" points=\"1395.12,1423.18 1395.12,1404.28 \"/>\n",
       "<polyline clip-path=\"url(#clip820)\" style=\"stroke:#000000; stroke-linecap:round; stroke-linejoin:round; stroke-width:4; stroke-opacity:1; fill:none\" points=\"1846.83,1423.18 1846.83,1404.28 \"/>\n",
       "<polyline clip-path=\"url(#clip820)\" style=\"stroke:#000000; stroke-linecap:round; stroke-linejoin:round; stroke-width:4; stroke-opacity:1; fill:none\" points=\"2298.55,1423.18 2298.55,1404.28 \"/>\n",
       "<path clip-path=\"url(#clip820)\" d=\"M438.906 1454.1 Q435.295 1454.1 433.467 1457.66 Q431.661 1461.2 431.661 1468.33 Q431.661 1475.44 433.467 1479.01 Q435.295 1482.55 438.906 1482.55 Q442.541 1482.55 444.346 1479.01 Q446.175 1475.44 446.175 1468.33 Q446.175 1461.2 444.346 1457.66 Q442.541 1454.1 438.906 1454.1 M438.906 1450.39 Q444.717 1450.39 447.772 1455 Q450.851 1459.58 450.851 1468.33 Q450.851 1477.06 447.772 1481.67 Q444.717 1486.25 438.906 1486.25 Q433.096 1486.25 430.018 1481.67 Q426.962 1477.06 426.962 1468.33 Q426.962 1459.58 430.018 1455 Q433.096 1450.39 438.906 1450.39 Z\" fill=\"#000000\" fill-rule=\"nonzero\" fill-opacity=\"1\" /><path clip-path=\"url(#clip820)\" d=\"M459.068 1479.7 L463.953 1479.7 L463.953 1485.58 L459.068 1485.58 L459.068 1479.7 Z\" fill=\"#000000\" fill-rule=\"nonzero\" fill-opacity=\"1\" /><path clip-path=\"url(#clip820)\" d=\"M474.277 1484.86 L474.277 1480.6 Q476.036 1481.44 477.841 1481.88 Q479.647 1482.32 481.383 1482.32 Q486.013 1482.32 488.443 1479.21 Q490.897 1476.09 491.244 1469.75 Q489.902 1471.74 487.841 1472.8 Q485.781 1473.87 483.281 1473.87 Q478.096 1473.87 475.064 1470.74 Q472.054 1467.59 472.054 1462.15 Q472.054 1456.83 475.203 1453.61 Q478.351 1450.39 483.582 1450.39 Q489.577 1450.39 492.726 1455 Q495.897 1459.58 495.897 1468.33 Q495.897 1476.51 492.008 1481.39 Q488.142 1486.25 481.591 1486.25 Q479.832 1486.25 478.027 1485.9 Q476.221 1485.56 474.277 1484.86 M483.582 1470.21 Q486.73 1470.21 488.559 1468.06 Q490.411 1465.9 490.411 1462.15 Q490.411 1458.43 488.559 1456.27 Q486.73 1454.1 483.582 1454.1 Q480.434 1454.1 478.582 1456.27 Q476.753 1458.43 476.753 1462.15 Q476.753 1465.9 478.582 1468.06 Q480.434 1470.21 483.582 1470.21 Z\" fill=\"#000000\" fill-rule=\"nonzero\" fill-opacity=\"1\" /><path clip-path=\"url(#clip820)\" d=\"M514.3 1454.1 Q510.688 1454.1 508.86 1457.66 Q507.054 1461.2 507.054 1468.33 Q507.054 1475.44 508.86 1479.01 Q510.688 1482.55 514.3 1482.55 Q517.934 1482.55 519.739 1479.01 Q521.568 1475.44 521.568 1468.33 Q521.568 1461.2 519.739 1457.66 Q517.934 1454.1 514.3 1454.1 M514.3 1450.39 Q520.11 1450.39 523.165 1455 Q526.244 1459.58 526.244 1468.33 Q526.244 1477.06 523.165 1481.67 Q520.11 1486.25 514.3 1486.25 Q508.489 1486.25 505.411 1481.67 Q502.355 1477.06 502.355 1468.33 Q502.355 1459.58 505.411 1455 Q508.489 1450.39 514.3 1450.39 Z\" fill=\"#000000\" fill-rule=\"nonzero\" fill-opacity=\"1\" /><path clip-path=\"url(#clip820)\" d=\"M544.461 1454.1 Q540.85 1454.1 539.022 1457.66 Q537.216 1461.2 537.216 1468.33 Q537.216 1475.44 539.022 1479.01 Q540.85 1482.55 544.461 1482.55 Q548.096 1482.55 549.901 1479.01 Q551.73 1475.44 551.73 1468.33 Q551.73 1461.2 549.901 1457.66 Q548.096 1454.1 544.461 1454.1 M544.461 1450.39 Q550.272 1450.39 553.327 1455 Q556.406 1459.58 556.406 1468.33 Q556.406 1477.06 553.327 1481.67 Q550.272 1486.25 544.461 1486.25 Q538.651 1486.25 535.573 1481.67 Q532.517 1477.06 532.517 1468.33 Q532.517 1459.58 535.573 1455 Q538.651 1450.39 544.461 1450.39 Z\" fill=\"#000000\" fill-rule=\"nonzero\" fill-opacity=\"1\" /><path clip-path=\"url(#clip820)\" d=\"M891.121 1454.1 Q887.51 1454.1 885.681 1457.66 Q883.875 1461.2 883.875 1468.33 Q883.875 1475.44 885.681 1479.01 Q887.51 1482.55 891.121 1482.55 Q894.755 1482.55 896.56 1479.01 Q898.389 1475.44 898.389 1468.33 Q898.389 1461.2 896.56 1457.66 Q894.755 1454.1 891.121 1454.1 M891.121 1450.39 Q896.931 1450.39 899.986 1455 Q903.065 1459.58 903.065 1468.33 Q903.065 1477.06 899.986 1481.67 Q896.931 1486.25 891.121 1486.25 Q885.31 1486.25 882.232 1481.67 Q879.176 1477.06 879.176 1468.33 Q879.176 1459.58 882.232 1455 Q885.31 1450.39 891.121 1450.39 Z\" fill=\"#000000\" fill-rule=\"nonzero\" fill-opacity=\"1\" /><path clip-path=\"url(#clip820)\" d=\"M911.283 1479.7 L916.167 1479.7 L916.167 1485.58 L911.283 1485.58 L911.283 1479.7 Z\" fill=\"#000000\" fill-rule=\"nonzero\" fill-opacity=\"1\" /><path clip-path=\"url(#clip820)\" d=\"M926.491 1484.86 L926.491 1480.6 Q928.25 1481.44 930.056 1481.88 Q931.861 1482.32 933.597 1482.32 Q938.227 1482.32 940.657 1479.21 Q943.111 1476.09 943.458 1469.75 Q942.116 1471.74 940.056 1472.8 Q937.995 1473.87 935.495 1473.87 Q930.31 1473.87 927.278 1470.74 Q924.269 1467.59 924.269 1462.15 Q924.269 1456.83 927.417 1453.61 Q930.565 1450.39 935.796 1450.39 Q941.792 1450.39 944.94 1455 Q948.111 1459.58 948.111 1468.33 Q948.111 1476.51 944.222 1481.39 Q940.356 1486.25 933.806 1486.25 Q932.046 1486.25 930.241 1485.9 Q928.435 1485.56 926.491 1484.86 M935.796 1470.21 Q938.944 1470.21 940.773 1468.06 Q942.625 1465.9 942.625 1462.15 Q942.625 1458.43 940.773 1456.27 Q938.944 1454.1 935.796 1454.1 Q932.648 1454.1 930.796 1456.27 Q928.968 1458.43 928.968 1462.15 Q928.968 1465.9 930.796 1468.06 Q932.648 1470.21 935.796 1470.21 Z\" fill=\"#000000\" fill-rule=\"nonzero\" fill-opacity=\"1\" /><path clip-path=\"url(#clip820)\" d=\"M960.542 1481.64 L976.861 1481.64 L976.861 1485.58 L954.917 1485.58 L954.917 1481.64 Q957.579 1478.89 962.162 1474.26 Q966.768 1469.61 967.949 1468.27 Q970.194 1465.74 971.074 1464.01 Q971.977 1462.25 971.977 1460.56 Q971.977 1457.8 970.032 1456.07 Q968.111 1454.33 965.009 1454.33 Q962.81 1454.33 960.356 1455.09 Q957.926 1455.86 955.148 1457.41 L955.148 1452.69 Q957.972 1451.55 960.426 1450.97 Q962.879 1450.39 964.917 1450.39 Q970.287 1450.39 973.481 1453.08 Q976.676 1455.77 976.676 1460.26 Q976.676 1462.39 975.866 1464.31 Q975.078 1466.2 972.972 1468.8 Q972.393 1469.47 969.291 1472.69 Q966.19 1475.88 960.542 1481.64 Z\" fill=\"#000000\" fill-rule=\"nonzero\" fill-opacity=\"1\" /><path clip-path=\"url(#clip820)\" d=\"M986.722 1451.02 L1005.08 1451.02 L1005.08 1454.96 L991.004 1454.96 L991.004 1463.43 Q992.023 1463.08 993.041 1462.92 Q994.06 1462.73 995.078 1462.73 Q1000.87 1462.73 1004.25 1465.9 Q1007.62 1469.08 1007.62 1474.49 Q1007.62 1480.07 1004.15 1483.17 Q1000.68 1486.25 994.361 1486.25 Q992.185 1486.25 989.916 1485.88 Q987.671 1485.51 985.264 1484.77 L985.264 1480.07 Q987.347 1481.2 989.569 1481.76 Q991.791 1482.32 994.268 1482.32 Q998.273 1482.32 1000.61 1480.21 Q1002.95 1478.1 1002.95 1474.49 Q1002.95 1470.88 1000.61 1468.77 Q998.273 1466.67 994.268 1466.67 Q992.393 1466.67 990.518 1467.08 Q988.666 1467.5 986.722 1468.38 L986.722 1451.02 Z\" fill=\"#000000\" fill-rule=\"nonzero\" fill-opacity=\"1\" /><path clip-path=\"url(#clip820)\" d=\"M1342.34 1454.1 Q1338.73 1454.1 1336.9 1457.66 Q1335.09 1461.2 1335.09 1468.33 Q1335.09 1475.44 1336.9 1479.01 Q1338.73 1482.55 1342.34 1482.55 Q1345.97 1482.55 1347.78 1479.01 Q1349.61 1475.44 1349.61 1468.33 Q1349.61 1461.2 1347.78 1457.66 Q1345.97 1454.1 1342.34 1454.1 M1342.34 1450.39 Q1348.15 1450.39 1351.21 1455 Q1354.28 1459.58 1354.28 1468.33 Q1354.28 1477.06 1351.21 1481.67 Q1348.15 1486.25 1342.34 1486.25 Q1336.53 1486.25 1333.45 1481.67 Q1330.4 1477.06 1330.4 1468.33 Q1330.4 1459.58 1333.45 1455 Q1336.53 1450.39 1342.34 1450.39 Z\" fill=\"#000000\" fill-rule=\"nonzero\" fill-opacity=\"1\" /><path clip-path=\"url(#clip820)\" d=\"M1362.5 1479.7 L1367.39 1479.7 L1367.39 1485.58 L1362.5 1485.58 L1362.5 1479.7 Z\" fill=\"#000000\" fill-rule=\"nonzero\" fill-opacity=\"1\" /><path clip-path=\"url(#clip820)\" d=\"M1377.71 1484.86 L1377.71 1480.6 Q1379.47 1481.44 1381.27 1481.88 Q1383.08 1482.32 1384.82 1482.32 Q1389.45 1482.32 1391.88 1479.21 Q1394.33 1476.09 1394.68 1469.75 Q1393.33 1471.74 1391.27 1472.8 Q1389.21 1473.87 1386.71 1473.87 Q1381.53 1473.87 1378.5 1470.74 Q1375.49 1467.59 1375.49 1462.15 Q1375.49 1456.83 1378.64 1453.61 Q1381.78 1450.39 1387.02 1450.39 Q1393.01 1450.39 1396.16 1455 Q1399.33 1459.58 1399.33 1468.33 Q1399.33 1476.51 1395.44 1481.39 Q1391.58 1486.25 1385.02 1486.25 Q1383.27 1486.25 1381.46 1485.9 Q1379.65 1485.56 1377.71 1484.86 M1387.02 1470.21 Q1390.16 1470.21 1391.99 1468.06 Q1393.84 1465.9 1393.84 1462.15 Q1393.84 1458.43 1391.99 1456.27 Q1390.16 1454.1 1387.02 1454.1 Q1383.87 1454.1 1382.02 1456.27 Q1380.19 1458.43 1380.19 1462.15 Q1380.19 1465.9 1382.02 1468.06 Q1383.87 1470.21 1387.02 1470.21 Z\" fill=\"#000000\" fill-rule=\"nonzero\" fill-opacity=\"1\" /><path clip-path=\"url(#clip820)\" d=\"M1407.78 1451.02 L1426.14 1451.02 L1426.14 1454.96 L1412.06 1454.96 L1412.06 1463.43 Q1413.08 1463.08 1414.1 1462.92 Q1415.12 1462.73 1416.14 1462.73 Q1421.92 1462.73 1425.3 1465.9 Q1428.68 1469.08 1428.68 1474.49 Q1428.68 1480.07 1425.21 1483.17 Q1421.74 1486.25 1415.42 1486.25 Q1413.24 1486.25 1410.97 1485.88 Q1408.73 1485.51 1406.32 1484.77 L1406.32 1480.07 Q1408.4 1481.2 1410.63 1481.76 Q1412.85 1482.32 1415.33 1482.32 Q1419.33 1482.32 1421.67 1480.21 Q1424.01 1478.1 1424.01 1474.49 Q1424.01 1470.88 1421.67 1468.77 Q1419.33 1466.67 1415.33 1466.67 Q1413.45 1466.67 1411.58 1467.08 Q1409.72 1467.5 1407.78 1468.38 L1407.78 1451.02 Z\" fill=\"#000000\" fill-rule=\"nonzero\" fill-opacity=\"1\" /><path clip-path=\"url(#clip820)\" d=\"M1447.89 1454.1 Q1444.28 1454.1 1442.45 1457.66 Q1440.65 1461.2 1440.65 1468.33 Q1440.65 1475.44 1442.45 1479.01 Q1444.28 1482.55 1447.89 1482.55 Q1451.53 1482.55 1453.33 1479.01 Q1455.16 1475.44 1455.16 1468.33 Q1455.16 1461.2 1453.33 1457.66 Q1451.53 1454.1 1447.89 1454.1 M1447.89 1450.39 Q1453.7 1450.39 1456.76 1455 Q1459.84 1459.58 1459.84 1468.33 Q1459.84 1477.06 1456.76 1481.67 Q1453.7 1486.25 1447.89 1486.25 Q1442.08 1486.25 1439.01 1481.67 Q1435.95 1477.06 1435.95 1468.33 Q1435.95 1459.58 1439.01 1455 Q1442.08 1450.39 1447.89 1450.39 Z\" fill=\"#000000\" fill-rule=\"nonzero\" fill-opacity=\"1\" /><path clip-path=\"url(#clip820)\" d=\"M1794.55 1454.1 Q1790.94 1454.1 1789.11 1457.66 Q1787.31 1461.2 1787.31 1468.33 Q1787.31 1475.44 1789.11 1479.01 Q1790.94 1482.55 1794.55 1482.55 Q1798.19 1482.55 1799.99 1479.01 Q1801.82 1475.44 1801.82 1468.33 Q1801.82 1461.2 1799.99 1457.66 Q1798.19 1454.1 1794.55 1454.1 M1794.55 1450.39 Q1800.36 1450.39 1803.42 1455 Q1806.5 1459.58 1806.5 1468.33 Q1806.5 1477.06 1803.42 1481.67 Q1800.36 1486.25 1794.55 1486.25 Q1788.74 1486.25 1785.66 1481.67 Q1782.61 1477.06 1782.61 1468.33 Q1782.61 1459.58 1785.66 1455 Q1788.74 1450.39 1794.55 1450.39 Z\" fill=\"#000000\" fill-rule=\"nonzero\" fill-opacity=\"1\" /><path clip-path=\"url(#clip820)\" d=\"M1814.72 1479.7 L1819.6 1479.7 L1819.6 1485.58 L1814.72 1485.58 L1814.72 1479.7 Z\" fill=\"#000000\" fill-rule=\"nonzero\" fill-opacity=\"1\" /><path clip-path=\"url(#clip820)\" d=\"M1829.92 1484.86 L1829.92 1480.6 Q1831.68 1481.44 1833.49 1481.88 Q1835.29 1482.32 1837.03 1482.32 Q1841.66 1482.32 1844.09 1479.21 Q1846.54 1476.09 1846.89 1469.75 Q1845.55 1471.74 1843.49 1472.8 Q1841.43 1473.87 1838.93 1473.87 Q1833.74 1473.87 1830.71 1470.74 Q1827.7 1467.59 1827.7 1462.15 Q1827.7 1456.83 1830.85 1453.61 Q1834 1450.39 1839.23 1450.39 Q1845.22 1450.39 1848.37 1455 Q1851.54 1459.58 1851.54 1468.33 Q1851.54 1476.51 1847.66 1481.39 Q1843.79 1486.25 1837.24 1486.25 Q1835.48 1486.25 1833.67 1485.9 Q1831.87 1485.56 1829.92 1484.86 M1839.23 1470.21 Q1842.38 1470.21 1844.21 1468.06 Q1846.06 1465.9 1846.06 1462.15 Q1846.06 1458.43 1844.21 1456.27 Q1842.38 1454.1 1839.23 1454.1 Q1836.08 1454.1 1834.23 1456.27 Q1832.4 1458.43 1832.4 1462.15 Q1832.4 1465.9 1834.23 1468.06 Q1836.08 1470.21 1839.23 1470.21 Z\" fill=\"#000000\" fill-rule=\"nonzero\" fill-opacity=\"1\" /><path clip-path=\"url(#clip820)\" d=\"M1858.77 1451.02 L1880.99 1451.02 L1880.99 1453.01 L1868.44 1485.58 L1863.56 1485.58 L1875.36 1454.96 L1858.77 1454.96 L1858.77 1451.02 Z\" fill=\"#000000\" fill-rule=\"nonzero\" fill-opacity=\"1\" /><path clip-path=\"url(#clip820)\" d=\"M1890.15 1451.02 L1908.51 1451.02 L1908.51 1454.96 L1894.44 1454.96 L1894.44 1463.43 Q1895.46 1463.08 1896.47 1462.92 Q1897.49 1462.73 1898.51 1462.73 Q1904.3 1462.73 1907.68 1465.9 Q1911.06 1469.08 1911.06 1474.49 Q1911.06 1480.07 1907.59 1483.17 Q1904.11 1486.25 1897.79 1486.25 Q1895.62 1486.25 1893.35 1485.88 Q1891.1 1485.51 1888.7 1484.77 L1888.7 1480.07 Q1890.78 1481.2 1893 1481.76 Q1895.22 1482.32 1897.7 1482.32 Q1901.71 1482.32 1904.04 1480.21 Q1906.38 1478.1 1906.38 1474.49 Q1906.38 1470.88 1904.04 1468.77 Q1901.71 1466.67 1897.7 1466.67 Q1895.83 1466.67 1893.95 1467.08 Q1892.1 1467.5 1890.15 1468.38 L1890.15 1451.02 Z\" fill=\"#000000\" fill-rule=\"nonzero\" fill-opacity=\"1\" /><path clip-path=\"url(#clip820)\" d=\"M2235.54 1481.64 L2243.18 1481.64 L2243.18 1455.28 L2234.87 1456.95 L2234.87 1452.69 L2243.13 1451.02 L2247.81 1451.02 L2247.81 1481.64 L2255.45 1481.64 L2255.45 1485.58 L2235.54 1485.58 L2235.54 1481.64 Z\" fill=\"#000000\" fill-rule=\"nonzero\" fill-opacity=\"1\" /><path clip-path=\"url(#clip820)\" d=\"M2264.89 1479.7 L2269.78 1479.7 L2269.78 1485.58 L2264.89 1485.58 L2264.89 1479.7 Z\" fill=\"#000000\" fill-rule=\"nonzero\" fill-opacity=\"1\" /><path clip-path=\"url(#clip820)\" d=\"M2289.96 1454.1 Q2286.35 1454.1 2284.52 1457.66 Q2282.72 1461.2 2282.72 1468.33 Q2282.72 1475.44 2284.52 1479.01 Q2286.35 1482.55 2289.96 1482.55 Q2293.6 1482.55 2295.4 1479.01 Q2297.23 1475.44 2297.23 1468.33 Q2297.23 1461.2 2295.4 1457.66 Q2293.6 1454.1 2289.96 1454.1 M2289.96 1450.39 Q2295.77 1450.39 2298.83 1455 Q2301.91 1459.58 2301.91 1468.33 Q2301.91 1477.06 2298.83 1481.67 Q2295.77 1486.25 2289.96 1486.25 Q2284.15 1486.25 2281.07 1481.67 Q2278.02 1477.06 2278.02 1468.33 Q2278.02 1459.58 2281.07 1455 Q2284.15 1450.39 2289.96 1450.39 Z\" fill=\"#000000\" fill-rule=\"nonzero\" fill-opacity=\"1\" /><path clip-path=\"url(#clip820)\" d=\"M2320.12 1454.1 Q2316.51 1454.1 2314.68 1457.66 Q2312.88 1461.2 2312.88 1468.33 Q2312.88 1475.44 2314.68 1479.01 Q2316.51 1482.55 2320.12 1482.55 Q2323.76 1482.55 2325.56 1479.01 Q2327.39 1475.44 2327.39 1468.33 Q2327.39 1461.2 2325.56 1457.66 Q2323.76 1454.1 2320.12 1454.1 M2320.12 1450.39 Q2325.93 1450.39 2328.99 1455 Q2332.07 1459.58 2332.07 1468.33 Q2332.07 1477.06 2328.99 1481.67 Q2325.93 1486.25 2320.12 1486.25 Q2314.31 1486.25 2311.24 1481.67 Q2308.18 1477.06 2308.18 1468.33 Q2308.18 1459.58 2311.24 1455 Q2314.31 1450.39 2320.12 1450.39 Z\" fill=\"#000000\" fill-rule=\"nonzero\" fill-opacity=\"1\" /><path clip-path=\"url(#clip820)\" d=\"M2350.29 1454.1 Q2346.67 1454.1 2344.85 1457.66 Q2343.04 1461.2 2343.04 1468.33 Q2343.04 1475.44 2344.85 1479.01 Q2346.67 1482.55 2350.29 1482.55 Q2353.92 1482.55 2355.73 1479.01 Q2357.55 1475.44 2357.55 1468.33 Q2357.55 1461.2 2355.73 1457.66 Q2353.92 1454.1 2350.29 1454.1 M2350.29 1450.39 Q2356.1 1450.39 2359.15 1455 Q2362.23 1459.58 2362.23 1468.33 Q2362.23 1477.06 2359.15 1481.67 Q2356.1 1486.25 2350.29 1486.25 Q2344.48 1486.25 2341.4 1481.67 Q2338.34 1477.06 2338.34 1468.33 Q2338.34 1459.58 2341.4 1455 Q2344.48 1450.39 2350.29 1450.39 Z\" fill=\"#000000\" fill-rule=\"nonzero\" fill-opacity=\"1\" /><path clip-path=\"url(#clip820)\" d=\"M1411.73 1532.4 L1398.84 1549.74 L1412.4 1568.04 L1405.49 1568.04 L1395.12 1554.04 L1384.74 1568.04 L1377.83 1568.04 L1391.68 1549.39 L1379.01 1532.4 L1385.92 1532.4 L1395.37 1545.1 L1404.82 1532.4 L1411.73 1532.4 Z\" fill=\"#000000\" fill-rule=\"nonzero\" fill-opacity=\"1\" /><polyline clip-path=\"url(#clip822)\" style=\"stroke:#000000; stroke-linecap:round; stroke-linejoin:round; stroke-width:2; stroke-opacity:0.1; fill:none\" points=\"437.478,1386.4 2352.76,1386.4 \"/>\n",
       "<polyline clip-path=\"url(#clip822)\" style=\"stroke:#000000; stroke-linecap:round; stroke-linejoin:round; stroke-width:2; stroke-opacity:0.1; fill:none\" points=\"437.478,1079.86 2352.76,1079.86 \"/>\n",
       "<polyline clip-path=\"url(#clip822)\" style=\"stroke:#000000; stroke-linecap:round; stroke-linejoin:round; stroke-width:2; stroke-opacity:0.1; fill:none\" points=\"437.478,773.326 2352.76,773.326 \"/>\n",
       "<polyline clip-path=\"url(#clip822)\" style=\"stroke:#000000; stroke-linecap:round; stroke-linejoin:round; stroke-width:2; stroke-opacity:0.1; fill:none\" points=\"437.478,466.791 2352.76,466.791 \"/>\n",
       "<polyline clip-path=\"url(#clip822)\" style=\"stroke:#000000; stroke-linecap:round; stroke-linejoin:round; stroke-width:2; stroke-opacity:0.1; fill:none\" points=\"437.478,160.256 2352.76,160.256 \"/>\n",
       "<polyline clip-path=\"url(#clip820)\" style=\"stroke:#000000; stroke-linecap:round; stroke-linejoin:round; stroke-width:4; stroke-opacity:1; fill:none\" points=\"437.478,1423.18 437.478,123.472 \"/>\n",
       "<polyline clip-path=\"url(#clip820)\" style=\"stroke:#000000; stroke-linecap:round; stroke-linejoin:round; stroke-width:4; stroke-opacity:1; fill:none\" points=\"437.478,1386.4 456.376,1386.4 \"/>\n",
       "<polyline clip-path=\"url(#clip820)\" style=\"stroke:#000000; stroke-linecap:round; stroke-linejoin:round; stroke-width:4; stroke-opacity:1; fill:none\" points=\"437.478,1079.86 456.376,1079.86 \"/>\n",
       "<polyline clip-path=\"url(#clip820)\" style=\"stroke:#000000; stroke-linecap:round; stroke-linejoin:round; stroke-width:4; stroke-opacity:1; fill:none\" points=\"437.478,773.326 456.376,773.326 \"/>\n",
       "<polyline clip-path=\"url(#clip820)\" style=\"stroke:#000000; stroke-linecap:round; stroke-linejoin:round; stroke-width:4; stroke-opacity:1; fill:none\" points=\"437.478,466.791 456.376,466.791 \"/>\n",
       "<polyline clip-path=\"url(#clip820)\" style=\"stroke:#000000; stroke-linecap:round; stroke-linejoin:round; stroke-width:4; stroke-opacity:1; fill:none\" points=\"437.478,160.256 456.376,160.256 \"/>\n",
       "<path clip-path=\"url(#clip820)\" d=\"M114.918 1393.29 L144.594 1393.29 L144.594 1397.23 L114.918 1397.23 L114.918 1393.29 Z\" fill=\"#000000\" fill-rule=\"nonzero\" fill-opacity=\"1\" /><path clip-path=\"url(#clip820)\" d=\"M155.497 1406.19 L163.136 1406.19 L163.136 1379.82 L154.826 1381.49 L154.826 1377.23 L163.089 1375.56 L167.765 1375.56 L167.765 1406.19 L175.404 1406.19 L175.404 1410.12 L155.497 1410.12 L155.497 1406.19 Z\" fill=\"#000000\" fill-rule=\"nonzero\" fill-opacity=\"1\" /><path clip-path=\"url(#clip820)\" d=\"M184.849 1404.24 L189.733 1404.24 L189.733 1410.12 L184.849 1410.12 L184.849 1404.24 Z\" fill=\"#000000\" fill-rule=\"nonzero\" fill-opacity=\"1\" /><path clip-path=\"url(#clip820)\" d=\"M209.918 1378.64 Q206.307 1378.64 204.478 1382.21 Q202.673 1385.75 202.673 1392.88 Q202.673 1399.98 204.478 1403.55 Q206.307 1407.09 209.918 1407.09 Q213.552 1407.09 215.358 1403.55 Q217.186 1399.98 217.186 1392.88 Q217.186 1385.75 215.358 1382.21 Q213.552 1378.64 209.918 1378.64 M209.918 1374.94 Q215.728 1374.94 218.784 1379.54 Q221.862 1384.13 221.862 1392.88 Q221.862 1401.6 218.784 1406.21 Q215.728 1410.79 209.918 1410.79 Q204.108 1410.79 201.029 1406.21 Q197.974 1401.6 197.974 1392.88 Q197.974 1384.13 201.029 1379.54 Q204.108 1374.94 209.918 1374.94 Z\" fill=\"#000000\" fill-rule=\"nonzero\" fill-opacity=\"1\" /><path clip-path=\"url(#clip820)\" d=\"M240.08 1378.64 Q236.469 1378.64 234.64 1382.21 Q232.834 1385.75 232.834 1392.88 Q232.834 1399.98 234.64 1403.55 Q236.469 1407.09 240.08 1407.09 Q243.714 1407.09 245.52 1403.55 Q247.348 1399.98 247.348 1392.88 Q247.348 1385.75 245.52 1382.21 Q243.714 1378.64 240.08 1378.64 M240.08 1374.94 Q245.89 1374.94 248.945 1379.54 Q252.024 1384.13 252.024 1392.88 Q252.024 1401.6 248.945 1406.21 Q245.89 1410.79 240.08 1410.79 Q234.27 1410.79 231.191 1406.21 Q228.135 1401.6 228.135 1392.88 Q228.135 1384.13 231.191 1379.54 Q234.27 1374.94 240.08 1374.94 Z\" fill=\"#000000\" fill-rule=\"nonzero\" fill-opacity=\"1\" /><path clip-path=\"url(#clip820)\" d=\"M288.413 1384.66 L277.834 1395.29 L288.413 1405.86 L285.658 1408.66 L275.033 1398.04 L264.408 1408.66 L261.677 1405.86 L272.232 1395.29 L261.677 1384.66 L264.408 1381.86 L275.033 1392.48 L285.658 1381.86 L288.413 1384.66 Z\" fill=\"#000000\" fill-rule=\"nonzero\" fill-opacity=\"1\" /><path clip-path=\"url(#clip820)\" d=\"M300.774 1406.19 L308.413 1406.19 L308.413 1379.82 L300.103 1381.49 L300.103 1377.23 L308.366 1375.56 L313.042 1375.56 L313.042 1406.19 L320.681 1406.19 L320.681 1410.12 L300.774 1410.12 L300.774 1406.19 Z\" fill=\"#000000\" fill-rule=\"nonzero\" fill-opacity=\"1\" /><path clip-path=\"url(#clip820)\" d=\"M340.126 1378.64 Q336.514 1378.64 334.686 1382.21 Q332.88 1385.75 332.88 1392.88 Q332.88 1399.98 334.686 1403.55 Q336.514 1407.09 340.126 1407.09 Q343.76 1407.09 345.565 1403.55 Q347.394 1399.98 347.394 1392.88 Q347.394 1385.75 345.565 1382.21 Q343.76 1378.64 340.126 1378.64 M340.126 1374.94 Q345.936 1374.94 348.991 1379.54 Q352.07 1384.13 352.07 1392.88 Q352.07 1401.6 348.991 1406.21 Q345.936 1410.79 340.126 1410.79 Q334.315 1410.79 331.237 1406.21 Q328.181 1401.6 328.181 1392.88 Q328.181 1384.13 331.237 1379.54 Q334.315 1374.94 340.126 1374.94 Z\" fill=\"#000000\" fill-rule=\"nonzero\" fill-opacity=\"1\" /><path clip-path=\"url(#clip820)\" d=\"M352.07 1369.04 L376.181 1369.04 L376.181 1372.24 L352.07 1372.24 L352.07 1369.04 Z\" fill=\"#000000\" fill-rule=\"nonzero\" fill-opacity=\"1\" /><path clip-path=\"url(#clip820)\" d=\"M383.422 1354.63 L401.478 1354.63 L401.478 1356.25 L391.284 1382.71 L387.316 1382.71 L396.908 1357.83 L383.422 1357.83 L383.422 1354.63 Z\" fill=\"#000000\" fill-rule=\"nonzero\" fill-opacity=\"1\" /><path clip-path=\"url(#clip820)\" d=\"M114.26 1086.76 L143.936 1086.76 L143.936 1090.7 L114.26 1090.7 L114.26 1086.76 Z\" fill=\"#000000\" fill-rule=\"nonzero\" fill-opacity=\"1\" /><path clip-path=\"url(#clip820)\" d=\"M152.848 1069.03 L175.07 1069.03 L175.07 1071.02 L162.524 1103.59 L157.64 1103.59 L169.445 1072.96 L152.848 1072.96 L152.848 1069.03 Z\" fill=\"#000000\" fill-rule=\"nonzero\" fill-opacity=\"1\" /><path clip-path=\"url(#clip820)\" d=\"M184.19 1097.71 L189.075 1097.71 L189.075 1103.59 L184.19 1103.59 L184.19 1097.71 Z\" fill=\"#000000\" fill-rule=\"nonzero\" fill-opacity=\"1\" /><path clip-path=\"url(#clip820)\" d=\"M199.306 1069.03 L217.662 1069.03 L217.662 1072.96 L203.588 1072.96 L203.588 1081.44 Q204.607 1081.09 205.625 1080.93 Q206.644 1080.74 207.662 1080.74 Q213.449 1080.74 216.829 1083.91 Q220.209 1087.08 220.209 1092.5 Q220.209 1098.08 216.736 1101.18 Q213.264 1104.26 206.945 1104.26 Q204.769 1104.26 202.5 1103.89 Q200.255 1103.52 197.848 1102.78 L197.848 1098.08 Q199.931 1099.21 202.153 1099.77 Q204.375 1100.32 206.852 1100.32 Q210.857 1100.32 213.195 1098.22 Q215.533 1096.11 215.533 1092.5 Q215.533 1088.89 213.195 1086.78 Q210.857 1084.68 206.852 1084.68 Q204.977 1084.68 203.102 1085.09 Q201.25 1085.51 199.306 1086.39 L199.306 1069.03 Z\" fill=\"#000000\" fill-rule=\"nonzero\" fill-opacity=\"1\" /><path clip-path=\"url(#clip820)\" d=\"M239.422 1072.11 Q235.81 1072.11 233.982 1075.67 Q232.176 1079.21 232.176 1086.34 Q232.176 1093.45 233.982 1097.01 Q235.81 1100.56 239.422 1100.56 Q243.056 1100.56 244.861 1097.01 Q246.69 1093.45 246.69 1086.34 Q246.69 1079.21 244.861 1075.67 Q243.056 1072.11 239.422 1072.11 M239.422 1068.4 Q245.232 1068.4 248.287 1073.01 Q251.366 1077.59 251.366 1086.34 Q251.366 1095.07 248.287 1099.68 Q245.232 1104.26 239.422 1104.26 Q233.611 1104.26 230.533 1099.68 Q227.477 1095.07 227.477 1086.34 Q227.477 1077.59 230.533 1073.01 Q233.611 1068.4 239.422 1068.4 Z\" fill=\"#000000\" fill-rule=\"nonzero\" fill-opacity=\"1\" /><path clip-path=\"url(#clip820)\" d=\"M287.755 1078.13 L277.176 1088.75 L287.755 1099.33 L285 1102.13 L274.375 1091.51 L263.75 1102.13 L261.019 1099.33 L271.574 1088.75 L261.019 1078.13 L263.75 1075.32 L274.375 1085.95 L285 1075.32 L287.755 1078.13 Z\" fill=\"#000000\" fill-rule=\"nonzero\" fill-opacity=\"1\" /><path clip-path=\"url(#clip820)\" d=\"M300.116 1099.65 L307.754 1099.65 L307.754 1073.29 L299.444 1074.95 L299.444 1070.7 L307.708 1069.03 L312.384 1069.03 L312.384 1099.65 L320.023 1099.65 L320.023 1103.59 L300.116 1103.59 L300.116 1099.65 Z\" fill=\"#000000\" fill-rule=\"nonzero\" fill-opacity=\"1\" /><path clip-path=\"url(#clip820)\" d=\"M339.467 1072.11 Q335.856 1072.11 334.027 1075.67 Q332.222 1079.21 332.222 1086.34 Q332.222 1093.45 334.027 1097.01 Q335.856 1100.56 339.467 1100.56 Q343.102 1100.56 344.907 1097.01 Q346.736 1093.45 346.736 1086.34 Q346.736 1079.21 344.907 1075.67 Q343.102 1072.11 339.467 1072.11 M339.467 1068.4 Q345.277 1068.4 348.333 1073.01 Q351.412 1077.59 351.412 1086.34 Q351.412 1095.07 348.333 1099.68 Q345.277 1104.26 339.467 1104.26 Q333.657 1104.26 330.578 1099.68 Q327.523 1095.07 327.523 1086.34 Q327.523 1077.59 330.578 1073.01 Q333.657 1068.4 339.467 1068.4 Z\" fill=\"#000000\" fill-rule=\"nonzero\" fill-opacity=\"1\" /><path clip-path=\"url(#clip820)\" d=\"M351.412 1062.5 L375.523 1062.5 L375.523 1065.7 L351.412 1065.7 L351.412 1062.5 Z\" fill=\"#000000\" fill-rule=\"nonzero\" fill-opacity=\"1\" /><path clip-path=\"url(#clip820)\" d=\"M391.848 1062.84 Q389.14 1062.84 387.579 1064.29 Q386.037 1065.74 386.037 1068.28 Q386.037 1070.82 387.579 1072.27 Q389.14 1073.71 391.848 1073.71 Q394.557 1073.71 396.118 1072.27 Q397.679 1070.8 397.679 1068.28 Q397.679 1065.74 396.118 1064.29 Q394.575 1062.84 391.848 1062.84 M388.049 1061.23 Q385.604 1060.62 384.231 1058.95 Q382.877 1057.28 382.877 1054.87 Q382.877 1051.5 385.266 1049.55 Q387.673 1047.59 391.848 1047.59 Q396.043 1047.59 398.431 1049.55 Q400.82 1051.5 400.82 1054.87 Q400.82 1057.28 399.447 1058.95 Q398.093 1060.62 395.666 1061.23 Q398.412 1061.87 399.936 1063.73 Q401.478 1065.59 401.478 1068.28 Q401.478 1072.36 398.977 1074.54 Q396.494 1076.72 391.848 1076.72 Q387.203 1076.72 384.701 1074.54 Q382.219 1072.36 382.219 1068.28 Q382.219 1065.59 383.761 1063.73 Q385.303 1061.87 388.049 1061.23 M386.657 1055.23 Q386.657 1057.41 388.012 1058.63 Q389.385 1059.85 391.848 1059.85 Q394.293 1059.85 395.666 1058.63 Q397.058 1057.41 397.058 1055.23 Q397.058 1053.04 395.666 1051.82 Q394.293 1050.6 391.848 1050.6 Q389.385 1050.6 388.012 1051.82 Q386.657 1053.04 386.657 1055.23 Z\" fill=\"#000000\" fill-rule=\"nonzero\" fill-opacity=\"1\" /><path clip-path=\"url(#clip820)\" d=\"M114.26 780.225 L143.936 780.225 L143.936 784.16 L114.26 784.16 L114.26 780.225 Z\" fill=\"#000000\" fill-rule=\"nonzero\" fill-opacity=\"1\" /><path clip-path=\"url(#clip820)\" d=\"M154.075 762.494 L172.431 762.494 L172.431 766.429 L158.357 766.429 L158.357 774.901 Q159.376 774.554 160.394 774.392 Q161.413 774.207 162.431 774.207 Q168.218 774.207 171.598 777.378 Q174.977 780.549 174.977 785.966 Q174.977 791.544 171.505 794.646 Q168.033 797.725 161.714 797.725 Q159.538 797.725 157.269 797.355 Q155.024 796.984 152.616 796.243 L152.616 791.544 Q154.7 792.679 156.922 793.234 Q159.144 793.79 161.621 793.79 Q165.626 793.79 167.964 791.683 Q170.302 789.577 170.302 785.966 Q170.302 782.355 167.964 780.248 Q165.626 778.142 161.621 778.142 Q159.746 778.142 157.871 778.558 Q156.019 778.975 154.075 779.855 L154.075 762.494 Z\" fill=\"#000000\" fill-rule=\"nonzero\" fill-opacity=\"1\" /><path clip-path=\"url(#clip820)\" d=\"M184.19 791.174 L189.075 791.174 L189.075 797.054 L184.19 797.054 L184.19 791.174 Z\" fill=\"#000000\" fill-rule=\"nonzero\" fill-opacity=\"1\" /><path clip-path=\"url(#clip820)\" d=\"M209.26 765.572 Q205.649 765.572 203.82 769.137 Q202.014 772.679 202.014 779.808 Q202.014 786.915 203.82 790.48 Q205.649 794.021 209.26 794.021 Q212.894 794.021 214.699 790.48 Q216.528 786.915 216.528 779.808 Q216.528 772.679 214.699 769.137 Q212.894 765.572 209.26 765.572 M209.26 761.869 Q215.07 761.869 218.125 766.475 Q221.204 771.058 221.204 779.808 Q221.204 788.535 218.125 793.142 Q215.07 797.725 209.26 797.725 Q203.449 797.725 200.371 793.142 Q197.315 788.535 197.315 779.808 Q197.315 771.058 200.371 766.475 Q203.449 761.869 209.26 761.869 Z\" fill=\"#000000\" fill-rule=\"nonzero\" fill-opacity=\"1\" /><path clip-path=\"url(#clip820)\" d=\"M239.422 765.572 Q235.81 765.572 233.982 769.137 Q232.176 772.679 232.176 779.808 Q232.176 786.915 233.982 790.48 Q235.81 794.021 239.422 794.021 Q243.056 794.021 244.861 790.48 Q246.69 786.915 246.69 779.808 Q246.69 772.679 244.861 769.137 Q243.056 765.572 239.422 765.572 M239.422 761.869 Q245.232 761.869 248.287 766.475 Q251.366 771.058 251.366 779.808 Q251.366 788.535 248.287 793.142 Q245.232 797.725 239.422 797.725 Q233.611 797.725 230.533 793.142 Q227.477 788.535 227.477 779.808 Q227.477 771.058 230.533 766.475 Q233.611 761.869 239.422 761.869 Z\" fill=\"#000000\" fill-rule=\"nonzero\" fill-opacity=\"1\" /><path clip-path=\"url(#clip820)\" d=\"M287.755 771.591 L277.176 782.216 L287.755 792.794 L285 795.595 L274.375 784.97 L263.75 795.595 L261.019 792.794 L271.574 782.216 L261.019 771.591 L263.75 768.79 L274.375 779.415 L285 768.79 L287.755 771.591 Z\" fill=\"#000000\" fill-rule=\"nonzero\" fill-opacity=\"1\" /><path clip-path=\"url(#clip820)\" d=\"M300.116 793.119 L307.754 793.119 L307.754 766.753 L299.444 768.42 L299.444 764.16 L307.708 762.494 L312.384 762.494 L312.384 793.119 L320.023 793.119 L320.023 797.054 L300.116 797.054 L300.116 793.119 Z\" fill=\"#000000\" fill-rule=\"nonzero\" fill-opacity=\"1\" /><path clip-path=\"url(#clip820)\" d=\"M339.467 765.572 Q335.856 765.572 334.027 769.137 Q332.222 772.679 332.222 779.808 Q332.222 786.915 334.027 790.48 Q335.856 794.021 339.467 794.021 Q343.102 794.021 344.907 790.48 Q346.736 786.915 346.736 779.808 Q346.736 772.679 344.907 769.137 Q343.102 765.572 339.467 765.572 M339.467 761.869 Q345.277 761.869 348.333 766.475 Q351.412 771.058 351.412 779.808 Q351.412 788.535 348.333 793.142 Q345.277 797.725 339.467 797.725 Q333.657 797.725 330.578 793.142 Q327.523 788.535 327.523 779.808 Q327.523 771.058 330.578 766.475 Q333.657 761.869 339.467 761.869 Z\" fill=\"#000000\" fill-rule=\"nonzero\" fill-opacity=\"1\" /><path clip-path=\"url(#clip820)\" d=\"M351.412 755.97 L375.523 755.97 L375.523 759.167 L351.412 759.167 L351.412 755.97 Z\" fill=\"#000000\" fill-rule=\"nonzero\" fill-opacity=\"1\" /><path clip-path=\"url(#clip820)\" d=\"M391.848 756.309 Q389.14 756.309 387.579 757.757 Q386.037 759.205 386.037 761.744 Q386.037 764.283 387.579 765.731 Q389.14 767.179 391.848 767.179 Q394.557 767.179 396.118 765.731 Q397.679 764.264 397.679 761.744 Q397.679 759.205 396.118 757.757 Q394.575 756.309 391.848 756.309 M388.049 754.691 Q385.604 754.089 384.231 752.415 Q382.877 750.741 382.877 748.334 Q382.877 744.967 385.266 743.011 Q387.673 741.055 391.848 741.055 Q396.043 741.055 398.431 743.011 Q400.82 744.967 400.82 748.334 Q400.82 750.741 399.447 752.415 Q398.093 754.089 395.666 754.691 Q398.412 755.331 399.936 757.193 Q401.478 759.054 401.478 761.744 Q401.478 765.825 398.977 768.007 Q396.494 770.189 391.848 770.189 Q387.203 770.189 384.701 768.007 Q382.219 765.825 382.219 761.744 Q382.219 759.054 383.761 757.193 Q385.303 755.331 388.049 754.691 M386.657 748.691 Q386.657 750.873 388.012 752.096 Q389.385 753.318 391.848 753.318 Q394.293 753.318 395.666 752.096 Q397.058 750.873 397.058 748.691 Q397.058 746.51 395.666 745.287 Q394.293 744.065 391.848 744.065 Q389.385 744.065 388.012 745.287 Q386.657 746.51 386.657 748.691 Z\" fill=\"#000000\" fill-rule=\"nonzero\" fill-opacity=\"1\" /><path clip-path=\"url(#clip820)\" d=\"M114.26 473.69 L143.936 473.69 L143.936 477.625 L114.26 477.625 L114.26 473.69 Z\" fill=\"#000000\" fill-rule=\"nonzero\" fill-opacity=\"1\" /><path clip-path=\"url(#clip820)\" d=\"M158.056 486.584 L174.376 486.584 L174.376 490.519 L152.431 490.519 L152.431 486.584 Q155.093 483.829 159.677 479.199 Q164.283 474.547 165.464 473.204 Q167.709 470.681 168.589 468.945 Q169.491 467.186 169.491 465.496 Q169.491 462.741 167.547 461.005 Q165.626 459.269 162.524 459.269 Q160.325 459.269 157.871 460.033 Q155.44 460.797 152.663 462.348 L152.663 457.626 Q155.487 456.491 157.94 455.913 Q160.394 455.334 162.431 455.334 Q167.802 455.334 170.996 458.019 Q174.19 460.704 174.19 465.195 Q174.19 467.325 173.38 469.246 Q172.593 471.144 170.487 473.737 Q169.908 474.408 166.806 477.625 Q163.704 480.82 158.056 486.584 Z\" fill=\"#000000\" fill-rule=\"nonzero\" fill-opacity=\"1\" /><path clip-path=\"url(#clip820)\" d=\"M184.19 484.639 L189.075 484.639 L189.075 490.519 L184.19 490.519 L184.19 484.639 Z\" fill=\"#000000\" fill-rule=\"nonzero\" fill-opacity=\"1\" /><path clip-path=\"url(#clip820)\" d=\"M199.306 455.959 L217.662 455.959 L217.662 459.894 L203.588 459.894 L203.588 468.366 Q204.607 468.019 205.625 467.857 Q206.644 467.672 207.662 467.672 Q213.449 467.672 216.829 470.843 Q220.209 474.014 220.209 479.431 Q220.209 485.01 216.736 488.111 Q213.264 491.19 206.945 491.19 Q204.769 491.19 202.5 490.82 Q200.255 490.449 197.848 489.709 L197.848 485.01 Q199.931 486.144 202.153 486.699 Q204.375 487.255 206.852 487.255 Q210.857 487.255 213.195 485.149 Q215.533 483.042 215.533 479.431 Q215.533 475.82 213.195 473.713 Q210.857 471.607 206.852 471.607 Q204.977 471.607 203.102 472.024 Q201.25 472.44 199.306 473.32 L199.306 455.959 Z\" fill=\"#000000\" fill-rule=\"nonzero\" fill-opacity=\"1\" /><path clip-path=\"url(#clip820)\" d=\"M239.422 459.038 Q235.81 459.038 233.982 462.602 Q232.176 466.144 232.176 473.274 Q232.176 480.38 233.982 483.945 Q235.81 487.486 239.422 487.486 Q243.056 487.486 244.861 483.945 Q246.69 480.38 246.69 473.274 Q246.69 466.144 244.861 462.602 Q243.056 459.038 239.422 459.038 M239.422 455.334 Q245.232 455.334 248.287 459.94 Q251.366 464.524 251.366 473.274 Q251.366 482 248.287 486.607 Q245.232 491.19 239.422 491.19 Q233.611 491.19 230.533 486.607 Q227.477 482 227.477 473.274 Q227.477 464.524 230.533 459.94 Q233.611 455.334 239.422 455.334 Z\" fill=\"#000000\" fill-rule=\"nonzero\" fill-opacity=\"1\" /><path clip-path=\"url(#clip820)\" d=\"M287.755 465.056 L277.176 475.681 L287.755 486.26 L285 489.061 L274.375 478.436 L263.75 489.061 L261.019 486.26 L271.574 475.681 L261.019 465.056 L263.75 462.255 L274.375 472.88 L285 462.255 L287.755 465.056 Z\" fill=\"#000000\" fill-rule=\"nonzero\" fill-opacity=\"1\" /><path clip-path=\"url(#clip820)\" d=\"M300.116 486.584 L307.754 486.584 L307.754 460.218 L299.444 461.885 L299.444 457.626 L307.708 455.959 L312.384 455.959 L312.384 486.584 L320.023 486.584 L320.023 490.519 L300.116 490.519 L300.116 486.584 Z\" fill=\"#000000\" fill-rule=\"nonzero\" fill-opacity=\"1\" /><path clip-path=\"url(#clip820)\" d=\"M339.467 459.038 Q335.856 459.038 334.027 462.602 Q332.222 466.144 332.222 473.274 Q332.222 480.38 334.027 483.945 Q335.856 487.486 339.467 487.486 Q343.102 487.486 344.907 483.945 Q346.736 480.38 346.736 473.274 Q346.736 466.144 344.907 462.602 Q343.102 459.038 339.467 459.038 M339.467 455.334 Q345.277 455.334 348.333 459.94 Q351.412 464.524 351.412 473.274 Q351.412 482 348.333 486.607 Q345.277 491.19 339.467 491.19 Q333.657 491.19 330.578 486.607 Q327.523 482 327.523 473.274 Q327.523 464.524 330.578 459.94 Q333.657 455.334 339.467 455.334 Z\" fill=\"#000000\" fill-rule=\"nonzero\" fill-opacity=\"1\" /><path clip-path=\"url(#clip820)\" d=\"M351.412 449.435 L375.523 449.435 L375.523 452.633 L351.412 452.633 L351.412 449.435 Z\" fill=\"#000000\" fill-rule=\"nonzero\" fill-opacity=\"1\" /><path clip-path=\"url(#clip820)\" d=\"M391.848 449.774 Q389.14 449.774 387.579 451.222 Q386.037 452.67 386.037 455.209 Q386.037 457.748 387.579 459.196 Q389.14 460.645 391.848 460.645 Q394.557 460.645 396.118 459.196 Q397.679 457.729 397.679 455.209 Q397.679 452.67 396.118 451.222 Q394.575 449.774 391.848 449.774 M388.049 448.156 Q385.604 447.554 384.231 445.881 Q382.877 444.207 382.877 441.799 Q382.877 438.433 385.266 436.477 Q387.673 434.521 391.848 434.521 Q396.043 434.521 398.431 436.477 Q400.82 438.433 400.82 441.799 Q400.82 444.207 399.447 445.881 Q398.093 447.554 395.666 448.156 Q398.412 448.796 399.936 450.658 Q401.478 452.52 401.478 455.209 Q401.478 459.29 398.977 461.472 Q396.494 463.654 391.848 463.654 Q387.203 463.654 384.701 461.472 Q382.219 459.29 382.219 455.209 Q382.219 452.52 383.761 450.658 Q385.303 448.796 388.049 448.156 M386.657 442.157 Q386.657 444.338 388.012 445.561 Q389.385 446.783 391.848 446.783 Q394.293 446.783 395.666 445.561 Q397.058 444.338 397.058 442.157 Q397.058 439.975 395.666 438.752 Q394.293 437.53 391.848 437.53 Q389.385 437.53 388.012 438.752 Q386.657 439.975 386.657 442.157 Z\" fill=\"#000000\" fill-rule=\"nonzero\" fill-opacity=\"1\" /><path clip-path=\"url(#clip820)\" d=\"M389.534 146.055 Q385.922 146.055 384.094 149.62 Q382.288 153.162 382.288 160.291 Q382.288 167.398 384.094 170.962 Q385.922 174.504 389.534 174.504 Q393.168 174.504 394.973 170.962 Q396.802 167.398 396.802 160.291 Q396.802 153.162 394.973 149.62 Q393.168 146.055 389.534 146.055 M389.534 142.351 Q395.344 142.351 398.399 146.958 Q401.478 151.541 401.478 160.291 Q401.478 169.018 398.399 173.624 Q395.344 178.208 389.534 178.208 Q383.723 178.208 380.645 173.624 Q377.589 169.018 377.589 160.291 Q377.589 151.541 380.645 146.958 Q383.723 142.351 389.534 142.351 Z\" fill=\"#000000\" fill-rule=\"nonzero\" fill-opacity=\"1\" /><path clip-path=\"url(#clip820)\" d=\"M14.479 803.277 L19.3487 803.277 L19.3487 808.878 Q19.3487 812.029 20.6219 813.271 Q21.895 814.48 25.2052 814.48 L28.3562 814.48 L28.3562 804.836 L32.9077 804.836 L32.9077 814.48 L64.0042 814.48 L64.0042 820.369 L32.9077 820.369 L32.9077 825.97 L28.3562 825.97 L28.3562 820.369 L25.8736 820.369 Q19.9216 820.369 17.2162 817.599 Q14.479 814.83 14.479 808.815 L14.479 803.277 Z\" fill=\"#000000\" fill-rule=\"nonzero\" fill-opacity=\"1\" /><path clip-path=\"url(#clip820)\" d=\"M14.5426 784.307 Q21.8632 788.572 29.0246 790.641 Q36.186 792.71 43.5384 792.71 Q50.8908 792.71 58.1159 790.641 Q65.3091 788.54 72.5979 784.307 L72.5979 789.399 Q65.1182 794.174 57.8931 796.561 Q50.668 798.916 43.5384 798.916 Q36.4406 798.916 29.2474 796.561 Q22.0542 794.206 14.5426 789.399 L14.5426 784.307 Z\" fill=\"#000000\" fill-rule=\"nonzero\" fill-opacity=\"1\" /><path clip-path=\"url(#clip820)\" d=\"M28.3562 743.312 L45.7028 756.202 L64.0042 742.643 L64.0042 749.55 L49.9996 759.926 L64.0042 770.302 L64.0042 777.209 L45.3526 763.364 L28.3562 776.031 L28.3562 769.125 L41.0558 759.672 L28.3562 750.218 L28.3562 743.312 Z\" fill=\"#000000\" fill-rule=\"nonzero\" fill-opacity=\"1\" /><path clip-path=\"url(#clip820)\" d=\"M14.5426 735.291 L14.5426 730.198 Q22.0542 725.424 29.2474 723.069 Q36.4406 720.682 43.5384 720.682 Q50.668 720.682 57.8931 723.069 Q65.1182 725.424 72.5979 730.198 L72.5979 735.291 Q65.3091 731.058 58.1159 728.989 Q50.8908 726.888 43.5384 726.888 Q36.186 726.888 29.0246 728.989 Q21.8632 731.058 14.5426 735.291 Z\" fill=\"#000000\" fill-rule=\"nonzero\" fill-opacity=\"1\" /><path clip-path=\"url(#clip820)\" d=\"M512.587 63.9476 L512.587 47.7034 L499.219 47.7034 L499.219 40.9789 L520.689 40.9789 L520.689 66.9452 Q515.949 70.3075 510.237 72.0494 Q504.526 73.7508 498.044 73.7508 Q483.866 73.7508 475.845 65.4869 Q467.865 57.1826 467.865 42.3968 Q467.865 27.5705 475.845 19.3066 Q483.866 11.0023 498.044 11.0023 Q503.959 11.0023 509.265 12.4606 Q514.612 13.9189 519.109 16.7545 L519.109 25.464 Q514.572 21.6156 509.468 19.6712 Q504.364 17.7268 498.733 17.7268 Q487.633 17.7268 482.043 23.9246 Q476.493 30.1225 476.493 42.3968 Q476.493 54.6305 482.043 60.8284 Q487.633 67.0263 498.733 67.0263 Q503.067 67.0263 506.47 66.2971 Q509.873 65.5274 512.587 63.9476 Z\" fill=\"#000000\" fill-rule=\"nonzero\" fill-opacity=\"1\" /><path clip-path=\"url(#clip820)\" d=\"M561.603 34.1734 Q560.347 33.4443 558.848 33.1202 Q557.39 32.7556 555.608 32.7556 Q549.288 32.7556 545.885 36.8875 Q542.523 40.9789 542.523 48.6757 L542.523 72.576 L535.029 72.576 L535.029 27.2059 L542.523 27.2059 L542.523 34.2544 Q544.873 30.1225 548.64 28.1376 Q552.407 26.1121 557.795 26.1121 Q558.565 26.1121 559.496 26.2337 Q560.428 26.3147 561.562 26.5172 L561.603 34.1734 Z\" fill=\"#000000\" fill-rule=\"nonzero\" fill-opacity=\"1\" /><path clip-path=\"url(#clip820)\" d=\"M590.04 49.7694 Q581.007 49.7694 577.523 51.8354 Q574.039 53.9013 574.039 58.8839 Q574.039 62.8538 576.632 65.2034 Q579.265 67.5124 583.761 67.5124 Q589.959 67.5124 593.686 63.1374 Q597.453 58.7219 597.453 51.4303 L597.453 49.7694 L590.04 49.7694 M604.907 46.6907 L604.907 72.576 L597.453 72.576 L597.453 65.6895 Q594.901 69.8214 591.093 71.8063 Q587.286 73.7508 581.776 73.7508 Q574.809 73.7508 570.677 69.8619 Q566.585 65.9325 566.585 59.3701 Q566.585 51.7138 571.69 47.825 Q576.834 43.9361 587.002 43.9361 L597.453 43.9361 L597.453 43.2069 Q597.453 38.0623 594.051 35.2672 Q590.688 32.4315 584.572 32.4315 Q580.683 32.4315 576.996 33.3632 Q573.31 34.295 569.907 36.1584 L569.907 29.2718 Q573.999 27.692 577.847 26.9223 Q581.695 26.1121 585.341 26.1121 Q595.185 26.1121 600.046 31.2163 Q604.907 36.3204 604.907 46.6907 Z\" fill=\"#000000\" fill-rule=\"nonzero\" fill-opacity=\"1\" /><path clip-path=\"url(#clip820)\" d=\"M643.229 9.54393 L643.229 15.7418 L636.099 15.7418 Q632.089 15.7418 630.509 17.3622 Q628.969 18.9825 628.969 23.1955 L628.969 27.2059 L641.244 27.2059 L641.244 32.9987 L628.969 32.9987 L628.969 72.576 L621.475 72.576 L621.475 32.9987 L614.346 32.9987 L614.346 27.2059 L621.475 27.2059 L621.475 24.0462 Q621.475 16.471 625 13.0277 Q628.524 9.54393 636.18 9.54393 L643.229 9.54393 Z\" fill=\"#000000\" fill-rule=\"nonzero\" fill-opacity=\"1\" /><path clip-path=\"url(#clip820)\" d=\"M649.467 27.2059 L656.921 27.2059 L656.921 72.576 L649.467 72.576 L649.467 27.2059 M649.467 9.54393 L656.921 9.54393 L656.921 18.9825 L649.467 18.9825 L649.467 9.54393 Z\" fill=\"#000000\" fill-rule=\"nonzero\" fill-opacity=\"1\" /><path clip-path=\"url(#clip820)\" d=\"M672.233 9.54393 L679.727 9.54393 L679.727 46.7717 L701.967 27.2059 L711.486 27.2059 L687.424 48.4326 L712.499 72.576 L702.777 72.576 L679.727 50.4176 L679.727 72.576 L672.233 72.576 L672.233 9.54393 Z\" fill=\"#000000\" fill-rule=\"nonzero\" fill-opacity=\"1\" /><path clip-path=\"url(#clip820)\" d=\"M769.9 9.54393 L769.9 15.7418 L762.771 15.7418 Q758.76 15.7418 757.181 17.3622 Q755.641 18.9825 755.641 23.1955 L755.641 27.2059 L767.915 27.2059 L767.915 32.9987 L755.641 32.9987 L755.641 72.576 L748.147 72.576 L748.147 32.9987 L741.017 32.9987 L741.017 27.2059 L748.147 27.2059 L748.147 24.0462 Q748.147 16.471 751.671 13.0277 Q755.196 9.54393 762.852 9.54393 L769.9 9.54393 Z\" fill=\"#000000\" fill-rule=\"nonzero\" fill-opacity=\"1\" /><path clip-path=\"url(#clip820)\" d=\"M775.369 54.671 L775.369 27.2059 L782.823 27.2059 L782.823 54.3874 Q782.823 60.8284 785.334 64.0691 Q787.846 67.2693 792.869 67.2693 Q798.905 67.2693 802.389 63.421 Q805.913 59.5726 805.913 52.9291 L805.913 27.2059 L813.367 27.2059 L813.367 72.576 L805.913 72.576 L805.913 65.6084 Q803.199 69.7404 799.593 71.7658 Q796.029 73.7508 791.289 73.7508 Q783.471 73.7508 779.42 68.8897 Q775.369 64.0286 775.369 54.671 M794.125 26.1121 L794.125 26.1121 Z\" fill=\"#000000\" fill-rule=\"nonzero\" fill-opacity=\"1\" /><path clip-path=\"url(#clip820)\" d=\"M866.433 45.1919 L866.433 72.576 L858.98 72.576 L858.98 45.4349 Q858.98 38.994 856.468 35.7938 Q853.957 32.5936 848.934 32.5936 Q842.898 32.5936 839.414 36.4419 Q835.93 40.2903 835.93 46.9338 L835.93 72.576 L828.436 72.576 L828.436 27.2059 L835.93 27.2059 L835.93 34.2544 Q838.604 30.163 842.209 28.1376 Q845.855 26.1121 850.594 26.1121 Q858.413 26.1121 862.423 30.9732 Q866.433 35.7938 866.433 45.1919 Z\" fill=\"#000000\" fill-rule=\"nonzero\" fill-opacity=\"1\" /><path clip-path=\"url(#clip820)\" d=\"M911.155 49.3643 Q911.155 41.2625 907.793 36.8065 Q904.471 32.3505 898.436 32.3505 Q892.44 32.3505 889.078 36.8065 Q885.756 41.2625 885.756 49.3643 Q885.756 57.4256 889.078 61.8816 Q892.44 66.3376 898.436 66.3376 Q904.471 66.3376 907.793 61.8816 Q911.155 57.4256 911.155 49.3643 M918.609 66.9452 Q918.609 78.5308 913.464 84.1616 Q908.32 89.8329 897.706 89.8329 Q893.777 89.8329 890.293 89.2252 Q886.809 88.6581 883.528 87.4428 L883.528 80.1917 Q886.809 81.9741 890.01 82.8248 Q893.21 83.6755 896.532 83.6755 Q903.864 83.6755 907.51 79.8271 Q911.155 76.0193 911.155 68.282 L911.155 64.5957 Q908.846 68.6061 905.241 70.5911 Q901.636 72.576 896.613 72.576 Q888.268 72.576 883.164 66.2161 Q878.06 59.8562 878.06 49.3643 Q878.06 38.832 883.164 32.472 Q888.268 26.1121 896.613 26.1121 Q901.636 26.1121 905.241 28.0971 Q908.846 30.082 911.155 34.0924 L911.155 27.2059 L918.609 27.2059 L918.609 66.9452 Z\" fill=\"#000000\" fill-rule=\"nonzero\" fill-opacity=\"1\" /><path clip-path=\"url(#clip820)\" d=\"M962.885 28.5427 L962.885 35.5912 Q959.726 33.9709 956.323 33.1607 Q952.92 32.3505 949.274 32.3505 Q943.725 32.3505 940.93 34.0519 Q938.175 35.7533 938.175 39.156 Q938.175 41.7486 940.16 43.2475 Q942.145 44.7058 948.14 46.0426 L950.692 46.6097 Q958.632 48.3111 961.954 51.4303 Q965.316 54.509 965.316 60.0587 Q965.316 66.3781 960.293 70.0644 Q955.31 73.7508 946.56 73.7508 Q942.914 73.7508 938.945 73.0216 Q935.015 72.3329 930.64 70.9151 L930.64 63.2184 Q934.772 65.3654 938.783 66.4591 Q942.793 67.5124 946.722 67.5124 Q951.989 67.5124 954.824 65.73 Q957.66 63.9071 957.66 60.6258 Q957.66 57.5877 955.594 55.9673 Q953.568 54.3469 946.641 52.8481 L944.049 52.2405 Q937.122 50.7821 934.043 47.7845 Q930.964 44.7463 930.964 39.4801 Q930.964 33.0797 935.501 29.5959 Q940.038 26.1121 948.383 26.1121 Q952.515 26.1121 956.161 26.7198 Q959.807 27.3274 962.885 28.5427 Z\" fill=\"#000000\" fill-rule=\"nonzero\" fill-opacity=\"1\" /><path clip-path=\"url(#clip820)\" d=\"M977.185 27.2059 L984.639 27.2059 L984.639 72.576 L977.185 72.576 L977.185 27.2059 M977.185 9.54393 L984.639 9.54393 L984.639 18.9825 L977.185 18.9825 L977.185 9.54393 Z\" fill=\"#000000\" fill-rule=\"nonzero\" fill-opacity=\"1\" /><path clip-path=\"url(#clip820)\" d=\"M1049.57 9.54393 L1049.57 15.7418 L1042.45 15.7418 Q1038.43 15.7418 1036.85 17.3622 Q1035.32 18.9825 1035.32 23.1955 L1035.32 27.2059 L1047.59 27.2059 L1047.59 32.9987 L1035.32 32.9987 L1035.32 72.576 L1027.82 72.576 L1027.82 32.9987 L1020.69 32.9987 L1020.69 27.2059 L1027.82 27.2059 L1027.82 24.0462 Q1027.82 16.471 1031.35 13.0277 Q1034.87 9.54393 1042.53 9.54393 L1049.57 9.54393 Z\" fill=\"#000000\" fill-rule=\"nonzero\" fill-opacity=\"1\" /><path clip-path=\"url(#clip820)\" d=\"M1073.72 9.62495 Q1068.29 18.942 1065.66 28.0566 Q1063.02 37.1711 1063.02 46.5287 Q1063.02 55.8863 1065.66 65.0818 Q1068.33 74.2369 1073.72 83.5134 L1067.24 83.5134 Q1061.16 73.9938 1058.12 64.7983 Q1055.12 55.6027 1055.12 46.5287 Q1055.12 37.4952 1058.12 28.3401 Q1061.12 19.1851 1067.24 9.62495 L1073.72 9.62495 Z\" fill=\"#000000\" fill-rule=\"nonzero\" fill-opacity=\"1\" /><path clip-path=\"url(#clip820)\" d=\"M1125.89 27.2059 L1109.49 49.2833 L1126.74 72.576 L1117.95 72.576 L1104.75 54.752 L1091.54 72.576 L1082.75 72.576 L1100.37 48.8377 L1084.25 27.2059 L1093.04 27.2059 L1105.07 43.369 L1117.1 27.2059 L1125.89 27.2059 Z\" fill=\"#000000\" fill-rule=\"nonzero\" fill-opacity=\"1\" /><path clip-path=\"url(#clip820)\" d=\"M1136.1 9.62495 L1142.58 9.62495 Q1148.66 19.1851 1151.66 28.3401 Q1154.7 37.4952 1154.7 46.5287 Q1154.7 55.6027 1151.66 64.7983 Q1148.66 73.9938 1142.58 83.5134 L1136.1 83.5134 Q1141.49 74.2369 1144.12 65.0818 Q1146.8 55.8863 1146.8 46.5287 Q1146.8 37.1711 1144.12 28.0566 Q1141.49 18.942 1136.1 9.62495 Z\" fill=\"#000000\" fill-rule=\"nonzero\" fill-opacity=\"1\" /><path clip-path=\"url(#clip820)\" d=\"M1231.34 35.9153 Q1234.13 30.8922 1238.02 28.5022 Q1241.91 26.1121 1247.18 26.1121 Q1254.27 26.1121 1258.12 31.0947 Q1261.96 36.0368 1261.96 45.1919 L1261.96 72.576 L1254.47 72.576 L1254.47 45.4349 Q1254.47 38.913 1252.16 35.7533 Q1249.85 32.5936 1245.11 32.5936 Q1239.32 32.5936 1235.96 36.4419 Q1232.59 40.2903 1232.59 46.9338 L1232.59 72.576 L1225.1 72.576 L1225.1 45.4349 Q1225.1 38.8725 1222.79 35.7533 Q1220.48 32.5936 1215.66 32.5936 Q1209.95 32.5936 1206.59 36.4824 Q1203.23 40.3308 1203.23 46.9338 L1203.23 72.576 L1195.73 72.576 L1195.73 27.2059 L1203.23 27.2059 L1203.23 34.2544 Q1205.78 30.082 1209.34 28.0971 Q1212.91 26.1121 1217.81 26.1121 Q1222.75 26.1121 1226.19 28.6237 Q1229.68 31.1352 1231.34 35.9153 Z\" fill=\"#000000\" fill-rule=\"nonzero\" fill-opacity=\"1\" /><path clip-path=\"url(#clip820)\" d=\"M1315.64 48.0275 L1315.64 51.6733 L1281.37 51.6733 Q1281.85 59.3701 1285.99 63.421 Q1290.16 67.4314 1297.57 67.4314 Q1301.87 67.4314 1305.88 66.3781 Q1309.93 65.3249 1313.9 63.2184 L1313.9 70.267 Q1309.89 71.9684 1305.67 72.8596 Q1301.46 73.7508 1297.13 73.7508 Q1286.27 73.7508 1279.91 67.4314 Q1273.59 61.1119 1273.59 50.3365 Q1273.59 39.1965 1279.59 32.6746 Q1285.62 26.1121 1295.83 26.1121 Q1304.98 26.1121 1310.29 32.0264 Q1315.64 37.9003 1315.64 48.0275 M1308.18 45.84 Q1308.1 39.7232 1304.74 36.0774 Q1301.42 32.4315 1295.91 32.4315 Q1289.67 32.4315 1285.9 35.9558 Q1282.18 39.4801 1281.61 45.8805 L1308.18 45.84 Z\" fill=\"#000000\" fill-rule=\"nonzero\" fill-opacity=\"1\" /><path clip-path=\"url(#clip820)\" d=\"M1365.59 45.1919 L1365.59 72.576 L1358.13 72.576 L1358.13 45.4349 Q1358.13 38.994 1355.62 35.7938 Q1353.11 32.5936 1348.09 32.5936 Q1342.05 32.5936 1338.57 36.4419 Q1335.08 40.2903 1335.08 46.9338 L1335.08 72.576 L1327.59 72.576 L1327.59 27.2059 L1335.08 27.2059 L1335.08 34.2544 Q1337.76 30.163 1341.36 28.1376 Q1345.01 26.1121 1349.75 26.1121 Q1357.57 26.1121 1361.58 30.9732 Q1365.59 35.7938 1365.59 45.1919 Z\" fill=\"#000000\" fill-rule=\"nonzero\" fill-opacity=\"1\" /><path clip-path=\"url(#clip820)\" d=\"M1410.31 49.3643 Q1410.31 41.2625 1406.95 36.8065 Q1403.62 32.3505 1397.59 32.3505 Q1391.59 32.3505 1388.23 36.8065 Q1384.91 41.2625 1384.91 49.3643 Q1384.91 57.4256 1388.23 61.8816 Q1391.59 66.3376 1397.59 66.3376 Q1403.62 66.3376 1406.95 61.8816 Q1410.31 57.4256 1410.31 49.3643 M1417.76 66.9452 Q1417.76 78.5308 1412.62 84.1616 Q1407.47 89.8329 1396.86 89.8329 Q1392.93 89.8329 1389.45 89.2252 Q1385.96 88.6581 1382.68 87.4428 L1382.68 80.1917 Q1385.96 81.9741 1389.16 82.8248 Q1392.36 83.6755 1395.68 83.6755 Q1403.02 83.6755 1406.66 79.8271 Q1410.31 76.0193 1410.31 68.282 L1410.31 64.5957 Q1408 68.6061 1404.39 70.5911 Q1400.79 72.576 1395.77 72.576 Q1387.42 72.576 1382.32 66.2161 Q1377.21 59.8562 1377.21 49.3643 Q1377.21 38.832 1382.32 32.472 Q1387.42 26.1121 1395.77 26.1121 Q1400.79 26.1121 1404.39 28.0971 Q1408 30.082 1410.31 34.0924 L1410.31 27.2059 L1417.76 27.2059 L1417.76 66.9452 Z\" fill=\"#000000\" fill-rule=\"nonzero\" fill-opacity=\"1\" /><path clip-path=\"url(#clip820)\" d=\"M1462.97 49.3643 Q1462.97 41.2625 1459.61 36.8065 Q1456.29 32.3505 1450.25 32.3505 Q1444.25 32.3505 1440.89 36.8065 Q1437.57 41.2625 1437.57 49.3643 Q1437.57 57.4256 1440.89 61.8816 Q1444.25 66.3376 1450.25 66.3376 Q1456.29 66.3376 1459.61 61.8816 Q1462.97 57.4256 1462.97 49.3643 M1470.42 66.9452 Q1470.42 78.5308 1465.28 84.1616 Q1460.13 89.8329 1449.52 89.8329 Q1445.59 89.8329 1442.11 89.2252 Q1438.62 88.6581 1435.34 87.4428 L1435.34 80.1917 Q1438.62 81.9741 1441.82 82.8248 Q1445.02 83.6755 1448.35 83.6755 Q1455.68 83.6755 1459.32 79.8271 Q1462.97 76.0193 1462.97 68.282 L1462.97 64.5957 Q1460.66 68.6061 1457.06 70.5911 Q1453.45 72.576 1448.43 72.576 Q1440.08 72.576 1434.98 66.2161 Q1429.87 59.8562 1429.87 49.3643 Q1429.87 38.832 1434.98 32.472 Q1440.08 26.1121 1448.43 26.1121 Q1453.45 26.1121 1457.06 28.0971 Q1460.66 30.082 1462.97 34.0924 L1462.97 27.2059 L1470.42 27.2059 L1470.42 66.9452 Z\" fill=\"#000000\" fill-rule=\"nonzero\" fill-opacity=\"1\" /><path clip-path=\"url(#clip820)\" d=\"M1485.01 54.671 L1485.01 27.2059 L1492.46 27.2059 L1492.46 54.3874 Q1492.46 60.8284 1494.97 64.0691 Q1497.48 67.2693 1502.51 67.2693 Q1508.54 67.2693 1512.03 63.421 Q1515.55 59.5726 1515.55 52.9291 L1515.55 27.2059 L1523 27.2059 L1523 72.576 L1515.55 72.576 L1515.55 65.6084 Q1512.84 69.7404 1509.23 71.7658 Q1505.67 73.7508 1500.93 73.7508 Q1493.11 73.7508 1489.06 68.8897 Q1485.01 64.0286 1485.01 54.671 M1503.76 26.1121 L1503.76 26.1121 Z\" fill=\"#000000\" fill-rule=\"nonzero\" fill-opacity=\"1\" /><path clip-path=\"url(#clip820)\" d=\"M1576.07 45.1919 L1576.07 72.576 L1568.62 72.576 L1568.62 45.4349 Q1568.62 38.994 1566.11 35.7938 Q1563.59 32.5936 1558.57 32.5936 Q1552.54 32.5936 1549.05 36.4419 Q1545.57 40.2903 1545.57 46.9338 L1545.57 72.576 L1538.07 72.576 L1538.07 27.2059 L1545.57 27.2059 L1545.57 34.2544 Q1548.24 30.163 1551.85 28.1376 Q1555.49 26.1121 1560.23 26.1121 Q1568.05 26.1121 1572.06 30.9732 Q1576.07 35.7938 1576.07 45.1919 Z\" fill=\"#000000\" fill-rule=\"nonzero\" fill-opacity=\"1\" /><path clip-path=\"url(#clip820)\" d=\"M1611.56 49.7694 Q1602.52 49.7694 1599.04 51.8354 Q1595.56 53.9013 1595.56 58.8839 Q1595.56 62.8538 1598.15 65.2034 Q1600.78 67.5124 1605.28 67.5124 Q1611.48 67.5124 1615.2 63.1374 Q1618.97 58.7219 1618.97 51.4303 L1618.97 49.7694 L1611.56 49.7694 M1626.42 46.6907 L1626.42 72.576 L1618.97 72.576 L1618.97 65.6895 Q1616.42 69.8214 1612.61 71.8063 Q1608.8 73.7508 1603.29 73.7508 Q1596.33 73.7508 1592.19 69.8619 Q1588.1 65.9325 1588.1 59.3701 Q1588.1 51.7138 1593.21 47.825 Q1598.35 43.9361 1608.52 43.9361 L1618.97 43.9361 L1618.97 43.2069 Q1618.97 38.0623 1615.57 35.2672 Q1612.2 32.4315 1606.09 32.4315 Q1602.2 32.4315 1598.51 33.3632 Q1594.83 34.295 1591.42 36.1584 L1591.42 29.2718 Q1595.52 27.692 1599.36 26.9223 Q1603.21 26.1121 1606.86 26.1121 Q1616.7 26.1121 1621.56 31.2163 Q1626.42 36.3204 1626.42 46.6907 Z\" fill=\"#000000\" fill-rule=\"nonzero\" fill-opacity=\"1\" /><path clip-path=\"url(#clip820)\" d=\"M1641.49 9.54393 L1648.99 9.54393 L1648.99 46.7717 L1671.23 27.2059 L1680.75 27.2059 L1656.68 48.4326 L1681.76 72.576 L1672.04 72.576 L1648.99 50.4176 L1648.99 72.576 L1641.49 72.576 L1641.49 9.54393 Z\" fill=\"#000000\" fill-rule=\"nonzero\" fill-opacity=\"1\" /><path clip-path=\"url(#clip820)\" d=\"M1708.98 49.7694 Q1699.95 49.7694 1696.46 51.8354 Q1692.98 53.9013 1692.98 58.8839 Q1692.98 62.8538 1695.57 65.2034 Q1698.21 67.5124 1702.7 67.5124 Q1708.9 67.5124 1712.63 63.1374 Q1716.39 58.7219 1716.39 51.4303 L1716.39 49.7694 L1708.98 49.7694 M1723.85 46.6907 L1723.85 72.576 L1716.39 72.576 L1716.39 65.6895 Q1713.84 69.8214 1710.03 71.8063 Q1706.23 73.7508 1700.72 73.7508 Q1693.75 73.7508 1689.62 69.8619 Q1685.53 65.9325 1685.53 59.3701 Q1685.53 51.7138 1690.63 47.825 Q1695.78 43.9361 1705.94 43.9361 L1716.39 43.9361 L1716.39 43.2069 Q1716.39 38.0623 1712.99 35.2672 Q1709.63 32.4315 1703.51 32.4315 Q1699.62 32.4315 1695.94 33.3632 Q1692.25 34.295 1688.85 36.1584 L1688.85 29.2718 Q1692.94 27.692 1696.79 26.9223 Q1700.64 26.1121 1704.28 26.1121 Q1714.13 26.1121 1718.99 31.2163 Q1723.85 36.3204 1723.85 46.6907 Z\" fill=\"#000000\" fill-rule=\"nonzero\" fill-opacity=\"1\" /><path clip-path=\"url(#clip820)\" d=\"M1776.91 45.1919 L1776.91 72.576 L1769.46 72.576 L1769.46 45.4349 Q1769.46 38.994 1766.95 35.7938 Q1764.44 32.5936 1759.41 32.5936 Q1753.38 32.5936 1749.9 36.4419 Q1746.41 40.2903 1746.41 46.9338 L1746.41 72.576 L1738.92 72.576 L1738.92 27.2059 L1746.41 27.2059 L1746.41 34.2544 Q1749.08 30.163 1752.69 28.1376 Q1756.34 26.1121 1761.08 26.1121 Q1768.89 26.1121 1772.9 30.9732 Q1776.91 35.7938 1776.91 45.1919 Z\" fill=\"#000000\" fill-rule=\"nonzero\" fill-opacity=\"1\" /><path clip-path=\"url(#clip820)\" d=\"M1825.36 65.7705 L1825.36 89.8329 L1817.87 89.8329 L1817.87 27.2059 L1825.36 27.2059 L1825.36 34.0924 Q1827.71 30.0415 1831.28 28.0971 Q1834.88 26.1121 1839.87 26.1121 Q1848.13 26.1121 1853.27 32.6746 Q1858.46 39.2371 1858.46 49.9314 Q1858.46 60.6258 1853.27 67.1883 Q1848.13 73.7508 1839.87 73.7508 Q1834.88 73.7508 1831.28 71.8063 Q1827.71 69.8214 1825.36 65.7705 M1850.72 49.9314 Q1850.72 41.7081 1847.32 37.0496 Q1843.96 32.3505 1838.04 32.3505 Q1832.13 32.3505 1828.73 37.0496 Q1825.36 41.7081 1825.36 49.9314 Q1825.36 58.1548 1828.73 62.8538 Q1832.13 67.5124 1838.04 67.5124 Q1843.96 67.5124 1847.32 62.8538 Q1850.72 58.1548 1850.72 49.9314 Z\" fill=\"#000000\" fill-rule=\"nonzero\" fill-opacity=\"1\" /><path clip-path=\"url(#clip820)\" d=\"M1891.43 49.7694 Q1882.4 49.7694 1878.92 51.8354 Q1875.43 53.9013 1875.43 58.8839 Q1875.43 62.8538 1878.03 65.2034 Q1880.66 67.5124 1885.15 67.5124 Q1891.35 67.5124 1895.08 63.1374 Q1898.85 58.7219 1898.85 51.4303 L1898.85 49.7694 L1891.43 49.7694 M1906.3 46.6907 L1906.3 72.576 L1898.85 72.576 L1898.85 65.6895 Q1896.29 69.8214 1892.49 71.8063 Q1888.68 73.7508 1883.17 73.7508 Q1876.2 73.7508 1872.07 69.8619 Q1867.98 65.9325 1867.98 59.3701 Q1867.98 51.7138 1873.08 47.825 Q1878.23 43.9361 1888.4 43.9361 L1898.85 43.9361 L1898.85 43.2069 Q1898.85 38.0623 1895.44 35.2672 Q1892.08 32.4315 1885.96 32.4315 Q1882.08 32.4315 1878.39 33.3632 Q1874.7 34.295 1871.3 36.1584 L1871.3 29.2718 Q1875.39 27.692 1879.24 26.9223 Q1883.09 26.1121 1886.73 26.1121 Q1896.58 26.1121 1901.44 31.2163 Q1906.3 36.3204 1906.3 46.6907 Z\" fill=\"#000000\" fill-rule=\"nonzero\" fill-opacity=\"1\" /><path clip-path=\"url(#clip820)\" d=\"M1921.37 9.54393 L1928.86 9.54393 L1928.86 46.7717 L1951.1 27.2059 L1960.62 27.2059 L1936.56 48.4326 L1961.64 72.576 L1951.91 72.576 L1928.86 50.4176 L1928.86 72.576 L1921.37 72.576 L1921.37 9.54393 Z\" fill=\"#000000\" fill-rule=\"nonzero\" fill-opacity=\"1\" /><path clip-path=\"url(#clip820)\" d=\"M2005.55 48.0275 L2005.55 51.6733 L1971.28 51.6733 Q1971.76 59.3701 1975.9 63.421 Q1980.07 67.4314 1987.48 67.4314 Q1991.77 67.4314 1995.79 66.3781 Q1999.84 65.3249 2003.81 63.2184 L2003.81 70.267 Q1999.8 71.9684 1995.58 72.8596 Q1991.37 73.7508 1987.04 73.7508 Q1976.18 73.7508 1969.82 67.4314 Q1963.5 61.1119 1963.5 50.3365 Q1963.5 39.1965 1969.49 32.6746 Q1975.53 26.1121 1985.74 26.1121 Q1994.89 26.1121 2000.2 32.0264 Q2005.55 37.9003 2005.55 48.0275 M1998.09 45.84 Q1998.01 39.7232 1994.65 36.0774 Q1991.33 32.4315 1985.82 32.4315 Q1979.58 32.4315 1975.81 35.9558 Q1972.09 39.4801 1971.52 45.8805 L1998.09 45.84 Z\" fill=\"#000000\" fill-rule=\"nonzero\" fill-opacity=\"1\" /><path clip-path=\"url(#clip820)\" d=\"M2025.15 14.324 L2025.15 27.2059 L2040.51 27.2059 L2040.51 32.9987 L2025.15 32.9987 L2025.15 57.6282 Q2025.15 63.1779 2026.65 64.7578 Q2028.19 66.3376 2032.85 66.3376 L2040.51 66.3376 L2040.51 72.576 L2032.85 72.576 Q2024.22 72.576 2020.94 69.3758 Q2017.66 66.1351 2017.66 57.6282 L2017.66 32.9987 L2012.19 32.9987 L2012.19 27.2059 L2017.66 27.2059 L2017.66 14.324 L2025.15 14.324 Z\" fill=\"#000000\" fill-rule=\"nonzero\" fill-opacity=\"1\" /><path clip-path=\"url(#clip820)\" d=\"M2085.19 18.8205 L2085.19 41.5461 L2095.48 41.5461 Q2101.19 41.5461 2104.31 38.5889 Q2107.43 35.6318 2107.43 30.163 Q2107.43 24.7348 2104.31 21.7777 Q2101.19 18.8205 2095.48 18.8205 L2085.19 18.8205 M2077.01 12.096 L2095.48 12.096 Q2105.65 12.096 2110.83 16.714 Q2116.06 21.2916 2116.06 30.163 Q2116.06 39.1155 2110.83 43.6931 Q2105.65 48.2706 2095.48 48.2706 L2085.19 48.2706 L2085.19 72.576 L2077.01 72.576 L2077.01 12.096 Z\" fill=\"#000000\" fill-rule=\"nonzero\" fill-opacity=\"1\" /><path clip-path=\"url(#clip820)\" d=\"M2145.59 76.7889 Q2142.43 84.8907 2139.43 87.3618 Q2136.43 89.8329 2131.41 89.8329 L2125.45 89.8329 L2125.45 83.5945 L2129.83 83.5945 Q2132.91 83.5945 2134.61 82.1361 Q2136.31 80.6778 2138.38 75.2496 L2139.71 71.8468 L2121.36 27.2059 L2129.26 27.2059 L2143.44 62.6918 L2157.62 27.2059 L2165.52 27.2059 L2145.59 76.7889 Z\" fill=\"#000000\" fill-rule=\"nonzero\" fill-opacity=\"1\" /><path clip-path=\"url(#clip820)\" d=\"M2184.31 18.8205 L2184.31 41.5461 L2194.6 41.5461 Q2200.32 41.5461 2203.43 38.5889 Q2206.55 35.6318 2206.55 30.163 Q2206.55 24.7348 2203.43 21.7777 Q2200.32 18.8205 2194.6 18.8205 L2184.31 18.8205 M2176.13 12.096 L2194.6 12.096 Q2204.77 12.096 2209.96 16.714 Q2215.18 21.2916 2215.18 30.163 Q2215.18 39.1155 2209.96 43.6931 Q2204.77 48.2706 2194.6 48.2706 L2184.31 48.2706 L2184.31 72.576 L2176.13 72.576 L2176.13 12.096 Z\" fill=\"#000000\" fill-rule=\"nonzero\" fill-opacity=\"1\" /><path clip-path=\"url(#clip820)\" d=\"M2225.84 9.54393 L2233.29 9.54393 L2233.29 72.576 L2225.84 72.576 L2225.84 9.54393 Z\" fill=\"#000000\" fill-rule=\"nonzero\" fill-opacity=\"1\" /><path clip-path=\"url(#clip820)\" d=\"M2266.47 32.4315 Q2260.47 32.4315 2256.99 37.1306 Q2253.5 41.7891 2253.5 49.9314 Q2253.5 58.0738 2256.95 62.7728 Q2260.43 67.4314 2266.47 67.4314 Q2272.42 67.4314 2275.91 62.7323 Q2279.39 58.0333 2279.39 49.9314 Q2279.39 41.8701 2275.91 37.1711 Q2272.42 32.4315 2266.47 32.4315 M2266.47 26.1121 Q2276.19 26.1121 2281.74 32.4315 Q2287.29 38.7509 2287.29 49.9314 Q2287.29 61.0714 2281.74 67.4314 Q2276.19 73.7508 2266.47 73.7508 Q2256.7 73.7508 2251.15 67.4314 Q2245.64 61.0714 2245.64 49.9314 Q2245.64 38.7509 2251.15 32.4315 Q2256.7 26.1121 2266.47 26.1121 Z\" fill=\"#000000\" fill-rule=\"nonzero\" fill-opacity=\"1\" /><path clip-path=\"url(#clip820)\" d=\"M2307.02 14.324 L2307.02 27.2059 L2322.37 27.2059 L2322.37 32.9987 L2307.02 32.9987 L2307.02 57.6282 Q2307.02 63.1779 2308.51 64.7578 Q2310.05 66.3376 2314.71 66.3376 L2322.37 66.3376 L2322.37 72.576 L2314.71 72.576 Q2306.08 72.576 2302.8 69.3758 Q2299.52 66.1351 2299.52 57.6282 L2299.52 32.9987 L2294.05 32.9987 L2294.05 27.2059 L2299.52 27.2059 L2299.52 14.324 L2307.02 14.324 Z\" fill=\"#000000\" fill-rule=\"nonzero\" fill-opacity=\"1\" /><polyline clip-path=\"url(#clip822)\" style=\"stroke:#0000ff; stroke-linecap:round; stroke-linejoin:round; stroke-width:8; stroke-opacity:1; fill:none\" points=\"491.684,1386.4 493.491,1377.84 495.298,1369.33 497.105,1360.88 498.911,1352.47 500.718,1344.12 502.525,1335.82 504.332,1327.56 506.139,1319.36 507.946,1311.2 509.753,1303.1 511.559,1295.04 513.366,1287.03 515.173,1279.08 516.98,1271.16 518.787,1263.3 520.594,1255.49 522.401,1247.72 524.208,1240 526.014,1232.33 527.821,1224.7 529.628,1217.12 531.435,1209.59 533.242,1202.1 535.049,1194.66 536.856,1187.26 538.662,1179.91 540.469,1172.6 542.276,1165.34 544.083,1158.13 545.89,1150.96 547.697,1143.83 549.504,1136.75 551.311,1129.71 553.117,1122.71 554.924,1115.76 556.731,1108.85 558.538,1101.98 560.345,1095.16 562.152,1088.38 563.959,1081.64 565.765,1074.94 567.572,1068.28 569.379,1061.67 571.186,1055.1 572.993,1048.56 574.8,1042.07 576.607,1035.62 578.413,1029.21 580.22,1022.84 582.027,1016.52 583.834,1010.23 585.641,1003.98 587.448,997.766 589.255,991.595 591.062,985.463 592.868,979.369 594.675,973.315 596.482,967.298 598.289,961.32 600.096,955.38 601.903,949.478 603.71,943.613 605.516,937.786 607.323,931.996 609.13,926.243 610.937,920.527 612.744,914.847 614.551,909.204 616.358,903.597 618.165,898.026 619.971,892.49 621.778,886.991 623.585,881.527 625.392,876.098 627.199,870.704 629.006,865.345 630.813,860.021 632.619,854.731 634.426,849.475 636.233,844.254 638.04,839.067 639.847,833.913 641.654,828.793 643.461,823.706 645.268,818.653 647.074,813.632 648.881,808.645 650.688,803.69 652.495,798.767 654.302,793.877 656.109,789.019 657.916,784.193 659.722,779.399 661.529,774.637 663.336,769.905 665.143,765.205 666.95,760.537 668.757,755.899 670.564,751.292 672.371,746.715 674.177,742.169 675.984,737.653 677.791,733.167 679.598,728.711 681.405,724.285 683.212,719.888 685.019,715.521 686.825,711.183 688.632,706.874 690.439,702.594 692.246,698.343 694.053,694.12 695.86,689.926 697.667,685.76 699.474,681.622 701.28,677.513 703.087,673.43 704.894,669.376 706.701,665.349 708.508,661.35 710.315,657.377 712.122,653.432 713.928,649.513 715.735,645.622 717.542,641.756 719.349,637.917 721.156,634.105 722.963,630.318 724.77,626.558 726.577,622.823 728.383,619.114 730.19,615.431 731.997,611.773 733.804,608.14 735.611,604.532 737.418,600.949 739.225,597.391 741.031,593.858 742.838,590.349 744.645,586.864 746.452,583.404 748.259,579.968 750.066,576.556 751.873,573.167 753.679,569.802 755.486,566.461 757.293,563.143 759.1,559.849 760.907,556.577 762.714,553.329 764.521,550.103 766.328,546.9 768.134,543.72 769.941,540.562 771.748,537.426 773.555,534.313 775.362,531.221 777.169,528.152 778.976,525.104 780.782,522.078 782.589,519.074 784.396,516.091 786.203,513.129 788.01,510.189 789.817,507.269 791.624,504.37 793.431,501.492 795.237,498.635 797.044,495.798 798.851,492.982 800.658,490.186 802.465,487.41 804.272,484.655 806.079,481.919 807.885,479.203 809.692,476.506 811.499,473.829 813.306,471.172 815.113,468.534 816.92,465.915 818.727,463.315 820.534,460.735 822.34,458.173 824.147,455.629 825.954,453.105 827.761,450.599 829.568,448.111 831.375,445.642 833.182,443.191 834.988,440.758 836.795,438.343 838.602,435.945 840.409,433.566 842.216,431.204 844.023,428.859 845.83,426.533 847.637,424.223 849.443,421.93 851.25,419.655 853.057,417.396 854.864,415.155 856.671,412.93 858.478,410.722 860.285,408.53 862.091,406.355 863.898,404.197 865.705,402.054 867.512,399.928 869.319,397.817 871.126,395.723 872.933,393.645 874.74,391.582 876.546,389.535 878.353,387.503 880.16,385.487 881.967,383.486 883.774,381.501 885.581,379.53 887.388,377.575 889.194,375.635 891.001,373.709 892.808,371.799 894.615,369.903 896.422,368.021 898.229,366.154 900.036,364.302 901.843,362.463 903.649,360.639 905.456,358.83 907.263,357.034 909.07,355.252 910.877,353.484 912.684,351.729 914.491,349.989 916.297,348.262 918.104,346.548 919.911,344.848 921.718,343.161 923.525,341.487 925.332,339.827 927.139,338.18 928.945,336.545 930.752,334.923 932.559,333.315 934.366,331.719 936.173,330.135 937.98,328.564 939.787,327.006 941.594,325.46 943.4,323.926 945.207,322.405 947.014,320.895 948.821,319.398 950.628,317.913 952.435,316.439 954.242,314.978 956.048,313.528 957.855,312.09 959.662,310.663 961.469,309.248 963.276,307.844 965.083,306.452 966.89,305.071 968.697,303.701 970.503,302.342 972.31,300.995 974.117,299.658 975.924,298.332 977.731,297.017 979.538,295.713 981.345,294.419 983.151,293.136 984.958,291.864 986.765,290.602 988.572,289.35 990.379,288.109 992.186,286.878 993.993,285.657 995.8,284.446 997.606,283.246 999.413,282.055 1001.22,280.874 1003.03,279.703 1004.83,278.542 1006.64,277.39 1008.45,276.248 1010.25,275.116 1012.06,273.993 1013.87,272.879 1015.68,271.775 1017.48,270.68 1019.29,269.595 1021.1,268.518 1022.9,267.451 1024.71,266.393 1026.52,265.343 1028.32,264.303 1030.13,263.271 1031.94,262.248 1033.74,261.234 1035.55,260.229 1037.36,259.232 1039.16,258.244 1040.97,257.264 1042.78,256.292 1044.58,255.329 1046.39,254.374 1048.2,253.428 1050.01,252.489 1051.81,251.559 1053.62,250.637 1055.43,249.723 1057.23,248.816 1059.04,247.918 1060.85,247.027 1062.65,246.144 1064.46,245.269 1066.27,244.402 1068.07,243.542 1069.88,242.69 1071.69,241.845 1073.49,241.007 1075.3,240.177 1077.11,239.355 1078.92,238.539 1080.72,237.731 1082.53,236.93 1084.34,236.136 1086.14,235.349 1087.95,234.569 1089.76,233.796 1091.56,233.03 1093.37,232.271 1095.18,231.519 1096.98,230.773 1098.79,230.034 1100.6,229.302 1102.4,228.576 1104.21,227.857 1106.02,227.144 1107.83,226.438 1109.63,225.738 1111.44,225.045 1113.25,224.358 1115.05,223.677 1116.86,223.002 1118.67,222.334 1120.47,221.671 1122.28,221.015 1124.09,220.365 1125.89,219.72 1127.7,219.082 1129.51,218.449 1131.31,217.823 1133.12,217.202 1134.93,216.587 1136.74,215.977 1138.54,215.373 1140.35,214.775 1142.16,214.183 1143.96,213.596 1145.77,213.014 1147.58,212.438 1149.38,211.867 1151.19,211.302 1153,210.742 1154.8,210.187 1156.61,209.637 1158.42,209.093 1160.22,208.554 1162.03,208.02 1163.84,207.491 1165.64,206.967 1167.45,206.448 1169.26,205.934 1171.07,205.425 1172.87,204.92 1174.68,204.421 1176.49,203.926 1178.29,203.436 1180.1,202.951 1181.91,202.471 1183.71,201.995 1185.52,201.524 1187.33,201.057 1189.13,200.595 1190.94,200.137 1192.75,199.684 1194.55,199.235 1196.36,198.791 1198.17,198.351 1199.98,197.915 1201.78,197.484 1203.59,197.056 1205.4,196.634 1207.2,196.215 1209.01,195.8 1210.82,195.389 1212.62,194.983 1214.43,194.58 1216.24,194.182 1218.04,193.788 1219.85,193.397 1221.66,193.01 1223.46,192.628 1225.27,192.249 1227.08,191.874 1228.89,191.502 1230.69,191.135 1232.5,190.771 1234.31,190.411 1236.11,190.054 1237.92,189.701 1239.73,189.352 1241.53,189.006 1243.34,188.664 1245.15,188.325 1246.95,187.99 1248.76,187.658 1250.57,187.329 1252.37,187.004 1254.18,186.683 1255.99,186.364 1257.8,186.049 1259.6,185.737 1261.41,185.429 1263.22,185.123 1265.02,184.821 1266.83,184.522 1268.64,184.226 1270.44,183.933 1272.25,183.644 1274.06,183.357 1275.86,183.073 1277.67,182.793 1279.48,182.515 1281.28,182.24 1283.09,181.968 1284.9,181.699 1286.7,181.433 1288.51,181.17 1290.32,180.909 1292.13,180.652 1293.93,180.397 1295.74,180.144 1297.55,179.895 1299.35,179.648 1301.16,179.404 1302.97,179.163 1304.77,178.924 1306.58,178.687 1308.39,178.454 1310.19,178.222 1312,177.994 1313.81,177.768 1315.61,177.544 1317.42,177.323 1319.23,177.104 1321.04,176.888 1322.84,176.674 1324.65,176.462 1326.46,176.253 1328.26,176.046 1330.07,175.841 1331.88,175.639 1333.68,175.438 1335.49,175.24 1337.3,175.045 1339.1,174.851 1340.91,174.66 1342.72,174.471 1344.52,174.284 1346.33,174.099 1348.14,173.916 1349.95,173.735 1351.75,173.557 1353.56,173.38 1355.37,173.205 1357.17,173.033 1358.98,172.862 1360.79,172.693 1362.59,172.527 1364.4,172.362 1366.21,172.199 1368.01,172.038 1369.82,171.878 1371.63,171.721 1373.43,171.566 1375.24,171.412 1377.05,171.26 1378.86,171.11 1380.66,170.961 1382.47,170.815 1384.28,170.67 1386.08,170.527 1387.89,170.385 1389.7,170.245 1391.5,170.107 1393.31,169.971 1395.12,169.836 1396.92,169.702 1398.73,169.571 1400.54,169.44 1402.34,169.312 1404.15,169.185 1405.96,169.059 1407.76,168.935 1409.57,168.813 1411.38,168.692 1413.19,168.572 1414.99,168.454 1416.8,168.338 1418.61,168.222 1420.41,168.109 1422.22,167.996 1424.03,167.885 1425.83,167.776 1427.64,167.667 1429.45,167.56 1431.25,167.455 1433.06,167.35 1434.87,167.247 1436.67,167.146 1438.48,167.045 1440.29,166.946 1442.1,166.848 1443.9,166.751 1445.71,166.656 1447.52,166.561 1449.32,166.468 1451.13,166.376 1452.94,166.286 1454.74,166.196 1456.55,166.108 1458.36,166.02 1460.16,165.934 1461.97,165.849 1463.78,165.765 1465.58,165.682 1467.39,165.6 1469.2,165.519 1471.01,165.44 1472.81,165.361 1474.62,165.283 1476.43,165.207 1478.23,165.131 1480.04,165.056 1481.85,164.983 1483.65,164.91 1485.46,164.838 1487.27,164.767 1489.07,164.697 1490.88,164.629 1492.69,164.561 1494.49,164.493 1496.3,164.427 1498.11,164.362 1499.92,164.297 1501.72,164.234 1503.53,164.171 1505.34,164.109 1507.14,164.048 1508.95,163.988 1510.76,163.929 1512.56,163.87 1514.37,163.813 1516.18,163.756 1517.98,163.699 1519.79,163.644 1521.6,163.589 1523.4,163.535 1525.21,163.482 1527.02,163.43 1528.83,163.378 1530.63,163.327 1532.44,163.277 1534.25,163.228 1536.05,163.179 1537.86,163.131 1539.67,163.083 1541.47,163.036 1543.28,162.99 1545.09,162.945 1546.89,162.9 1548.7,162.856 1550.51,162.812 1552.31,162.769 1554.12,162.727 1555.93,162.685 1557.73,162.644 1559.54,162.604 1561.35,162.564 1563.16,162.525 1564.96,162.486 1566.77,162.448 1568.58,162.41 1570.38,162.373 1572.19,162.337 1574,162.301 1575.8,162.265 1577.61,162.23 1579.42,162.196 1581.22,162.162 1583.03,162.129 1584.84,162.096 1586.64,162.064 1588.45,162.032 1590.26,162 1592.07,161.969 1593.87,161.939 1595.68,161.909 1597.49,161.88 1599.29,161.851 1601.1,161.822 1602.91,161.794 1604.71,161.766 1606.52,161.739 1608.33,161.712 1610.13,161.685 1611.94,161.659 1613.75,161.634 1615.55,161.608 1617.36,161.584 1619.17,161.559 1620.98,161.535 1622.78,161.511 1624.59,161.488 1626.4,161.465 1628.2,161.443 1630.01,161.421 1631.82,161.399 1633.62,161.377 1635.43,161.356 1637.24,161.335 1639.04,161.315 1640.85,161.295 1642.66,161.275 1644.46,161.255 1646.27,161.236 1648.08,161.217 1649.89,161.199 1651.69,161.181 1653.5,161.163 1655.31,161.145 1657.11,161.128 1658.92,161.111 1660.73,161.094 1662.53,161.077 1664.34,161.061 1666.15,161.045 1667.95,161.03 1669.76,161.014 1671.57,160.999 1673.37,160.984 1675.18,160.97 1676.99,160.955 1678.79,160.941 1680.6,160.927 1682.41,160.914 1684.22,160.9 1686.02,160.887 1687.83,160.874 1689.64,160.862 1691.44,160.849 1693.25,160.837 1695.06,160.825 1696.86,160.813 1698.67,160.802 1700.48,160.79 1702.28,160.779 1704.09,160.768 1705.9,160.757 1707.7,160.747 1709.51,160.736 1711.32,160.726 1713.13,160.716 1714.93,160.706 1716.74,160.697 1718.55,160.687 1720.35,160.678 1722.16,160.669 1723.97,160.66 1725.77,160.651 1727.58,160.642 1729.39,160.634 1731.19,160.625 1733,160.617 1734.81,160.609 1736.61,160.601 1738.42,160.594 1740.23,160.586 1742.04,160.579 1743.84,160.572 1745.65,160.564 1747.46,160.557 1749.26,160.551 1751.07,160.544 1752.88,160.537 1754.68,160.531 1756.49,160.525 1758.3,160.518 1760.1,160.512 1761.91,160.506 1763.72,160.5 1765.52,160.495 1767.33,160.489 1769.14,160.484 1770.95,160.478 1772.75,160.473 1774.56,160.468 1776.37,160.463 1778.17,160.458 1779.98,160.453 1781.79,160.448 1783.59,160.444 1785.4,160.439 1787.21,160.435 1789.01,160.43 1790.82,160.426 1792.63,160.422 1794.43,160.418 1796.24,160.414 1798.05,160.41 1799.85,160.406 1801.66,160.402 1803.47,160.399 1805.28,160.395 1807.08,160.391 1808.89,160.388 1810.7,160.385 1812.5,160.381 1814.31,160.378 1816.12,160.375 1817.92,160.372 1819.73,160.369 1821.54,160.366 1823.34,160.363 1825.15,160.36 1826.96,160.358 1828.76,160.355 1830.57,160.352 1832.38,160.35 1834.19,160.347 1835.99,160.345 1837.8,160.342 1839.61,160.34 1841.41,160.338 1843.22,160.336 1845.03,160.333 1846.83,160.331 1848.64,160.329 1850.45,160.327 1852.25,160.325 1854.06,160.323 1855.87,160.321 1857.67,160.32 1859.48,160.318 1861.29,160.316 1863.1,160.314 1864.9,160.313 1866.71,160.311 1868.52,160.31 1870.32,160.308 1872.13,160.306 1873.94,160.305 1875.74,160.303 1877.55,160.302 1879.36,160.301 1881.16,160.299 1882.97,160.298 1884.78,160.297 1886.58,160.296 1888.39,160.294 1890.2,160.293 1892.01,160.292 1893.81,160.291 1895.62,160.29 1897.43,160.289 1899.23,160.288 1901.04,160.287 1902.85,160.286 1904.65,160.285 1906.46,160.284 1908.27,160.283 1910.07,160.282 1911.88,160.282 1913.69,160.281 1915.49,160.28 1917.3,160.279 1919.11,160.278 1920.91,160.278 1922.72,160.277 1924.53,160.276 1926.34,160.276 1928.14,160.275 1929.95,160.274 1931.76,160.274 1933.56,160.273 1935.37,160.273 1937.18,160.272 1938.98,160.272 1940.79,160.271 1942.6,160.271 1944.4,160.27 1946.21,160.27 1948.02,160.269 1949.82,160.269 1951.63,160.268 1953.44,160.268 1955.25,160.267 1957.05,160.267 1958.86,160.267 1960.67,160.266 1962.47,160.266 1964.28,160.266 1966.09,160.265 1967.89,160.265 1969.7,160.265 1971.51,160.264 1973.31,160.264 1975.12,160.264 1976.93,160.263 1978.73,160.263 1980.54,160.263 1982.35,160.263 1984.16,160.262 1985.96,160.262 1987.77,160.262 1989.58,160.262 1991.38,160.261 1993.19,160.261 1995,160.261 1996.8,160.261 1998.61,160.261 2000.42,160.261 2002.22,160.26 2004.03,160.26 2005.84,160.26 2007.64,160.26 2009.45,160.26 2011.26,160.26 2013.07,160.259 2014.87,160.259 2016.68,160.259 2018.49,160.259 2020.29,160.259 2022.1,160.259 2023.91,160.259 2025.71,160.259 2027.52,160.259 2029.33,160.258 2031.13,160.258 2032.94,160.258 2034.75,160.258 2036.55,160.258 2038.36,160.258 2040.17,160.258 2041.97,160.258 2043.78,160.258 2045.59,160.258 2047.4,160.258 2049.2,160.258 2051.01,160.258 2052.82,160.257 2054.62,160.257 2056.43,160.257 2058.24,160.257 2060.04,160.257 2061.85,160.257 2063.66,160.257 2065.46,160.257 2067.27,160.257 2069.08,160.257 2070.88,160.257 2072.69,160.257 2074.5,160.257 2076.31,160.257 2078.11,160.257 2079.92,160.257 2081.73,160.257 2083.53,160.257 2085.34,160.257 2087.15,160.257 2088.95,160.257 2090.76,160.257 2092.57,160.257 2094.37,160.257 2096.18,160.257 2097.99,160.257 2099.79,160.257 2101.6,160.257 2103.41,160.257 2105.22,160.257 2107.02,160.257 2108.83,160.257 2110.64,160.257 2112.44,160.257 2114.25,160.257 2116.06,160.257 2117.86,160.257 2119.67,160.257 2121.48,160.257 2123.28,160.257 2125.09,160.257 2126.9,160.256 2128.7,160.256 2130.51,160.256 2132.32,160.256 2134.13,160.256 2135.93,160.257 2137.74,160.256 2139.55,160.256 2141.35,160.256 2143.16,160.256 2144.97,160.256 2146.77,160.256 2148.58,160.256 2150.39,160.256 2152.19,160.256 2154,160.256 2155.81,160.257 2157.61,160.256 2159.42,160.256 2161.23,160.256 2163.03,160.256 2164.84,160.256 2166.65,160.256 2168.46,160.256 2170.26,160.256 2172.07,160.256 2173.88,160.256 2175.68,160.256 2177.49,160.256 2179.3,160.256 2181.1,160.256 2182.91,160.256 2184.72,160.257 2186.52,160.256 2188.33,160.256 2190.14,160.256 2191.94,160.256 2193.75,160.256 2195.56,160.256 2197.37,160.256 2199.17,160.256 2200.98,160.256 2202.79,160.256 2204.59,160.256 2206.4,160.256 2208.21,160.256 2210.01,160.256 2211.82,160.256 2213.63,160.256 2215.43,160.256 2217.24,160.256 2219.05,160.257 2220.85,160.256 2222.66,160.256 2224.47,160.256 2226.28,160.256 2228.08,160.256 2229.89,160.256 2231.7,160.256 2233.5,160.256 2235.31,160.256 2237.12,160.256 2238.92,160.256 2240.73,160.256 2242.54,160.256 2244.34,160.256 2246.15,160.257 2247.96,160.256 2249.76,160.256 2251.57,160.256 2253.38,160.256 2255.19,160.256 2256.99,160.256 2258.8,160.256 2260.61,160.256 2262.41,160.256 2264.22,160.256 2266.03,160.256 2267.83,160.256 2269.64,160.256 2271.45,160.256 2273.25,160.256 2275.06,160.256 2276.87,160.256 2278.67,160.256 2280.48,160.256 2282.29,160.256 2284.09,160.256 2285.9,160.256 2287.71,160.256 2289.52,160.256 2291.32,160.256 2293.13,160.257 2294.94,160.256 2296.74,160.256 2298.55,160.256 \"/>\n",
       "<polyline clip-path=\"url(#clip822)\" style=\"stroke:#ffff00; stroke-linecap:round; stroke-linejoin:round; stroke-width:8; stroke-opacity:1; fill:none\" points=\"2027.52,160.259 2029.33,160.258 2031.13,160.258 2032.94,160.258 2034.75,160.258 2036.55,160.258 2038.36,160.258 2040.17,160.258 2041.97,160.258 2043.78,160.258 2045.59,160.258 2047.4,160.258 2049.2,160.258 2051.01,160.258 2052.82,160.257 2054.62,160.257 2056.43,160.257 2058.24,160.257 2060.04,160.257 2061.85,160.257 2063.66,160.257 2065.46,160.257 2067.27,160.257 2069.08,160.257 2070.88,160.257 2072.69,160.257 2074.5,160.257 2076.31,160.257 2078.11,160.257 2079.92,160.257 2081.73,160.257 2083.53,160.257 2085.34,160.257 2087.15,160.257 2088.95,160.257 2090.76,160.257 2092.57,160.257 2094.37,160.257 2096.18,160.257 2097.99,160.257 2099.79,160.257 2101.6,160.257 2103.41,160.257 2105.22,160.257 2107.02,160.257 2108.83,160.257 2110.64,160.257 2112.44,160.257 2114.25,160.257 2116.06,160.257 2117.86,160.257 2119.67,160.257 2121.48,160.257 2123.28,160.257 2125.09,160.257 2126.9,160.256 2128.7,160.256 2130.51,160.256 2132.32,160.256 2134.13,160.256 2135.93,160.257 2137.74,160.256 2139.55,160.256 2141.35,160.256 2143.16,160.256 2144.97,160.256 2146.77,160.256 2148.58,160.256 2150.39,160.256 2152.19,160.256 2154,160.256 2155.81,160.257 2157.61,160.256 2159.42,160.256 2161.23,160.256 2163.03,160.256 2164.84,160.256 2166.65,160.256 2168.46,160.256 2170.26,160.256 2172.07,160.256 2173.88,160.256 2175.68,160.256 2177.49,160.256 2179.3,160.256 2181.1,160.256 2182.91,160.256 2184.72,160.257 2186.52,160.256 2188.33,160.256 2190.14,160.256 2191.94,160.256 2193.75,160.256 2195.56,160.256 2197.37,160.256 2199.17,160.256 2200.98,160.256 2202.79,160.256 2204.59,160.256 2206.4,160.256 2208.21,160.256 2210.01,160.256 2211.82,160.256 2213.63,160.256 2215.43,160.256 2217.24,160.256 2219.05,160.257 2220.85,160.256 2222.66,160.256 2224.47,160.256 2226.28,160.256 2228.08,160.256 2229.89,160.256 2231.7,160.256 2233.5,160.256 2235.31,160.256 2237.12,160.256 2238.92,160.256 2240.73,160.256 2242.54,160.256 2244.34,160.256 2246.15,160.257 2247.96,160.256 2249.76,160.256 2251.57,160.256 2253.38,160.256 2255.19,160.256 2256.99,160.256 2258.8,160.256 2260.61,160.256 2262.41,160.256 2264.22,160.256 2266.03,160.256 2267.83,160.256 2269.64,160.256 2271.45,160.256 2273.25,160.256 2275.06,160.256 2276.87,160.256 2278.67,160.256 2280.48,160.256 2282.29,160.256 2284.09,160.256 2285.9,160.256 2287.71,160.256 2289.52,160.256 2291.32,160.256 2293.13,160.257 2294.94,160.256 2296.74,160.256 2298.55,160.256 \"/>\n",
       "<polyline clip-path=\"url(#clip822)\" style=\"stroke:#ff0000; stroke-linecap:round; stroke-linejoin:round; stroke-width:8; stroke-opacity:1; fill:none\" points=\"2117.86,160.257 2119.67,160.257 2121.48,160.257 2123.28,160.257 2125.09,160.257 2126.9,160.256 2128.7,160.256 2130.51,160.256 2132.32,160.256 2134.13,160.256 2135.93,160.257 2137.74,160.256 2139.55,160.256 2141.35,160.256 2143.16,160.256 2144.97,160.256 2146.77,160.256 2148.58,160.256 2150.39,160.256 2152.19,160.256 2154,160.256 2155.81,160.257 2157.61,160.256 2159.42,160.256 2161.23,160.256 2163.03,160.256 2164.84,160.256 2166.65,160.256 2168.46,160.256 2170.26,160.256 2172.07,160.256 2173.88,160.256 2175.68,160.256 2177.49,160.256 2179.3,160.256 2181.1,160.256 2182.91,160.256 2184.72,160.257 2186.52,160.256 2188.33,160.256 2190.14,160.256 2191.94,160.256 2193.75,160.256 2195.56,160.256 2197.37,160.256 2199.17,160.256 2200.98,160.256 2202.79,160.256 2204.59,160.256 2206.4,160.256 2208.21,160.256 2210.01,160.256 2211.82,160.256 2213.63,160.256 2215.43,160.256 2217.24,160.256 2219.05,160.257 2220.85,160.256 2222.66,160.256 2224.47,160.256 2226.28,160.256 2228.08,160.256 2229.89,160.256 2231.7,160.256 2233.5,160.256 2235.31,160.256 2237.12,160.256 2238.92,160.256 2240.73,160.256 2242.54,160.256 2244.34,160.256 2246.15,160.257 2247.96,160.256 2249.76,160.256 2251.57,160.256 2253.38,160.256 2255.19,160.256 2256.99,160.256 2258.8,160.256 2260.61,160.256 2262.41,160.256 2264.22,160.256 2266.03,160.256 2267.83,160.256 2269.64,160.256 2271.45,160.256 2273.25,160.256 2275.06,160.256 2276.87,160.256 2278.67,160.256 2280.48,160.256 2282.29,160.256 2284.09,160.256 2285.9,160.256 2287.71,160.256 2289.52,160.256 2291.32,160.256 2293.13,160.257 2294.94,160.256 2296.74,160.256 2298.55,160.256 \"/>\n",
       "<path clip-path=\"url(#clip820)\" d=\"M1771.23 1379.86 L2288.91 1379.86 L2288.91 1172.5 L1771.23 1172.5  Z\" fill=\"#ffffff\" fill-rule=\"evenodd\" fill-opacity=\"1\"/>\n",
       "<polyline clip-path=\"url(#clip820)\" style=\"stroke:#000000; stroke-linecap:round; stroke-linejoin:round; stroke-width:4; stroke-opacity:1; fill:none\" points=\"1771.23,1379.86 2288.91,1379.86 2288.91,1172.5 1771.23,1172.5 1771.23,1379.86 \"/>\n",
       "<polyline clip-path=\"url(#clip820)\" style=\"stroke:#0000ff; stroke-linecap:round; stroke-linejoin:round; stroke-width:8; stroke-opacity:1; fill:none\" points=\"1792.51,1224.34 1920.2,1224.34 \"/>\n",
       "<path clip-path=\"url(#clip820)\" d=\"M1953.42 1210.13 Q1949.81 1210.13 1947.98 1213.7 Q1946.18 1217.24 1946.18 1224.37 Q1946.18 1231.48 1947.98 1235.04 Q1949.81 1238.58 1953.42 1238.58 Q1957.06 1238.58 1958.86 1235.04 Q1960.69 1231.48 1960.69 1224.37 Q1960.69 1217.24 1958.86 1213.7 Q1957.06 1210.13 1953.42 1210.13 M1953.42 1206.43 Q1959.23 1206.43 1962.29 1211.04 Q1965.37 1215.62 1965.37 1224.37 Q1965.37 1233.1 1962.29 1237.7 Q1959.23 1242.29 1953.42 1242.29 Q1947.61 1242.29 1944.53 1237.7 Q1941.48 1233.1 1941.48 1224.37 Q1941.48 1215.62 1944.53 1211.04 Q1947.61 1206.43 1953.42 1206.43 Z\" fill=\"#000000\" fill-rule=\"nonzero\" fill-opacity=\"1\" /><path clip-path=\"url(#clip820)\" d=\"M1973.58 1235.74 L1978.47 1235.74 L1978.47 1241.62 L1973.58 1241.62 L1973.58 1235.74 Z\" fill=\"#000000\" fill-rule=\"nonzero\" fill-opacity=\"1\" /><path clip-path=\"url(#clip820)\" d=\"M1988.79 1240.9 L1988.79 1236.64 Q1990.55 1237.47 1992.36 1237.91 Q1994.16 1238.35 1995.9 1238.35 Q2000.53 1238.35 2002.96 1235.25 Q2005.41 1232.13 2005.76 1225.78 Q2004.42 1227.77 2002.36 1228.84 Q2000.3 1229.9 1997.8 1229.9 Q1992.61 1229.9 1989.58 1226.78 Q1986.57 1223.63 1986.57 1218.19 Q1986.57 1212.87 1989.72 1209.65 Q1992.87 1206.43 1998.1 1206.43 Q2004.09 1206.43 2007.24 1211.04 Q2010.41 1215.62 2010.41 1224.37 Q2010.41 1232.54 2006.52 1237.43 Q2002.66 1242.29 1996.11 1242.29 Q1994.35 1242.29 1992.54 1241.94 Q1990.74 1241.59 1988.79 1240.9 M1998.1 1226.25 Q2001.24 1226.25 2003.07 1224.09 Q2004.93 1221.94 2004.93 1218.19 Q2004.93 1214.46 2003.07 1212.31 Q2001.24 1210.13 1998.1 1210.13 Q1994.95 1210.13 1993.1 1212.31 Q1991.27 1214.46 1991.27 1218.19 Q1991.27 1221.94 1993.1 1224.09 Q1994.95 1226.25 1998.1 1226.25 Z\" fill=\"#000000\" fill-rule=\"nonzero\" fill-opacity=\"1\" /><path clip-path=\"url(#clip820)\" d=\"M2063.51 1218.1 L2041.29 1224.51 L2063.51 1230.85 L2063.51 1234.97 L2033.84 1226.45 L2033.84 1222.52 L2063.51 1214.02 L2063.51 1218.1 M2033.84 1237.68 L2063.51 1237.68 L2063.51 1241.62 L2033.84 1241.62 L2033.84 1237.68 Z\" fill=\"#000000\" fill-rule=\"nonzero\" fill-opacity=\"1\" /><path clip-path=\"url(#clip820)\" d=\"M2109.62 1215.69 L2100.25 1228.31 L2110.11 1241.62 L2105.09 1241.62 L2097.54 1231.43 L2089.99 1241.62 L2084.97 1241.62 L2095.04 1228.05 L2085.83 1215.69 L2090.85 1215.69 L2097.73 1224.93 L2104.6 1215.69 L2109.62 1215.69 Z\" fill=\"#000000\" fill-rule=\"nonzero\" fill-opacity=\"1\" /><path clip-path=\"url(#clip820)\" d=\"M2161.43 1218.1 L2139.21 1224.51 L2161.43 1230.85 L2161.43 1234.97 L2131.75 1226.45 L2131.75 1222.52 L2161.43 1214.02 L2161.43 1218.1 M2131.75 1237.68 L2161.43 1237.68 L2161.43 1241.62 L2131.75 1241.62 L2131.75 1237.68 Z\" fill=\"#000000\" fill-rule=\"nonzero\" fill-opacity=\"1\" /><path clip-path=\"url(#clip820)\" d=\"M2187.4 1237.68 L2195.04 1237.68 L2195.04 1211.32 L2186.73 1212.98 L2186.73 1208.72 L2194.99 1207.06 L2199.67 1207.06 L2199.67 1237.68 L2207.31 1237.68 L2207.31 1241.62 L2187.4 1241.62 L2187.4 1237.68 Z\" fill=\"#000000\" fill-rule=\"nonzero\" fill-opacity=\"1\" /><polyline clip-path=\"url(#clip820)\" style=\"stroke:#ffff00; stroke-linecap:round; stroke-linejoin:round; stroke-width:8; stroke-opacity:1; fill:none\" points=\"1792.51,1276.18 1920.2,1276.18 \"/>\n",
       "<path clip-path=\"url(#clip820)\" d=\"M1953.42 1261.97 Q1949.81 1261.97 1947.98 1265.54 Q1946.18 1269.08 1946.18 1276.21 Q1946.18 1283.32 1947.98 1286.88 Q1949.81 1290.42 1953.42 1290.42 Q1957.06 1290.42 1958.86 1286.88 Q1960.69 1283.32 1960.69 1276.21 Q1960.69 1269.08 1958.86 1265.54 Q1957.06 1261.97 1953.42 1261.97 M1953.42 1258.27 Q1959.23 1258.27 1962.29 1262.88 Q1965.37 1267.46 1965.37 1276.21 Q1965.37 1284.94 1962.29 1289.54 Q1959.23 1294.13 1953.42 1294.13 Q1947.61 1294.13 1944.53 1289.54 Q1941.48 1284.94 1941.48 1276.21 Q1941.48 1267.46 1944.53 1262.88 Q1947.61 1258.27 1953.42 1258.27 Z\" fill=\"#000000\" fill-rule=\"nonzero\" fill-opacity=\"1\" /><path clip-path=\"url(#clip820)\" d=\"M1973.58 1287.58 L1978.47 1287.58 L1978.47 1293.46 L1973.58 1293.46 L1973.58 1287.58 Z\" fill=\"#000000\" fill-rule=\"nonzero\" fill-opacity=\"1\" /><path clip-path=\"url(#clip820)\" d=\"M1988.79 1292.74 L1988.79 1288.48 Q1990.55 1289.31 1992.36 1289.75 Q1994.16 1290.19 1995.9 1290.19 Q2000.53 1290.19 2002.96 1287.09 Q2005.41 1283.97 2005.76 1277.62 Q2004.42 1279.61 2002.36 1280.68 Q2000.3 1281.74 1997.8 1281.74 Q1992.61 1281.74 1989.58 1278.62 Q1986.57 1275.47 1986.57 1270.03 Q1986.57 1264.71 1989.72 1261.49 Q1992.87 1258.27 1998.1 1258.27 Q2004.09 1258.27 2007.24 1262.88 Q2010.41 1267.46 2010.41 1276.21 Q2010.41 1284.38 2006.52 1289.27 Q2002.66 1294.13 1996.11 1294.13 Q1994.35 1294.13 1992.54 1293.78 Q1990.74 1293.43 1988.79 1292.74 M1998.1 1278.09 Q2001.24 1278.09 2003.07 1275.93 Q2004.93 1273.78 2004.93 1270.03 Q2004.93 1266.3 2003.07 1264.15 Q2001.24 1261.97 1998.1 1261.97 Q1994.95 1261.97 1993.1 1264.15 Q1991.27 1266.3 1991.27 1270.03 Q1991.27 1273.78 1993.1 1275.93 Q1994.95 1278.09 1998.1 1278.09 Z\" fill=\"#000000\" fill-rule=\"nonzero\" fill-opacity=\"1\" /><path clip-path=\"url(#clip820)\" d=\"M2028.81 1277.04 Q2025.48 1277.04 2023.56 1278.83 Q2021.66 1280.61 2021.66 1283.73 Q2021.66 1286.86 2023.56 1288.64 Q2025.48 1290.42 2028.81 1290.42 Q2032.15 1290.42 2034.07 1288.64 Q2035.99 1286.84 2035.99 1283.73 Q2035.99 1280.61 2034.07 1278.83 Q2032.17 1277.04 2028.81 1277.04 M2024.14 1275.05 Q2021.13 1274.31 2019.44 1272.25 Q2017.77 1270.19 2017.77 1267.23 Q2017.77 1263.09 2020.71 1260.68 Q2023.68 1258.27 2028.81 1258.27 Q2033.98 1258.27 2036.92 1260.68 Q2039.86 1263.09 2039.86 1267.23 Q2039.86 1270.19 2038.17 1272.25 Q2036.5 1274.31 2033.51 1275.05 Q2036.89 1275.84 2038.77 1278.13 Q2040.67 1280.42 2040.67 1283.73 Q2040.67 1288.76 2037.59 1291.44 Q2034.53 1294.13 2028.81 1294.13 Q2023.1 1294.13 2020.02 1291.44 Q2016.96 1288.76 2016.96 1283.73 Q2016.96 1280.42 2018.86 1278.13 Q2020.76 1275.84 2024.14 1275.05 M2022.43 1267.67 Q2022.43 1270.35 2024.09 1271.86 Q2025.78 1273.36 2028.81 1273.36 Q2031.82 1273.36 2033.51 1271.86 Q2035.23 1270.35 2035.23 1267.67 Q2035.23 1264.98 2033.51 1263.48 Q2031.82 1261.97 2028.81 1261.97 Q2025.78 1261.97 2024.09 1263.48 Q2022.43 1264.98 2022.43 1267.67 Z\" fill=\"#000000\" fill-rule=\"nonzero\" fill-opacity=\"1\" /><path clip-path=\"url(#clip820)\" d=\"M2049.02 1258.9 L2067.38 1258.9 L2067.38 1262.83 L2053.3 1262.83 L2053.3 1271.3 Q2054.32 1270.96 2055.34 1270.79 Q2056.36 1270.61 2057.38 1270.61 Q2063.17 1270.61 2066.55 1273.78 Q2069.93 1276.95 2069.93 1282.37 Q2069.93 1287.95 2066.45 1291.05 Q2062.98 1294.13 2056.66 1294.13 Q2054.49 1294.13 2052.22 1293.76 Q2049.97 1293.39 2047.56 1292.65 L2047.56 1287.95 Q2049.65 1289.08 2051.87 1289.64 Q2054.09 1290.19 2056.57 1290.19 Q2060.57 1290.19 2062.91 1288.09 Q2065.25 1285.98 2065.25 1282.37 Q2065.25 1278.76 2062.91 1276.65 Q2060.57 1274.54 2056.57 1274.54 Q2054.69 1274.54 2052.82 1274.96 Q2050.97 1275.38 2049.02 1276.26 L2049.02 1258.9 Z\" fill=\"#000000\" fill-rule=\"nonzero\" fill-opacity=\"1\" /><path clip-path=\"url(#clip820)\" d=\"M2123.84 1269.94 L2101.61 1276.35 L2123.84 1282.69 L2123.84 1286.81 L2094.16 1278.29 L2094.16 1274.36 L2123.84 1265.86 L2123.84 1269.94 M2094.16 1289.52 L2123.84 1289.52 L2123.84 1293.46 L2094.16 1293.46 L2094.16 1289.52 Z\" fill=\"#000000\" fill-rule=\"nonzero\" fill-opacity=\"1\" /><path clip-path=\"url(#clip820)\" d=\"M2169.95 1267.53 L2160.57 1280.15 L2170.43 1293.46 L2165.41 1293.46 L2157.86 1283.27 L2150.32 1293.46 L2145.3 1293.46 L2155.36 1279.89 L2146.15 1267.53 L2151.17 1267.53 L2158.05 1276.77 L2164.92 1267.53 L2169.95 1267.53 Z\" fill=\"#000000\" fill-rule=\"nonzero\" fill-opacity=\"1\" /><path clip-path=\"url(#clip820)\" d=\"M2221.75 1269.94 L2199.53 1276.35 L2221.75 1282.69 L2221.75 1286.81 L2192.08 1278.29 L2192.08 1274.36 L2221.75 1265.86 L2221.75 1269.94 M2192.08 1289.52 L2221.75 1289.52 L2221.75 1293.46 L2192.08 1293.46 L2192.08 1289.52 Z\" fill=\"#000000\" fill-rule=\"nonzero\" fill-opacity=\"1\" /><path clip-path=\"url(#clip820)\" d=\"M2247.73 1289.52 L2255.36 1289.52 L2255.36 1263.16 L2247.05 1264.82 L2247.05 1260.56 L2255.32 1258.9 L2259.99 1258.9 L2259.99 1289.52 L2267.63 1289.52 L2267.63 1293.46 L2247.73 1293.46 L2247.73 1289.52 Z\" fill=\"#000000\" fill-rule=\"nonzero\" fill-opacity=\"1\" /><polyline clip-path=\"url(#clip820)\" style=\"stroke:#ff0000; stroke-linecap:round; stroke-linejoin:round; stroke-width:8; stroke-opacity:1; fill:none\" points=\"1792.51,1328.02 1920.2,1328.02 \"/>\n",
       "<path clip-path=\"url(#clip820)\" d=\"M1953.42 1313.81 Q1949.81 1313.81 1947.98 1317.38 Q1946.18 1320.92 1946.18 1328.05 Q1946.18 1335.16 1947.98 1338.72 Q1949.81 1342.26 1953.42 1342.26 Q1957.06 1342.26 1958.86 1338.72 Q1960.69 1335.16 1960.69 1328.05 Q1960.69 1320.92 1958.86 1317.38 Q1957.06 1313.81 1953.42 1313.81 M1953.42 1310.11 Q1959.23 1310.11 1962.29 1314.72 Q1965.37 1319.3 1965.37 1328.05 Q1965.37 1336.78 1962.29 1341.38 Q1959.23 1345.97 1953.42 1345.97 Q1947.61 1345.97 1944.53 1341.38 Q1941.48 1336.78 1941.48 1328.05 Q1941.48 1319.3 1944.53 1314.72 Q1947.61 1310.11 1953.42 1310.11 Z\" fill=\"#000000\" fill-rule=\"nonzero\" fill-opacity=\"1\" /><path clip-path=\"url(#clip820)\" d=\"M1973.58 1339.42 L1978.47 1339.42 L1978.47 1345.3 L1973.58 1345.3 L1973.58 1339.42 Z\" fill=\"#000000\" fill-rule=\"nonzero\" fill-opacity=\"1\" /><path clip-path=\"url(#clip820)\" d=\"M1988.79 1344.58 L1988.79 1340.32 Q1990.55 1341.15 1992.36 1341.59 Q1994.16 1342.03 1995.9 1342.03 Q2000.53 1342.03 2002.96 1338.93 Q2005.41 1335.81 2005.76 1329.46 Q2004.42 1331.45 2002.36 1332.52 Q2000.3 1333.58 1997.8 1333.58 Q1992.61 1333.58 1989.58 1330.46 Q1986.57 1327.31 1986.57 1321.87 Q1986.57 1316.55 1989.72 1313.33 Q1992.87 1310.11 1998.1 1310.11 Q2004.09 1310.11 2007.24 1314.72 Q2010.41 1319.3 2010.41 1328.05 Q2010.41 1336.22 2006.52 1341.11 Q2002.66 1345.97 1996.11 1345.97 Q1994.35 1345.97 1992.54 1345.62 Q1990.74 1345.27 1988.79 1344.58 M1998.1 1329.93 Q2001.24 1329.93 2003.07 1327.77 Q2004.93 1325.62 2004.93 1321.87 Q2004.93 1318.14 2003.07 1315.99 Q2001.24 1313.81 1998.1 1313.81 Q1994.95 1313.81 1993.1 1315.99 Q1991.27 1318.14 1991.27 1321.87 Q1991.27 1325.62 1993.1 1327.77 Q1994.95 1329.93 1998.1 1329.93 Z\" fill=\"#000000\" fill-rule=\"nonzero\" fill-opacity=\"1\" /><path clip-path=\"url(#clip820)\" d=\"M2018.95 1344.58 L2018.95 1340.32 Q2020.71 1341.15 2022.52 1341.59 Q2024.32 1342.03 2026.06 1342.03 Q2030.69 1342.03 2033.12 1338.93 Q2035.57 1335.81 2035.92 1329.46 Q2034.58 1331.45 2032.52 1332.52 Q2030.46 1333.58 2027.96 1333.58 Q2022.77 1333.58 2019.74 1330.46 Q2016.73 1327.31 2016.73 1321.87 Q2016.73 1316.55 2019.88 1313.33 Q2023.03 1310.11 2028.26 1310.11 Q2034.25 1310.11 2037.4 1314.72 Q2040.57 1319.3 2040.57 1328.05 Q2040.57 1336.22 2036.68 1341.11 Q2032.82 1345.97 2026.27 1345.97 Q2024.51 1345.97 2022.7 1345.62 Q2020.9 1345.27 2018.95 1344.58 M2028.26 1329.93 Q2031.41 1329.93 2033.24 1327.77 Q2035.09 1325.62 2035.09 1321.87 Q2035.09 1318.14 2033.24 1315.99 Q2031.41 1313.81 2028.26 1313.81 Q2025.11 1313.81 2023.26 1315.99 Q2021.43 1318.14 2021.43 1321.87 Q2021.43 1325.62 2023.26 1327.77 Q2025.11 1329.93 2028.26 1329.93 Z\" fill=\"#000000\" fill-rule=\"nonzero\" fill-opacity=\"1\" /><path clip-path=\"url(#clip820)\" d=\"M2093.68 1321.78 L2071.45 1328.19 L2093.68 1334.53 L2093.68 1338.65 L2064 1330.13 L2064 1326.2 L2093.68 1317.7 L2093.68 1321.78 M2064 1341.36 L2093.68 1341.36 L2093.68 1345.3 L2064 1345.3 L2064 1341.36 Z\" fill=\"#000000\" fill-rule=\"nonzero\" fill-opacity=\"1\" /><path clip-path=\"url(#clip820)\" d=\"M2139.79 1319.37 L2130.41 1331.99 L2140.27 1345.3 L2135.25 1345.3 L2127.7 1335.11 L2120.16 1345.3 L2115.13 1345.3 L2125.2 1331.73 L2115.99 1319.37 L2121.01 1319.37 L2127.89 1328.61 L2134.76 1319.37 L2139.79 1319.37 Z\" fill=\"#000000\" fill-rule=\"nonzero\" fill-opacity=\"1\" /><path clip-path=\"url(#clip820)\" d=\"M2191.59 1321.78 L2169.37 1328.19 L2191.59 1334.53 L2191.59 1338.65 L2161.92 1330.13 L2161.92 1326.2 L2191.59 1317.7 L2191.59 1321.78 M2161.92 1341.36 L2191.59 1341.36 L2191.59 1345.3 L2161.92 1345.3 L2161.92 1341.36 Z\" fill=\"#000000\" fill-rule=\"nonzero\" fill-opacity=\"1\" /><path clip-path=\"url(#clip820)\" d=\"M2217.56 1341.36 L2225.2 1341.36 L2225.2 1315 L2216.89 1316.66 L2216.89 1312.4 L2225.16 1310.74 L2229.83 1310.74 L2229.83 1341.36 L2237.47 1341.36 L2237.47 1345.3 L2217.56 1345.3 L2217.56 1341.36 Z\" fill=\"#000000\" fill-rule=\"nonzero\" fill-opacity=\"1\" /></svg>\n"
      ]
     },
     "execution_count": 39,
     "metadata": {},
     "output_type": "execute_result"
    }
   ],
   "source": [
    "#(b)\n",
    "\n",
    "using PyPlot\n",
    "f(x) = x.^7 - 7x.^6 + 21x.^5 - 35x.^4 + 35x.^3 - 21x.^2 + 7x - 1\n",
    "\n",
    "# Selang nilai x\n",
    "selang1_pyplot = 0.9:1e-4:1\n",
    "selang2_pyplot = 0.985:1e-4:1\n",
    "selang3_pyplot = 0.99:1e-4:1\n",
    "\n",
    "# Plot grafik pada selang yang ditentukan\n",
    "plot(selang1_pyplot, f.(selang1_pyplot), label=\"0.9 ≤ x ≤ 1\", color=:blue, linewidth=2)\n",
    "plot!(selang2_pyplot, f.(selang2_pyplot), label=\"0.985 ≤ x ≤ 1\", color=:yellow, linewidth=2)\n",
    "plot!(selang3_pyplot, f.(selang3_pyplot), label=\"0.99 ≤ x ≤ 1\", color=:red, linewidth=2)\n",
    "\n",
    "title!(\"Grafik fungsi f(x) menggunakan paket PyPlot\")\n",
    "xlabel!(\"x\")\n",
    "ylabel!(\"f(x)\")"
   ]
  },
  {
   "cell_type": "markdown",
   "id": "9fc6a7ff-df49-4067-bb28-8d0a3af839a8",
   "metadata": {},
   "source": [
    "__Penjelasan :__\n",
    "\n",
    "Grafik yang dihasilkan adalah grafik polinomial orde 7. Seiring mendekati $x = 1$, grafik fungsi polinomial ini menjadi semakin tajam dan fluktuatif. Secara umum, polinomial orde tinggi seperti ini dapat memiliki tingkah laku yang kompleks. Pada selang $0.9 ≤ x ≤ 1$, grafik yang dihasilkan sekilas terlihat seperti grafik fungsi $ln(x)$, hanya saja pada selang yang ditentukan ini, nilai $f(x)$ belum melebihi 0.\n",
    "\n",
    "Grafik yang dihasilkan dengan menggunakan paket ```PyPlot``` ini tidak terlihat berbeda dengan grafik yang dihasilkan dengan menggunakan paket ```Plots```."
   ]
  },
  {
   "cell_type": "markdown",
   "id": "5f54f160-f3be-4d2b-8505-1b6f4f9c0c0b",
   "metadata": {},
   "source": [
    "#### __Soal 10__\n",
    "__Segitiga bintang.__ Gunakan pernyataan _if, for,_ dan/atau _while_ untuk membuat bentuk segitiga dari bintang"
   ]
  },
  {
   "cell_type": "code",
   "execution_count": 40,
   "id": "2a35d1d5-745c-490a-92eb-649f21cfb7e0",
   "metadata": {},
   "outputs": [
    {
     "name": "stdout",
     "output_type": "stream",
     "text": [
      "(a)\n",
      "*\n",
      "**\n",
      "***\n",
      "****\n",
      "\n",
      "(b)\n",
      "****\n",
      "***\n",
      "**\n",
      "*\n",
      "\n",
      "(c)\n",
      "   *\n",
      "  **\n",
      " ***\n",
      "****\n",
      "\n",
      "(d)\n",
      "****\n",
      " ***\n",
      "  **\n",
      "   *\n"
     ]
    }
   ],
   "source": [
    "# (a)\n",
    "println(\"(a)\")\n",
    "i = 1\n",
    "while i <= 4\n",
    "    println(\"*\" ^ i)\n",
    "    i += 1\n",
    "end\n",
    "println()\n",
    "\n",
    "#(b)\n",
    "println(\"(b)\")\n",
    "for i in 4:-1:1\n",
    "    println(\"*\" ^ i)\n",
    "end\n",
    "println()\n",
    "\n",
    "#(c)\n",
    "println(\"(c)\")\n",
    "for i in 1:4\n",
    "    println(\" \"^(4-i) * \"*\" ^ i)\n",
    "end\n",
    "println()\n",
    "\n",
    "#(d)\n",
    "println(\"(d)\")\n",
    "i = 4 \n",
    "while i >= 1\n",
    "    println(\" \" ^ (4-i) * \"*\" ^ i)\n",
    "    i -= 1\n",
    "end"
   ]
  },
  {
   "cell_type": "markdown",
   "id": "a65c3956-f6a7-4cbd-a5e5-2216510e9067",
   "metadata": {},
   "source": [
    "<hr style=\"border:2px solid black\"> </hr>"
   ]
  },
  {
   "cell_type": "markdown",
   "id": "7e2f5706-ac00-4326-b57d-a5951a4fa0b1",
   "metadata": {},
   "source": [
    "#### __Soal 11__\n",
    "__Matriks Pascal.__ Perhatikan matriks pascal berukuran $5 \\times 5$ berikut ini.\n",
    "\n",
    "$$ P = \\left( \\begin{array}{ccccc}\n",
    "\t1  &  1  &  1  &  1  &  1 \\\\\n",
    "\t1  &  2  &  3  &  4  &  5 \\\\\n",
    "\t1  &  3  &  6  & 10  & 15 \\\\\n",
    "\t1  &  4  & 10  & 20  & 35 \\\\\n",
    "\t1  &  5  & 15  & 35  & 70 \\\\\n",
    "\t\\end{array}\\right)$$\n",
    "\n",
    "(a) Dengan mengamati pola antar elemen matriks $ P $, buatlah fungsi dengan nama `pascal(n)` yang menghasilkan matriks pascal berukuran $n \\times n$.\n",
    "\n",
    "(b) Keluarkan matriks $ P $ yaitu matriks pascal ukuran $10\\times10$\n",
    "\n",
    "(c) Hitung invers $ P $\n",
    "\n",
    "(d) Tunjukkan bahwa ${\\mathrm{det} (PP^{-1})}=1$"
   ]
  },
  {
   "cell_type": "code",
   "execution_count": 41,
   "id": "9708d816-2b35-4e54-8505-e9792023afbe",
   "metadata": {},
   "outputs": [],
   "source": [
    "# (a)\n",
    "using LinearAlgebra\n",
    "function pascal(n)\n",
    "    P = ones(Int64, n, n)\n",
    "    for i in 1:n\n",
    "        for j in 1:n\n",
    "            if j == 1 || i == 1\n",
    "                P[i, j] = 1\n",
    "            else\n",
    "                P[i, j] = P[i-1, j] + P[i, j-1]\n",
    "            end\n",
    "        end\n",
    "    end\n",
    "    return P\n",
    "end;"
   ]
  },
  {
   "cell_type": "code",
   "execution_count": 42,
   "id": "5c5cd78c-cad3-4c9e-991e-3781ef37d979",
   "metadata": {},
   "outputs": [
    {
     "data": {
      "text/plain": [
       "5×5 Matrix{Int64}:\n",
       " 1  1   1   1   1\n",
       " 1  2   3   4   5\n",
       " 1  3   6  10  15\n",
       " 1  4  10  20  35\n",
       " 1  5  15  35  70"
      ]
     },
     "execution_count": 42,
     "metadata": {},
     "output_type": "execute_result"
    }
   ],
   "source": [
    "P5= pascal(5)"
   ]
  },
  {
   "cell_type": "code",
   "execution_count": 43,
   "id": "8aeebf78-2cf3-4131-ae48-d682840320e6",
   "metadata": {},
   "outputs": [
    {
     "data": {
      "text/plain": [
       "10×10 Matrix{Int64}:\n",
       " 1   1   1    1    1     1     1      1      1      1\n",
       " 1   2   3    4    5     6     7      8      9     10\n",
       " 1   3   6   10   15    21    28     36     45     55\n",
       " 1   4  10   20   35    56    84    120    165    220\n",
       " 1   5  15   35   70   126   210    330    495    715\n",
       " 1   6  21   56  126   252   462    792   1287   2002\n",
       " 1   7  28   84  210   462   924   1716   3003   5005\n",
       " 1   8  36  120  330   792  1716   3432   6435  11440\n",
       " 1   9  45  165  495  1287  3003   6435  12870  24310\n",
       " 1  10  55  220  715  2002  5005  11440  24310  48620"
      ]
     },
     "execution_count": 43,
     "metadata": {},
     "output_type": "execute_result"
    }
   ],
   "source": [
    "# (b)\n",
    "P10 = pascal(10)"
   ]
  },
  {
   "cell_type": "code",
   "execution_count": 44,
   "id": "2965c4b8-92ec-4b64-8bd8-ae5ad5112e48",
   "metadata": {},
   "outputs": [
    {
     "data": {
      "text/plain": [
       "10×10 Matrix{Float64}:\n",
       "   10.0    -45.0    120.0    -210.0  …     120.0    -45.0     10.0    -1.0\n",
       "  -45.0    285.0   -870.0    1638.0      -1035.0    395.0    -89.0     9.0\n",
       "  120.0   -870.0   2892.0   -5754.0       3970.0  -1541.0    352.0   -36.0\n",
       " -210.0   1638.0  -5754.0   11934.0      -8889.0   3507.0   -812.0    84.0\n",
       "  252.0  -2058.0   7512.0  -16083.0      12804.0  -5131.0   1204.0  -126.0\n",
       " -210.0   1770.0  -6645.0   14585.0  …  -12305.0   5005.0  -1190.0   126.0\n",
       "  120.0  -1035.0   3970.0   -8889.0       7890.0  -3255.0    784.0   -84.0\n",
       "  -45.0    395.0  -1541.0    3507.0      -3255.0   1361.0   -332.0    36.0\n",
       "   10.0    -89.0    352.0    -812.0        784.0   -332.0     82.0    -9.0\n",
       "   -1.0      9.0    -36.0      84.0        -84.0     36.0     -9.0     1.0"
      ]
     },
     "execution_count": 44,
     "metadata": {},
     "output_type": "execute_result"
    }
   ],
   "source": [
    "# (c)\n",
    "P10inv = inv(P10)"
   ]
  },
  {
   "cell_type": "code",
   "execution_count": 45,
   "id": "5b81c0f9-7e2e-4898-a993-ce79bdf7069a",
   "metadata": {},
   "outputs": [
    {
     "data": {
      "text/plain": [
       "1.0000000044608015"
      ]
     },
     "execution_count": 45,
     "metadata": {},
     "output_type": "execute_result"
    }
   ],
   "source": [
    "# (d)\n",
    "det_P10P10inv = det(P10*P10inv)"
   ]
  },
  {
   "cell_type": "markdown",
   "id": "90024839-f1e1-48c6-9544-ce24b8bf5eac",
   "metadata": {},
   "source": [
    "<hr style=\"border:2px solid black\"> </hr>"
   ]
  }
 ],
 "metadata": {
  "kernelspec": {
   "display_name": "Julia 1.6.7",
   "language": "julia",
   "name": "julia-1.6"
  },
  "language_info": {
   "file_extension": ".jl",
   "mimetype": "application/julia",
   "name": "julia",
   "version": "1.6.7"
  }
 },
 "nbformat": 4,
 "nbformat_minor": 5
}
