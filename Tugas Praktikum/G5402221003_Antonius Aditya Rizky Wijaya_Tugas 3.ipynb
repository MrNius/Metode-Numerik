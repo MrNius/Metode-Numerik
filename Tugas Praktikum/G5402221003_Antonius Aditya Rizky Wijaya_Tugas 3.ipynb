{
 "cells": [
  {
   "attachments": {},
   "cell_type": "markdown",
   "id": "c97cc435-d060-4933-9652-e2045c98ab8d",
   "metadata": {},
   "source": [
    "# TUGAS 3 METODE NUMERIK\n",
    "__Solusi Sistem Persamaan Linear : Metode Langsung__\n",
    "\n",
    "### 5.5.2 Soal Pemrograman\n",
    "\n",
    "```Nama : Antonius Aditya Rizky Wijaya```\n",
    "\n",
    "```NIM : G5402221003```"
   ]
  },
  {
   "cell_type": "markdown",
   "id": "199cedb5-9a68-4321-a17a-cc632f5ab8c9",
   "metadata": {},
   "source": [
    "<hr style=\"border:2px solid black\"> </hr>"
   ]
  },
  {
   "cell_type": "markdown",
   "id": "090a1fc9-0819-4a69-9eea-0c24975b4ecd",
   "metadata": {},
   "source": [
    "#### __Kumpulan Function yang diperlukan__\n",
    "```Function-function ini harus dijalankan terlebih dahulu sebelum menjalankan program yang lain```"
   ]
  },
  {
   "cell_type": "code",
   "execution_count": 272,
   "id": "1dc6c636",
   "metadata": {},
   "outputs": [],
   "source": [
    "# Substitusi Mundur\n",
    "\n",
    "function backsub(A,B)\n",
    "    # Hitung ukuran matriks dan inisiasi solusi X\n",
    "    n = length(B);\n",
    "    X = zeros(n,1);\n",
    "    # Hitung nilai solusi X ke-n\n",
    "    X[n] = B[n]/A[n,n];\n",
    "    # Hitung nilai solusi X ke- n-1 sampai X ke-1\n",
    "    for i = n-1:-1:1\n",
    "        X[i] = (B[i] - A[i,i+1:n]'X[i+1:n])/A[i,i];\n",
    "    end\n",
    "    return X\n",
    "end;"
   ]
  },
  {
   "cell_type": "code",
   "execution_count": 273,
   "id": "1d06dde5",
   "metadata": {},
   "outputs": [],
   "source": [
    "# Substitusi Maju\n",
    "\n",
    "function forwardsub(A,B)\n",
    "    # Hitung ukuran matriks dan inisiasi solusi X\n",
    "    n = length(B);\n",
    "    X = zeros(n,1);\n",
    "    # Hitung nilai solusi X ke-1\n",
    "    X[1] = B[1]/A[1,1];\n",
    "    # Hitung nilai solusi X ke-1 sampai X ke-n\n",
    "    for i = 2:n\n",
    "        X[i] = (B[i] - A[i,1:i-1]'X[1:i-1])/A[i,i];\n",
    "    end\n",
    "    return X\n",
    "end;"
   ]
  },
  {
   "cell_type": "code",
   "execution_count": 274,
   "id": "16f0c41d",
   "metadata": {},
   "outputs": [],
   "source": [
    "# Metode Eliminasi Gauss Tanpa Pivoting\n",
    "\n",
    "function elimGaussNonPivoting(A,b)\n",
    "    # Hitung ukuran matriks dan inisiasi solusi X\n",
    "    n = length(b);\n",
    "    X = zeros(n,1);\n",
    "    # Buatlah matriks Gandeng [A|b]\n",
    "    Aug = [A b];\n",
    "    # Lakukan operasi baris dasar terhadap matriks gandeng\n",
    "    for p = 1:n-1 # p menunjukkan kolom\n",
    "        # Jika pivot bernilai nol, maka gagal.\n",
    "        if Aug[p,p]==0\n",
    "            error(\"Harus Pakai Pivoting\")\n",
    "        end\n",
    "        # Lakukan eliminasi menggunakan operasi Eij(k)\n",
    "        for i = p+1:n # i menunjukkan baris\n",
    "            k = Aug[i,p]/Aug[p,p];\n",
    "            Aug[i,:] = Aug[i,:] - k*Aug[p,:];\n",
    "        end\n",
    "    end;\n",
    "    # Pisahkan matriks gandeng, kemudian substitusi mundur\n",
    "    A = Aug[:,1:n];\n",
    "    b = Aug[:,1+n];\n",
    "    X = backsub(A,b);\n",
    "end;"
   ]
  },
  {
   "cell_type": "code",
   "execution_count": 275,
   "id": "4aca5d6e",
   "metadata": {},
   "outputs": [],
   "source": [
    "# Metode Eliminasi Gauss Dengan Pivoting\n",
    "\n",
    "function elimGaussWithPivoting(A,b)\n",
    "    # Hitung ukuran matriks dan inisiasi solusi X\n",
    "    n = length(b);\n",
    "    X = zeros(n,1);\n",
    "    # Buatlah matriks Gandeng [A|b]\n",
    "    Aug = [A b];\n",
    "    # Lakukan operasi baris dasar terhadap matriks gandeng\n",
    "    for p = 1:n-1\n",
    "        # Lakukan operasi pindah baris untuk menentukan nilai pivot\n",
    "        val,j = findmax(abs.(Aug[p:n,p]));\n",
    "        C = Aug[p,:];\n",
    "        Aug[p,:] = Aug[j+p-1,:];\n",
    "        Aug[j+p-1,:] = C;\n",
    "        # Jika pivot bernilai nol, maka gagal.\n",
    "        if Aug[p,p] == 0;\n",
    "            error(\"Matriks tidak punya solusi tunggal\")\n",
    "        end\n",
    "        # Lakukan eliminasi menggunakan operasi Eij(k)\n",
    "        for i = p+1:n\n",
    "            k = Aug[i,p]/Aug[p,p];\n",
    "            Aug[i,:] = Aug[i,:] - k*Aug[p,:];\n",
    "        end\n",
    "    end;\n",
    "    # Pisahkan matriks gandeng, kemudian substitusi mundur.\n",
    "    A = Aug[:,1:n];\n",
    "    b = Aug[:,1+n];\n",
    "    X = backsub(A,b);\n",
    "end;"
   ]
  },
  {
   "cell_type": "code",
   "execution_count": 276,
   "id": "6de0d444",
   "metadata": {},
   "outputs": [],
   "source": [
    "# Metode Faktorisasi LU Tanpa Pivoting\n",
    "\n",
    "function LUtanpaP(A);\n",
    "    # Definisikan matriks L sebagai pencatat pengali.\n",
    "    n,n = size(A);\n",
    "    L = zeros(n,n);\n",
    "    # Lakukan operasi baris dasar terhadap matriks\n",
    "    Aug = copy(A);\n",
    "    for p = 1:n-1\n",
    "        # Jika pivot bernilai nol, maka gagal.\n",
    "        if Aug[p,p]==0\n",
    "            error(\"Pivot bernilai nol\");\n",
    "        end\n",
    "        # Lakukan eliminasi lalu simpan pengali pada matriks L.\n",
    "        for i = p+1:n\n",
    "            k = Aug[i,p]/Aug[p,p];\n",
    "            Aug[i,1:n] = Aug[i,1:n] - k*Aug[p,1:n];\n",
    "            L[i,p] = k;\n",
    "        end\n",
    "    end;\n",
    "    U = Aug;\n",
    "    L = L .+ I(n);\n",
    "    return L, U\n",
    "end;"
   ]
  },
  {
   "cell_type": "code",
   "execution_count": 277,
   "id": "2f9c68b7",
   "metadata": {},
   "outputs": [],
   "source": [
    "# Metode Faktorisasi LU Dengan Pivoting\n",
    "\n",
    "function LUdenganP(A)\n",
    "    # Definisikan matriks L dan P.\n",
    "    n,n = size(A);\n",
    "    L = zeros(n,n);\n",
    "    P = Array(I(n));\n",
    "    # Lakukan operasi baris dasar terhadap matriks gandeng\n",
    "    Aug = copy(A)\n",
    "    for p = 1:n-1\n",
    "        # Lakukan operasi pindah baris untuk menentukan nilai pivot\n",
    "        val,j = findmax(abs.(Aug[p:n,p]));\n",
    "        # Pivoting U\n",
    "        C = Aug[p,:];\n",
    "        Aug[p,:] = Aug[j+p-1,:];\n",
    "        Aug[j+p-1,:] = C;\n",
    "        # Pivoting L\n",
    "        C = L[p,:];\n",
    "        L[p,:] = L[j+p-1,:];\n",
    "        L[j+p-1,:] = C;\n",
    "        # Pivoting P\n",
    "        C = P[p,:];\n",
    "        P[p,:] = P[j+p-1,:];\n",
    "        P[j+p-1,:] = C;\n",
    "        # Jika pivot bernilai nol, maka gagal.\n",
    "        if Aug[p,p]==0\n",
    "            error(\"Matriks Singular\")\n",
    "        end\n",
    "        # Lakukan eliminasi dan simpan pengali.\n",
    "        for i = p+1:n\n",
    "            k = Aug[i,p]/Aug[p,p]\n",
    "            Aug[i,1:n] = Aug[i,1:n] - k*Aug[p,1:n];\n",
    "            L[i,p] = k;\n",
    "        end\n",
    "    end\n",
    "    U = Aug;\n",
    "    L = L + I(n);\n",
    "    return L,U,P\n",
    "end;"
   ]
  },
  {
   "cell_type": "markdown",
   "id": "879012b5",
   "metadata": {},
   "source": [
    "<hr style=\"border:2px solid black\"> </hr>"
   ]
  },
  {
   "cell_type": "markdown",
   "id": "8e5c028c",
   "metadata": {},
   "source": [
    "### __Soal 1__\n",
    "\n",
    "Diberikan sistem persamaan linear (SPL) berikut:\n",
    "$$4x_{1} +8x_{2} +4x_{3} = 8$$\n",
    "$$x_{1} +5x_{2} +4x_{3} −3x_{4} = −4$$\n",
    "$$x_{1} +4x_{2} +7x_{3} +2x_{4} = 10$$\n",
    "$$x_{1} +3x_{2} −2x_{4} = −4$$\n",
    "\n",
    "__(a)__ Selesaikan SPL $AX = B$ menggunakan eliminasi Gauss tanpa _pivoting_.\n",
    "\n",
    "__(b)__ Selesaikan SPL $AX = B$ menggunakan eliminasi Gauss dengan _pivoting_."
   ]
  },
  {
   "cell_type": "code",
   "execution_count": 278,
   "id": "9f17535c-284f-4965-bb2b-679d162287f4",
   "metadata": {},
   "outputs": [],
   "source": [
    "A = [4 8 4 0\n",
    "     1 5 4 -3\n",
    "     1 4 7 2\n",
    "     1 3 0 -2];\n",
    "B = [8; -4; 10; -4];"
   ]
  },
  {
   "cell_type": "code",
   "execution_count": 279,
   "id": "06246b8d-929a-4657-8a14-c087bae4f2d1",
   "metadata": {},
   "outputs": [
    {
     "data": {
      "text/plain": [
       "4×1 Matrix{Float64}:\n",
       "  3.0\n",
       " -1.0\n",
       "  1.0\n",
       "  2.0"
      ]
     },
     "execution_count": 279,
     "metadata": {},
     "output_type": "execute_result"
    }
   ],
   "source": [
    "# (a)\n",
    "Xnp = elimGaussNonPivoting(A,B)"
   ]
  },
  {
   "cell_type": "code",
   "execution_count": 280,
   "id": "cb6421ea-ffca-4360-ae38-4d651a4b3d0c",
   "metadata": {},
   "outputs": [
    {
     "data": {
      "text/plain": [
       "4×1 Matrix{Float64}:\n",
       "  3.0\n",
       " -1.0\n",
       "  1.0\n",
       "  2.0"
      ]
     },
     "execution_count": 280,
     "metadata": {},
     "output_type": "execute_result"
    }
   ],
   "source": [
    "# (b)\n",
    "Xp = elimGaussWithPivoting(A,B)"
   ]
  },
  {
   "cell_type": "markdown",
   "id": "abefb12f-f17b-4faf-a710-807a4a543858",
   "metadata": {},
   "source": [
    "<hr style=\"border:2px solid black\"> </hr>"
   ]
  },
  {
   "cell_type": "markdown",
   "id": "3df9155c",
   "metadata": {},
   "source": [
    "### __Soal 2__\n",
    "\n",
    "Pembentukan matriks acak\n",
    "\n",
    "$•$ Bangkitkan matriks bilangan acak A = $(a_{ij})_{(n x n)} ∈ Z$ pada selang $[-n, n]$. \n",
    "\n",
    "$•$ Tetapkan matriks $B = A • (1)_{(n×1)}$ sehingga solusi dari SPL $AX = B$ adalah $X^* = (1)_{(n×1)}$\n",
    "\n",
    "$•$ Cari solusi numerik $X_{1}$ menggunakan eliminasi Gauss tanpa _pivoting_.\n",
    "\n",
    "$•$ Cari solusi numerik $X_{2}$ menggunakan eliminasi Gauss dengan _pivoting_.\n",
    "\n",
    "$•$ Hitung panjang vektor galat, yaitu solusi numerik $X_{1}$ dan $X_{2}$ terhadap solusi eksak $X^*$.\n",
    "\n",
    "Lakukan beberapa tahapan tersebut untuk:\n",
    "\n",
    "__(a)__ $n = 20$\n",
    "\n",
    "__(b)__ $n = 50$\n",
    "\n",
    "__(c)__ $n = 100$\n",
    "\n",
    "__(d)__ $n = 500$"
   ]
  },
  {
   "cell_type": "code",
   "execution_count": 282,
   "id": "e2401bee-c84f-4c9d-8398-390b7a91a48d",
   "metadata": {},
   "outputs": [],
   "source": [
    "using LinearAlgebra\n",
    "function matriks_random(n)\n",
    "    return rand(-n:n, n, n)\n",
    "end;\n",
    "\n",
    "function matriks_B(A)\n",
    "    return A * ones(size(A, 2))\n",
    "end;\n",
    "\n",
    "function hitung_err(x1, x2, xeksak)\n",
    "    En = norm(x1 - xeksak)\n",
    "    Ep = norm(x2 - xeksak)\n",
    "    return En, Ep\n",
    "end;"
   ]
  },
  {
   "cell_type": "code",
   "execution_count": 283,
   "id": "e951ed13-8823-49a7-aa16-0fa002f6c5b7",
   "metadata": {},
   "outputs": [
    {
     "name": "stdout",
     "output_type": "stream",
     "text": [
      "\u001b[1mn = 20\u001b[0m\n",
      "Error dari eliminasi Gauss tanpa pivoting: 6.584652173326501e-14\n",
      "Error dari eliminasi Gauss dengan pivoting: 5.511002163945225e-15\n"
     ]
    }
   ],
   "source": [
    "# (a)\n",
    "\n",
    "n = 20\n",
    "A2_a = matriks_random(n)\n",
    "xeksak = ones(n)\n",
    "B2_a = matriks_B(A2_a)\n",
    "x1 = elimGaussNonPivoting(A2_a, B2_a)\n",
    "x2 = elimGaussWithPivoting(A2_a, B2_a)\n",
    "En, Ep = hitung_err(x1, x2, xeksak)\n",
    "println(\"\\e[1mn = 20\\e[0m\")\n",
    "println(\"Error dari eliminasi Gauss tanpa pivoting: \", En)\n",
    "println(\"Error dari eliminasi Gauss dengan pivoting: \", Ep)"
   ]
  },
  {
   "cell_type": "code",
   "execution_count": 284,
   "id": "7d2533c7-d14f-4b5c-8d47-bb037fc125c8",
   "metadata": {},
   "outputs": [
    {
     "name": "stdout",
     "output_type": "stream",
     "text": [
      "\u001b[1mn = 50\u001b[0m\n",
      "Error dari eliminasi Gauss tanpa pivoting: 1.6426165743191907e-12\n",
      "Error dari eliminasi Gauss dengan pivoting: 2.7693555879413473e-14\n"
     ]
    }
   ],
   "source": [
    "# (b)\n",
    "\n",
    "n = 50\n",
    "A2_b = matriks_random(n)\n",
    "xeksak = ones(n)\n",
    "B2_b = matriks_B(A2_b)\n",
    "x1 = elimGaussNonPivoting(A2_b, B2_b)\n",
    "x2 = elimGaussWithPivoting(A2_b, B2_b)\n",
    "En, Ep = hitung_err(x1, x2, xeksak)\n",
    "println(\"\\e[1mn = 50\\e[0m\")\n",
    "println(\"Error dari eliminasi Gauss tanpa pivoting: \", En)\n",
    "println(\"Error dari eliminasi Gauss dengan pivoting: \", Ep)"
   ]
  },
  {
   "cell_type": "code",
   "execution_count": 285,
   "id": "4f11707c-d60f-4b27-8105-aa900122cb78",
   "metadata": {},
   "outputs": [
    {
     "name": "stdout",
     "output_type": "stream",
     "text": [
      "\u001b[1mn = 100\u001b[0m\n",
      "Error dari eliminasi Gauss tanpa pivoting: 9.591536838404963e-12\n",
      "Error dari eliminasi Gauss dengan pivoting: 8.445419188210297e-14\n"
     ]
    }
   ],
   "source": [
    "# (c)\n",
    "\n",
    "n = 100\n",
    "A2_c = matriks_random(n)\n",
    "xeksak = ones(n)\n",
    "B2_c = matriks_B(A2_c)\n",
    "x1 = elimGaussNonPivoting(A2_c, B2_c)\n",
    "x2 = elimGaussWithPivoting(A2_c, B2_c)\n",
    "En, Ep = hitung_err(x1, x2, xeksak)\n",
    "println(\"\\e[1mn = 100\\e[0m\")\n",
    "println(\"Error dari eliminasi Gauss tanpa pivoting: \", En)\n",
    "println(\"Error dari eliminasi Gauss dengan pivoting: \", Ep)"
   ]
  },
  {
   "cell_type": "code",
   "execution_count": 286,
   "id": "2c8883f7-e4c4-4533-9959-a21f40547343",
   "metadata": {},
   "outputs": [
    {
     "name": "stdout",
     "output_type": "stream",
     "text": [
      "\u001b[1mn = 500\u001b[0m\n",
      "Error dari eliminasi Gauss tanpa pivoting: 7.828780481743409e-10\n",
      "Error dari eliminasi Gauss dengan pivoting: 9.177261925075678e-12\n"
     ]
    }
   ],
   "source": [
    "# (d)\n",
    "\n",
    "n = 500\n",
    "A2_d = matriks_random(n)\n",
    "xeksak = ones(n)\n",
    "B2_d = matriks_B(A2_d)\n",
    "x1 = elimGaussNonPivoting(A2_d, B2_d)\n",
    "x2 = elimGaussWithPivoting(A2_d, B2_d)\n",
    "En, Ep = hitung_err(x1, x2, xeksak)\n",
    "println(\"\\e[1mn = 500\\e[0m\")\n",
    "println(\"Error dari eliminasi Gauss tanpa pivoting: \", En)\n",
    "println(\"Error dari eliminasi Gauss dengan pivoting: \", Ep)"
   ]
  },
  {
   "cell_type": "markdown",
   "id": "e68c7281-d78d-4a0f-a371-598383be5d07",
   "metadata": {},
   "source": [
    "__Penjelasan :__\n",
    "\n",
    "Berdasarkan hasil berbagai variasi nilai n yang digunakan, didapatkan nilai error dari metode eliminasi Gauss dengan pivoting lebih kecil daripada metode eliminasi Gauss tanpa pivoting. Hal ini ditunjukkan dari nilai __Ep < En__."
   ]
  },
  {
   "cell_type": "markdown",
   "id": "8af1d1e1-867b-4914-b79f-79b5a7997d17",
   "metadata": {},
   "source": [
    "<hr style=\"border:2px solid black\"> </hr>"
   ]
  },
  {
   "cell_type": "markdown",
   "id": "a9816a10",
   "metadata": {},
   "source": [
    "### __Soal 3__\n",
    "\n",
    "Diberikan matriks tridiagonal sebagai berikut:\n",
    "\n",
    "$$\\begin{align*}\n",
    "\\begin{bmatrix}\n",
    "  -4 &  1 & 0 &  0 & 0 & 0 & 0 &  0\\\\\n",
    "  1 & -4 & 1 &  0 & 0 & 0 & 0 &  0\\\\\n",
    "  0 & 1 &  -4 & 1 & 0 & 0 & 0 &  0\\\\\n",
    "  0 & 0 & 1 &  -4 & 1 & 0 & 0 &  0\\\\\n",
    "  0 & 0 & 0 &  1 & -4 & 1 & 0 &  0\\\\\n",
    "  0 & 0 & 0 &  0 & 1 & -4 & 1 &  0\\\\\n",
    "  0 & 0 & 0 &  0 & 0 & 1 & -4 &  1\\\\\n",
    "  0 & 0 & 0 &  0 & 0 & 0 & 1 &  -4\\\\\n",
    "\\end{bmatrix}\n",
    "\\begin{bmatrix}\n",
    "x_1\\\\x_2\\\\x_3\\\\x_4\\\\x_5\\\\x_6\\\\x_7\\\\x_8\\\\\n",
    "\\end{bmatrix}=\n",
    "\\begin{bmatrix}\n",
    "2\\\\2\\\\2\\\\2\\\\2\\\\2\\\\2\\\\2\\\\\n",
    "\\end{bmatrix}\n",
    "\\end{align*}$$\n",
    "\n",
    "__(a)__ Gunakan metode eliminasi Gauss untuk mencari solusi SPL di atas.\n",
    "\n",
    "__(b)__ Apa yang terjadi terhadap nilai solusi jika dimensi SPL $AX = B$ diubah menjadi $A_{10×10}$, $A_{25×25}$, dan $A_{50×50}$."
   ]
  },
  {
   "cell_type": "code",
   "execution_count": 287,
   "id": "b5073409",
   "metadata": {},
   "outputs": [],
   "source": [
    "# (a)\n",
    "\n",
    "using LinearAlgebra\n",
    "A3 = diagm(0 => -4*ones(8), 1 => 1*ones(7), -1 => 1*ones(7));\n",
    "B3 = 2*ones(8);"
   ]
  },
  {
   "cell_type": "code",
   "execution_count": 288,
   "id": "e8b46d40-1c8f-4202-9394-fd92c90563d8",
   "metadata": {},
   "outputs": [
    {
     "data": {
      "text/plain": [
       "8×1 Matrix{Float64}:\n",
       " -0.7320261437908497\n",
       " -0.9281045751633987\n",
       " -0.9803921568627451\n",
       " -0.9934640522875817\n",
       " -0.9934640522875818\n",
       " -0.9803921568627452\n",
       " -0.9281045751633987\n",
       " -0.7320261437908497"
      ]
     },
     "execution_count": 288,
     "metadata": {},
     "output_type": "execute_result"
    }
   ],
   "source": [
    "Xp3 = elimGaussWithPivoting(A3,B3)"
   ]
  },
  {
   "cell_type": "code",
   "execution_count": 289,
   "id": "b9cff264-d2e5-4acf-82b8-5191b7103f11",
   "metadata": {},
   "outputs": [],
   "source": [
    "# (b)\n",
    "\n",
    "A3_10 = diagm(0 => -4*ones(10), 1 => 1*ones(9), -1 => 1*ones(9));\n",
    "B3_10 = 2*ones(10);\n",
    "A3_25 = diagm(0 => -4*ones(25), 1 => 1*ones(24), -1 => 1*ones(24));\n",
    "B3_25 = 2*ones(25);\n",
    "A3_50 = diagm(0 => -4*ones(50), 1 => 1*ones(49), -1 => 1*ones(49));\n",
    "B3_50 = 2*ones(50);"
   ]
  },
  {
   "cell_type": "code",
   "execution_count": 290,
   "id": "84f305fb-af15-47c3-9428-1ed8253c8fd3",
   "metadata": {},
   "outputs": [
    {
     "data": {
      "text/plain": [
       "10×1 Matrix{Float64}:\n",
       " -0.7320490367775832\n",
       " -0.9281961471103327\n",
       " -0.9807355516637478\n",
       " -0.9947460595446584\n",
       " -0.9982486865148862\n",
       " -0.9982486865148861\n",
       " -0.9947460595446584\n",
       " -0.9807355516637478\n",
       " -0.9281961471103327\n",
       " -0.7320490367775832"
      ]
     },
     "execution_count": 290,
     "metadata": {},
     "output_type": "execute_result"
    }
   ],
   "source": [
    "Xp3_10 = elimGaussWithPivoting(A3_10,B3_10)"
   ]
  },
  {
   "cell_type": "code",
   "execution_count": 291,
   "id": "c6f5eb15-1338-4ecb-b0b6-c7c521c6a347",
   "metadata": {},
   "outputs": [
    {
     "data": {
      "text/plain": [
       "25×1 Matrix{Float64}:\n",
       " -0.7320508075688726\n",
       " -0.9282032302754905\n",
       " -0.9807621135330893\n",
       " -0.9948452238568671\n",
       " -0.9986187818943792\n",
       " -0.9996299037206494\n",
       " -0.9999008329882185\n",
       " -0.9999734282322243\n",
       " -0.9999928799406789\n",
       " -0.9999980915304912\n",
       " -0.999999486181286\n",
       " -0.999999853194653\n",
       " -0.9999999265973265\n",
       " -0.9999998531946532\n",
       " -0.9999994861812861\n",
       " -0.9999980915304914\n",
       " -0.999992879940679\n",
       " -0.9999734282322243\n",
       " -0.9999008329882184\n",
       " -0.9996299037206494\n",
       " -0.9986187818943791\n",
       " -0.9948452238568672\n",
       " -0.9807621135330894\n",
       " -0.9282032302754906\n",
       " -0.7320508075688726"
      ]
     },
     "execution_count": 291,
     "metadata": {},
     "output_type": "execute_result"
    }
   ],
   "source": [
    "Xp3_25 = elimGaussWithPivoting(A3_25,B3_25)"
   ]
  },
  {
   "cell_type": "code",
   "execution_count": 292,
   "id": "d872133e-585f-4aba-a836-645c73843590",
   "metadata": {},
   "outputs": [
    {
     "data": {
      "text/plain": [
       "50×1 Matrix{Float64}:\n",
       " -0.7320508075688773\n",
       " -0.9282032302755091\n",
       " -0.9807621135331593\n",
       " -0.9948452238571285\n",
       " -0.9986187818953544\n",
       " -0.999629903724289\n",
       " -0.9999008330018014\n",
       " -0.9999734282829169\n",
       " -0.9999928801298661\n",
       " -0.9999980922365473\n",
       " -0.9999994888163234\n",
       " -0.9999998630287467\n",
       " -0.9999999632986633\n",
       "  ⋮\n",
       " -0.9999998630287468\n",
       " -0.9999994888163235\n",
       " -0.9999980922365475\n",
       " -0.9999928801298661\n",
       " -0.9999734282829169\n",
       " -0.9999008330018014\n",
       " -0.999629903724289\n",
       " -0.9986187818953544\n",
       " -0.9948452238571285\n",
       " -0.9807621135331595\n",
       " -0.9282032302755091\n",
       " -0.7320508075688773"
      ]
     },
     "execution_count": 292,
     "metadata": {},
     "output_type": "execute_result"
    }
   ],
   "source": [
    "Xp3_50 = elimGaussWithPivoting(A3_50,B3_50)"
   ]
  },
  {
   "cell_type": "markdown",
   "id": "e4d9ced8-0b4f-4cbf-af12-874bef2ef796",
   "metadata": {},
   "source": [
    "__Penjelasan :__\n",
    "\n",
    "Jika SPL $AX = B$ diubah menjadi $A_{10×10}$, $A_{25×25}$, dan $A_{50×50}$, empat nilai solusi awal dan empat nilai solusi akhir akan mendekati nilai dari solusi SPL $A_{8×8}$. Sementara solusi lainnya akan memiliki nilai yang mendekati -1. "
   ]
  },
  {
   "cell_type": "markdown",
   "id": "e96eea2f-5a1a-434b-9cea-1c8234d7993e",
   "metadata": {},
   "source": [
    "<hr style=\"border:2px solid black\"> </hr>"
   ]
  },
  {
   "cell_type": "markdown",
   "id": "153b2a12",
   "metadata": {},
   "source": [
    "### __Soal 4__\n",
    "\n",
    "Diberikan suatu sistem persamaan linear (SPL) sebagai berikut:\n",
    "\n",
    "$$\\begin{align*}\n",
    "\\begin{bmatrix}\n",
    "  12 &  -2 & 1 &  0 & 0 & 0 & 0 &  0\\\\\n",
    "  -2 & 12 & -2 &  1 & 0 & 0 & 0 &  0\\\\\n",
    "  1 & -2 &  12 & -2 & 1 & 0 & 0 &  0\\\\\n",
    "  0 & 1 & -2 &  12 & -2 & 1 & 0 &  0\\\\\n",
    "  0 & 0 & 1 &  -2 & 12 & -2 & 1 &  0\\\\\n",
    "  0 & 0 & 0 &  1 & -2 & 12 & -2 &  1\\\\\n",
    "  0 & 0 & 0 &  0 & 1 & -2 & 12 &  -2\\\\\n",
    "  0 & 0 & 0 &  0 & 0 & 1 & -2 &  12\\\\\n",
    "\\end{bmatrix}\n",
    "\\begin{bmatrix}\n",
    "x_1\\\\x_2\\\\x_3\\\\x_4\\\\x_5\\\\x_6\\\\x_7\\\\x_8\\\\\n",
    "\\end{bmatrix}=\n",
    "\\begin{bmatrix}\n",
    "5\\\\5\\\\5\\\\5\\\\5\\\\5\\\\5\\\\5\\\\\n",
    "\\end{bmatrix}\n",
    "\\end{align*}$$\n",
    "\n",
    "__(a)__ Gunakan metode eliminasi Gauss untuk mencari solusi SPL di atas.\n",
    "\n",
    "__(b)__ Apa yang terjadi terhadap nilai solusi jika dimensi SPL $AX = B$ diubah menjadi $A_{10×10}$, $A_{25×25}$, dan $A_{50×50}$."
   ]
  },
  {
   "cell_type": "code",
   "execution_count": 293,
   "id": "f0c7ae20",
   "metadata": {},
   "outputs": [],
   "source": [
    "# (a)\n",
    "\n",
    "A4 = diagm(0 => 12*ones(8), 1 => -2*ones(7), -1 => -2*ones(7), 2 => ones(6), -2 => ones(6));\n",
    "B4 = 5*ones(8);"
   ]
  },
  {
   "cell_type": "code",
   "execution_count": 294,
   "id": "8530f3de-ae1e-43eb-95fe-f25de355c9b5",
   "metadata": {},
   "outputs": [
    {
     "data": {
      "text/plain": [
       "8×1 Matrix{Float64}:\n",
       " 0.4638114830746212\n",
       " 0.5373729817343058\n",
       " 0.5090081665731563\n",
       " 0.49716351848388507\n",
       " 0.49716351848388507\n",
       " 0.5090081665731562\n",
       " 0.5373729817343058\n",
       " 0.46381148307462133"
      ]
     },
     "execution_count": 294,
     "metadata": {},
     "output_type": "execute_result"
    }
   ],
   "source": [
    "Xp4 = elimGaussWithPivoting(A4,B4)"
   ]
  },
  {
   "cell_type": "code",
   "execution_count": 295,
   "id": "9ef3b4d0-6aee-4169-968f-0403ba4c8a7b",
   "metadata": {},
   "outputs": [],
   "source": [
    "# (b)\n",
    "\n",
    "A4_10 = diagm(0 => 12*ones(10), 1 => -2*ones(9), -1 => -2*ones(9), 2 => ones(8), -2 => ones(8));\n",
    "B4_10 = 5*ones(10);\n",
    "A4_25 = diagm(0 => 12*ones(25), 1 => -2*ones(24), -1 => -2*ones(24), 2 => ones(23), -2 => ones(23));\n",
    "B4_25 = 5*ones(25);\n",
    "A4_50 = diagm(0 => 12*ones(50), 1 => -2*ones(49), -1 => -2*ones(49), 2 => ones(48), -2 => ones(48));\n",
    "B4_50 = 5*ones(50);"
   ]
  },
  {
   "cell_type": "code",
   "execution_count": 296,
   "id": "a7c609c5-6d15-49e3-8ac6-3b8e5473f376",
   "metadata": {},
   "outputs": [
    {
     "data": {
      "text/plain": [
       "10×1 Matrix{Float64}:\n",
       " 0.463793380893633\n",
       " 0.5372794078206297\n",
       " 0.5090382449176635\n",
       " 0.4983103577750362\n",
       " 0.49892721128573736\n",
       " 0.49892721128573725\n",
       " 0.49831035777503613\n",
       " 0.5090382449176635\n",
       " 0.5372794078206297\n",
       " 0.46379338089363303"
      ]
     },
     "execution_count": 296,
     "metadata": {},
     "output_type": "execute_result"
    }
   ],
   "source": [
    "Xp4_10 = elimGaussWithPivoting(A4_10,B4_10)"
   ]
  },
  {
   "cell_type": "code",
   "execution_count": 297,
   "id": "5e73a122-baa8-42ef-80f3-134bff9cbf21",
   "metadata": {},
   "outputs": [
    {
     "data": {
      "text/plain": [
       "25×1 Matrix{Float64}:\n",
       " 0.18551820952661488\n",
       " 0.2149138420799545\n",
       " 0.20360916984053037\n",
       " 0.19928865377483637\n",
       " 0.19957674409660253\n",
       " 0.19999414049627454\n",
       " 0.2000354895424611\n",
       " 0.2000061275479962\n",
       " 0.19999791748240578\n",
       " 0.1999991429775045\n",
       " 0.20000004171967123\n",
       " 0.20000007512610388\n",
       " 0.20000001808875612\n",
       " 0.20000007512610385\n",
       " 0.20000004171967126\n",
       " 0.19999914297750448\n",
       " 0.19999791748240575\n",
       " 0.2000061275479962\n",
       " 0.20003548954246106\n",
       " 0.19999414049627456\n",
       " 0.19957674409660256\n",
       " 0.1992886537748364\n",
       " 0.20360916984053032\n",
       " 0.21491384207995448\n",
       " 0.18551820952661488"
      ]
     },
     "execution_count": 297,
     "metadata": {},
     "output_type": "execute_result"
    }
   ],
   "source": [
    "Xp4_25 = elimGaussWithPivoting(A4_25,B3_25)"
   ]
  },
  {
   "cell_type": "code",
   "execution_count": 298,
   "id": "8a0c7358-e0d7-434b-9032-4716a9e3c15e",
   "metadata": {},
   "outputs": [
    {
     "data": {
      "text/plain": [
       "50×1 Matrix{Float64}:\n",
       " 0.46379552381655004\n",
       " 0.5372846051999656\n",
       " 0.5090229246013307\n",
       " 0.4982216344361741\n",
       " 0.49894186023976195\n",
       " 0.4999853512481307\n",
       " 0.5000887238901356\n",
       " 0.500015318846052\n",
       " 0.49999479326697527\n",
       " 0.4999978569134675\n",
       " 0.500000108425199\n",
       " 0.5000002015766875\n",
       " 0.5000000226109451\n",
       " ⋮\n",
       " 0.5000002015766873\n",
       " 0.500000108425199\n",
       " 0.49999785691346743\n",
       " 0.4999947932669753\n",
       " 0.500015318846052\n",
       " 0.5000887238901357\n",
       " 0.49998535124813076\n",
       " 0.49894186023976195\n",
       " 0.49822163443617407\n",
       " 0.5090229246013306\n",
       " 0.5372846051999656\n",
       " 0.46379552381655004"
      ]
     },
     "execution_count": 298,
     "metadata": {},
     "output_type": "execute_result"
    }
   ],
   "source": [
    "Xp4_50 = elimGaussWithPivoting(A4_50,B4_50)"
   ]
  },
  {
   "cell_type": "markdown",
   "id": "83e1558d-dc9e-409a-8eb1-8c762a6b87ef",
   "metadata": {},
   "source": [
    "__Penjelasan :__\n",
    "\n",
    "Jika SPL $AX = B$ diubah menjadi $A_{10×10}$ dan $A_{50×50}$, empat nilai solusi awal dan empat nilai solusi akhir akan mendekati nilai dari solusi SPL $A_{8×8}$. Sementara solusi lainnya akan memiliki nilai yang mendekati 0,5. Namun jika SPL $AX = B$ diubah menjadi $A_{25×25}$, maka menghasilkan nilai solusi yang berbeda dari pengubahan yang lainnya, yang terlihat disini bahwa nilai solusinya cenderung mendekati 0,2."
   ]
  },
  {
   "cell_type": "markdown",
   "id": "46752c16-80be-445b-a754-e1252d055dfd",
   "metadata": {},
   "source": [
    "<hr style=\"border:2px solid black\"> </hr>"
   ]
  },
  {
   "cell_type": "markdown",
   "id": "a8cd0b60",
   "metadata": {},
   "source": [
    "### __Soal 5__\n",
    "\n",
    "Diberikan sistem persamaan linear seperti berikut.\n",
    "\n",
    "$$\\begin{align*}\n",
    "\\begin{bmatrix}\n",
    "  8 &  1 & 0 &  0 & 0 & 0 & 0 &  0 & 0\\\\\n",
    "  1 & 8 & 1 &  0 & 0 & 0 & 0 &  0 & 0\\\\\n",
    "  0 & 1 &  8 & 1 & 0 & 0 & 0 &  0 & 0\\\\\n",
    "  0 & 0 & 1 &  8 & 1 & 0 & 0 &  0 & 0\\\\\n",
    "  0 & 0 & 0 &  1 & 8 & 1 & 0 &  0 & 0\\\\\n",
    "  0 & 0 & 0 &  0 & 1 & 8 & 1 &  0 & 0\\\\\n",
    "  0 & 0 & 0 &  0 & 0 & 1 & 8 &  1 & 0\\\\\n",
    "  0 & 0 & 0 &  0 & 0 & 0 & 1 &  8 & 1\\\\\n",
    "  0 & 0 & 0 &  0 & 0 & 0 & 0 &  1 & 8\\\\\n",
    "\\end{bmatrix}\n",
    "\\begin{bmatrix}\n",
    "x_1\\\\x_2\\\\x_3\\\\x_4\\\\x_5\\\\x_6\\\\x_7\\\\x_8\\\\x_9\\\\\n",
    "\\end{bmatrix}=\n",
    "\\begin{bmatrix}\n",
    "4\\\\4\\\\4\\\\4\\\\4\\\\4\\\\4\\\\4\\\\4\\\\\n",
    "\\end{bmatrix}\n",
    "\\end{align*}$$\n",
    "\n",
    "__(a)__ Gunakan faktorisasi $LU$ tanpa pivoting Program 5.4 untuk mengeluarkan matriks $L$ dan $U$, kemudian hitung nilai solusi sistem persamaan linear.\n",
    "\n",
    "__(b)__ Gunakan faktorisasi $LU$ dengan pivoting Program 5.5 untuk mengeluarkan matriks $L$, $U$ dan $P$, kemudian hitung nilai solusi sistem persamaan linear."
   ]
  },
  {
   "cell_type": "code",
   "execution_count": 299,
   "id": "86584a0f-0f69-468a-a7f5-688060417887",
   "metadata": {},
   "outputs": [],
   "source": [
    "using LinearAlgebra\n",
    "A5 = diagm(0 => 8*ones(9), 1 => 1*ones(7), -1 => 1*ones(7));\n",
    "B5 = 4*ones(9);"
   ]
  },
  {
   "cell_type": "code",
   "execution_count": 300,
   "id": "86fe8b7e-3bb3-40e4-94d1-3ccb02cb3274",
   "metadata": {},
   "outputs": [
    {
     "name": "stdout",
     "output_type": "stream",
     "text": [
      "\u001b[1mMatriks L dari faktorisasi LU tanpa pivoting: \u001b[0m\n"
     ]
    },
    {
     "data": {
      "text/plain": [
       "9×9 Matrix{Float64}:\n",
       " 1.0    0.0       0.0       0.0       0.0       0.0       0.0       0.0  0.0\n",
       " 0.125  1.0       0.0       0.0       0.0       0.0       0.0       0.0  0.0\n",
       " 0.0    0.126984  1.0       0.0       0.0       0.0       0.0       0.0  0.0\n",
       " 0.0    0.0       0.127016  1.0       0.0       0.0       0.0       0.0  0.0\n",
       " 0.0    0.0       0.0       0.127017  1.0       0.0       0.0       0.0  0.0\n",
       " 0.0    0.0       0.0       0.0       0.127017  1.0       0.0       0.0  0.0\n",
       " 0.0    0.0       0.0       0.0       0.0       0.127017  1.0       0.0  0.0\n",
       " 0.0    0.0       0.0       0.0       0.0       0.0       0.127017  1.0  0.0\n",
       " 0.0    0.0       0.0       0.0       0.0       0.0       0.0       0.0  1.0"
      ]
     },
     "execution_count": 300,
     "metadata": {},
     "output_type": "execute_result"
    }
   ],
   "source": [
    "# (a)\n",
    "\n",
    "Ln,Un = LUtanpaP(A5);\n",
    "println(\"\\e[1mMatriks L dari faktorisasi LU tanpa pivoting: \\e[0m\")\n",
    "Ln"
   ]
  },
  {
   "cell_type": "code",
   "execution_count": 301,
   "id": "3c42169a-e656-4808-9e27-c2e35e69487e",
   "metadata": {},
   "outputs": [
    {
     "name": "stdout",
     "output_type": "stream",
     "text": [
      "\n",
      "\u001b[1mMatriks U dari faktorisasi LU tanpa pivoting: \u001b[0m\n"
     ]
    },
    {
     "data": {
      "text/plain": [
       "9×9 Matrix{Float64}:\n",
       " 8.0  1.0    0.0      0.0      0.0       0.0          0.0      0.0      0.0\n",
       " 0.0  7.875  1.0      0.0      0.0       0.0          0.0      0.0      0.0\n",
       " 0.0  0.0    7.87302  1.0      0.0       0.0          0.0      0.0      0.0\n",
       " 0.0  0.0    0.0      7.87298  1.0       0.0          0.0      0.0      0.0\n",
       " 0.0  0.0    0.0      0.0      7.87298   1.0          0.0      0.0      0.0\n",
       " 0.0  0.0    0.0      0.0      0.0       7.87298      1.0      0.0      0.0\n",
       " 0.0  0.0    0.0      0.0      0.0       1.11022e-16  7.87298  1.0      0.0\n",
       " 0.0  0.0    0.0      0.0      0.0      -1.41017e-17  0.0      7.87298  0.0\n",
       " 0.0  0.0    0.0      0.0      0.0       0.0          0.0      0.0      8.0"
      ]
     },
     "execution_count": 301,
     "metadata": {},
     "output_type": "execute_result"
    }
   ],
   "source": [
    "println(\"\\n\\e[1mMatriks U dari faktorisasi LU tanpa pivoting: \\e[0m\")\n",
    "Un"
   ]
  },
  {
   "cell_type": "code",
   "execution_count": 302,
   "id": "2f63a3b5-1444-4ed4-94eb-005b49b29a99",
   "metadata": {},
   "outputs": [
    {
     "name": "stdout",
     "output_type": "stream",
     "text": [
      "\u001b[1mSolusi sistem persamaan linear tanpa pivoting : \u001b[0m\n"
     ]
    },
    {
     "data": {
      "text/plain": [
       "9×1 Matrix{Float64}:\n",
       " 0.4508066348557146\n",
       " 0.39354692115428314\n",
       " 0.4008179959100204\n",
       " 0.39990911156555325\n",
       " 0.39990911156555325\n",
       " 0.40081799591002043\n",
       " 0.39354692115428314\n",
       " 0.4508066348557146\n",
       " 0.5"
      ]
     },
     "execution_count": 302,
     "metadata": {},
     "output_type": "execute_result"
    }
   ],
   "source": [
    "Yn = forwardsub(Ln,B5)\n",
    "Xn = backsub(Un,Yn)\n",
    "println(\"\\e[1mSolusi sistem persamaan linear tanpa pivoting : \\e[0m\")\n",
    "Xn"
   ]
  },
  {
   "cell_type": "code",
   "execution_count": 303,
   "id": "38e7c5ef-d531-4cc5-b8c1-02341bba2973",
   "metadata": {},
   "outputs": [
    {
     "name": "stdout",
     "output_type": "stream",
     "text": [
      "\u001b[1mMatriks L dari faktorisasi LU dengan pivoting: \u001b[0m\n"
     ]
    },
    {
     "data": {
      "text/plain": [
       "9×9 Matrix{Float64}:\n",
       " 1.0    0.0       0.0       0.0       0.0       0.0       0.0       0.0  0.0\n",
       " 0.125  1.0       0.0       0.0       0.0       0.0       0.0       0.0  0.0\n",
       " 0.0    0.126984  1.0       0.0       0.0       0.0       0.0       0.0  0.0\n",
       " 0.0    0.0       0.127016  1.0       0.0       0.0       0.0       0.0  0.0\n",
       " 0.0    0.0       0.0       0.127017  1.0       0.0       0.0       0.0  0.0\n",
       " 0.0    0.0       0.0       0.0       0.127017  1.0       0.0       0.0  0.0\n",
       " 0.0    0.0       0.0       0.0       0.0       0.127017  1.0       0.0  0.0\n",
       " 0.0    0.0       0.0       0.0       0.0       0.0       0.127017  1.0  0.0\n",
       " 0.0    0.0       0.0       0.0       0.0       0.0       0.0       0.0  1.0"
      ]
     },
     "execution_count": 303,
     "metadata": {},
     "output_type": "execute_result"
    }
   ],
   "source": [
    "# (b)\n",
    "\n",
    "Lp,Up,P = LUdenganP(A5);\n",
    "println(\"\\e[1mMatriks L dari faktorisasi LU dengan pivoting: \\e[0m\")\n",
    "Lp"
   ]
  },
  {
   "cell_type": "code",
   "execution_count": 304,
   "id": "1ea9503a-aaac-446d-acae-a419bbf7033e",
   "metadata": {},
   "outputs": [
    {
     "name": "stdout",
     "output_type": "stream",
     "text": [
      "\n",
      "\u001b[1mMatriks U dari faktorisasi LU dengan pivoting: \u001b[0m\n"
     ]
    },
    {
     "data": {
      "text/plain": [
       "9×9 Matrix{Float64}:\n",
       " 8.0  1.0    0.0      0.0      0.0       0.0          0.0      0.0      0.0\n",
       " 0.0  7.875  1.0      0.0      0.0       0.0          0.0      0.0      0.0\n",
       " 0.0  0.0    7.87302  1.0      0.0       0.0          0.0      0.0      0.0\n",
       " 0.0  0.0    0.0      7.87298  1.0       0.0          0.0      0.0      0.0\n",
       " 0.0  0.0    0.0      0.0      7.87298   1.0          0.0      0.0      0.0\n",
       " 0.0  0.0    0.0      0.0      0.0       7.87298      1.0      0.0      0.0\n",
       " 0.0  0.0    0.0      0.0      0.0       1.11022e-16  7.87298  1.0      0.0\n",
       " 0.0  0.0    0.0      0.0      0.0      -1.41017e-17  0.0      7.87298  0.0\n",
       " 0.0  0.0    0.0      0.0      0.0       0.0          0.0      0.0      8.0"
      ]
     },
     "execution_count": 304,
     "metadata": {},
     "output_type": "execute_result"
    }
   ],
   "source": [
    "println(\"\\n\\e[1mMatriks U dari faktorisasi LU dengan pivoting: \\e[0m\")\n",
    "Up"
   ]
  },
  {
   "cell_type": "code",
   "execution_count": 305,
   "id": "8a7c9c01-5df8-4331-9553-28f2c3648e03",
   "metadata": {},
   "outputs": [
    {
     "name": "stdout",
     "output_type": "stream",
     "text": [
      "\n",
      "\u001b[1mMatriks P dari faktorisasi LU dengan pivoting: \u001b[0m\n"
     ]
    },
    {
     "data": {
      "text/plain": [
       "9×9 Matrix{Bool}:\n",
       " 1  0  0  0  0  0  0  0  0\n",
       " 0  1  0  0  0  0  0  0  0\n",
       " 0  0  1  0  0  0  0  0  0\n",
       " 0  0  0  1  0  0  0  0  0\n",
       " 0  0  0  0  1  0  0  0  0\n",
       " 0  0  0  0  0  1  0  0  0\n",
       " 0  0  0  0  0  0  1  0  0\n",
       " 0  0  0  0  0  0  0  1  0\n",
       " 0  0  0  0  0  0  0  0  1"
      ]
     },
     "execution_count": 305,
     "metadata": {},
     "output_type": "execute_result"
    }
   ],
   "source": [
    "println(\"\\n\\e[1mMatriks P dari faktorisasi LU dengan pivoting: \\e[0m\")\n",
    "P"
   ]
  },
  {
   "cell_type": "code",
   "execution_count": 306,
   "id": "458d0518-b175-4852-89e9-28689b4883d2",
   "metadata": {},
   "outputs": [
    {
     "name": "stdout",
     "output_type": "stream",
     "text": [
      "\u001b[1mSolusi sistem persamaan linear dengan pivoting : \u001b[0m\n"
     ]
    },
    {
     "data": {
      "text/plain": [
       "9×1 Matrix{Float64}:\n",
       " 0.4508066348557146\n",
       " 0.39354692115428314\n",
       " 0.4008179959100204\n",
       " 0.39990911156555325\n",
       " 0.39990911156555325\n",
       " 0.40081799591002043\n",
       " 0.39354692115428314\n",
       " 0.4508066348557146\n",
       " 0.5"
      ]
     },
     "execution_count": 306,
     "metadata": {},
     "output_type": "execute_result"
    }
   ],
   "source": [
    "Yp = forwardsub(Lp,P*B5)\n",
    "Xp = backsub(Up,Yp)\n",
    "println(\"\\e[1mSolusi sistem persamaan linear dengan pivoting : \\e[0m\")\n",
    "Xp"
   ]
  },
  {
   "cell_type": "markdown",
   "id": "ebccdabc-1678-40a2-bc2b-047400d25cca",
   "metadata": {},
   "source": [
    "<hr style=\"border:2px solid black\"> </hr>"
   ]
  },
  {
   "attachments": {
    "af67c4a9-f6e3-42b4-a937-d8c5849b8075.png": {
     "image/png": "[encoded data removed]"
    }
   },
   "cell_type": "markdown",
   "id": "b64433de-1a14-44ef-bcd1-f18074b75df9",
   "metadata": {},
   "source": [
    "### __Soal 6__\n",
    "Sebuah rangkaian resistor dengan 2 sumber tegangan diberikan seperti berikut.\n",
    "\n",
    "![Cuplikan layar 2024-02-22 144618.png](attachment:af67c4a9-f6e3-42b4-a937-d8c5849b8075.png)\n",
    "\n",
    "Dengan menerapkan hukum Ohm dan Kirchoff didapatkanlah SPL seperti berikut.\n",
    "\n",
    "$$\\begin{align*}\n",
    "\\begin{bmatrix}\n",
    "  R_1 + R_2 + R_4 &  -R_2 & 0 &  -R_4 \\\\\n",
    " -R_2 & R_2 + R_3 + R_5 & -R_5 &  0 \\\\\n",
    "  0 & -R_5 &  R_5 + R_7 + R_8 & -R_7 \\\\\n",
    "  -R_4 & 0 & -R_7 &  R_4 + R_6 + R_7\\\\\n",
    "\\end{bmatrix}\n",
    "\\begin{bmatrix}\n",
    "i_1\\\\i_2\\\\i_3\\\\i_4\\\\\n",
    "\\end{bmatrix}=\n",
    "\\begin{bmatrix}\n",
    "-V_1\\\\V_2\\\\0\\\\0\n",
    "\\end{bmatrix}\n",
    "\\end{align*}$$\n",
    "\n",
    "Hitung solusi $i$ dengan metode eliminasi Gauss, jika diketahui $R_1 = R_2 = R_3 = 100, R_4 = R_5 = 150, R_6 = R_7 = R_8 = 200, V_1 = 10,$ dan $V_2 = 12$."
   ]
  },
  {
   "cell_type": "code",
   "execution_count": 307,
   "id": "350d1f26-e053-4b3d-b408-9d79ce278d1f",
   "metadata": {},
   "outputs": [],
   "source": [
    "R1 = R2 = R3 = 100.0\n",
    "R4 = R5 = 150.0\n",
    "R6 = R7 = R8 = 200.0\n",
    "V1 = 10.0\n",
    "V2 = 12.0\n",
    "\n",
    "A6 = [R1+R2+R4 -R2 0.0 -R4\n",
    "      -R2 R2+R3+R5 -R5 0.0\n",
    "      0.0 -R5 R5+R7+R8 -R7\n",
    "      -R4 0.0 -R7 R4+R6+R7];\n",
    "B6 = [-V1;V2;0.0;0.0];"
   ]
  },
  {
   "cell_type": "code",
   "execution_count": 308,
   "id": "5ed53b07-3c06-46d3-9e7b-6639e8c6b0f1",
   "metadata": {},
   "outputs": [
    {
     "data": {
      "text/plain": [
       "4×1 Matrix{Float64}:\n",
       " -0.020805860805860808\n",
       "  0.03157509157509157\n",
       "  0.007545787545787543\n",
       " -0.002930402930402932"
      ]
     },
     "execution_count": 308,
     "metadata": {},
     "output_type": "execute_result"
    }
   ],
   "source": [
    "in6 = elimGaussNonPivoting(A6,B6)"
   ]
  },
  {
   "cell_type": "code",
   "execution_count": 309,
   "id": "0b9f3723-7cbb-4d75-9512-03bd08b3b56e",
   "metadata": {},
   "outputs": [
    {
     "data": {
      "text/plain": [
       "4×1 Matrix{Float64}:\n",
       " -0.020805860805860808\n",
       "  0.03157509157509157\n",
       "  0.007545787545787543\n",
       " -0.002930402930402932"
      ]
     },
     "execution_count": 309,
     "metadata": {},
     "output_type": "execute_result"
    }
   ],
   "source": [
    "ip6 = elimGaussWithPivoting(A6,B6)"
   ]
  },
  {
   "cell_type": "code",
   "execution_count": 310,
   "id": "8426e6cd-7d95-4a06-8fac-610ca940d2cd",
   "metadata": {},
   "outputs": [
    {
     "data": {
      "text/plain": [
       "4×1 Matrix{Float64}:\n",
       " -10.0\n",
       "  12.0\n",
       "  -4.579669976578771e-16\n",
       "   2.0469737016526324e-16"
      ]
     },
     "execution_count": 310,
     "metadata": {},
     "output_type": "execute_result"
    }
   ],
   "source": [
    "A6*in6"
   ]
  },
  {
   "cell_type": "code",
   "execution_count": 311,
   "id": "59143bb7-0e68-4c6e-b7f1-349f810c5396",
   "metadata": {},
   "outputs": [
    {
     "data": {
      "text/plain": [
       "4×1 Matrix{Float64}:\n",
       " -10.0\n",
       "  12.0\n",
       "  -4.579669976578771e-16\n",
       "   2.0469737016526324e-16"
      ]
     },
     "execution_count": 311,
     "metadata": {},
     "output_type": "execute_result"
    }
   ],
   "source": [
    "A6*ip6"
   ]
  },
  {
   "cell_type": "markdown",
   "id": "750cc97a-102f-4f79-9e4b-40f8b110e837",
   "metadata": {},
   "source": [
    "<hr style=\"border:2px solid black\"> </hr>"
   ]
  },
  {
   "cell_type": "markdown",
   "id": "f11b2116",
   "metadata": {},
   "source": [
    "### __Soal 7__\n",
    "\n",
    "Diberikan suatu sistem persamaan linear yaitu\n",
    "$$x+αy = 1$$\n",
    "$$x+βy = 1$$\n",
    "\n",
    "dengan terdapat empat kasus untuk nilai $α$ dan $β$, yaitu\n",
    "\n",
    "$•$ $α = 101/100$ dan $β = 99/100$\n",
    "\n",
    "$•$ $α = 11/10$ dan $β = 9/10$\n",
    "\n",
    "$•$ $α = 15$ dan $β = 5$\n",
    "\n",
    "$•$ $α = 1+δ$ dan $β = 1−δ$ dengan $δ = 10^{−8}$\n",
    "\n",
    "Untuk setiap kasus tersebut,\n",
    "\n",
    "__(a)__ Cari solusi numerik dari SPL tersebut menggunakan metode eliminasi Gauss (dengan ataupun tanpa _pivoting_)\n",
    "\n",
    "__(b)__ Periksa galat absolut masing-masing solusi numerik, jika diketahui solusi eksak dari keempat kasus adalah $x = 1$ dan $y = 0.$\n",
    "\n",
    "__(c)__ Jika kondisi dari suatu matriks A dari SPL $Ax = b$ dapat dihitung pada Julia dengan perintah ```cond(A,2)``` yang terdapat pada paket ```LinearAlgebra.jl```, jelaskan kaitan antara kondisi matriks tersebut dengan besarnya galat absolut yang diperoleh sebelumnya."
   ]
  },
  {
   "cell_type": "code",
   "execution_count": 312,
   "id": "87be6da3-7f25-47e4-b4db-887c916eff48",
   "metadata": {},
   "outputs": [
    {
     "name": "stdout",
     "output_type": "stream",
     "text": [
      "\u001b[1mKasus 1: \u001b[0m\n",
      "\u001b[1m(a)\u001b[0m\n",
      "Solusi numerik tanpa pivoting: [1.0; -0.0;;]\n",
      "Solusi numerik dengan pivoting: [1.0; -0.0;;]\n",
      "\n",
      "\u001b[1m(b)\u001b[0m\n",
      "Galat absolut tanpa pivoting: 0.0\n",
      "Galat absolut dengan pivoting: 0.0\n",
      "\n",
      "\u001b[1m(c)\u001b[0m\n",
      "Kondisi matriks A kasus 1: 200.0050001249991\n"
     ]
    }
   ],
   "source": [
    "using LinearAlgebra\n",
    "\n",
    "# Kasus 1\n",
    "A71 = [1 101/100; 1 99/100]\n",
    "b71 = [1; 1]\n",
    "x_non = elimGaussNonPivoting(A71, b71)\n",
    "x_pivot = elimGaussWithPivoting(A71, b71)\n",
    "err_non = norm(x_non - [1, 0])\n",
    "err_pivot = norm(x_pivot - [1, 0])\n",
    "kondisi_A = cond(A71, 2)\n",
    "\n",
    "println(\"\\e[1mKasus 1: \\e[0m\")\n",
    "println(\"\\e[1m(a)\\e[0m\")\n",
    "println(\"Solusi numerik tanpa pivoting: \", x_non)\n",
    "println(\"Solusi numerik dengan pivoting: \", x_pivot)\n",
    "\n",
    "println(\"\\n\\e[1m(b)\\e[0m\")\n",
    "println(\"Galat absolut tanpa pivoting: \", err_non)\n",
    "println(\"Galat absolut dengan pivoting: \", err_pivot)\n",
    "\n",
    "println(\"\\n\\e[1m(c)\\e[0m\")\n",
    "println(\"Kondisi matriks A kasus 1: \", kondisi_A)"
   ]
  },
  {
   "cell_type": "code",
   "execution_count": 313,
   "id": "0abb206b-3181-46a0-9dc3-49006ad299cf",
   "metadata": {},
   "outputs": [
    {
     "name": "stdout",
     "output_type": "stream",
     "text": [
      "\u001b[1mKasus 2: \u001b[0m\n",
      "\u001b[1m(a)\u001b[0m\n",
      "Solusi numerik tanpa pivoting: [1.0; -0.0;;]\n",
      "Solusi numerik dengan pivoting: [1.0; -0.0;;]\n",
      "\n",
      "\u001b[1m(b)\u001b[0m\n",
      "Galat absolut tanpa pivoting: 0.0\n",
      "Galat absolut dengan pivoting: 0.0\n",
      "\n",
      "\u001b[1m(c)\u001b[0m\n",
      "Kondisi matriks A kasus 2: 20.05012499921875\n"
     ]
    }
   ],
   "source": [
    "# Kasus 2\n",
    "A72 = [1 11/10; 1 9/10]\n",
    "b72 = [1; 1]\n",
    "x_non = elimGaussNonPivoting(A72, b72)\n",
    "x_pivot = elimGaussWithPivoting(A72, b72)\n",
    "err_non = norm(x_non - [1, 0])\n",
    "err_pivot = norm(x_pivot - [1, 0])\n",
    "kondisi_A = cond(A72, 2)\n",
    "\n",
    "println(\"\\e[1mKasus 2: \\e[0m\")\n",
    "println(\"\\e[1m(a)\\e[0m\")\n",
    "println(\"Solusi numerik tanpa pivoting: \", x_non)\n",
    "println(\"Solusi numerik dengan pivoting: \", x_pivot)\n",
    "\n",
    "println(\"\\n\\e[1m(b)\\e[0m\")\n",
    "println(\"Galat absolut tanpa pivoting: \", err_non)\n",
    "println(\"Galat absolut dengan pivoting: \", err_pivot)\n",
    "\n",
    "println(\"\\n\\e[1m(c)\\e[0m\")\n",
    "println(\"Kondisi matriks A kasus 2: \", kondisi_A)"
   ]
  },
  {
   "cell_type": "code",
   "execution_count": 314,
   "id": "34c3bb39-c785-466e-af57-d61715033263",
   "metadata": {},
   "outputs": [
    {
     "name": "stdout",
     "output_type": "stream",
     "text": [
      "\u001b[1mKasus 3: \u001b[0m\n",
      "\u001b[1m(a)\u001b[0m\n",
      "Solusi numerik tanpa pivoting: [1.0; -0.0;;]\n",
      "Solusi numerik dengan pivoting: [1.0; -0.0;;]\n",
      "\n",
      "\u001b[1m(b)\u001b[0m\n",
      "Galat absolut tanpa pivoting: 0.0\n",
      "Galat absolut dengan pivoting: 0.0\n",
      "\n",
      "\u001b[1m(c)\u001b[0m\n",
      "Kondisi matriks A kasus 3: 25.160254774486063\n"
     ]
    }
   ],
   "source": [
    "# Kasus 3\n",
    "A73 = [1 15; 1 5]\n",
    "b73 = [1; 1]\n",
    "x_non = elimGaussNonPivoting(A73, b73)\n",
    "x_pivot = elimGaussWithPivoting(A73, b73)\n",
    "err_non = norm(x_non - [1, 0])\n",
    "err_pivot = norm(x_pivot - [1, 0])\n",
    "kondisi_A = cond(A73, 2)\n",
    "\n",
    "println(\"\\e[1mKasus 3: \\e[0m\")\n",
    "println(\"\\e[1m(a)\\e[0m\")\n",
    "println(\"Solusi numerik tanpa pivoting: \", x_non)\n",
    "println(\"Solusi numerik dengan pivoting: \", x_pivot)\n",
    "\n",
    "println(\"\\n\\e[1m(b)\\e[0m\")\n",
    "println(\"Galat absolut tanpa pivoting: \", err_non)\n",
    "println(\"Galat absolut dengan pivoting: \", err_pivot)\n",
    "\n",
    "println(\"\\n\\e[1m(c)\\e[0m\")\n",
    "println(\"Kondisi matriks A kasus 3: \", kondisi_A)"
   ]
  },
  {
   "cell_type": "code",
   "execution_count": 315,
   "id": "4d3761af-bba5-43ef-adf5-6725e5e7b8a7",
   "metadata": {},
   "outputs": [
    {
     "name": "stdout",
     "output_type": "stream",
     "text": [
      "\u001b[1mKasus 4: \u001b[0m\n",
      "\u001b[1m(a)\u001b[0m\n",
      "Solusi numerik tanpa pivoting: [1.0; -0.0;;]\n",
      "Solusi numerik dengan pivoting: [1.0; -0.0;;]\n",
      "\n",
      "\u001b[1m(b)\u001b[0m\n",
      "Galat absolut tanpa pivoting: 0.0\n",
      "Galat absolut dengan pivoting: 0.0\n",
      "\n",
      "\u001b[1m(c)\u001b[0m\n",
      "Kondisi matriks A kasus 4: 2.0000000070735085e8\n"
     ]
    }
   ],
   "source": [
    "# Kasus 4\n",
    "δ = 1e-8\n",
    "A74 = [1 1+δ; 1 1-δ]\n",
    "b74 = [1; 1]\n",
    "x_non = elimGaussNonPivoting(A74, b74)\n",
    "x_pivot = elimGaussWithPivoting(A74, b74)\n",
    "err_non = norm(x_non - [1, 0])\n",
    "err_pivot = norm(x_pivot - [1, 0])\n",
    "kondisi_A = cond(A74, 2)\n",
    "\n",
    "println(\"\\e[1mKasus 4: \\e[0m\")\n",
    "println(\"\\e[1m(a)\\e[0m\")\n",
    "println(\"Solusi numerik tanpa pivoting: \", x_non)\n",
    "println(\"Solusi numerik dengan pivoting: \", x_pivot)\n",
    "\n",
    "println(\"\\n\\e[1m(b)\\e[0m\")\n",
    "println(\"Galat absolut tanpa pivoting: \", err_non)\n",
    "println(\"Galat absolut dengan pivoting: \", err_pivot)\n",
    "\n",
    "println(\"\\n\\e[1m(c)\\e[0m\")\n",
    "println(\"Kondisi matriks A kasus 4: \", kondisi_A)"
   ]
  },
  {
   "cell_type": "markdown",
   "id": "51ce9746-60fe-42d0-9148-95778c4af46e",
   "metadata": {},
   "source": [
    "__Penjelasan  :__\n",
    "\n",
    "Kondisi matriks merupakan sebuah ukuran yang menggambarkan seberapa baik sebuah matriks mempertahankan stabilitas numerik dalam proses solusi numerik dari sebuah sistem persamaan linear (SPL). Semakin besar kondisi matriks, berpotensi membuat galat absolut semakin besar juga. Kondisi matriks yang tinggi menunjukkan bahwa matriks tersebut memiliki singularitas yang mendekati atau mencapai nilai tak hingga, sehingga solusi numerik menjadi lebih sensitif terhadap gangguan pada vektor hasilnya. Hal ini dapat menyebabkan peningkatan galat numerik yang signifikan. Dengan demikian, kondisi matriks memberikan indikasi tentang seberapa baik kondisi sistem persamaan linear tersebut dari segi numerik dan petunjuk tentang seberapa akurat solusi numerik yang diharapkan dan seberapa besar galat numerik yang mungkin timbul.\n",
    "\n",
    "Dalam soal nomor 7 ini, matriks A pada kasus 4 memiliki nilai kondisi matriks yang paling besar $(2.0000000070735085×10^8)$. Itu artinya matriks ini memiliki potensi galat absolut yang lebih besar dari matriks lainnya."
   ]
  },
  {
   "cell_type": "markdown",
   "id": "fd8f7b51-9442-4b1a-9dad-bc710cf26081",
   "metadata": {},
   "source": [
    "<hr style=\"border:2px solid black\"> </hr>"
   ]
  }
 ],
 "metadata": {
  "kernelspec": {
   "display_name": "Julia 1.10.1",
   "language": "julia",
   "name": "julia-1.10"
  },
  "language_info": {
   "file_extension": ".jl",
   "mimetype": "application/julia",
   "name": "julia",
   "version": "1.10.1"
  }
 },
 "nbformat": 4,
 "nbformat_minor": 5
}
