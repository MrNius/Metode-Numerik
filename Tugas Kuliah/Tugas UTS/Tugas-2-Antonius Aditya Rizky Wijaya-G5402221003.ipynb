{
 "cells": [
  {
   "cell_type": "markdown",
   "id": "9eda90ad-8343-4cc3-96ec-ab26e26d82f4",
   "metadata": {},
   "source": [
    "# TUGAS 2 METODE NUMERIK KULIAH\n",
    "### Computer Problems\n",
    "### From book Scientific Computing, Michael T. Heath, 2nd Ed. 2004, pages 101 - 103\n",
    "```Nama: Antonius Aditya Rizky Wijaya```\n",
    "\n",
    "```NIM: G54022221003```"
   ]
  },
  {
   "cell_type": "markdown",
   "id": "c4c31086-b541-4505-bd58-7e40616963b8",
   "metadata": {},
   "source": [
    "<hr style=\"border:2px solid black\"> </hr>"
   ]
  },
  {
   "cell_type": "markdown",
   "id": "98d6cb57-d1b2-419d-b320-8c934c06e641",
   "metadata": {},
   "source": [
    "#### __2.5__\n",
    "__(a)__ Use a single-precision routine for Gaussian elimination to solve the system __Ax = b__, where\n",
    "\n",
    "$$ A = \\left[ \\begin{array}{}\n",
    "\t0.0  &  67.0  &  88.0  &  73.0 \\\\\n",
    "\t76.0  &  63.0  &  7.0  &  20.0 \\\\\n",
    "\t21.0  &  85.0  &  56.0  &  54.0 \\\\\n",
    "    19.3  &  43.0  &  30.2  &  29.4 \\\\\n",
    "\t\\end{array}\\right]$$\n",
    " \n",
    "$$ b = \\left[ \\begin{array}{}\n",
    "\t141.0  \\\\\n",
    "\t109.0 \\\\\n",
    "\t218.0 \\\\\n",
    "    93.7 \\\\\n",
    "\t\\end{array}\\right]$$\n",
    "\n",
    "__(b)__ Compute the residual __r = b - A__ using double-precision arithmetic, if available (but storing the final result in a single-precision vector __r__). Note that the solution routine may destroy the array containing __A__, so you may need to save aseparate copy for computing the residual. (If only one precision is available in the computing environment you use, then do all of this problem in that precision.)\n",
    "\n",
    "__(c)__ Solve the linear system __Az = r__ to obtain the \"improved\" solution __x + z__. Note that __A__ need not be refactored. \n",
    "\n",
    "__(d)__ Repeat steps _b_ and _c_ until no further improvement is observed. "
   ]
  },
  {
   "cell_type": "code",
   "execution_count": null,
   "id": "a196d384-7e7c-40f1-8066-093f266816ba",
   "metadata": {},
   "outputs": [],
   "source": [
    "using Pkg\n",
    "Pkg.add(\"LinearAlgebra\")"
   ]
  },
  {
   "cell_type": "code",
   "execution_count": 13,
   "id": "86e8a901-b048-4a4c-9517-c794244c045c",
   "metadata": {},
   "outputs": [
    {
     "name": "stdout",
     "output_type": "stream",
     "text": [
      "\u001b[1m(a) Solusi awal x = \u001b[0mFloat32[-1.0000235, 4.860009, 4.126212, -7.5031133]\n"
     ]
    }
   ],
   "source": [
    "# (a)\n",
    "\n",
    "using LinearAlgebra\n",
    "function eliminasi_Gauss(A::Array{Float32,2}, b::Array{Float32,1})\n",
    "    n = size(A, 1)\n",
    "    Ab = hcat(A, b)\n",
    "    for i = 1 : n - 1\n",
    "        maks_val, maks_index = findmax(abs.(Ab[i : end, i]))\n",
    "        maks_index += i - 1\n",
    "        if maks_val == 0\n",
    "            error(\"Matrix is singular.\")\n",
    "        end\n",
    "        Ab[i, :], Ab[maks_index, :] = Ab[maks_index, :], Ab[i, :]\n",
    "        \n",
    "        for j = i + 1 : n\n",
    "            faktor = Ab[j, i] / Ab[i, i]\n",
    "            Ab[j, i : end] .-= faktor * Ab[i, i : end]\n",
    "        end\n",
    "    end\n",
    "    x = zeros(Float32, n)\n",
    "    for i = n : -1 : 1\n",
    "        x[i] = (Ab[i, end] - dot(Ab[i, i + 1 : end - 1], x[i + 1 : end])) / Ab[i, i]\n",
    "    end\n",
    "    return x\n",
    "end;\n",
    "\n",
    "A = [0.0f0 67.0f0 88.0f0 73.0f0;\n",
    "     76.0f0 63.0f0 7.0f0 20.0f0;\n",
    "     21.0f0 85.0f0 56.0f0 54.0f0;\n",
    "     19.3f0 43.0f0 30.2f0 29.4f0]\n",
    "\n",
    "b = [141.0f0, 109.0f0, 218.0f0, 93.7f0]\n",
    "\n",
    "x = eliminasi_Gauss(A, b)\n",
    "println(\"\\e[1m(a) Solusi awal x = \\e[0m\", x)"
   ]
  },
  {
   "cell_type": "code",
   "execution_count": 14,
   "id": "ec5b7aac-4fdf-46af-a325-4e51580f860d",
   "metadata": {},
   "outputs": [
    {
     "name": "stdout",
     "output_type": "stream",
     "text": [
      "\u001b[1m(b) Residual awal r = \u001b[0mFloat32[0.0, 1.5258789f-5, -3.0517578f-5, -1.5258789f-5]\n"
     ]
    }
   ],
   "source": [
    "# (b)\n",
    "\n",
    "function hitung_residual(A::Matrix{Float32}, b::Vector{Float32}, x::Vector{Float32})\n",
    "    Ax = A * x\n",
    "    return b - Ax\n",
    "end;\n",
    "\n",
    "salinan_A = copy(A)\n",
    "r = hitung_residual(salinan_A, b, x)\n",
    "println(\"\\e[1m(b) Residual awal r = \\e[0m\", r)"
   ]
  },
  {
   "cell_type": "code",
   "execution_count": 15,
   "id": "ff457531-f9a5-4c92-b48d-235244d79cc3",
   "metadata": {},
   "outputs": [
    {
     "name": "stdout",
     "output_type": "stream",
     "text": [
      "\u001b[1m(c) dan (d)\u001b[0m\n",
      "\n",
      "\u001b[1mIterasi ke 1 :\u001b[0m\n",
      " Solusi x = Float32[-0.99990135, 4.8602085, 4.127273, -7.5045753]\n",
      " Residual r = Float32[0.0, -4.5776367f-5, 0.0, -3.0517578f-5]\n",
      "\n",
      "\u001b[1mIterasi ke 2 :\u001b[0m\n",
      " Solusi x = Float32[-0.9996877, 4.8605647, 4.1291547, -7.5071707]\n",
      " Residual r = Float32[0.0, 1.5258789f-5, 0.0, 1.5258789f-5]\n",
      "\n",
      "\u001b[1mIterasi ke 3 :\u001b[0m\n",
      " Solusi x = Float32[-0.9998098, 4.8603616, 4.1280813, -7.5056906]\n",
      " Residual r = Float32[0.0, -1.5258789f-5, 3.0517578f-5, 1.5258789f-5]\n",
      "\n",
      "\u001b[1mIterasi ke 4 :\u001b[0m\n",
      " Solusi x = Float32[-0.99993193, 4.8601623, 4.1270204, -7.5042286]\n",
      " Residual r = Float32[6.1035156f-5, 3.0517578f-5, -6.1035156f-5, 0.0]\n",
      "\n",
      "\u001b[1mIterasi ke 5 :\u001b[0m\n",
      " Solusi x = Float32[-0.9998709, 4.860254, 4.1275296, -7.5049257]\n",
      " Residual r = Float32[-6.1035156f-5, 0.0, 0.0, -1.5258789f-5]\n",
      "\n",
      "\u001b[1mIterasi ke 6 :\u001b[0m\n",
      " Solusi x = Float32[-0.9998404, 4.8603077, 4.1278043, -7.505307]\n",
      " Residual r = Float32[6.1035156f-5, 0.0, 3.0517578f-5, 3.0517578f-5]\n",
      "\n",
      "\u001b[1mIterasi ke 7 :\u001b[0m\n",
      " Solusi x = Float32[-0.9999625, 4.8601046, 4.1267333, -7.503829]\n",
      " Residual r = Float32[0.0, 1.5258789f-5, 3.0517578f-5, 0.0]\n",
      "\n",
      "\u001b[1mIterasi ke 8 :\u001b[0m\n",
      " Solusi x = Float32[-0.99987096, 4.860258, 4.12754, -7.504943]\n",
      " Residual r = Float32[0.0, 1.5258789f-5, 0.0, -1.5258789f-5]\n",
      "\n",
      "\u001b[1mIterasi ke 9 :\u001b[0m\n",
      " Solusi x = Float32[-0.9996878, 4.860561, 4.129143, -7.5071535]\n",
      " Residual r = Float32[0.0, 0.0, 6.1035156f-5, 3.0517578f-5]\n",
      "\n",
      "\u001b[1mIterasi ke 10 :\u001b[0m\n",
      " Solusi x = Float32[-0.99987096, 4.8602624, 4.127551, -7.50496]\n",
      " Residual r = Float32[0.0, 1.5258789f-5, -3.0517578f-5, 0.0]\n",
      "\n"
     ]
    }
   ],
   "source": [
    "# (c) dan (d)\n",
    "\n",
    "function solusi_improved(A::Matrix{Float32}, r::Vector{Float32})\n",
    "    z = A \\ r\n",
    "    return z\n",
    "end;\n",
    "\n",
    "iter = 1\n",
    "println(\"\\e[1m(c) dan (d)\\e[0m\\n\")\n",
    "while norm(r) > 1e-6 && iter <= 10\n",
    "    z = solusi_improved(salinan_A, r)\n",
    "    x += z\n",
    "    r = hitung_residual(salinan_A, b, x)\n",
    "    println(\"\\e[1mIterasi ke \", iter, \" :\\e[0m\\n Solusi x = \", x, \"\\n Residual r = \", r)\n",
    "    println()\n",
    "    iter += 1\n",
    "end"
   ]
  },
  {
   "cell_type": "markdown",
   "id": "89928720-b0fa-451a-8d9f-e8a89159ec10",
   "metadata": {},
   "source": [
    "<hr style=\"border:2px solid black\"> </hr>"
   ]
  },
  {
   "cell_type": "markdown",
   "id": "10bec00d-045f-4204-979d-3856a2dd7d02",
   "metadata": {},
   "source": [
    "#### __2.11__\n",
    "\n",
    "__(a)__ Write programs implementing Gaussian elimination with no pivoting, partial pivoting, and complete pivoting.\n",
    "\n",
    "__(b)__ Generate several linear systems with random matrices (i.e ., use a random number generator to obtain the matrix entries) and right-hand sides chosen so that the solutions are known, and compare the accuracy, residuals, and performance of the three implementations.\n",
    "\n",
    "__(c)__ Can you devise a (nonrandom) matrix for which complete pivoting is significantly more accurate than partial pivoting?"
   ]
  },
  {
   "cell_type": "code",
   "execution_count": 33,
   "id": "26584967-4812-4e19-8b99-5399f4c7a396",
   "metadata": {},
   "outputs": [],
   "source": [
    "# (a)\n",
    "\n",
    "using LinearAlgebra\n",
    "\n",
    "# Eliminasi Gauss tanpa pivoting\n",
    "function no_pivot_GaussE(A, b)\n",
    "    n = size(A, 1)\n",
    "    for j in 1 : n - 1\n",
    "        for i in j + 1 : n\n",
    "            faktor = A[i, j] / A[j, j]\n",
    "            A[i, j + 1 : end] -= faktor * A[j, j + 1 : end]\n",
    "            b[i] -= faktor * b[j]\n",
    "        end\n",
    "    end\n",
    "    \n",
    "    x = zeros(n)\n",
    "    x[n] = b[n] / A[n, n]\n",
    "    for i in n - 1 : -1 : 1\n",
    "        x[i] = (b[i] - dot(A[i, i + 1 : end], x[i + 1 : end])) / A[i, i]\n",
    "    end\n",
    "    return x\n",
    "end;\n",
    "\n",
    "# Eliminasi Gauss dengan partial pivoting\n",
    "function partial_GaussE(A, b)\n",
    "    n = size(A, 1)\n",
    "    for j in 1 : n - 1\n",
    "        pivot_brs = argmax(abs.(A[j : n, j])) + j - 1\n",
    "        if pivot_brs != j\n",
    "            A[[j, pivot_brs], :] = A[[pivot_brs, j], :]\n",
    "            b[j], b[pivot_brs] = b[pivot_brs], b[j]\n",
    "        end\n",
    "        for i in j + 1 : n\n",
    "            faktor = A[i, j] / A[j, j]\n",
    "            A[i, j + 1 : end] -= faktor * A[j, j + 1 : end]\n",
    "            b[i] -= faktor * b[j]\n",
    "        end\n",
    "    end\n",
    "    \n",
    "    x = zeros(n)\n",
    "    x[n] = b[n] / A[n, n]\n",
    "    for i in n - 1 : -1 : 1\n",
    "        x[i] = (b[i] - dot(A[i, i + 1 : end], x[i + 1 : end])) / A[i, i]\n",
    "    end\n",
    "    return x\n",
    "end;\n",
    "\n",
    "# Eliminasi Gauss dengan complete pivoting\n",
    "function complete_GaussE(A, b)\n",
    "    n = size(A, 1)\n",
    "    p = collect(1 : n)\n",
    "    \n",
    "    for k in 1 : n - 1\n",
    "        maks_val = -Inf\n",
    "        maks_index = (0, 0)\n",
    "        for i in k : n\n",
    "            for j in k : n\n",
    "                if abs(A[p[i], p[j]]) > maks_val\n",
    "                    maks_val = abs(A[p[i], p[j]])\n",
    "                    maks_index = (i, j)\n",
    "                end\n",
    "            end\n",
    "        end\n",
    "        \n",
    "        p[[k, maks_index[1]]] = p[[maks_index[1], k]]\n",
    "        A[:, [k, maks_index[2]]] = A[:, [maks_index[2], k]]\n",
    "        b[[k, maks_index[2]]] = b[[maks_index[2], k]]\n",
    "    \n",
    "        for i in k + 1 : n\n",
    "            faktor = A[p[i], k] / A[p[k], k]\n",
    "            for j in k + 1 : n\n",
    "                A[p[i], j] -= faktor * A[p[k], j]\n",
    "            end\n",
    "            b[p[i]] -= faktor * b[p[k]]\n",
    "        end\n",
    "    end\n",
    "    \n",
    "    x = zeros(n)\n",
    "    x[n] = b[p[n]] / A[p[n], n]\n",
    "    for i in n - 1 : -1 : 1\n",
    "        x[i] = (b[p[i]] - dot(A[p[i], i + 1 : end], x[i + 1 : end])) / A[p[i], i]\n",
    "    end\n",
    "    return x\n",
    "end;"
   ]
  },
  {
   "cell_type": "code",
   "execution_count": 34,
   "id": "a403bf9f-bf4c-442e-aee2-18f432b576f5",
   "metadata": {},
   "outputs": [],
   "source": [
    "# (b)\n",
    "\n",
    "function matriks_random(n)\n",
    "    return randn(n, n)\n",
    "end;\n",
    "\n",
    "function vektor_kanan(A)\n",
    "    n = size(A, 1)\n",
    "    x_asli = randn(n)\n",
    "    b = A * x_asli\n",
    "    return b, x_asli\n",
    "end;\n",
    "\n",
    "function test_GaussE(n)\n",
    "    A = matriks_random(n)\n",
    "    b, x_asli = vektor_kanan(A)\n",
    "    \n",
    "    x_tanpa_pivot = no_pivot_GaussE(copy(A), copy(b))\n",
    "    residual_tanpa_pivot = norm(A * x_tanpa_pivot - b)\n",
    "    akurasi_tanpa_pivot = norm(x_tanpa_pivot - x_asli)\n",
    "    \n",
    "    x_partial_pivot = partial_GaussE(copy(A), copy(b))\n",
    "    residual_partial_pivot = norm(A * x_partial_pivot - b)\n",
    "    akurasi_partial_pivot = norm(x_partial_pivot - x_asli)\n",
    "    \n",
    "    x_complete_pivot = complete_GaussE(copy(A), copy(b))\n",
    "    residual_complete_pivot = norm(A * x_complete_pivot - b)\n",
    "    akurasi_complete_pivot = norm(x_complete_pivot - x_asli)\n",
    "    \n",
    "    println(\"\\e[1mEliminasi Gauss Tanpa Pivoting:\\e[0m\")\n",
    "    println(\"> Residual: \", residual_tanpa_pivot)\n",
    "    println(\"> Akurasi: \", akurasi_tanpa_pivot)    \n",
    "    println(\"\\n\\e[1mEliminasi Gauss dengan Partial Pivoting:\\e[0m\")\n",
    "    println(\"> Residual: \", residual_partial_pivot)\n",
    "    println(\"> Akurasi: \", akurasi_partial_pivot)    \n",
    "    println(\"\\n\\e[1mEliminasi Gauss dengan Complete Pivoting:\\e[0m\")\n",
    "    println(\"> Residual: \", residual_complete_pivot)\n",
    "    println(\"> Akurasi: \", akurasi_complete_pivot)\n",
    "    println(\"\\n\\e[1mMatriks yang digunakan :\\e[0m\")\n",
    "    A\n",
    "end;"
   ]
  },
  {
   "cell_type": "code",
   "execution_count": 29,
   "id": "8d0c4c88-45aa-4958-96ae-c6609ab3f70a",
   "metadata": {},
   "outputs": [
    {
     "name": "stdout",
     "output_type": "stream",
     "text": [
      "\u001b[1mEliminasi Gauss Tanpa Pivoting:\u001b[0m\n",
      "> Residual: 2.220446049250313e-16\n",
      "> Akurasi: 1.1004656964352382e-15\n",
      "\n",
      "\u001b[1mEliminasi Gauss dengan Partial Pivoting:\u001b[0m\n",
      "> Residual: 2.482534153247273e-16\n",
      "> Akurasi: 1.39663232372568e-15\n",
      "\n",
      "\u001b[1mEliminasi Gauss dengan Complete Pivoting:\u001b[0m\n",
      "> Residual: 2.2828843243351793\n",
      "> Akurasi: 2.566003262456592\n",
      "\n",
      "\u001b[1mMatriks yang digunakan :\u001b[0m\n"
     ]
    },
    {
     "data": {
      "text/plain": [
       "3×3 Matrix{Float64}:\n",
       " -0.557825  -0.250394  -0.664579\n",
       "  1.1804     0.817297   1.06815\n",
       " -0.305651  -0.195168  -0.972825"
      ]
     },
     "execution_count": 29,
     "metadata": {},
     "output_type": "execute_result"
    }
   ],
   "source": [
    "# Menguji jawaban (b) dengan matriks segi random 3x3\n",
    "test_GaussE(3)"
   ]
  },
  {
   "cell_type": "code",
   "execution_count": 39,
   "id": "70751a15-ec6c-4452-9af0-4e7523a45dbf",
   "metadata": {},
   "outputs": [
    {
     "name": "stdout",
     "output_type": "stream",
     "text": [
      "\u001b[1mEliminasi Gauss Tanpa Pivoting:\u001b[0m\n",
      "> Residual: 4.965068306494546e-16\n",
      "> Akurasi: 1.594436429147036e-16\n",
      "\n",
      "\u001b[1mEliminasi Gauss dengan Partial Pivoting:\u001b[0m\n",
      "> Residual: 3.1401849173675503e-16\n",
      "> Akurasi: 3.2487068343022356e-16\n",
      "\n",
      "\u001b[1mEliminasi Gauss dengan Complete Pivoting:\u001b[0m\n",
      "> Residual: 6.359836333590156\n",
      "> Akurasi: 11.23722619089731\n",
      "\n",
      "\u001b[1mMatriks yang digunakan :\u001b[0m\n"
     ]
    },
    {
     "data": {
      "text/plain": [
       "4×4 Matrix{Float64}:\n",
       "  1.83156     0.163057  -0.0353536   -0.403359\n",
       " -0.0688858   3.41653   -0.574144    -0.469361\n",
       "  1.71076    -0.838423   0.00422502  -0.553066\n",
       " -1.56168     1.06081    0.0807771   -0.31372"
      ]
     },
     "execution_count": 39,
     "metadata": {},
     "output_type": "execute_result"
    }
   ],
   "source": [
    "# Menguji jawaban (b) dengan matriks segi random 4x4\n",
    "test_GaussE(4)"
   ]
  },
  {
   "cell_type": "markdown",
   "id": "caef3f41-58e0-4d5b-97ae-06906f0c7802",
   "metadata": {},
   "source": [
    "__# (c)__\n",
    "\n",
    "Untuk menjawab soal bagian (c), perlu menggunakan matriks yang menunjukkan perbedaan signifikan antara metode _complete pivoting_ dan metode _partial pivoting_, salah satunya adalah __matriks Hilbert__. Matriks Hilbert yang digunakan yaitu :\n",
    "\n",
    "$$ H = \\left[ \\begin{array}{}\n",
    "\t1  &  1/2  &  1/3 \\\\\n",
    "\t1/2  &  1/3  &  1/4  \\\\\n",
    "\t1/3  &  1/4  &  1/5  \\\\\n",
    "\t\\end{array}\\right]$$"
   ]
  },
  {
   "cell_type": "code",
   "execution_count": 40,
   "id": "89dbf078-682a-468e-8915-a41b3c0b77b2",
   "metadata": {},
   "outputs": [
    {
     "name": "stdout",
     "output_type": "stream",
     "text": [
      "\u001b[1mMatriks Hilbert yang digunakan :\u001b[0m\n",
      "A_H = [1.0 0.5 0.3333333333333333; 0.5 0.3333333333333333 0.25; 0.3333333333333333 0.25 0.2]\n",
      "\n",
      "\u001b[1mEliminasi Gauss dengan Partial Pivoting :\u001b[0m\n",
      "> Residual: 6.206335383118183e-17\n",
      "> Akurasi: 1.5305885091534674e-15\n",
      "\n",
      "\u001b[1mEliminasi Gauss dengan Complete Pivoting :\u001b[0m\n",
      "> Residual: 0.4227443052405604\n",
      "> Akurasi: 1.2547896583892806\n"
     ]
    }
   ],
   "source": [
    "function matriks_Hilbert(n)\n",
    "    H = [1 / (i + j - 1) for i in 1:n, j in 1:n]\n",
    "    return H\n",
    "end\n",
    "\n",
    "A_H = matriks_Hilbert(3)\n",
    "b_H, x_asli_H = vektor_kanan(A_H)\n",
    "\n",
    "println(\"\\e[1mMatriks Hilbert yang digunakan :\\e[0m\")\n",
    "@show A_H\n",
    "\n",
    "x_H_partial = partial_GaussE(copy(A_H), copy(b_H))\n",
    "residual_partial_H = norm(A_H * x_H_partial - b_H)\n",
    "akurasi_partial_H = norm(x_H_partial - x_asli_H)\n",
    "println(\"\\n\\e[1mEliminasi Gauss dengan Partial Pivoting :\\e[0m\")\n",
    "println(\"> Residual: \", residual_partial_H)\n",
    "println(\"> Akurasi: \", akurasi_partial_H)\n",
    "\n",
    "x_H_complete = complete_GaussE(copy(A_H), copy(b_H))\n",
    "residual_complete_H = norm(A_H * x_H_complete - b_H)\n",
    "akurasi_complete_H = norm(x_H_complete - x_asli_H)\n",
    "println(\"\\n\\e[1mEliminasi Gauss dengan Complete Pivoting :\\e[0m\")\n",
    "println(\"> Residual: \", residual_complete_H)\n",
    "println(\"> Akurasi: \", akurasi_complete_H)"
   ]
  },
  {
   "cell_type": "markdown",
   "id": "43ab4bb8-a226-40ac-a626-28fe4645f7a7",
   "metadata": {},
   "source": [
    "__Penjelasan :__\n",
    "Jika dibandingkan, nilai residual dari _complete pivoting_ cenderung lebih kecil dari _partial pivoting_. Itu artinya, perbedaan nilai asli dengan nilai hitungan tidak berbeda jauh. Sehingga Eliminasi Gauss dengan _complete pivoting_ lebih akurat dari Eliminasi Gauss dengan _partial pivoting_."
   ]
  },
  {
   "cell_type": "markdown",
   "id": "7570e165-6d6f-409c-8b8e-3d8fb097e1d1",
   "metadata": {},
   "source": [
    "<hr style=\"border:2px solid black\"> </hr>"
   ]
  },
  {
   "cell_type": "markdown",
   "id": "9ddde7ac-ca17-4d45-90b5-77bddba69f48",
   "metadata": {},
   "source": [
    "#### __2.13__\n",
    "\n",
    "The determinant of a triangular matrix is equal to the product of it's diagonal entries. Use this fact to develop a routine for computing the determinant of an arbitrary $n x n$ matrix __A__ by using it's LU factorization. You may use a library routine for Gaussian elimination with partial pivoting to obtain the LU factorization, or you may design your own routine. How can you determine the proper sign for the determinant? To avoid risk of overflow or underflow, you may wish to consider computing the logarithm of the determinant instead of the actual value of the determinant. "
   ]
  },
  {
   "cell_type": "code",
   "execution_count": 44,
   "id": "67ecbb3b-5d93-4a59-98cb-4d8b2ad6c396",
   "metadata": {},
   "outputs": [],
   "source": [
    "using LinearAlgebra\n",
    "function faktorisasi_LU(A)\n",
    "    n = size(A, 1)\n",
    "    L = Matrix{Float64}(I, n, n)\n",
    "    U = copy(A)\n",
    "    for j in 1 : n - 1\n",
    "        pivot_brs = argmax(abs.(U[j : end, j])) + j - 1\n",
    "        if pivot_brs != j\n",
    "            U[[j, pivot_brs], :] = U[[pivot_brs, j], :]\n",
    "            L[[j, pivot_brs], 1 : j - 1] = L[[pivot_brs, j], 1 : j - 1]\n",
    "        end\n",
    "        for i in j + 1 : n\n",
    "            faktor = U[i, j] / U[j, j]\n",
    "            L[i, j] = faktor\n",
    "            U[i, j : end] -= faktor * U[j, j : end]\n",
    "        end\n",
    "    end\n",
    "    return L, U\n",
    "end;\n",
    "\n",
    "function hitung_det(A)\n",
    "    L, U = faktorisasi_LU(A)\n",
    "    tanda_det = (-1)^count(diag(L) .!= 1)\n",
    "    log_det = sum(log.(abs.(diag(U))))\n",
    "    return tanda_det * exp(log_det)\n",
    "end;"
   ]
  },
  {
   "cell_type": "code",
   "execution_count": 45,
   "id": "794bd4f6-685e-4b26-b450-edd2c8f74318",
   "metadata": {},
   "outputs": [
    {
     "name": "stdout",
     "output_type": "stream",
     "text": [
      "\u001b[1mMatriks :\u001b[0m\n",
      "[0.0 67.0 88.0 73.0; 76.0 63.0 7.0 20.0; 21.0 85.0 56.0 54.0; 19.3 43.0 30.2 29.4]\n",
      "\u001b[1mDeterminan = \u001b[0m1461.8999999991681\n"
     ]
    }
   ],
   "source": [
    "# Contoh matriks (menggunakan matriks A yang sama dengan nomor 2.5)\n",
    "A = [0.0 67.0 88.0 73.0;\n",
    "     76.0 63.0 7.0 20.0;\n",
    "     21.0 85.0 56.0 54.0;\n",
    "     19.3 43.0 30.2 29.4]\n",
    "\n",
    "determinan = hitung_det(A)\n",
    "println(\"\\e[1mMatriks :\\e[0m\\n\", A, \"\\n\\e[1mDeterminan = \\e[0m\", determinan)"
   ]
  },
  {
   "cell_type": "markdown",
   "id": "92638d65-d717-41c9-a9d1-bac884031998",
   "metadata": {},
   "source": [
    "<hr style=\"border:2px solid black\"> </hr>"
   ]
  }
 ],
 "metadata": {
  "kernelspec": {
   "display_name": "Julia 1.6.7",
   "language": "julia",
   "name": "julia-1.6"
  },
  "language_info": {
   "file_extension": ".jl",
   "mimetype": "application/julia",
   "name": "julia",
   "version": "1.6.7"
  }
 },
 "nbformat": 4,
 "nbformat_minor": 5
}
