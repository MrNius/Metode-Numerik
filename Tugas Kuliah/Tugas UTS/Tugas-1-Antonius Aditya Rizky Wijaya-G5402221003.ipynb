{
 "cells": [
  {
   "cell_type": "markdown",
   "id": "54bd2184-e1d1-4630-9736-eede864c103f",
   "metadata": {},
   "source": [
    "# TUGAS 1 METODE NUMERIK KULIAH\n",
    "### Computer Problems\n",
    "### From book Scientific Computing, Michael T. Heath, 2nd Ed. 2004, pages 45 - 47\n",
    "```Nama: Antonius Aditya Rizky Wijaya```\n",
    "\n",
    "```NIM: G54022221003```"
   ]
  },
  {
   "cell_type": "markdown",
   "id": "c4c31086-b541-4505-bd58-7e40616963b8",
   "metadata": {},
   "source": [
    "<hr style=\"border:2px solid black\"> </hr>"
   ]
  },
  {
   "cell_type": "markdown",
   "id": "df243a43-e69a-4dfb-b9db-deba33bd7538",
   "metadata": {},
   "source": [
    "#### __1.4__\n",
    "Write a program to compute the mathematical constant $e$, the base of natural logarithms, from the definition\n",
    "$$ e =\\lim_{n\\to ∞}⁡ (1 + 1/n)^n $$\n",
    "\n",
    "Specifically, compute $(1 + 1/n)^n$ for $n = 10^k$, $k = 1, 2, ... , 20$. If the programming language you use does not have an operator for exponentiation, you may use the equivalent formula\n",
    "$$ (1 + 1/n)^n = exp(nlog(1 + 1/n)),$$\n",
    "\n",
    "where exp and log are built-in functions. Determine the error in your successive approximations by comparing them with the value of $exp(1)$. Does the error always decrease as n increases? Explain your results. "
   ]
  },
  {
   "cell_type": "code",
   "execution_count": 1,
   "id": "ecc812e2-a0e5-4d9b-820a-f210ceb3ca9e",
   "metadata": {},
   "outputs": [
    {
     "name": "stdout",
     "output_type": "stream",
     "text": [
      "k\tNilai e hitung\tError\n",
      "--------------------------------------\n",
      "1\t2.593742460100\t0.124539368359\n",
      "2\t2.704813829422\t0.013467999038\n",
      "3\t2.716923932236\t0.001357896223\n",
      "4\t2.718145926825\t0.000135901634\n",
      "5\t2.718268237192\t0.000013591267\n",
      "6\t2.718280469096\t0.000001359363\n",
      "7\t2.718281694132\t0.000000134327\n",
      "8\t2.718281798347\t0.000000030112\n",
      "9\t2.718282052012\t0.000000223553\n",
      "10\t2.718282053235\t0.000000224776\n",
      "11\t2.718282053357\t0.000000224898\n",
      "12\t2.718523496037\t0.000241667578\n",
      "13\t2.716110034087\t0.002171794372\n",
      "14\t2.716110034087\t0.002171794372\n",
      "15\t3.035035206549\t0.316753378090\n",
      "16\t1.000000000000\t1.718281828459\n",
      "17\t1.000000000000\t1.718281828459\n",
      "18\t1.000000000000\t1.718281828459\n",
      "19\t1.000000000000\t1.718281828459\n",
      "20\t1.000000000000\t1.718281828459\n"
     ]
    }
   ],
   "source": [
    "using Printf\n",
    "\n",
    "function hitung_e(n)\n",
    "    return exp(n * log(1 + 1/n))\n",
    "end\n",
    "\n",
    "function hitung_error(nilai_e_hitung)\n",
    "    nilai_e_asli = exp(1)\n",
    "    return abs(nilai_e_asli - nilai_e_hitung)\n",
    "end\n",
    "\n",
    "function hasil_tabel()\n",
    "    println(\"k\\tNilai e hitung\\tError\")\n",
    "    println(\"--------------------------------------\")\n",
    "\n",
    "    for k in 1:20\n",
    "        n = 10^k\n",
    "        nilai_e_hitung = hitung_e(n)\n",
    "        error = hitung_error(nilai_e_hitung)\n",
    "        println(\"$k\\t$(@sprintf(\"%.12f\", nilai_e_hitung))\\t$(@sprintf(\"%.12f\", error))\")\n",
    "    end\n",
    "end\n",
    "\n",
    "hasil_tabel()"
   ]
  },
  {
   "cell_type": "markdown",
   "id": "49a83e18-fc60-4a41-b54f-544d90153d6e",
   "metadata": {},
   "source": [
    "__Penjelasan:__\n",
    "\n",
    "Setelah membandingan nilai $e$ hitung dengan nilai $exp(1)$ yang sebenarnya, dapat dilihat pada output bahwa __error semakin mengecil seiring bertambahnya n dengan k dari 1 - 10__. Namun __error malah membesar lagi seiring bertambahnya n dengan k dari 11 - 20__. Setelah dianalisis, hal ini terjadi karena dalam komputasi numerik ada batasan pada jumlah digit yang dapat diwakili oleh tipe data yang digunakan.\n",
    "\n",
    "Ketika k antara 1 - 10, maka $n = 10^k$ akan menghasilkan nilai yang relatif bisa disimpan oleh komputer. Namun, ketika k antara 11 - 20, nilai $n = 10^k$ akan menghasilkan nilai yang sangat besar, sehingga efek pembulatan dan batasan presisi dalam representasi _floating-point_ pada komputer dapat menyebabkan hilangnya digit yang signifikan (kehilangan angka penting). Akibatnya, kesalahan numerik menjadi lebih signifikan dan membuat nilai error meningkat.\n",
    "\n",
    "Selain itu, nilai $e$ hitung saat k > 15 bernilai 1. Asumsi saya, hal ini diakibatkan karena nilai $1/n$ pada $exp(nlog(1 + 1/n))$ saat k > 15 sudah sangat kecil sehingga komputer menganggapnya sebagai 0. Yang pada akhirnya hal ini membuat nilai $e$ hitung menjadi 1. Dengan pernyataan-pernyataan di atas, disimpulkan nilai $e$ yang dihitung dengan pendekatan menjadi __tidak akurat__ karena adanya __efek pembulatan dan batasan presisi dalam representasi floating-point pada komputer__."
   ]
  },
  {
   "cell_type": "markdown",
   "id": "aa8d6b84-d297-4619-95a8-2d2d6a81af56",
   "metadata": {},
   "source": [
    "<hr style=\"border:2px solid black\"> </hr>"
   ]
  },
  {
   "cell_type": "markdown",
   "id": "c6e65029-33fd-4856-a359-236a583cab6a",
   "metadata": {},
   "source": [
    "#### __1.6__\n",
    "Suppose you need to generate $n + 1$ equally spaced points on the interval $[a, b]$, with spacing $h=(b-a)/n$.\n",
    "\n",
    "$(a)$ In floating-point arithmetic, which of the following method, \n",
    "$$x_{0} = a, \\ \\ \\ x_{k} = x_{k-1} + h, \\ \\ \\ k = 1,...,n$$\n",
    "or\n",
    "$$x_{k} = a + kh, \\ \\ \\ k = 0,...,n$$\n",
    "is better, and why?\n",
    "\n",
    "$(b)$ Write program implementing both methods and find an example, say with $a = 0$ and $b = 1,$ that illustrates the difference between them."
   ]
  },
  {
   "cell_type": "markdown",
   "id": "e578a500-4c29-4bec-a0f0-8251173e7228",
   "metadata": {},
   "source": [
    "__Penjelasan:__\n",
    "\n",
    "__# (a)__ Dalam aritmatika floating-point, metode $x_{k} = a + kh$ biasanya lebih baik dibandingkan metode $x_{k} = x_{k-1} + h$. Hal ini dikarenakan dengan metode $x_{k} = a + kh$, setiap $x_{k}$ dihitung secara langsung dengan perkalian tanpa mengakumulasi kesalahan pembulatan dari iterasi sebelumnya. Sedangkan metode $x_{k} = x_{k-1} + h$, menggunakan perhitungan dari iterasi sebelumnya yang mungkin saja mengandung kesalahan pembulatan yang pada akhirnya akan terakumulasi diakhir. Dengan demikian, metode $x_{k} = a + kh$ lebih baik karena dapat mengurangi kesalahan pembulatan yang terakumulasi selama iterasi."
   ]
  },
  {
   "cell_type": "code",
   "execution_count": 2,
   "id": "62b387b0-5d4a-40f4-98bd-24eac2730b80",
   "metadata": {},
   "outputs": [
    {
     "name": "stdout",
     "output_type": "stream",
     "text": [
      "Method 1: (xk = a + kh)\n",
      "[0.0, 0.1, 0.2, 0.30000000000000004, 0.4, 0.5, 0.6, 0.7, 0.7999999999999999, 0.8999999999999999, 0.9999999999999999]\n",
      "\n",
      "Method 2: (xk = xk-1 + h)\n",
      "[0.0, 0.1, 0.2, 0.30000000000000004, 0.4, 0.5, 0.6000000000000001, 0.7000000000000001, 0.8, 0.9, 1.0]\n"
     ]
    }
   ],
   "source": [
    "# (b)\n",
    "\n",
    "function floating_method1(a, b, n)\n",
    "    h = (b - a) / n\n",
    "    xk = [a]\n",
    "    for k in 1:n\n",
    "        push!(xk, xk[end] + h)\n",
    "    end\n",
    "    return xk\n",
    "end\n",
    "\n",
    "function floating_method2(a, b, n)\n",
    "    h = (b - a) / n\n",
    "    xk = [a + k * h for k in 0:n]\n",
    "    return xk\n",
    "end\n",
    "\n",
    "a = 0.0\n",
    "b = 1.0\n",
    "n = 10.0\n",
    "\n",
    "method1 = floating_method1(a, b, n)\n",
    "method2 = floating_method2(a, b, n)\n",
    "println(\"Method 1: (xk = a + kh)\")\n",
    "println(method1)\n",
    "println(\"\\nMethod 2: (xk = xk-1 + h)\")\n",
    "println(method2)"
   ]
  },
  {
   "cell_type": "markdown",
   "id": "0bd58be6-47d4-4e63-9530-139c3f4855ea",
   "metadata": {},
   "source": [
    "Terdapat perbedaan antara hasil dari __Method 1__ dengan __Method 2__. Ketika terjadi kesalahan pembulatan, pada __Method 1__ maka kesalahan pembulatan tersebut akan terus diakumulasikan sampai iterasi selanjutnya. Berbeda halnya dengan __Method 2__ yang akumulasi kesalahan pembulatannya dapat diminimalisir bahkan tidak terakumulasi ke iterasi selanjutnya."
   ]
  },
  {
   "cell_type": "markdown",
   "id": "89928720-b0fa-451a-8d9f-e8a89159ec10",
   "metadata": {},
   "source": [
    "<hr style=\"border:2px solid black\"> </hr>"
   ]
  },
  {
   "cell_type": "markdown",
   "id": "b43e8434-5bae-4724-8f90-5a2c05173caf",
   "metadata": {},
   "source": [
    "#### __1.7__\n",
    "$(a)$ write a program to compute an approximate value for the derivative of a function using the finite-difference formula\n",
    "$$f'(x)\\approx \\frac{f(x+h)-f(x)}{h}$$\n",
    "\n",
    "Test your program using the function $tan(x)$ for $x=1$. Determine the error by comparing with the square of the built-in function $sec(x)$. Plot the magnitude of the error as a function of $h$, for $h=10^{-k},\\ \\ k=0,...,16$. You should use log scale for $h$ and for the magnitude of the error. Is there a minimum value for the magnitude of the error? How does the corresponding value for $h$ compare with the rule of thumb $h \\approx \\sqrt{e_{mach}}$ derived in _Example 1.3_?\n",
    "\n",
    "$(b)$ Repeat the exercise using the centered difference approximation\n",
    "$$f'(x)\\approx \\frac{f(x+h)-f(x-h)}{2h}$$"
   ]
  },
  {
   "cell_type": "code",
   "execution_count": null,
   "id": "b183d542-a30a-4ebb-ab31-1a957232cfe6",
   "metadata": {},
   "outputs": [],
   "source": [
    "using Pkg\n",
    "Pkg.add(\"Plots\")"
   ]
  },
  {
   "cell_type": "code",
   "execution_count": 5,
   "id": "507eb3f8-e29a-4971-9127-8e06c445279e",
   "metadata": {},
   "outputs": [
    {
     "data": {
      "image/svg+xml": [
       "<?xml version=\"1.0\" encoding=\"utf-8\"?>\n",
       "<svg xmlns=\"http://www.w3.org/2000/svg\" xmlns:xlink=\"http://www.w3.org/1999/xlink\" width=\"600\" height=\"400\" viewBox=\"0 0 2400 1600\">\n",
       "<defs>\n",
       "  <clipPath id=\"clip620\">\n",
       "    <rect x=\"0\" y=\"0\" width=\"2400\" height=\"1600\"/>\n",
       "  </clipPath>\n",
       "</defs>\n",
       "<path clip-path=\"url(#clip620)\" d=\"M0 1600 L2400 1600 L2400 0 L0 0  Z\" fill=\"#ffffff\" fill-rule=\"evenodd\" fill-opacity=\"1\"/>\n",
       "<defs>\n",
       "  <clipPath id=\"clip621\">\n",
       "    <rect x=\"480\" y=\"0\" width=\"1681\" height=\"1600\"/>\n",
       "  </clipPath>\n",
       "</defs>\n",
       "<path clip-path=\"url(#clip620)\" d=\"M251.56 1410.9 L2352.76 1410.9 L2352.76 47.2441 L251.56 47.2441  Z\" fill=\"#ffffff\" fill-rule=\"evenodd\" fill-opacity=\"1\"/>\n",
       "<defs>\n",
       "  <clipPath id=\"clip622\">\n",
       "    <rect x=\"251\" y=\"47\" width=\"2102\" height=\"1365\"/>\n",
       "  </clipPath>\n",
       "</defs>\n",
       "<polyline clip-path=\"url(#clip622)\" style=\"stroke:#000000; stroke-linecap:round; stroke-linejoin:round; stroke-width:2; stroke-opacity:0.1; fill:none\" points=\"1054.38,1410.9 1054.38,47.2441 \"/>\n",
       "<polyline clip-path=\"url(#clip622)\" style=\"stroke:#000000; stroke-linecap:round; stroke-linejoin:round; stroke-width:2; stroke-opacity:0.1; fill:none\" points=\"2293.29,1410.9 2293.29,47.2441 \"/>\n",
       "<polyline clip-path=\"url(#clip620)\" style=\"stroke:#000000; stroke-linecap:round; stroke-linejoin:round; stroke-width:4; stroke-opacity:1; fill:none\" points=\"251.56,1410.9 2352.76,1410.9 \"/>\n",
       "<polyline clip-path=\"url(#clip620)\" style=\"stroke:#000000; stroke-linecap:round; stroke-linejoin:round; stroke-width:4; stroke-opacity:1; fill:none\" points=\"1054.38,1410.9 1054.38,1392 \"/>\n",
       "<polyline clip-path=\"url(#clip620)\" style=\"stroke:#000000; stroke-linecap:round; stroke-linejoin:round; stroke-width:4; stroke-opacity:1; fill:none\" points=\"2293.29,1410.9 2293.29,1392 \"/>\n",
       "<path clip-path=\"url(#clip620)\" d=\"M991.739 1485.02 L999.378 1485.02 L999.378 1458.66 L991.068 1460.32 L991.068 1456.06 L999.332 1454.4 L1004.01 1454.4 L1004.01 1485.02 L1011.65 1485.02 L1011.65 1488.96 L991.739 1488.96 L991.739 1485.02 Z\" fill=\"#000000\" fill-rule=\"nonzero\" fill-opacity=\"1\" /><path clip-path=\"url(#clip620)\" d=\"M1031.09 1457.48 Q1027.48 1457.48 1025.65 1461.04 Q1023.85 1464.58 1023.85 1471.71 Q1023.85 1478.82 1025.65 1482.38 Q1027.48 1485.92 1031.09 1485.92 Q1034.73 1485.92 1036.53 1482.38 Q1038.36 1478.82 1038.36 1471.71 Q1038.36 1464.58 1036.53 1461.04 Q1034.73 1457.48 1031.09 1457.48 M1031.09 1453.77 Q1036.9 1453.77 1039.96 1458.38 Q1043.04 1462.96 1043.04 1471.71 Q1043.04 1480.44 1039.96 1485.04 Q1036.9 1489.63 1031.09 1489.63 Q1025.28 1489.63 1022.2 1485.04 Q1019.15 1480.44 1019.15 1471.71 Q1019.15 1462.96 1022.2 1458.38 Q1025.28 1453.77 1031.09 1453.77 Z\" fill=\"#000000\" fill-rule=\"nonzero\" fill-opacity=\"1\" /><path clip-path=\"url(#clip620)\" d=\"M1043.04 1447.87 L1067.15 1447.87 L1067.15 1451.07 L1043.04 1451.07 L1043.04 1447.87 Z\" fill=\"#000000\" fill-rule=\"nonzero\" fill-opacity=\"1\" /><path clip-path=\"url(#clip620)\" d=\"M1076.01 1458.35 L1082.21 1458.35 L1082.21 1436.93 L1075.46 1438.28 L1075.46 1434.82 L1082.17 1433.47 L1085.97 1433.47 L1085.97 1458.35 L1092.18 1458.35 L1092.18 1461.55 L1076.01 1461.55 L1076.01 1458.35 Z\" fill=\"#000000\" fill-rule=\"nonzero\" fill-opacity=\"1\" /><path clip-path=\"url(#clip620)\" d=\"M1107.98 1435.97 Q1105.04 1435.97 1103.56 1438.86 Q1102.09 1441.74 1102.09 1447.53 Q1102.09 1453.31 1103.56 1456.2 Q1105.04 1459.08 1107.98 1459.08 Q1110.93 1459.08 1112.4 1456.2 Q1113.88 1453.31 1113.88 1447.53 Q1113.88 1441.74 1112.4 1438.86 Q1110.93 1435.97 1107.98 1435.97 M1107.98 1432.96 Q1112.7 1432.96 1115.18 1436.7 Q1117.68 1440.43 1117.68 1447.53 Q1117.68 1454.62 1115.18 1458.37 Q1112.7 1462.09 1107.98 1462.09 Q1103.26 1462.09 1100.76 1458.37 Q1098.27 1454.62 1098.27 1447.53 Q1098.27 1440.43 1100.76 1436.7 Q1103.26 1432.96 1107.98 1432.96 Z\" fill=\"#000000\" fill-rule=\"nonzero\" fill-opacity=\"1\" /><path clip-path=\"url(#clip620)\" d=\"M2258.27 1485.02 L2265.91 1485.02 L2265.91 1458.66 L2257.6 1460.32 L2257.6 1456.06 L2265.86 1454.4 L2270.54 1454.4 L2270.54 1485.02 L2278.18 1485.02 L2278.18 1488.96 L2258.27 1488.96 L2258.27 1485.02 Z\" fill=\"#000000\" fill-rule=\"nonzero\" fill-opacity=\"1\" /><path clip-path=\"url(#clip620)\" d=\"M2297.62 1457.48 Q2294.01 1457.48 2292.18 1461.04 Q2290.38 1464.58 2290.38 1471.71 Q2290.38 1478.82 2292.18 1482.38 Q2294.01 1485.92 2297.62 1485.92 Q2301.26 1485.92 2303.06 1482.38 Q2304.89 1478.82 2304.89 1471.71 Q2304.89 1464.58 2303.06 1461.04 Q2301.26 1457.48 2297.62 1457.48 M2297.62 1453.77 Q2303.43 1453.77 2306.49 1458.38 Q2309.57 1462.96 2309.57 1471.71 Q2309.57 1480.44 2306.49 1485.04 Q2303.43 1489.63 2297.62 1489.63 Q2291.81 1489.63 2288.73 1485.04 Q2285.68 1480.44 2285.68 1471.71 Q2285.68 1462.96 2288.73 1458.38 Q2291.81 1453.77 2297.62 1453.77 Z\" fill=\"#000000\" fill-rule=\"nonzero\" fill-opacity=\"1\" /><path clip-path=\"url(#clip620)\" d=\"M2319.27 1435.97 Q2316.34 1435.97 2314.85 1438.86 Q2313.38 1441.74 2313.38 1447.53 Q2313.38 1453.31 2314.85 1456.2 Q2316.34 1459.08 2319.27 1459.08 Q2322.22 1459.08 2323.69 1456.2 Q2325.18 1453.31 2325.18 1447.53 Q2325.18 1441.74 2323.69 1438.86 Q2322.22 1435.97 2319.27 1435.97 M2319.27 1432.96 Q2323.99 1432.96 2326.48 1436.7 Q2328.98 1440.43 2328.98 1447.53 Q2328.98 1454.62 2326.48 1458.37 Q2323.99 1462.09 2319.27 1462.09 Q2314.55 1462.09 2312.05 1458.37 Q2309.57 1454.62 2309.57 1447.53 Q2309.57 1440.43 2312.05 1436.7 Q2314.55 1432.96 2319.27 1432.96 Z\" fill=\"#000000\" fill-rule=\"nonzero\" fill-opacity=\"1\" /><path clip-path=\"url(#clip620)\" d=\"M1317.09 1552.67 L1317.09 1574.19 L1311.23 1574.19 L1311.23 1552.86 Q1311.23 1547.8 1309.26 1545.29 Q1307.28 1542.77 1303.34 1542.77 Q1298.59 1542.77 1295.86 1545.79 Q1293.12 1548.82 1293.12 1554.04 L1293.12 1574.19 L1287.23 1574.19 L1287.23 1524.66 L1293.12 1524.66 L1293.12 1544.08 Q1295.22 1540.86 1298.05 1539.27 Q1300.92 1537.68 1304.64 1537.68 Q1310.78 1537.68 1313.93 1541.5 Q1317.09 1545.29 1317.09 1552.67 Z\" fill=\"#000000\" fill-rule=\"nonzero\" fill-opacity=\"1\" /><polyline clip-path=\"url(#clip622)\" style=\"stroke:#000000; stroke-linecap:round; stroke-linejoin:round; stroke-width:2; stroke-opacity:0.1; fill:none\" points=\"251.56,977.484 2352.76,977.484 \"/>\n",
       "<polyline clip-path=\"url(#clip622)\" style=\"stroke:#000000; stroke-linecap:round; stroke-linejoin:round; stroke-width:2; stroke-opacity:0.1; fill:none\" points=\"251.56,216.096 2352.76,216.096 \"/>\n",
       "<polyline clip-path=\"url(#clip620)\" style=\"stroke:#000000; stroke-linecap:round; stroke-linejoin:round; stroke-width:4; stroke-opacity:1; fill:none\" points=\"251.56,1410.9 251.56,47.2441 \"/>\n",
       "<polyline clip-path=\"url(#clip620)\" style=\"stroke:#000000; stroke-linecap:round; stroke-linejoin:round; stroke-width:4; stroke-opacity:1; fill:none\" points=\"251.56,977.484 270.458,977.484 \"/>\n",
       "<polyline clip-path=\"url(#clip620)\" style=\"stroke:#000000; stroke-linecap:round; stroke-linejoin:round; stroke-width:4; stroke-opacity:1; fill:none\" points=\"251.56,216.096 270.458,216.096 \"/>\n",
       "<path clip-path=\"url(#clip620)\" d=\"M114.931 997.276 L122.57 997.276 L122.57 970.911 L114.26 972.577 L114.26 968.318 L122.524 966.652 L127.2 966.652 L127.2 997.276 L134.839 997.276 L134.839 1001.21 L114.931 1001.21 L114.931 997.276 Z\" fill=\"#000000\" fill-rule=\"nonzero\" fill-opacity=\"1\" /><path clip-path=\"url(#clip620)\" d=\"M154.283 969.73 Q150.672 969.73 148.843 973.295 Q147.038 976.837 147.038 983.966 Q147.038 991.073 148.843 994.637 Q150.672 998.179 154.283 998.179 Q157.917 998.179 159.723 994.637 Q161.552 991.073 161.552 983.966 Q161.552 976.837 159.723 973.295 Q157.917 969.73 154.283 969.73 M154.283 966.027 Q160.093 966.027 163.149 970.633 Q166.227 975.216 166.227 983.966 Q166.227 992.693 163.149 997.3 Q160.093 1001.88 154.283 1001.88 Q148.473 1001.88 145.394 997.3 Q142.339 992.693 142.339 983.966 Q142.339 975.216 145.394 970.633 Q148.473 966.027 154.283 966.027 Z\" fill=\"#000000\" fill-rule=\"nonzero\" fill-opacity=\"1\" /><path clip-path=\"url(#clip620)\" d=\"M166.227 960.128 L190.339 960.128 L190.339 963.325 L166.227 963.325 L166.227 960.128 Z\" fill=\"#000000\" fill-rule=\"nonzero\" fill-opacity=\"1\" /><path clip-path=\"url(#clip620)\" d=\"M198.577 945.721 L213.491 945.721 L213.491 948.918 L202.056 948.918 L202.056 955.802 Q202.884 955.52 203.711 955.388 Q204.539 955.238 205.366 955.238 Q210.068 955.238 212.814 957.815 Q215.56 960.391 215.56 964.792 Q215.56 969.325 212.739 971.845 Q209.918 974.347 204.783 974.347 Q203.015 974.347 201.172 974.046 Q199.348 973.745 197.392 973.143 L197.392 969.325 Q199.085 970.246 200.89 970.698 Q202.696 971.149 204.708 971.149 Q207.962 971.149 209.861 969.438 Q211.761 967.726 211.761 964.792 Q211.761 961.858 209.861 960.147 Q207.962 958.435 204.708 958.435 Q203.185 958.435 201.661 958.774 Q200.157 959.112 198.577 959.827 L198.577 945.721 Z\" fill=\"#000000\" fill-rule=\"nonzero\" fill-opacity=\"1\" /><path clip-path=\"url(#clip620)\" d=\"M144.855 235.888 L152.493 235.888 L152.493 209.523 L144.183 211.189 L144.183 206.93 L152.447 205.263 L157.123 205.263 L157.123 235.888 L164.762 235.888 L164.762 239.823 L144.855 239.823 L144.855 235.888 Z\" fill=\"#000000\" fill-rule=\"nonzero\" fill-opacity=\"1\" /><path clip-path=\"url(#clip620)\" d=\"M184.206 208.342 Q180.595 208.342 178.766 211.907 Q176.961 215.448 176.961 222.578 Q176.961 229.684 178.766 233.249 Q180.595 236.791 184.206 236.791 Q187.84 236.791 189.646 233.249 Q191.475 229.684 191.475 222.578 Q191.475 215.448 189.646 211.907 Q187.84 208.342 184.206 208.342 M184.206 204.638 Q190.016 204.638 193.072 209.245 Q196.151 213.828 196.151 222.578 Q196.151 231.305 193.072 235.911 Q190.016 240.495 184.206 240.495 Q178.396 240.495 175.317 235.911 Q172.262 231.305 172.262 222.578 Q172.262 213.828 175.317 209.245 Q178.396 204.638 184.206 204.638 Z\" fill=\"#000000\" fill-rule=\"nonzero\" fill-opacity=\"1\" /><path clip-path=\"url(#clip620)\" d=\"M205.855 186.834 Q202.921 186.834 201.436 189.731 Q199.969 192.608 199.969 198.401 Q199.969 204.175 201.436 207.072 Q202.921 209.949 205.855 209.949 Q208.808 209.949 210.275 207.072 Q211.761 204.175 211.761 198.401 Q211.761 192.608 210.275 189.731 Q208.808 186.834 205.855 186.834 M205.855 183.825 Q210.576 183.825 213.059 187.568 Q215.56 191.292 215.56 198.401 Q215.56 205.492 213.059 209.234 Q210.576 212.958 205.855 212.958 Q201.135 212.958 198.633 209.234 Q196.151 205.492 196.151 198.401 Q196.151 191.292 198.633 187.568 Q201.135 183.825 205.855 183.825 Z\" fill=\"#000000\" fill-rule=\"nonzero\" fill-opacity=\"1\" /><path clip-path=\"url(#clip620)\" d=\"M16.4842 805.316 L16.4842 775.269 L21.895 775.269 L21.895 798.886 L35.9632 798.886 L35.9632 776.256 L41.3741 776.256 L41.3741 798.886 L58.5933 798.886 L58.5933 774.697 L64.0042 774.697 L64.0042 805.316 L16.4842 805.316 Z\" fill=\"#000000\" fill-rule=\"nonzero\" fill-opacity=\"1\" /><path clip-path=\"url(#clip620)\" d=\"M33.8307 743.727 Q33.2578 744.714 33.0032 745.892 Q32.7167 747.038 32.7167 748.438 Q32.7167 753.403 35.9632 756.077 Q39.1779 758.719 45.2253 758.719 L64.0042 758.719 L64.0042 764.607 L28.3562 764.607 L28.3562 758.719 L33.8944 758.719 Q30.6479 756.873 29.0883 753.913 Q27.4968 750.952 27.4968 746.719 Q27.4968 746.115 27.5923 745.382 Q27.656 744.65 27.8151 743.759 L33.8307 743.727 Z\" fill=\"#000000\" fill-rule=\"nonzero\" fill-opacity=\"1\" /><path clip-path=\"url(#clip620)\" d=\"M33.8307 718.074 Q33.2578 719.06 33.0032 720.238 Q32.7167 721.384 32.7167 722.784 Q32.7167 727.749 35.9632 730.423 Q39.1779 733.065 45.2253 733.065 L64.0042 733.065 L64.0042 738.953 L28.3562 738.953 L28.3562 733.065 L33.8944 733.065 Q30.6479 731.219 29.0883 728.259 Q27.4968 725.299 27.4968 721.065 Q27.4968 720.461 27.5923 719.729 Q27.656 718.997 27.8151 718.105 L33.8307 718.074 Z\" fill=\"#000000\" fill-rule=\"nonzero\" fill-opacity=\"1\" /><path clip-path=\"url(#clip620)\" d=\"M32.4621 699.549 Q32.4621 704.26 36.1542 706.997 Q39.8145 709.735 46.212 709.735 Q52.6095 709.735 56.3017 707.029 Q59.9619 704.292 59.9619 699.549 Q59.9619 694.871 56.2698 692.133 Q52.5777 689.396 46.212 689.396 Q39.8781 689.396 36.186 692.133 Q32.4621 694.871 32.4621 699.549 M27.4968 699.549 Q27.4968 691.911 32.4621 687.55 Q37.4273 683.19 46.212 683.19 Q54.9649 683.19 59.9619 687.55 Q64.9272 691.911 64.9272 699.549 Q64.9272 707.22 59.9619 711.581 Q54.9649 715.909 46.212 715.909 Q37.4273 715.909 32.4621 711.581 Q27.4968 707.22 27.4968 699.549 Z\" fill=\"#000000\" fill-rule=\"nonzero\" fill-opacity=\"1\" /><path clip-path=\"url(#clip620)\" d=\"M33.8307 652.825 Q33.2578 653.812 33.0032 654.989 Q32.7167 656.135 32.7167 657.536 Q32.7167 662.501 35.9632 665.175 Q39.1779 667.816 45.2253 667.816 L64.0042 667.816 L64.0042 673.705 L28.3562 673.705 L28.3562 667.816 L33.8944 667.816 Q30.6479 665.97 29.0883 663.01 Q27.4968 660.05 27.4968 655.817 Q27.4968 655.212 27.5923 654.48 Q27.656 653.748 27.8151 652.857 L33.8307 652.825 Z\" fill=\"#000000\" fill-rule=\"nonzero\" fill-opacity=\"1\" /><polyline clip-path=\"url(#clip622)\" style=\"stroke:#ff0000; stroke-linecap:round; stroke-linejoin:round; stroke-width:4; stroke-opacity:1; fill:none\" points=\"2293.29,85.838 2169.4,244.789 2045.51,408.744 1921.61,562.086 1797.72,714.469 1673.83,866.757 1549.94,1019.04 1426.05,1171.25 1302.16,1372.3 1178.27,1251.47 1054.38,1119.18 930.484,952.929 806.593,784.399 682.702,584.441 558.811,554.083 434.919,285.668 311.028,134.669 \"/>\n",
       "<circle clip-path=\"url(#clip622)\" cx=\"2293.29\" cy=\"85.838\" r=\"14.4\" fill=\"#ff0000\" fill-rule=\"evenodd\" fill-opacity=\"1\" stroke=\"#000000\" stroke-opacity=\"1\" stroke-width=\"3.2\"/>\n",
       "<circle clip-path=\"url(#clip622)\" cx=\"2169.4\" cy=\"244.789\" r=\"14.4\" fill=\"#ff0000\" fill-rule=\"evenodd\" fill-opacity=\"1\" stroke=\"#000000\" stroke-opacity=\"1\" stroke-width=\"3.2\"/>\n",
       "<circle clip-path=\"url(#clip622)\" cx=\"2045.51\" cy=\"408.744\" r=\"14.4\" fill=\"#ff0000\" fill-rule=\"evenodd\" fill-opacity=\"1\" stroke=\"#000000\" stroke-opacity=\"1\" stroke-width=\"3.2\"/>\n",
       "<circle clip-path=\"url(#clip622)\" cx=\"1921.61\" cy=\"562.086\" r=\"14.4\" fill=\"#ff0000\" fill-rule=\"evenodd\" fill-opacity=\"1\" stroke=\"#000000\" stroke-opacity=\"1\" stroke-width=\"3.2\"/>\n",
       "<circle clip-path=\"url(#clip622)\" cx=\"1797.72\" cy=\"714.469\" r=\"14.4\" fill=\"#ff0000\" fill-rule=\"evenodd\" fill-opacity=\"1\" stroke=\"#000000\" stroke-opacity=\"1\" stroke-width=\"3.2\"/>\n",
       "<circle clip-path=\"url(#clip622)\" cx=\"1673.83\" cy=\"866.757\" r=\"14.4\" fill=\"#ff0000\" fill-rule=\"evenodd\" fill-opacity=\"1\" stroke=\"#000000\" stroke-opacity=\"1\" stroke-width=\"3.2\"/>\n",
       "<circle clip-path=\"url(#clip622)\" cx=\"1549.94\" cy=\"1019.04\" r=\"14.4\" fill=\"#ff0000\" fill-rule=\"evenodd\" fill-opacity=\"1\" stroke=\"#000000\" stroke-opacity=\"1\" stroke-width=\"3.2\"/>\n",
       "<circle clip-path=\"url(#clip622)\" cx=\"1426.05\" cy=\"1171.25\" r=\"14.4\" fill=\"#ff0000\" fill-rule=\"evenodd\" fill-opacity=\"1\" stroke=\"#000000\" stroke-opacity=\"1\" stroke-width=\"3.2\"/>\n",
       "<circle clip-path=\"url(#clip622)\" cx=\"1302.16\" cy=\"1372.3\" r=\"14.4\" fill=\"#ff0000\" fill-rule=\"evenodd\" fill-opacity=\"1\" stroke=\"#000000\" stroke-opacity=\"1\" stroke-width=\"3.2\"/>\n",
       "<circle clip-path=\"url(#clip622)\" cx=\"1178.27\" cy=\"1251.47\" r=\"14.4\" fill=\"#ff0000\" fill-rule=\"evenodd\" fill-opacity=\"1\" stroke=\"#000000\" stroke-opacity=\"1\" stroke-width=\"3.2\"/>\n",
       "<circle clip-path=\"url(#clip622)\" cx=\"1054.38\" cy=\"1119.18\" r=\"14.4\" fill=\"#ff0000\" fill-rule=\"evenodd\" fill-opacity=\"1\" stroke=\"#000000\" stroke-opacity=\"1\" stroke-width=\"3.2\"/>\n",
       "<circle clip-path=\"url(#clip622)\" cx=\"930.484\" cy=\"952.929\" r=\"14.4\" fill=\"#ff0000\" fill-rule=\"evenodd\" fill-opacity=\"1\" stroke=\"#000000\" stroke-opacity=\"1\" stroke-width=\"3.2\"/>\n",
       "<circle clip-path=\"url(#clip622)\" cx=\"806.593\" cy=\"784.399\" r=\"14.4\" fill=\"#ff0000\" fill-rule=\"evenodd\" fill-opacity=\"1\" stroke=\"#000000\" stroke-opacity=\"1\" stroke-width=\"3.2\"/>\n",
       "<circle clip-path=\"url(#clip622)\" cx=\"682.702\" cy=\"584.441\" r=\"14.4\" fill=\"#ff0000\" fill-rule=\"evenodd\" fill-opacity=\"1\" stroke=\"#000000\" stroke-opacity=\"1\" stroke-width=\"3.2\"/>\n",
       "<circle clip-path=\"url(#clip622)\" cx=\"558.811\" cy=\"554.083\" r=\"14.4\" fill=\"#ff0000\" fill-rule=\"evenodd\" fill-opacity=\"1\" stroke=\"#000000\" stroke-opacity=\"1\" stroke-width=\"3.2\"/>\n",
       "<circle clip-path=\"url(#clip622)\" cx=\"434.919\" cy=\"285.668\" r=\"14.4\" fill=\"#ff0000\" fill-rule=\"evenodd\" fill-opacity=\"1\" stroke=\"#000000\" stroke-opacity=\"1\" stroke-width=\"3.2\"/>\n",
       "<circle clip-path=\"url(#clip622)\" cx=\"311.028\" cy=\"134.669\" r=\"14.4\" fill=\"#ff0000\" fill-rule=\"evenodd\" fill-opacity=\"1\" stroke=\"#000000\" stroke-opacity=\"1\" stroke-width=\"3.2\"/>\n",
       "<path clip-path=\"url(#clip620)\" d=\"M1691.63 1365.44 L2282.72 1365.44 L2282.72 1261.76 L1691.63 1261.76  Z\" fill=\"#ffffff\" fill-rule=\"evenodd\" fill-opacity=\"1\"/>\n",
       "<polyline clip-path=\"url(#clip620)\" style=\"stroke:#000000; stroke-linecap:round; stroke-linejoin:round; stroke-width:4; stroke-opacity:1; fill:none\" points=\"1691.63,1365.44 2282.72,1365.44 2282.72,1261.76 1691.63,1261.76 1691.63,1365.44 \"/>\n",
       "<polyline clip-path=\"url(#clip620)\" style=\"stroke:#ff0000; stroke-linecap:round; stroke-linejoin:round; stroke-width:4; stroke-opacity:1; fill:none\" points=\"1714.97,1313.6 1855.05,1313.6 \"/>\n",
       "<circle clip-path=\"url(#clip620)\" cx=\"1785.01\" cy=\"1313.6\" r=\"19.4555\" fill=\"#ff0000\" fill-rule=\"evenodd\" fill-opacity=\"1\" stroke=\"#000000\" stroke-opacity=\"1\" stroke-width=\"4.55111\"/>\n",
       "<path clip-path=\"url(#clip620)\" d=\"M1878.4 1296.32 L1898.26 1296.32 L1898.26 1300.26 L1883.08 1300.26 L1883.08 1310.44 L1896.78 1310.44 L1896.78 1314.38 L1883.08 1314.38 L1883.08 1330.88 L1878.4 1330.88 L1878.4 1296.32 Z\" fill=\"#000000\" fill-rule=\"nonzero\" fill-opacity=\"1\" /><path clip-path=\"url(#clip620)\" d=\"M1902.03 1304.96 L1906.29 1304.96 L1906.29 1330.88 L1902.03 1330.88 L1902.03 1304.96 M1902.03 1294.86 L1906.29 1294.86 L1906.29 1300.26 L1902.03 1300.26 L1902.03 1294.86 Z\" fill=\"#000000\" fill-rule=\"nonzero\" fill-opacity=\"1\" /><path clip-path=\"url(#clip620)\" d=\"M1936.76 1315.23 L1936.76 1330.88 L1932.5 1330.88 L1932.5 1315.37 Q1932.5 1311.69 1931.06 1309.86 Q1929.63 1308.03 1926.76 1308.03 Q1923.31 1308.03 1921.32 1310.23 Q1919.32 1312.43 1919.32 1316.23 L1919.32 1330.88 L1915.04 1330.88 L1915.04 1304.96 L1919.32 1304.96 L1919.32 1308.98 Q1920.85 1306.65 1922.91 1305.49 Q1925 1304.33 1927.7 1304.33 Q1932.17 1304.33 1934.46 1307.11 Q1936.76 1309.86 1936.76 1315.23 Z\" fill=\"#000000\" fill-rule=\"nonzero\" fill-opacity=\"1\" /><path clip-path=\"url(#clip620)\" d=\"M1945.25 1304.96 L1949.51 1304.96 L1949.51 1330.88 L1945.25 1330.88 L1945.25 1304.96 M1945.25 1294.86 L1949.51 1294.86 L1949.51 1300.26 L1945.25 1300.26 L1945.25 1294.86 Z\" fill=\"#000000\" fill-rule=\"nonzero\" fill-opacity=\"1\" /><path clip-path=\"url(#clip620)\" d=\"M1962.63 1297.59 L1962.63 1304.96 L1971.41 1304.96 L1971.41 1308.27 L1962.63 1308.27 L1962.63 1322.34 Q1962.63 1325.51 1963.49 1326.41 Q1964.37 1327.32 1967.03 1327.32 L1971.41 1327.32 L1971.41 1330.88 L1967.03 1330.88 Q1962.1 1330.88 1960.23 1329.05 Q1958.35 1327.2 1958.35 1322.34 L1958.35 1308.27 L1955.23 1308.27 L1955.23 1304.96 L1958.35 1304.96 L1958.35 1297.59 L1962.63 1297.59 Z\" fill=\"#000000\" fill-rule=\"nonzero\" fill-opacity=\"1\" /><path clip-path=\"url(#clip620)\" d=\"M1999.19 1316.85 L1999.19 1318.94 L1979.6 1318.94 Q1979.88 1323.34 1982.24 1325.65 Q1984.63 1327.94 1988.86 1327.94 Q1991.32 1327.94 1993.61 1327.34 Q1995.92 1326.74 1998.19 1325.53 L1998.19 1329.56 Q1995.9 1330.53 1993.49 1331.04 Q1991.08 1331.55 1988.61 1331.55 Q1982.4 1331.55 1978.77 1327.94 Q1975.16 1324.33 1975.16 1318.17 Q1975.16 1311.81 1978.58 1308.08 Q1982.03 1304.33 1987.87 1304.33 Q1993.1 1304.33 1996.13 1307.71 Q1999.19 1311.07 1999.19 1316.85 M1994.93 1315.6 Q1994.88 1312.11 1992.96 1310.03 Q1991.06 1307.94 1987.91 1307.94 Q1984.35 1307.94 1982.19 1309.96 Q1980.07 1311.97 1979.74 1315.63 L1994.93 1315.6 Z\" fill=\"#000000\" fill-rule=\"nonzero\" fill-opacity=\"1\" /><path clip-path=\"url(#clip620)\" d=\"M2026.11 1300.16 L2026.11 1327.04 L2031.75 1327.04 Q2038.91 1327.04 2042.22 1323.8 Q2045.55 1320.56 2045.55 1313.57 Q2045.55 1306.62 2042.22 1303.4 Q2038.91 1300.16 2031.75 1300.16 L2026.11 1300.16 M2021.43 1296.32 L2031.04 1296.32 Q2041.08 1296.32 2045.78 1300.51 Q2050.48 1304.68 2050.48 1313.57 Q2050.48 1322.5 2045.76 1326.69 Q2041.04 1330.88 2031.04 1330.88 L2021.43 1330.88 L2021.43 1296.32 Z\" fill=\"#000000\" fill-rule=\"nonzero\" fill-opacity=\"1\" /><path clip-path=\"url(#clip620)\" d=\"M2057.75 1304.96 L2062.01 1304.96 L2062.01 1330.88 L2057.75 1330.88 L2057.75 1304.96 M2057.75 1294.86 L2062.01 1294.86 L2062.01 1300.26 L2057.75 1300.26 L2057.75 1294.86 Z\" fill=\"#000000\" fill-rule=\"nonzero\" fill-opacity=\"1\" /><path clip-path=\"url(#clip620)\" d=\"M2084.05 1294.86 L2084.05 1298.4 L2079.97 1298.4 Q2077.68 1298.4 2076.78 1299.33 Q2075.9 1300.26 2075.9 1302.66 L2075.9 1304.96 L2082.91 1304.96 L2082.91 1308.27 L2075.9 1308.27 L2075.9 1330.88 L2071.62 1330.88 L2071.62 1308.27 L2067.54 1308.27 L2067.54 1304.96 L2071.62 1304.96 L2071.62 1303.15 Q2071.62 1298.82 2073.63 1296.85 Q2075.64 1294.86 2080.02 1294.86 L2084.05 1294.86 Z\" fill=\"#000000\" fill-rule=\"nonzero\" fill-opacity=\"1\" /><path clip-path=\"url(#clip620)\" d=\"M2100.74 1294.86 L2100.74 1298.4 L2096.66 1298.4 Q2094.37 1298.4 2093.47 1299.33 Q2092.59 1300.26 2092.59 1302.66 L2092.59 1304.96 L2099.6 1304.96 L2099.6 1308.27 L2092.59 1308.27 L2092.59 1330.88 L2088.31 1330.88 L2088.31 1308.27 L2084.23 1308.27 L2084.23 1304.96 L2088.31 1304.96 L2088.31 1303.15 Q2088.31 1298.82 2090.32 1296.85 Q2092.33 1294.86 2096.71 1294.86 L2100.74 1294.86 Z\" fill=\"#000000\" fill-rule=\"nonzero\" fill-opacity=\"1\" /><path clip-path=\"url(#clip620)\" d=\"M2126.48 1316.85 L2126.48 1318.94 L2106.89 1318.94 Q2107.17 1323.34 2109.53 1325.65 Q2111.92 1327.94 2116.15 1327.94 Q2118.61 1327.94 2120.9 1327.34 Q2123.21 1326.74 2125.48 1325.53 L2125.48 1329.56 Q2123.19 1330.53 2120.78 1331.04 Q2118.37 1331.55 2115.9 1331.55 Q2109.69 1331.55 2106.06 1327.94 Q2102.45 1324.33 2102.45 1318.17 Q2102.45 1311.81 2105.87 1308.08 Q2109.32 1304.33 2115.16 1304.33 Q2120.39 1304.33 2123.42 1307.71 Q2126.48 1311.07 2126.48 1316.85 M2122.22 1315.6 Q2122.17 1312.11 2120.25 1310.03 Q2118.35 1307.94 2115.2 1307.94 Q2111.64 1307.94 2109.49 1309.96 Q2107.36 1311.97 2107.03 1315.63 L2122.22 1315.6 Z\" fill=\"#000000\" fill-rule=\"nonzero\" fill-opacity=\"1\" /><path clip-path=\"url(#clip620)\" d=\"M2148.49 1308.94 Q2147.77 1308.52 2146.92 1308.34 Q2146.08 1308.13 2145.06 1308.13 Q2141.45 1308.13 2139.51 1310.49 Q2137.59 1312.83 2137.59 1317.22 L2137.59 1330.88 L2133.31 1330.88 L2133.31 1304.96 L2137.59 1304.96 L2137.59 1308.98 Q2138.93 1306.62 2141.08 1305.49 Q2143.24 1304.33 2146.31 1304.33 Q2146.75 1304.33 2147.29 1304.4 Q2147.82 1304.45 2148.47 1304.56 L2148.49 1308.94 Z\" fill=\"#000000\" fill-rule=\"nonzero\" fill-opacity=\"1\" /><path clip-path=\"url(#clip620)\" d=\"M2174.09 1316.85 L2174.09 1318.94 L2154.51 1318.94 Q2154.79 1323.34 2157.15 1325.65 Q2159.53 1327.94 2163.77 1327.94 Q2166.22 1327.94 2168.51 1327.34 Q2170.83 1326.74 2173.1 1325.53 L2173.1 1329.56 Q2170.81 1330.53 2168.4 1331.04 Q2165.99 1331.55 2163.51 1331.55 Q2157.31 1331.55 2153.68 1327.94 Q2150.06 1324.33 2150.06 1318.17 Q2150.06 1311.81 2153.49 1308.08 Q2156.94 1304.33 2162.77 1304.33 Q2168 1304.33 2171.04 1307.71 Q2174.09 1311.07 2174.09 1316.85 M2169.83 1315.6 Q2169.79 1312.11 2167.87 1310.03 Q2165.97 1307.94 2162.82 1307.94 Q2159.25 1307.94 2157.1 1309.96 Q2154.97 1311.97 2154.65 1315.63 L2169.83 1315.6 Z\" fill=\"#000000\" fill-rule=\"nonzero\" fill-opacity=\"1\" /><path clip-path=\"url(#clip620)\" d=\"M2202.63 1315.23 L2202.63 1330.88 L2198.37 1330.88 L2198.37 1315.37 Q2198.37 1311.69 2196.94 1309.86 Q2195.5 1308.03 2192.63 1308.03 Q2189.18 1308.03 2187.19 1310.23 Q2185.2 1312.43 2185.2 1316.23 L2185.2 1330.88 L2180.92 1330.88 L2180.92 1304.96 L2185.2 1304.96 L2185.2 1308.98 Q2186.73 1306.65 2188.79 1305.49 Q2190.87 1304.33 2193.58 1304.33 Q2198.05 1304.33 2200.34 1307.11 Q2202.63 1309.86 2202.63 1315.23 Z\" fill=\"#000000\" fill-rule=\"nonzero\" fill-opacity=\"1\" /><path clip-path=\"url(#clip620)\" d=\"M2229.79 1305.95 L2229.79 1309.93 Q2227.98 1308.94 2226.15 1308.45 Q2224.35 1307.94 2222.49 1307.94 Q2218.35 1307.94 2216.06 1310.58 Q2213.77 1313.2 2213.77 1317.94 Q2213.77 1322.69 2216.06 1325.33 Q2218.35 1327.94 2222.49 1327.94 Q2224.35 1327.94 2226.15 1327.46 Q2227.98 1326.95 2229.79 1325.95 L2229.79 1329.89 Q2228 1330.72 2226.08 1331.14 Q2224.18 1331.55 2222.03 1331.55 Q2216.18 1331.55 2212.73 1327.87 Q2209.28 1324.19 2209.28 1317.94 Q2209.28 1311.6 2212.75 1307.97 Q2216.24 1304.33 2222.31 1304.33 Q2224.28 1304.33 2226.15 1304.75 Q2228.03 1305.14 2229.79 1305.95 Z\" fill=\"#000000\" fill-rule=\"nonzero\" fill-opacity=\"1\" /><path clip-path=\"url(#clip620)\" d=\"M2259.37 1316.85 L2259.37 1318.94 L2239.79 1318.94 Q2240.06 1323.34 2242.43 1325.65 Q2244.81 1327.94 2249.05 1327.94 Q2251.5 1327.94 2253.79 1327.34 Q2256.11 1326.74 2258.37 1325.53 L2258.37 1329.56 Q2256.08 1330.53 2253.68 1331.04 Q2251.27 1331.55 2248.79 1331.55 Q2242.59 1331.55 2238.95 1327.94 Q2235.34 1324.33 2235.34 1318.17 Q2235.34 1311.81 2238.77 1308.08 Q2242.22 1304.33 2248.05 1304.33 Q2253.28 1304.33 2256.31 1307.71 Q2259.37 1311.07 2259.37 1316.85 M2255.11 1315.6 Q2255.06 1312.11 2253.14 1310.03 Q2251.24 1307.94 2248.1 1307.94 Q2244.53 1307.94 2242.38 1309.96 Q2240.25 1311.97 2239.93 1315.63 L2255.11 1315.6 Z\" fill=\"#000000\" fill-rule=\"nonzero\" fill-opacity=\"1\" /></svg>\n"
      ]
     },
     "execution_count": 5,
     "metadata": {},
     "output_type": "execute_result"
    }
   ],
   "source": [
    "# (a) finite difference formula\n",
    "using Plots\n",
    "\n",
    "function f(x)\n",
    "    return tan(x)\n",
    "end\n",
    "\n",
    "function turunan_eksak(x)\n",
    "    return sec(x)^2\n",
    "end\n",
    "\n",
    "function finite_difference(x, h)\n",
    "    return (f(x + h) - f(x)) / h\n",
    "end\n",
    "\n",
    "function errors(approx, nilai_eksak)\n",
    "    return abs(approx - nilai_eksak)\n",
    "end\n",
    "\n",
    "function tampil_finite()\n",
    "    nilai_x = 1.0\n",
    "    nilai_eksak = turunan_eksak(nilai_x)\n",
    "\n",
    "    nilai_h = [10.0^(-k) for k in 0:16]\n",
    "    error_finite = []\n",
    "\n",
    "    for h in nilai_h\n",
    "        approx = finite_difference(nilai_x, h)\n",
    "        error = errors(approx, nilai_eksak)\n",
    "        push!(error_finite, error)\n",
    "    end\n",
    "\n",
    "    plot(nilai_h, error_finite, xaxis=:log, yaxis=:log, xlabel=\"h\", ylabel=\"Error\",\n",
    "         label=\"Finite Difference\", color=:red, legend=:bottomright, marker=:circle)\n",
    "end\n",
    "\n",
    "tampil_finite()"
   ]
  },
  {
   "cell_type": "markdown",
   "id": "829ca217-9247-4e95-9590-5748d7df900a",
   "metadata": {},
   "source": [
    "__Penjelasan:__\n",
    "\n",
    "Dari grafik yang tersebut, dapat dilihat bahwa terdapat penurunan kesalahan seiring dengan penurunan nilai $h$, namun tidak selalu ada nilai minimum yang jelas. Kesalahan dapat bervariasi tergantung pada fungsi dan titik evaluasi yang digunakan. Selain itu, aturan $h \\approx \\sqrt{e_{mach}}$ dirancang untuk menghindari ketidakstabilan numerik dan kehilangan presisi. Dalam program ini, dapat dibandingkan nilai-nilai $h$ yang diuji dengan $\\sqrt{e_{mach}}$ untuk melihat apakah grafik kesalahan menunjukkan penurunan yang signifikan pada $h$ di sekitar nilai ini. Jika $h$ terlalu kecil, kesalahan pembulatan akan terjadi, sedangkan jika $h$ terlalu besar, kesalahan numerik mungkin muncul. "
   ]
  },
  {
   "cell_type": "code",
   "execution_count": 7,
   "id": "57efa4d9-e932-4423-bedd-763ca5ec4422",
   "metadata": {},
   "outputs": [
    {
     "data": {
      "image/svg+xml": [
       "<?xml version=\"1.0\" encoding=\"utf-8\"?>\n",
       "<svg xmlns=\"http://www.w3.org/2000/svg\" xmlns:xlink=\"http://www.w3.org/1999/xlink\" width=\"600\" height=\"400\" viewBox=\"0 0 2400 1600\">\n",
       "<defs>\n",
       "  <clipPath id=\"clip700\">\n",
       "    <rect x=\"0\" y=\"0\" width=\"2400\" height=\"1600\"/>\n",
       "  </clipPath>\n",
       "</defs>\n",
       "<path clip-path=\"url(#clip700)\" d=\"M0 1600 L2400 1600 L2400 0 L0 0  Z\" fill=\"#ffffff\" fill-rule=\"evenodd\" fill-opacity=\"1\"/>\n",
       "<defs>\n",
       "  <clipPath id=\"clip701\">\n",
       "    <rect x=\"480\" y=\"0\" width=\"1681\" height=\"1600\"/>\n",
       "  </clipPath>\n",
       "</defs>\n",
       "<path clip-path=\"url(#clip700)\" d=\"M276.876 1410.9 L2352.76 1410.9 L2352.76 47.2441 L276.876 47.2441  Z\" fill=\"#ffffff\" fill-rule=\"evenodd\" fill-opacity=\"1\"/>\n",
       "<defs>\n",
       "  <clipPath id=\"clip702\">\n",
       "    <rect x=\"276\" y=\"47\" width=\"2077\" height=\"1365\"/>\n",
       "  </clipPath>\n",
       "</defs>\n",
       "<polyline clip-path=\"url(#clip702)\" style=\"stroke:#000000; stroke-linecap:round; stroke-linejoin:round; stroke-width:2; stroke-opacity:0.1; fill:none\" points=\"1070.02,1410.9 1070.02,47.2441 \"/>\n",
       "<polyline clip-path=\"url(#clip702)\" style=\"stroke:#000000; stroke-linecap:round; stroke-linejoin:round; stroke-width:2; stroke-opacity:0.1; fill:none\" points=\"2294,1410.9 2294,47.2441 \"/>\n",
       "<polyline clip-path=\"url(#clip700)\" style=\"stroke:#000000; stroke-linecap:round; stroke-linejoin:round; stroke-width:4; stroke-opacity:1; fill:none\" points=\"276.876,1410.9 2352.76,1410.9 \"/>\n",
       "<polyline clip-path=\"url(#clip700)\" style=\"stroke:#000000; stroke-linecap:round; stroke-linejoin:round; stroke-width:4; stroke-opacity:1; fill:none\" points=\"1070.02,1410.9 1070.02,1392 \"/>\n",
       "<polyline clip-path=\"url(#clip700)\" style=\"stroke:#000000; stroke-linecap:round; stroke-linejoin:round; stroke-width:4; stroke-opacity:1; fill:none\" points=\"2294,1410.9 2294,1392 \"/>\n",
       "<path clip-path=\"url(#clip700)\" d=\"M1007.38 1485.02 L1015.02 1485.02 L1015.02 1458.66 L1006.71 1460.32 L1006.71 1456.06 L1014.97 1454.4 L1019.65 1454.4 L1019.65 1485.02 L1027.29 1485.02 L1027.29 1488.96 L1007.38 1488.96 L1007.38 1485.02 Z\" fill=\"#000000\" fill-rule=\"nonzero\" fill-opacity=\"1\" /><path clip-path=\"url(#clip700)\" d=\"M1046.73 1457.48 Q1043.12 1457.48 1041.29 1461.04 Q1039.49 1464.58 1039.49 1471.71 Q1039.49 1478.82 1041.29 1482.38 Q1043.12 1485.92 1046.73 1485.92 Q1050.37 1485.92 1052.17 1482.38 Q1054 1478.82 1054 1471.71 Q1054 1464.58 1052.17 1461.04 Q1050.37 1457.48 1046.73 1457.48 M1046.73 1453.77 Q1052.54 1453.77 1055.6 1458.38 Q1058.68 1462.96 1058.68 1471.71 Q1058.68 1480.44 1055.6 1485.04 Q1052.54 1489.63 1046.73 1489.63 Q1040.92 1489.63 1037.84 1485.04 Q1034.79 1480.44 1034.79 1471.71 Q1034.79 1462.96 1037.84 1458.38 Q1040.92 1453.77 1046.73 1453.77 Z\" fill=\"#000000\" fill-rule=\"nonzero\" fill-opacity=\"1\" /><path clip-path=\"url(#clip700)\" d=\"M1058.68 1447.87 L1082.79 1447.87 L1082.79 1451.07 L1058.68 1451.07 L1058.68 1447.87 Z\" fill=\"#000000\" fill-rule=\"nonzero\" fill-opacity=\"1\" /><path clip-path=\"url(#clip700)\" d=\"M1091.65 1458.35 L1097.85 1458.35 L1097.85 1436.93 L1091.1 1438.28 L1091.1 1434.82 L1097.82 1433.47 L1101.62 1433.47 L1101.62 1458.35 L1107.82 1458.35 L1107.82 1461.55 L1091.65 1461.55 L1091.65 1458.35 Z\" fill=\"#000000\" fill-rule=\"nonzero\" fill-opacity=\"1\" /><path clip-path=\"url(#clip700)\" d=\"M1123.62 1435.97 Q1120.69 1435.97 1119.2 1438.86 Q1117.73 1441.74 1117.73 1447.53 Q1117.73 1453.31 1119.2 1456.2 Q1120.69 1459.08 1123.62 1459.08 Q1126.57 1459.08 1128.04 1456.2 Q1129.53 1453.31 1129.53 1447.53 Q1129.53 1441.74 1128.04 1438.86 Q1126.57 1435.97 1123.62 1435.97 M1123.62 1432.96 Q1128.34 1432.96 1130.82 1436.7 Q1133.33 1440.43 1133.33 1447.53 Q1133.33 1454.62 1130.82 1458.37 Q1128.34 1462.09 1123.62 1462.09 Q1118.9 1462.09 1116.4 1458.37 Q1113.92 1454.62 1113.92 1447.53 Q1113.92 1440.43 1116.4 1436.7 Q1118.9 1432.96 1123.62 1432.96 Z\" fill=\"#000000\" fill-rule=\"nonzero\" fill-opacity=\"1\" /><path clip-path=\"url(#clip700)\" d=\"M2258.99 1485.02 L2266.63 1485.02 L2266.63 1458.66 L2258.32 1460.32 L2258.32 1456.06 L2266.58 1454.4 L2271.26 1454.4 L2271.26 1485.02 L2278.89 1485.02 L2278.89 1488.96 L2258.99 1488.96 L2258.99 1485.02 Z\" fill=\"#000000\" fill-rule=\"nonzero\" fill-opacity=\"1\" /><path clip-path=\"url(#clip700)\" d=\"M2298.34 1457.48 Q2294.73 1457.48 2292.9 1461.04 Q2291.09 1464.58 2291.09 1471.71 Q2291.09 1478.82 2292.9 1482.38 Q2294.73 1485.92 2298.34 1485.92 Q2301.97 1485.92 2303.78 1482.38 Q2305.61 1478.82 2305.61 1471.71 Q2305.61 1464.58 2303.78 1461.04 Q2301.97 1457.48 2298.34 1457.48 M2298.34 1453.77 Q2304.15 1453.77 2307.2 1458.38 Q2310.28 1462.96 2310.28 1471.71 Q2310.28 1480.44 2307.2 1485.04 Q2304.15 1489.63 2298.34 1489.63 Q2292.53 1489.63 2289.45 1485.04 Q2286.39 1480.44 2286.39 1471.71 Q2286.39 1462.96 2289.45 1458.38 Q2292.53 1453.77 2298.34 1453.77 Z\" fill=\"#000000\" fill-rule=\"nonzero\" fill-opacity=\"1\" /><path clip-path=\"url(#clip700)\" d=\"M2319.99 1435.97 Q2317.05 1435.97 2315.57 1438.86 Q2314.1 1441.74 2314.1 1447.53 Q2314.1 1453.31 2315.57 1456.2 Q2317.05 1459.08 2319.99 1459.08 Q2322.94 1459.08 2324.41 1456.2 Q2325.89 1453.31 2325.89 1447.53 Q2325.89 1441.74 2324.41 1438.86 Q2322.94 1435.97 2319.99 1435.97 M2319.99 1432.96 Q2324.71 1432.96 2327.19 1436.7 Q2329.69 1440.43 2329.69 1447.53 Q2329.69 1454.62 2327.19 1458.37 Q2324.71 1462.09 2319.99 1462.09 Q2315.27 1462.09 2312.77 1458.37 Q2310.28 1454.62 2310.28 1447.53 Q2310.28 1440.43 2312.77 1436.7 Q2315.27 1432.96 2319.99 1432.96 Z\" fill=\"#000000\" fill-rule=\"nonzero\" fill-opacity=\"1\" /><path clip-path=\"url(#clip700)\" d=\"M1329.74 1552.67 L1329.74 1574.19 L1323.89 1574.19 L1323.89 1552.86 Q1323.89 1547.8 1321.91 1545.29 Q1319.94 1542.77 1315.99 1542.77 Q1311.25 1542.77 1308.51 1545.79 Q1305.78 1548.82 1305.78 1554.04 L1305.78 1574.19 L1299.89 1574.19 L1299.89 1524.66 L1305.78 1524.66 L1305.78 1544.08 Q1307.88 1540.86 1310.71 1539.27 Q1313.57 1537.68 1317.3 1537.68 Q1323.44 1537.68 1326.59 1541.5 Q1329.74 1545.29 1329.74 1552.67 Z\" fill=\"#000000\" fill-rule=\"nonzero\" fill-opacity=\"1\" /><polyline clip-path=\"url(#clip702)\" style=\"stroke:#000000; stroke-linecap:round; stroke-linejoin:round; stroke-width:2; stroke-opacity:0.1; fill:none\" points=\"276.876,1241.5 2352.76,1241.5 \"/>\n",
       "<polyline clip-path=\"url(#clip702)\" style=\"stroke:#000000; stroke-linecap:round; stroke-linejoin:round; stroke-width:2; stroke-opacity:0.1; fill:none\" points=\"276.876,699.19 2352.76,699.19 \"/>\n",
       "<polyline clip-path=\"url(#clip702)\" style=\"stroke:#000000; stroke-linecap:round; stroke-linejoin:round; stroke-width:2; stroke-opacity:0.1; fill:none\" points=\"276.876,156.876 2352.76,156.876 \"/>\n",
       "<polyline clip-path=\"url(#clip700)\" style=\"stroke:#000000; stroke-linecap:round; stroke-linejoin:round; stroke-width:4; stroke-opacity:1; fill:none\" points=\"276.876,1410.9 276.876,47.2441 \"/>\n",
       "<polyline clip-path=\"url(#clip700)\" style=\"stroke:#000000; stroke-linecap:round; stroke-linejoin:round; stroke-width:4; stroke-opacity:1; fill:none\" points=\"276.876,1241.5 295.773,1241.5 \"/>\n",
       "<polyline clip-path=\"url(#clip700)\" style=\"stroke:#000000; stroke-linecap:round; stroke-linejoin:round; stroke-width:4; stroke-opacity:1; fill:none\" points=\"276.876,699.19 295.773,699.19 \"/>\n",
       "<polyline clip-path=\"url(#clip700)\" style=\"stroke:#000000; stroke-linecap:round; stroke-linejoin:round; stroke-width:4; stroke-opacity:1; fill:none\" points=\"276.876,156.876 295.773,156.876 \"/>\n",
       "<path clip-path=\"url(#clip700)\" d=\"M114.931 1261.3 L122.57 1261.3 L122.57 1234.93 L114.26 1236.6 L114.26 1232.34 L122.524 1230.67 L127.2 1230.67 L127.2 1261.3 L134.839 1261.3 L134.839 1265.23 L114.931 1265.23 L114.931 1261.3 Z\" fill=\"#000000\" fill-rule=\"nonzero\" fill-opacity=\"1\" /><path clip-path=\"url(#clip700)\" d=\"M154.283 1233.75 Q150.672 1233.75 148.843 1237.31 Q147.038 1240.86 147.038 1247.99 Q147.038 1255.09 148.843 1258.66 Q150.672 1262.2 154.283 1262.2 Q157.917 1262.2 159.723 1258.66 Q161.552 1255.09 161.552 1247.99 Q161.552 1240.86 159.723 1237.31 Q157.917 1233.75 154.283 1233.75 M154.283 1230.05 Q160.093 1230.05 163.149 1234.65 Q166.227 1239.24 166.227 1247.99 Q166.227 1256.71 163.149 1261.32 Q160.093 1265.9 154.283 1265.9 Q148.473 1265.9 145.394 1261.32 Q142.339 1256.71 142.339 1247.99 Q142.339 1239.24 145.394 1234.65 Q148.473 1230.05 154.283 1230.05 Z\" fill=\"#000000\" fill-rule=\"nonzero\" fill-opacity=\"1\" /><path clip-path=\"url(#clip700)\" d=\"M166.227 1224.15 L190.339 1224.15 L190.339 1227.34 L166.227 1227.34 L166.227 1224.15 Z\" fill=\"#000000\" fill-rule=\"nonzero\" fill-opacity=\"1\" /><path clip-path=\"url(#clip700)\" d=\"M199.197 1234.62 L205.404 1234.62 L205.404 1213.2 L198.652 1214.56 L198.652 1211.09 L205.366 1209.74 L209.166 1209.74 L209.166 1234.62 L215.372 1234.62 L215.372 1237.82 L199.197 1237.82 L199.197 1234.62 Z\" fill=\"#000000\" fill-rule=\"nonzero\" fill-opacity=\"1\" /><path clip-path=\"url(#clip700)\" d=\"M231.171 1212.24 Q228.237 1212.24 226.751 1215.14 Q225.284 1218.02 225.284 1223.81 Q225.284 1229.58 226.751 1232.48 Q228.237 1235.36 231.171 1235.36 Q234.124 1235.36 235.591 1232.48 Q237.076 1229.58 237.076 1223.81 Q237.076 1218.02 235.591 1215.14 Q234.124 1212.24 231.171 1212.24 M231.171 1209.23 Q235.891 1209.23 238.374 1212.98 Q240.876 1216.7 240.876 1223.81 Q240.876 1230.9 238.374 1234.64 Q235.891 1238.37 231.171 1238.37 Q226.45 1238.37 223.949 1234.64 Q221.466 1230.9 221.466 1223.81 Q221.466 1216.7 223.949 1212.98 Q226.45 1209.23 231.171 1209.23 Z\" fill=\"#000000\" fill-rule=\"nonzero\" fill-opacity=\"1\" /><path clip-path=\"url(#clip700)\" d=\"M140.247 718.982 L147.886 718.982 L147.886 692.616 L139.575 694.283 L139.575 690.024 L147.839 688.357 L152.515 688.357 L152.515 718.982 L160.154 718.982 L160.154 722.917 L140.247 722.917 L140.247 718.982 Z\" fill=\"#000000\" fill-rule=\"nonzero\" fill-opacity=\"1\" /><path clip-path=\"url(#clip700)\" d=\"M179.598 691.436 Q175.987 691.436 174.159 695.001 Q172.353 698.542 172.353 705.672 Q172.353 712.778 174.159 716.343 Q175.987 719.885 179.598 719.885 Q183.233 719.885 185.038 716.343 Q186.867 712.778 186.867 705.672 Q186.867 698.542 185.038 695.001 Q183.233 691.436 179.598 691.436 M179.598 687.732 Q185.409 687.732 188.464 692.339 Q191.543 696.922 191.543 705.672 Q191.543 714.399 188.464 719.005 Q185.409 723.588 179.598 723.588 Q173.788 723.588 170.71 719.005 Q167.654 714.399 167.654 705.672 Q167.654 696.922 170.71 692.339 Q173.788 687.732 179.598 687.732 Z\" fill=\"#000000\" fill-rule=\"nonzero\" fill-opacity=\"1\" /><path clip-path=\"url(#clip700)\" d=\"M191.543 681.834 L215.654 681.834 L215.654 685.031 L191.543 685.031 L191.543 681.834 Z\" fill=\"#000000\" fill-rule=\"nonzero\" fill-opacity=\"1\" /><path clip-path=\"url(#clip700)\" d=\"M223.892 667.427 L238.807 667.427 L238.807 670.624 L227.372 670.624 L227.372 677.508 Q228.199 677.226 229.027 677.094 Q229.854 676.944 230.682 676.944 Q235.384 676.944 238.13 679.52 Q240.876 682.097 240.876 686.498 Q240.876 691.031 238.054 693.551 Q235.233 696.052 230.099 696.052 Q228.331 696.052 226.488 695.751 Q224.663 695.45 222.707 694.849 L222.707 691.031 Q224.4 691.952 226.205 692.404 Q228.011 692.855 230.023 692.855 Q233.277 692.855 235.177 691.143 Q237.076 689.432 237.076 686.498 Q237.076 683.564 235.177 681.852 Q233.277 680.141 230.023 680.141 Q228.5 680.141 226.977 680.479 Q225.472 680.818 223.892 681.533 L223.892 667.427 Z\" fill=\"#000000\" fill-rule=\"nonzero\" fill-opacity=\"1\" /><path clip-path=\"url(#clip700)\" d=\"M170.17 176.668 L177.809 176.668 L177.809 150.303 L169.499 151.969 L169.499 147.71 L177.762 146.043 L182.438 146.043 L182.438 176.668 L190.077 176.668 L190.077 180.603 L170.17 180.603 L170.17 176.668 Z\" fill=\"#000000\" fill-rule=\"nonzero\" fill-opacity=\"1\" /><path clip-path=\"url(#clip700)\" d=\"M209.522 149.122 Q205.91 149.122 204.082 152.687 Q202.276 156.228 202.276 163.358 Q202.276 170.464 204.082 174.029 Q205.91 177.571 209.522 177.571 Q213.156 177.571 214.961 174.029 Q216.79 170.464 216.79 163.358 Q216.79 156.228 214.961 152.687 Q213.156 149.122 209.522 149.122 M209.522 145.418 Q215.332 145.418 218.387 150.025 Q221.466 154.608 221.466 163.358 Q221.466 172.085 218.387 176.691 Q215.332 181.275 209.522 181.275 Q203.711 181.275 200.633 176.691 Q197.577 172.085 197.577 163.358 Q197.577 154.608 200.633 150.025 Q203.711 145.418 209.522 145.418 Z\" fill=\"#000000\" fill-rule=\"nonzero\" fill-opacity=\"1\" /><path clip-path=\"url(#clip700)\" d=\"M231.171 127.614 Q228.237 127.614 226.751 130.511 Q225.284 133.388 225.284 139.181 Q225.284 144.955 226.751 147.852 Q228.237 150.729 231.171 150.729 Q234.124 150.729 235.591 147.852 Q237.076 144.955 237.076 139.181 Q237.076 133.388 235.591 130.511 Q234.124 127.614 231.171 127.614 M231.171 124.605 Q235.891 124.605 238.374 128.348 Q240.876 132.072 240.876 139.181 Q240.876 146.272 238.374 150.014 Q235.891 153.738 231.171 153.738 Q226.45 153.738 223.949 150.014 Q221.466 146.272 221.466 139.181 Q221.466 132.072 223.949 128.348 Q226.45 124.605 231.171 124.605 Z\" fill=\"#000000\" fill-rule=\"nonzero\" fill-opacity=\"1\" /><path clip-path=\"url(#clip700)\" d=\"M16.4842 805.316 L16.4842 775.269 L21.895 775.269 L21.895 798.886 L35.9632 798.886 L35.9632 776.256 L41.3741 776.256 L41.3741 798.886 L58.5933 798.886 L58.5933 774.697 L64.0042 774.697 L64.0042 805.316 L16.4842 805.316 Z\" fill=\"#000000\" fill-rule=\"nonzero\" fill-opacity=\"1\" /><path clip-path=\"url(#clip700)\" d=\"M33.8307 743.727 Q33.2578 744.714 33.0032 745.892 Q32.7167 747.038 32.7167 748.438 Q32.7167 753.403 35.9632 756.077 Q39.1779 758.719 45.2253 758.719 L64.0042 758.719 L64.0042 764.607 L28.3562 764.607 L28.3562 758.719 L33.8944 758.719 Q30.6479 756.873 29.0883 753.913 Q27.4968 750.952 27.4968 746.719 Q27.4968 746.115 27.5923 745.382 Q27.656 744.65 27.8151 743.759 L33.8307 743.727 Z\" fill=\"#000000\" fill-rule=\"nonzero\" fill-opacity=\"1\" /><path clip-path=\"url(#clip700)\" d=\"M33.8307 718.074 Q33.2578 719.06 33.0032 720.238 Q32.7167 721.384 32.7167 722.784 Q32.7167 727.749 35.9632 730.423 Q39.1779 733.065 45.2253 733.065 L64.0042 733.065 L64.0042 738.953 L28.3562 738.953 L28.3562 733.065 L33.8944 733.065 Q30.6479 731.219 29.0883 728.259 Q27.4968 725.299 27.4968 721.065 Q27.4968 720.461 27.5923 719.729 Q27.656 718.997 27.8151 718.105 L33.8307 718.074 Z\" fill=\"#000000\" fill-rule=\"nonzero\" fill-opacity=\"1\" /><path clip-path=\"url(#clip700)\" d=\"M32.4621 699.549 Q32.4621 704.26 36.1542 706.997 Q39.8145 709.735 46.212 709.735 Q52.6095 709.735 56.3017 707.029 Q59.9619 704.292 59.9619 699.549 Q59.9619 694.871 56.2698 692.133 Q52.5777 689.396 46.212 689.396 Q39.8781 689.396 36.186 692.133 Q32.4621 694.871 32.4621 699.549 M27.4968 699.549 Q27.4968 691.911 32.4621 687.55 Q37.4273 683.19 46.212 683.19 Q54.9649 683.19 59.9619 687.55 Q64.9272 691.911 64.9272 699.549 Q64.9272 707.22 59.9619 711.581 Q54.9649 715.909 46.212 715.909 Q37.4273 715.909 32.4621 711.581 Q27.4968 707.22 27.4968 699.549 Z\" fill=\"#000000\" fill-rule=\"nonzero\" fill-opacity=\"1\" /><path clip-path=\"url(#clip700)\" d=\"M33.8307 652.825 Q33.2578 653.812 33.0032 654.989 Q32.7167 656.135 32.7167 657.536 Q32.7167 662.501 35.9632 665.175 Q39.1779 667.816 45.2253 667.816 L64.0042 667.816 L64.0042 673.705 L28.3562 673.705 L28.3562 667.816 L33.8944 667.816 Q30.6479 665.97 29.0883 663.01 Q27.4968 660.05 27.4968 655.817 Q27.4968 655.212 27.5923 654.48 Q27.656 653.748 27.8151 652.857 L33.8307 652.825 Z\" fill=\"#000000\" fill-rule=\"nonzero\" fill-opacity=\"1\" /><polyline clip-path=\"url(#clip702)\" style=\"stroke:#0000ff; stroke-linecap:round; stroke-linejoin:round; stroke-width:4; stroke-opacity:1; fill:none\" points=\"2294,85.838 2171.61,266.537 2049.21,484.912 1926.81,701.852 1804.41,918.778 1682.01,1136.01 1559.61,1239.3 1437.21,1372.3 1314.82,1036.49 1192.42,950.939 1070.02,937.673 947.62,750.091 825.221,604.706 702.823,460.39 580.424,397.614 458.025,224.451 335.627,148.089 \"/>\n",
       "<path clip-path=\"url(#clip702)\" d=\"M2278 69.838 L2278 101.838 L2310 101.838 L2310 69.838 L2278 69.838 Z\" fill=\"#0000ff\" fill-rule=\"evenodd\" fill-opacity=\"1\" stroke=\"#000000\" stroke-opacity=\"1\" stroke-width=\"3.2\"/>\n",
       "<path clip-path=\"url(#clip702)\" d=\"M2155.61 250.537 L2155.61 282.537 L2187.61 282.537 L2187.61 250.537 L2155.61 250.537 Z\" fill=\"#0000ff\" fill-rule=\"evenodd\" fill-opacity=\"1\" stroke=\"#000000\" stroke-opacity=\"1\" stroke-width=\"3.2\"/>\n",
       "<path clip-path=\"url(#clip702)\" d=\"M2033.21 468.912 L2033.21 500.912 L2065.21 500.912 L2065.21 468.912 L2033.21 468.912 Z\" fill=\"#0000ff\" fill-rule=\"evenodd\" fill-opacity=\"1\" stroke=\"#000000\" stroke-opacity=\"1\" stroke-width=\"3.2\"/>\n",
       "<path clip-path=\"url(#clip702)\" d=\"M1910.81 685.852 L1910.81 717.852 L1942.81 717.852 L1942.81 685.852 L1910.81 685.852 Z\" fill=\"#0000ff\" fill-rule=\"evenodd\" fill-opacity=\"1\" stroke=\"#000000\" stroke-opacity=\"1\" stroke-width=\"3.2\"/>\n",
       "<path clip-path=\"url(#clip702)\" d=\"M1788.41 902.778 L1788.41 934.778 L1820.41 934.778 L1820.41 902.778 L1788.41 902.778 Z\" fill=\"#0000ff\" fill-rule=\"evenodd\" fill-opacity=\"1\" stroke=\"#000000\" stroke-opacity=\"1\" stroke-width=\"3.2\"/>\n",
       "<path clip-path=\"url(#clip702)\" d=\"M1666.01 1120.01 L1666.01 1152.01 L1698.01 1152.01 L1698.01 1120.01 L1666.01 1120.01 Z\" fill=\"#0000ff\" fill-rule=\"evenodd\" fill-opacity=\"1\" stroke=\"#000000\" stroke-opacity=\"1\" stroke-width=\"3.2\"/>\n",
       "<path clip-path=\"url(#clip702)\" d=\"M1543.61 1223.3 L1543.61 1255.3 L1575.61 1255.3 L1575.61 1223.3 L1543.61 1223.3 Z\" fill=\"#0000ff\" fill-rule=\"evenodd\" fill-opacity=\"1\" stroke=\"#000000\" stroke-opacity=\"1\" stroke-width=\"3.2\"/>\n",
       "<path clip-path=\"url(#clip702)\" d=\"M1421.21 1356.3 L1421.21 1388.3 L1453.21 1388.3 L1453.21 1356.3 L1421.21 1356.3 Z\" fill=\"#0000ff\" fill-rule=\"evenodd\" fill-opacity=\"1\" stroke=\"#000000\" stroke-opacity=\"1\" stroke-width=\"3.2\"/>\n",
       "<path clip-path=\"url(#clip702)\" d=\"M1298.82 1020.49 L1298.82 1052.49 L1330.82 1052.49 L1330.82 1020.49 L1298.82 1020.49 Z\" fill=\"#0000ff\" fill-rule=\"evenodd\" fill-opacity=\"1\" stroke=\"#000000\" stroke-opacity=\"1\" stroke-width=\"3.2\"/>\n",
       "<path clip-path=\"url(#clip702)\" d=\"M1176.42 934.939 L1176.42 966.939 L1208.42 966.939 L1208.42 934.939 L1176.42 934.939 Z\" fill=\"#0000ff\" fill-rule=\"evenodd\" fill-opacity=\"1\" stroke=\"#000000\" stroke-opacity=\"1\" stroke-width=\"3.2\"/>\n",
       "<path clip-path=\"url(#clip702)\" d=\"M1054.02 921.673 L1054.02 953.673 L1086.02 953.673 L1086.02 921.673 L1054.02 921.673 Z\" fill=\"#0000ff\" fill-rule=\"evenodd\" fill-opacity=\"1\" stroke=\"#000000\" stroke-opacity=\"1\" stroke-width=\"3.2\"/>\n",
       "<path clip-path=\"url(#clip702)\" d=\"M931.62 734.091 L931.62 766.091 L963.62 766.091 L963.62 734.091 L931.62 734.091 Z\" fill=\"#0000ff\" fill-rule=\"evenodd\" fill-opacity=\"1\" stroke=\"#000000\" stroke-opacity=\"1\" stroke-width=\"3.2\"/>\n",
       "<path clip-path=\"url(#clip702)\" d=\"M809.221 588.706 L809.221 620.706 L841.221 620.706 L841.221 588.706 L809.221 588.706 Z\" fill=\"#0000ff\" fill-rule=\"evenodd\" fill-opacity=\"1\" stroke=\"#000000\" stroke-opacity=\"1\" stroke-width=\"3.2\"/>\n",
       "<path clip-path=\"url(#clip702)\" d=\"M686.823 444.39 L686.823 476.39 L718.823 476.39 L718.823 444.39 L686.823 444.39 Z\" fill=\"#0000ff\" fill-rule=\"evenodd\" fill-opacity=\"1\" stroke=\"#000000\" stroke-opacity=\"1\" stroke-width=\"3.2\"/>\n",
       "<path clip-path=\"url(#clip702)\" d=\"M564.424 381.614 L564.424 413.614 L596.424 413.614 L596.424 381.614 L564.424 381.614 Z\" fill=\"#0000ff\" fill-rule=\"evenodd\" fill-opacity=\"1\" stroke=\"#000000\" stroke-opacity=\"1\" stroke-width=\"3.2\"/>\n",
       "<path clip-path=\"url(#clip702)\" d=\"M442.025 208.451 L442.025 240.451 L474.025 240.451 L474.025 208.451 L442.025 208.451 Z\" fill=\"#0000ff\" fill-rule=\"evenodd\" fill-opacity=\"1\" stroke=\"#000000\" stroke-opacity=\"1\" stroke-width=\"3.2\"/>\n",
       "<path clip-path=\"url(#clip702)\" d=\"M319.627 132.089 L319.627 164.089 L351.627 164.089 L351.627 132.089 L319.627 132.089 Z\" fill=\"#0000ff\" fill-rule=\"evenodd\" fill-opacity=\"1\" stroke=\"#000000\" stroke-opacity=\"1\" stroke-width=\"3.2\"/>\n",
       "<path clip-path=\"url(#clip700)\" d=\"M1603.2 1365.44 L2283.56 1365.44 L2283.56 1261.76 L1603.2 1261.76  Z\" fill=\"#ffffff\" fill-rule=\"evenodd\" fill-opacity=\"1\"/>\n",
       "<polyline clip-path=\"url(#clip700)\" style=\"stroke:#000000; stroke-linecap:round; stroke-linejoin:round; stroke-width:4; stroke-opacity:1; fill:none\" points=\"1603.2,1365.44 2283.56,1365.44 2283.56,1261.76 1603.2,1261.76 1603.2,1365.44 \"/>\n",
       "<polyline clip-path=\"url(#clip700)\" style=\"stroke:#0000ff; stroke-linecap:round; stroke-linejoin:round; stroke-width:4; stroke-opacity:1; fill:none\" points=\"1626.26,1313.6 1764.65,1313.6 \"/>\n",
       "<path clip-path=\"url(#clip700)\" d=\"M1674.1 1292.24 L1674.1 1334.96 L1716.81 1334.96 L1716.81 1292.24 L1674.1 1292.24 Z\" fill=\"#0000ff\" fill-rule=\"evenodd\" fill-opacity=\"1\" stroke=\"#000000\" stroke-opacity=\"1\" stroke-width=\"4.55111\"/>\n",
       "<path clip-path=\"url(#clip700)\" d=\"M1815.59 1298.98 L1815.59 1303.91 Q1813.23 1301.72 1810.54 1300.63 Q1807.88 1299.54 1804.87 1299.54 Q1798.95 1299.54 1795.8 1303.17 Q1792.65 1306.78 1792.65 1313.64 Q1792.65 1320.46 1795.8 1324.1 Q1798.95 1327.71 1804.87 1327.71 Q1807.88 1327.71 1810.54 1326.62 Q1813.23 1325.53 1815.59 1323.34 L1815.59 1328.22 Q1813.14 1329.89 1810.38 1330.72 Q1807.65 1331.55 1804.59 1331.55 Q1796.75 1331.55 1792.23 1326.76 Q1787.72 1321.95 1787.72 1313.64 Q1787.72 1305.3 1792.23 1300.51 Q1796.75 1295.7 1804.59 1295.7 Q1807.7 1295.7 1810.43 1296.53 Q1813.18 1297.34 1815.59 1298.98 Z\" fill=\"#000000\" fill-rule=\"nonzero\" fill-opacity=\"1\" /><path clip-path=\"url(#clip700)\" d=\"M1844.8 1316.85 L1844.8 1318.94 L1825.22 1318.94 Q1825.5 1323.34 1827.86 1325.65 Q1830.24 1327.94 1834.48 1327.94 Q1836.93 1327.94 1839.22 1327.34 Q1841.54 1326.74 1843.81 1325.53 L1843.81 1329.56 Q1841.52 1330.53 1839.11 1331.04 Q1836.7 1331.55 1834.22 1331.55 Q1828.02 1331.55 1824.39 1327.94 Q1820.77 1324.33 1820.77 1318.17 Q1820.77 1311.81 1824.2 1308.08 Q1827.65 1304.33 1833.48 1304.33 Q1838.71 1304.33 1841.75 1307.71 Q1844.8 1311.07 1844.8 1316.85 M1840.54 1315.6 Q1840.5 1312.11 1838.58 1310.03 Q1836.68 1307.94 1833.53 1307.94 Q1829.96 1307.94 1827.81 1309.96 Q1825.68 1311.97 1825.36 1315.63 L1840.54 1315.6 Z\" fill=\"#000000\" fill-rule=\"nonzero\" fill-opacity=\"1\" /><path clip-path=\"url(#clip700)\" d=\"M1873.34 1315.23 L1873.34 1330.88 L1869.08 1330.88 L1869.08 1315.37 Q1869.08 1311.69 1867.65 1309.86 Q1866.21 1308.03 1863.34 1308.03 Q1859.89 1308.03 1857.9 1310.23 Q1855.91 1312.43 1855.91 1316.23 L1855.91 1330.88 L1851.63 1330.88 L1851.63 1304.96 L1855.91 1304.96 L1855.91 1308.98 Q1857.44 1306.65 1859.5 1305.49 Q1861.58 1304.33 1864.29 1304.33 Q1868.76 1304.33 1871.05 1307.11 Q1873.34 1309.86 1873.34 1315.23 Z\" fill=\"#000000\" fill-rule=\"nonzero\" fill-opacity=\"1\" /><path clip-path=\"url(#clip700)\" d=\"M1886.05 1297.59 L1886.05 1304.96 L1894.83 1304.96 L1894.83 1308.27 L1886.05 1308.27 L1886.05 1322.34 Q1886.05 1325.51 1886.91 1326.41 Q1887.79 1327.32 1890.45 1327.32 L1894.83 1327.32 L1894.83 1330.88 L1890.45 1330.88 Q1885.52 1330.88 1883.64 1329.05 Q1881.77 1327.2 1881.77 1322.34 L1881.77 1308.27 L1878.64 1308.27 L1878.64 1304.96 L1881.77 1304.96 L1881.77 1297.59 L1886.05 1297.59 Z\" fill=\"#000000\" fill-rule=\"nonzero\" fill-opacity=\"1\" /><path clip-path=\"url(#clip700)\" d=\"M1922.6 1316.85 L1922.6 1318.94 L1903.02 1318.94 Q1903.3 1323.34 1905.66 1325.65 Q1908.04 1327.94 1912.28 1327.94 Q1914.73 1327.94 1917.02 1327.34 Q1919.34 1326.74 1921.61 1325.53 L1921.61 1329.56 Q1919.32 1330.53 1916.91 1331.04 Q1914.5 1331.55 1912.02 1331.55 Q1905.82 1331.55 1902.19 1327.94 Q1898.58 1324.33 1898.58 1318.17 Q1898.58 1311.81 1902 1308.08 Q1905.45 1304.33 1911.28 1304.33 Q1916.51 1304.33 1919.55 1307.71 Q1922.6 1311.07 1922.6 1316.85 M1918.34 1315.6 Q1918.3 1312.11 1916.38 1310.03 Q1914.48 1307.94 1911.33 1307.94 Q1907.76 1307.94 1905.61 1309.96 Q1903.48 1311.97 1903.16 1315.63 L1918.34 1315.6 Z\" fill=\"#000000\" fill-rule=\"nonzero\" fill-opacity=\"1\" /><path clip-path=\"url(#clip700)\" d=\"M1944.62 1308.94 Q1943.9 1308.52 1943.04 1308.34 Q1942.21 1308.13 1941.19 1308.13 Q1937.58 1308.13 1935.64 1310.49 Q1933.71 1312.83 1933.71 1317.22 L1933.71 1330.88 L1929.43 1330.88 L1929.43 1304.96 L1933.71 1304.96 L1933.71 1308.98 Q1935.06 1306.62 1937.21 1305.49 Q1939.36 1304.33 1942.44 1304.33 Q1942.88 1304.33 1943.41 1304.4 Q1943.95 1304.45 1944.59 1304.56 L1944.62 1308.94 Z\" fill=\"#000000\" fill-rule=\"nonzero\" fill-opacity=\"1\" /><path clip-path=\"url(#clip700)\" d=\"M1970.22 1316.85 L1970.22 1318.94 L1950.64 1318.94 Q1950.91 1323.34 1953.27 1325.65 Q1955.66 1327.94 1959.89 1327.94 Q1962.35 1327.94 1964.64 1327.34 Q1966.95 1326.74 1969.22 1325.53 L1969.22 1329.56 Q1966.93 1330.53 1964.52 1331.04 Q1962.12 1331.55 1959.64 1331.55 Q1953.44 1331.55 1949.8 1327.94 Q1946.19 1324.33 1946.19 1318.17 Q1946.19 1311.81 1949.62 1308.08 Q1953.07 1304.33 1958.9 1304.33 Q1964.13 1304.33 1967.16 1307.71 Q1970.22 1311.07 1970.22 1316.85 M1965.96 1315.6 Q1965.91 1312.11 1963.99 1310.03 Q1962.09 1307.94 1958.95 1307.94 Q1955.38 1307.94 1953.23 1309.96 Q1951.1 1311.97 1950.77 1315.63 L1965.96 1315.6 Z\" fill=\"#000000\" fill-rule=\"nonzero\" fill-opacity=\"1\" /><path clip-path=\"url(#clip700)\" d=\"M1994.27 1308.89 L1994.27 1294.86 L1998.53 1294.86 L1998.53 1330.88 L1994.27 1330.88 L1994.27 1326.99 Q1992.93 1329.31 1990.87 1330.44 Q1988.83 1331.55 1985.96 1331.55 Q1981.26 1331.55 1978.3 1327.8 Q1975.36 1324.05 1975.36 1317.94 Q1975.36 1311.83 1978.3 1308.08 Q1981.26 1304.33 1985.96 1304.33 Q1988.83 1304.33 1990.87 1305.47 Q1992.93 1306.58 1994.27 1308.89 M1979.76 1317.94 Q1979.76 1322.64 1981.68 1325.33 Q1983.62 1327.99 1987 1327.99 Q1990.38 1327.99 1992.32 1325.33 Q1994.27 1322.64 1994.27 1317.94 Q1994.27 1313.24 1992.32 1310.58 Q1990.38 1307.9 1987 1307.9 Q1983.62 1307.9 1981.68 1310.58 Q1979.76 1313.24 1979.76 1317.94 Z\" fill=\"#000000\" fill-rule=\"nonzero\" fill-opacity=\"1\" /><path clip-path=\"url(#clip700)\" d=\"M2027.23 1300.16 L2027.23 1327.04 L2032.88 1327.04 Q2040.03 1327.04 2043.34 1323.8 Q2046.68 1320.56 2046.68 1313.57 Q2046.68 1306.62 2043.34 1303.4 Q2040.03 1300.16 2032.88 1300.16 L2027.23 1300.16 M2022.56 1296.32 L2032.16 1296.32 Q2042.21 1296.32 2046.91 1300.51 Q2051.61 1304.68 2051.61 1313.57 Q2051.61 1322.5 2046.88 1326.69 Q2042.16 1330.88 2032.16 1330.88 L2022.56 1330.88 L2022.56 1296.32 Z\" fill=\"#000000\" fill-rule=\"nonzero\" fill-opacity=\"1\" /><path clip-path=\"url(#clip700)\" d=\"M2058.88 1304.96 L2063.13 1304.96 L2063.13 1330.88 L2058.88 1330.88 L2058.88 1304.96 M2058.88 1294.86 L2063.13 1294.86 L2063.13 1300.26 L2058.88 1300.26 L2058.88 1294.86 Z\" fill=\"#000000\" fill-rule=\"nonzero\" fill-opacity=\"1\" /><path clip-path=\"url(#clip700)\" d=\"M2085.17 1294.86 L2085.17 1298.4 L2081.1 1298.4 Q2078.81 1298.4 2077.9 1299.33 Q2077.02 1300.26 2077.02 1302.66 L2077.02 1304.96 L2084.04 1304.96 L2084.04 1308.27 L2077.02 1308.27 L2077.02 1330.88 L2072.74 1330.88 L2072.74 1308.27 L2068.67 1308.27 L2068.67 1304.96 L2072.74 1304.96 L2072.74 1303.15 Q2072.74 1298.82 2074.75 1296.85 Q2076.77 1294.86 2081.14 1294.86 L2085.17 1294.86 Z\" fill=\"#000000\" fill-rule=\"nonzero\" fill-opacity=\"1\" /><path clip-path=\"url(#clip700)\" d=\"M2101.86 1294.86 L2101.86 1298.4 L2097.79 1298.4 Q2095.5 1298.4 2094.59 1299.33 Q2093.71 1300.26 2093.71 1302.66 L2093.71 1304.96 L2100.73 1304.96 L2100.73 1308.27 L2093.71 1308.27 L2093.71 1330.88 L2089.43 1330.88 L2089.43 1308.27 L2085.36 1308.27 L2085.36 1304.96 L2089.43 1304.96 L2089.43 1303.15 Q2089.43 1298.82 2091.44 1296.85 Q2093.46 1294.86 2097.83 1294.86 L2101.86 1294.86 Z\" fill=\"#000000\" fill-rule=\"nonzero\" fill-opacity=\"1\" /><path clip-path=\"url(#clip700)\" d=\"M2127.6 1316.85 L2127.6 1318.94 L2108.02 1318.94 Q2108.3 1323.34 2110.66 1325.65 Q2113.04 1327.94 2117.28 1327.94 Q2119.73 1327.94 2122.02 1327.34 Q2124.34 1326.74 2126.61 1325.53 L2126.61 1329.56 Q2124.31 1330.53 2121.91 1331.04 Q2119.5 1331.55 2117.02 1331.55 Q2110.82 1331.55 2107.19 1327.94 Q2103.57 1324.33 2103.57 1318.17 Q2103.57 1311.81 2107 1308.08 Q2110.45 1304.33 2116.28 1304.33 Q2121.51 1304.33 2124.55 1307.71 Q2127.6 1311.07 2127.6 1316.85 M2123.34 1315.6 Q2123.3 1312.11 2121.37 1310.03 Q2119.48 1307.94 2116.33 1307.94 Q2112.76 1307.94 2110.61 1309.96 Q2108.48 1311.97 2108.16 1315.63 L2123.34 1315.6 Z\" fill=\"#000000\" fill-rule=\"nonzero\" fill-opacity=\"1\" /><path clip-path=\"url(#clip700)\" d=\"M2149.62 1308.94 Q2148.9 1308.52 2148.04 1308.34 Q2147.21 1308.13 2146.19 1308.13 Q2142.58 1308.13 2140.63 1310.49 Q2138.71 1312.83 2138.71 1317.22 L2138.71 1330.88 L2134.43 1330.88 L2134.43 1304.96 L2138.71 1304.96 L2138.71 1308.98 Q2140.06 1306.62 2142.21 1305.49 Q2144.36 1304.33 2147.44 1304.33 Q2147.88 1304.33 2148.41 1304.4 Q2148.94 1304.45 2149.59 1304.56 L2149.62 1308.94 Z\" fill=\"#000000\" fill-rule=\"nonzero\" fill-opacity=\"1\" /><path clip-path=\"url(#clip700)\" d=\"M2175.22 1316.85 L2175.22 1318.94 L2155.63 1318.94 Q2155.91 1323.34 2158.27 1325.65 Q2160.66 1327.94 2164.89 1327.94 Q2167.35 1327.94 2169.64 1327.34 Q2171.95 1326.74 2174.22 1325.53 L2174.22 1329.56 Q2171.93 1330.53 2169.52 1331.04 Q2167.12 1331.55 2164.64 1331.55 Q2158.43 1331.55 2154.8 1327.94 Q2151.19 1324.33 2151.19 1318.17 Q2151.19 1311.81 2154.62 1308.08 Q2158.06 1304.33 2163.9 1304.33 Q2169.13 1304.33 2172.16 1307.71 Q2175.22 1311.07 2175.22 1316.85 M2170.96 1315.6 Q2170.91 1312.11 2168.99 1310.03 Q2167.09 1307.94 2163.94 1307.94 Q2160.38 1307.94 2158.23 1309.96 Q2156.1 1311.97 2155.77 1315.63 L2170.96 1315.6 Z\" fill=\"#000000\" fill-rule=\"nonzero\" fill-opacity=\"1\" /><path clip-path=\"url(#clip700)\" d=\"M2203.76 1315.23 L2203.76 1330.88 L2199.5 1330.88 L2199.5 1315.37 Q2199.5 1311.69 2198.06 1309.86 Q2196.63 1308.03 2193.76 1308.03 Q2190.31 1308.03 2188.32 1310.23 Q2186.33 1312.43 2186.33 1316.23 L2186.33 1330.88 L2182.05 1330.88 L2182.05 1304.96 L2186.33 1304.96 L2186.33 1308.98 Q2187.86 1306.65 2189.92 1305.49 Q2192 1304.33 2194.71 1304.33 Q2199.18 1304.33 2201.47 1307.11 Q2203.76 1309.86 2203.76 1315.23 Z\" fill=\"#000000\" fill-rule=\"nonzero\" fill-opacity=\"1\" /><path clip-path=\"url(#clip700)\" d=\"M2230.91 1305.95 L2230.91 1309.93 Q2229.11 1308.94 2227.28 1308.45 Q2225.47 1307.94 2223.62 1307.94 Q2219.48 1307.94 2217.18 1310.58 Q2214.89 1313.2 2214.89 1317.94 Q2214.89 1322.69 2217.18 1325.33 Q2219.48 1327.94 2223.62 1327.94 Q2225.47 1327.94 2227.28 1327.46 Q2229.11 1326.95 2230.91 1325.95 L2230.91 1329.89 Q2229.13 1330.72 2227.21 1331.14 Q2225.31 1331.55 2223.16 1331.55 Q2217.3 1331.55 2213.85 1327.87 Q2210.4 1324.19 2210.4 1317.94 Q2210.4 1311.6 2213.87 1307.97 Q2217.37 1304.33 2223.43 1304.33 Q2225.4 1304.33 2227.28 1304.75 Q2229.15 1305.14 2230.91 1305.95 Z\" fill=\"#000000\" fill-rule=\"nonzero\" fill-opacity=\"1\" /><path clip-path=\"url(#clip700)\" d=\"M2260.49 1316.85 L2260.49 1318.94 L2240.91 1318.94 Q2241.19 1323.34 2243.55 1325.65 Q2245.93 1327.94 2250.17 1327.94 Q2252.62 1327.94 2254.92 1327.34 Q2257.23 1326.74 2259.5 1325.53 L2259.5 1329.56 Q2257.21 1330.53 2254.8 1331.04 Q2252.39 1331.55 2249.92 1331.55 Q2243.71 1331.55 2240.08 1327.94 Q2236.47 1324.33 2236.47 1318.17 Q2236.47 1311.81 2239.89 1308.08 Q2243.34 1304.33 2249.18 1304.33 Q2254.41 1304.33 2257.44 1307.71 Q2260.49 1311.07 2260.49 1316.85 M2256.24 1315.6 Q2256.19 1312.11 2254.27 1310.03 Q2252.37 1307.94 2249.22 1307.94 Q2245.66 1307.94 2243.5 1309.96 Q2241.37 1311.97 2241.05 1315.63 L2256.24 1315.6 Z\" fill=\"#000000\" fill-rule=\"nonzero\" fill-opacity=\"1\" /></svg>\n"
      ]
     },
     "execution_count": 7,
     "metadata": {},
     "output_type": "execute_result"
    }
   ],
   "source": [
    "# (b)  centered difference approximation\n",
    "using Plots\n",
    "\n",
    "function centered_difference(x, h)\n",
    "    return (f(x + h) - f(x - h)) / (2 * h)\n",
    "end\n",
    "\n",
    "function tampil_centered()\n",
    "    nilai_x = 1.0\n",
    "    nilai_eksak = turunan_eksak(nilai_x)\n",
    "\n",
    "    nilai_h = [10.0^(-k) for k in 0:16]\n",
    "    error_central = []\n",
    "\n",
    "    for h in nilai_h\n",
    "        approx = centered_difference(nilai_x, h)\n",
    "        error = errors(approx, nilai_eksak)\n",
    "        push!(error_central, error)\n",
    "    end\n",
    "\n",
    "    plot(nilai_h, error_central, xaxis=:log, yaxis=:log, xlabel=\"h\", ylabel=\"Error\",\n",
    "         label=\"Centered Difference\", color=:blue, legend=:bottomright, marker=:rect)\n",
    "end\n",
    "\n",
    "tampil_centered()"
   ]
  },
  {
   "cell_type": "code",
   "execution_count": 8,
   "id": "a8e795c5-af11-43fd-aefd-d859545ef02e",
   "metadata": {},
   "outputs": [
    {
     "data": {
      "image/svg+xml": [
       "<?xml version=\"1.0\" encoding=\"utf-8\"?>\n",
       "<svg xmlns=\"http://www.w3.org/2000/svg\" xmlns:xlink=\"http://www.w3.org/1999/xlink\" width=\"600\" height=\"400\" viewBox=\"0 0 2400 1600\">\n",
       "<defs>\n",
       "  <clipPath id=\"clip740\">\n",
       "    <rect x=\"0\" y=\"0\" width=\"2400\" height=\"1600\"/>\n",
       "  </clipPath>\n",
       "</defs>\n",
       "<path clip-path=\"url(#clip740)\" d=\"M0 1600 L2400 1600 L2400 0 L0 0  Z\" fill=\"#ffffff\" fill-rule=\"evenodd\" fill-opacity=\"1\"/>\n",
       "<defs>\n",
       "  <clipPath id=\"clip741\">\n",
       "    <rect x=\"480\" y=\"0\" width=\"1681\" height=\"1600\"/>\n",
       "  </clipPath>\n",
       "</defs>\n",
       "<path clip-path=\"url(#clip740)\" d=\"M276.876 1410.9 L2352.76 1410.9 L2352.76 47.2441 L276.876 47.2441  Z\" fill=\"#ffffff\" fill-rule=\"evenodd\" fill-opacity=\"1\"/>\n",
       "<defs>\n",
       "  <clipPath id=\"clip742\">\n",
       "    <rect x=\"276\" y=\"47\" width=\"2077\" height=\"1365\"/>\n",
       "  </clipPath>\n",
       "</defs>\n",
       "<polyline clip-path=\"url(#clip742)\" style=\"stroke:#000000; stroke-linecap:round; stroke-linejoin:round; stroke-width:2; stroke-opacity:0.1; fill:none\" points=\"1070.02,1410.9 1070.02,47.2441 \"/>\n",
       "<polyline clip-path=\"url(#clip742)\" style=\"stroke:#000000; stroke-linecap:round; stroke-linejoin:round; stroke-width:2; stroke-opacity:0.1; fill:none\" points=\"2294,1410.9 2294,47.2441 \"/>\n",
       "<polyline clip-path=\"url(#clip740)\" style=\"stroke:#000000; stroke-linecap:round; stroke-linejoin:round; stroke-width:4; stroke-opacity:1; fill:none\" points=\"276.876,1410.9 2352.76,1410.9 \"/>\n",
       "<polyline clip-path=\"url(#clip740)\" style=\"stroke:#000000; stroke-linecap:round; stroke-linejoin:round; stroke-width:4; stroke-opacity:1; fill:none\" points=\"1070.02,1410.9 1070.02,1392 \"/>\n",
       "<polyline clip-path=\"url(#clip740)\" style=\"stroke:#000000; stroke-linecap:round; stroke-linejoin:round; stroke-width:4; stroke-opacity:1; fill:none\" points=\"2294,1410.9 2294,1392 \"/>\n",
       "<path clip-path=\"url(#clip740)\" d=\"M1007.38 1485.02 L1015.02 1485.02 L1015.02 1458.66 L1006.71 1460.32 L1006.71 1456.06 L1014.97 1454.4 L1019.65 1454.4 L1019.65 1485.02 L1027.29 1485.02 L1027.29 1488.96 L1007.38 1488.96 L1007.38 1485.02 Z\" fill=\"#000000\" fill-rule=\"nonzero\" fill-opacity=\"1\" /><path clip-path=\"url(#clip740)\" d=\"M1046.73 1457.48 Q1043.12 1457.48 1041.29 1461.04 Q1039.49 1464.58 1039.49 1471.71 Q1039.49 1478.82 1041.29 1482.38 Q1043.12 1485.92 1046.73 1485.92 Q1050.37 1485.92 1052.17 1482.38 Q1054 1478.82 1054 1471.71 Q1054 1464.58 1052.17 1461.04 Q1050.37 1457.48 1046.73 1457.48 M1046.73 1453.77 Q1052.54 1453.77 1055.6 1458.38 Q1058.68 1462.96 1058.68 1471.71 Q1058.68 1480.44 1055.6 1485.04 Q1052.54 1489.63 1046.73 1489.63 Q1040.92 1489.63 1037.84 1485.04 Q1034.79 1480.44 1034.79 1471.71 Q1034.79 1462.96 1037.84 1458.38 Q1040.92 1453.77 1046.73 1453.77 Z\" fill=\"#000000\" fill-rule=\"nonzero\" fill-opacity=\"1\" /><path clip-path=\"url(#clip740)\" d=\"M1058.68 1447.87 L1082.79 1447.87 L1082.79 1451.07 L1058.68 1451.07 L1058.68 1447.87 Z\" fill=\"#000000\" fill-rule=\"nonzero\" fill-opacity=\"1\" /><path clip-path=\"url(#clip740)\" d=\"M1091.65 1458.35 L1097.85 1458.35 L1097.85 1436.93 L1091.1 1438.28 L1091.1 1434.82 L1097.82 1433.47 L1101.62 1433.47 L1101.62 1458.35 L1107.82 1458.35 L1107.82 1461.55 L1091.65 1461.55 L1091.65 1458.35 Z\" fill=\"#000000\" fill-rule=\"nonzero\" fill-opacity=\"1\" /><path clip-path=\"url(#clip740)\" d=\"M1123.62 1435.97 Q1120.69 1435.97 1119.2 1438.86 Q1117.73 1441.74 1117.73 1447.53 Q1117.73 1453.31 1119.2 1456.2 Q1120.69 1459.08 1123.62 1459.08 Q1126.57 1459.08 1128.04 1456.2 Q1129.53 1453.31 1129.53 1447.53 Q1129.53 1441.74 1128.04 1438.86 Q1126.57 1435.97 1123.62 1435.97 M1123.62 1432.96 Q1128.34 1432.96 1130.82 1436.7 Q1133.33 1440.43 1133.33 1447.53 Q1133.33 1454.62 1130.82 1458.37 Q1128.34 1462.09 1123.62 1462.09 Q1118.9 1462.09 1116.4 1458.37 Q1113.92 1454.62 1113.92 1447.53 Q1113.92 1440.43 1116.4 1436.7 Q1118.9 1432.96 1123.62 1432.96 Z\" fill=\"#000000\" fill-rule=\"nonzero\" fill-opacity=\"1\" /><path clip-path=\"url(#clip740)\" d=\"M2258.99 1485.02 L2266.63 1485.02 L2266.63 1458.66 L2258.32 1460.32 L2258.32 1456.06 L2266.58 1454.4 L2271.26 1454.4 L2271.26 1485.02 L2278.89 1485.02 L2278.89 1488.96 L2258.99 1488.96 L2258.99 1485.02 Z\" fill=\"#000000\" fill-rule=\"nonzero\" fill-opacity=\"1\" /><path clip-path=\"url(#clip740)\" d=\"M2298.34 1457.48 Q2294.73 1457.48 2292.9 1461.04 Q2291.09 1464.58 2291.09 1471.71 Q2291.09 1478.82 2292.9 1482.38 Q2294.73 1485.92 2298.34 1485.92 Q2301.97 1485.92 2303.78 1482.38 Q2305.61 1478.82 2305.61 1471.71 Q2305.61 1464.58 2303.78 1461.04 Q2301.97 1457.48 2298.34 1457.48 M2298.34 1453.77 Q2304.15 1453.77 2307.2 1458.38 Q2310.28 1462.96 2310.28 1471.71 Q2310.28 1480.44 2307.2 1485.04 Q2304.15 1489.63 2298.34 1489.63 Q2292.53 1489.63 2289.45 1485.04 Q2286.39 1480.44 2286.39 1471.71 Q2286.39 1462.96 2289.45 1458.38 Q2292.53 1453.77 2298.34 1453.77 Z\" fill=\"#000000\" fill-rule=\"nonzero\" fill-opacity=\"1\" /><path clip-path=\"url(#clip740)\" d=\"M2319.99 1435.97 Q2317.05 1435.97 2315.57 1438.86 Q2314.1 1441.74 2314.1 1447.53 Q2314.1 1453.31 2315.57 1456.2 Q2317.05 1459.08 2319.99 1459.08 Q2322.94 1459.08 2324.41 1456.2 Q2325.89 1453.31 2325.89 1447.53 Q2325.89 1441.74 2324.41 1438.86 Q2322.94 1435.97 2319.99 1435.97 M2319.99 1432.96 Q2324.71 1432.96 2327.19 1436.7 Q2329.69 1440.43 2329.69 1447.53 Q2329.69 1454.62 2327.19 1458.37 Q2324.71 1462.09 2319.99 1462.09 Q2315.27 1462.09 2312.77 1458.37 Q2310.28 1454.62 2310.28 1447.53 Q2310.28 1440.43 2312.77 1436.7 Q2315.27 1432.96 2319.99 1432.96 Z\" fill=\"#000000\" fill-rule=\"nonzero\" fill-opacity=\"1\" /><path clip-path=\"url(#clip740)\" d=\"M1329.74 1552.67 L1329.74 1574.19 L1323.89 1574.19 L1323.89 1552.86 Q1323.89 1547.8 1321.91 1545.29 Q1319.94 1542.77 1315.99 1542.77 Q1311.25 1542.77 1308.51 1545.79 Q1305.78 1548.82 1305.78 1554.04 L1305.78 1574.19 L1299.89 1574.19 L1299.89 1524.66 L1305.78 1524.66 L1305.78 1544.08 Q1307.88 1540.86 1310.71 1539.27 Q1313.57 1537.68 1317.3 1537.68 Q1323.44 1537.68 1326.59 1541.5 Q1329.74 1545.29 1329.74 1552.67 Z\" fill=\"#000000\" fill-rule=\"nonzero\" fill-opacity=\"1\" /><polyline clip-path=\"url(#clip742)\" style=\"stroke:#000000; stroke-linecap:round; stroke-linejoin:round; stroke-width:2; stroke-opacity:0.1; fill:none\" points=\"276.876,1243.68 2352.76,1243.68 \"/>\n",
       "<polyline clip-path=\"url(#clip742)\" style=\"stroke:#000000; stroke-linecap:round; stroke-linejoin:round; stroke-width:2; stroke-opacity:0.1; fill:none\" points=\"276.876,710.376 2352.76,710.376 \"/>\n",
       "<polyline clip-path=\"url(#clip742)\" style=\"stroke:#000000; stroke-linecap:round; stroke-linejoin:round; stroke-width:2; stroke-opacity:0.1; fill:none\" points=\"276.876,177.075 2352.76,177.075 \"/>\n",
       "<polyline clip-path=\"url(#clip740)\" style=\"stroke:#000000; stroke-linecap:round; stroke-linejoin:round; stroke-width:4; stroke-opacity:1; fill:none\" points=\"276.876,1410.9 276.876,47.2441 \"/>\n",
       "<polyline clip-path=\"url(#clip740)\" style=\"stroke:#000000; stroke-linecap:round; stroke-linejoin:round; stroke-width:4; stroke-opacity:1; fill:none\" points=\"276.876,1243.68 295.773,1243.68 \"/>\n",
       "<polyline clip-path=\"url(#clip740)\" style=\"stroke:#000000; stroke-linecap:round; stroke-linejoin:round; stroke-width:4; stroke-opacity:1; fill:none\" points=\"276.876,710.376 295.773,710.376 \"/>\n",
       "<polyline clip-path=\"url(#clip740)\" style=\"stroke:#000000; stroke-linecap:round; stroke-linejoin:round; stroke-width:4; stroke-opacity:1; fill:none\" points=\"276.876,177.075 295.773,177.075 \"/>\n",
       "<path clip-path=\"url(#clip740)\" d=\"M114.931 1263.47 L122.57 1263.47 L122.57 1237.1 L114.26 1238.77 L114.26 1234.51 L122.524 1232.84 L127.2 1232.84 L127.2 1263.47 L134.839 1263.47 L134.839 1267.4 L114.931 1267.4 L114.931 1263.47 Z\" fill=\"#000000\" fill-rule=\"nonzero\" fill-opacity=\"1\" /><path clip-path=\"url(#clip740)\" d=\"M154.283 1235.92 Q150.672 1235.92 148.843 1239.49 Q147.038 1243.03 147.038 1250.16 Q147.038 1257.27 148.843 1260.83 Q150.672 1264.37 154.283 1264.37 Q157.917 1264.37 159.723 1260.83 Q161.552 1257.27 161.552 1250.16 Q161.552 1243.03 159.723 1239.49 Q157.917 1235.92 154.283 1235.92 M154.283 1232.22 Q160.093 1232.22 163.149 1236.83 Q166.227 1241.41 166.227 1250.16 Q166.227 1258.89 163.149 1263.49 Q160.093 1268.08 154.283 1268.08 Q148.473 1268.08 145.394 1263.49 Q142.339 1258.89 142.339 1250.16 Q142.339 1241.41 145.394 1236.83 Q148.473 1232.22 154.283 1232.22 Z\" fill=\"#000000\" fill-rule=\"nonzero\" fill-opacity=\"1\" /><path clip-path=\"url(#clip740)\" d=\"M166.227 1226.32 L190.339 1226.32 L190.339 1229.52 L166.227 1229.52 L166.227 1226.32 Z\" fill=\"#000000\" fill-rule=\"nonzero\" fill-opacity=\"1\" /><path clip-path=\"url(#clip740)\" d=\"M199.197 1236.8 L205.404 1236.8 L205.404 1215.38 L198.652 1216.73 L198.652 1213.27 L205.366 1211.91 L209.166 1211.91 L209.166 1236.8 L215.372 1236.8 L215.372 1239.99 L199.197 1239.99 L199.197 1236.8 Z\" fill=\"#000000\" fill-rule=\"nonzero\" fill-opacity=\"1\" /><path clip-path=\"url(#clip740)\" d=\"M231.171 1214.42 Q228.237 1214.42 226.751 1217.31 Q225.284 1220.19 225.284 1225.98 Q225.284 1231.76 226.751 1234.65 Q228.237 1237.53 231.171 1237.53 Q234.124 1237.53 235.591 1234.65 Q237.076 1231.76 237.076 1225.98 Q237.076 1220.19 235.591 1217.31 Q234.124 1214.42 231.171 1214.42 M231.171 1211.41 Q235.891 1211.41 238.374 1215.15 Q240.876 1218.87 240.876 1225.98 Q240.876 1233.07 238.374 1236.82 Q235.891 1240.54 231.171 1240.54 Q226.45 1240.54 223.949 1236.82 Q221.466 1233.07 221.466 1225.98 Q221.466 1218.87 223.949 1215.15 Q226.45 1211.41 231.171 1211.41 Z\" fill=\"#000000\" fill-rule=\"nonzero\" fill-opacity=\"1\" /><path clip-path=\"url(#clip740)\" d=\"M140.247 730.168 L147.886 730.168 L147.886 703.803 L139.575 705.469 L139.575 701.21 L147.839 699.544 L152.515 699.544 L152.515 730.168 L160.154 730.168 L160.154 734.104 L140.247 734.104 L140.247 730.168 Z\" fill=\"#000000\" fill-rule=\"nonzero\" fill-opacity=\"1\" /><path clip-path=\"url(#clip740)\" d=\"M179.598 702.622 Q175.987 702.622 174.159 706.187 Q172.353 709.729 172.353 716.858 Q172.353 723.965 174.159 727.53 Q175.987 731.071 179.598 731.071 Q183.233 731.071 185.038 727.53 Q186.867 723.965 186.867 716.858 Q186.867 709.729 185.038 706.187 Q183.233 702.622 179.598 702.622 M179.598 698.919 Q185.409 698.919 188.464 703.525 Q191.543 708.108 191.543 716.858 Q191.543 725.585 188.464 730.192 Q185.409 734.775 179.598 734.775 Q173.788 734.775 170.71 730.192 Q167.654 725.585 167.654 716.858 Q167.654 708.108 170.71 703.525 Q173.788 698.919 179.598 698.919 Z\" fill=\"#000000\" fill-rule=\"nonzero\" fill-opacity=\"1\" /><path clip-path=\"url(#clip740)\" d=\"M191.543 693.02 L215.654 693.02 L215.654 696.217 L191.543 696.217 L191.543 693.02 Z\" fill=\"#000000\" fill-rule=\"nonzero\" fill-opacity=\"1\" /><path clip-path=\"url(#clip740)\" d=\"M223.892 678.613 L238.807 678.613 L238.807 681.811 L227.372 681.811 L227.372 688.694 Q228.199 688.412 229.027 688.28 Q229.854 688.13 230.682 688.13 Q235.384 688.13 238.13 690.707 Q240.876 693.283 240.876 697.684 Q240.876 702.217 238.054 704.737 Q235.233 707.239 230.099 707.239 Q228.331 707.239 226.488 706.938 Q224.663 706.637 222.707 706.035 L222.707 702.217 Q224.4 703.139 226.205 703.59 Q228.011 704.041 230.023 704.041 Q233.277 704.041 235.177 702.33 Q237.076 700.618 237.076 697.684 Q237.076 694.75 235.177 693.039 Q233.277 691.327 230.023 691.327 Q228.5 691.327 226.977 691.666 Q225.472 692.004 223.892 692.719 L223.892 678.613 Z\" fill=\"#000000\" fill-rule=\"nonzero\" fill-opacity=\"1\" /><path clip-path=\"url(#clip740)\" d=\"M170.17 196.867 L177.809 196.867 L177.809 170.502 L169.499 172.168 L169.499 167.909 L177.762 166.242 L182.438 166.242 L182.438 196.867 L190.077 196.867 L190.077 200.802 L170.17 200.802 L170.17 196.867 Z\" fill=\"#000000\" fill-rule=\"nonzero\" fill-opacity=\"1\" /><path clip-path=\"url(#clip740)\" d=\"M209.522 169.321 Q205.91 169.321 204.082 172.886 Q202.276 176.428 202.276 183.557 Q202.276 190.664 204.082 194.228 Q205.91 197.77 209.522 197.77 Q213.156 197.77 214.961 194.228 Q216.79 190.664 216.79 183.557 Q216.79 176.428 214.961 172.886 Q213.156 169.321 209.522 169.321 M209.522 165.617 Q215.332 165.617 218.387 170.224 Q221.466 174.807 221.466 183.557 Q221.466 192.284 218.387 196.89 Q215.332 201.474 209.522 201.474 Q203.711 201.474 200.633 196.89 Q197.577 192.284 197.577 183.557 Q197.577 174.807 200.633 170.224 Q203.711 165.617 209.522 165.617 Z\" fill=\"#000000\" fill-rule=\"nonzero\" fill-opacity=\"1\" /><path clip-path=\"url(#clip740)\" d=\"M231.171 147.813 Q228.237 147.813 226.751 150.71 Q225.284 153.587 225.284 159.38 Q225.284 165.154 226.751 168.051 Q228.237 170.928 231.171 170.928 Q234.124 170.928 235.591 168.051 Q237.076 165.154 237.076 159.38 Q237.076 153.587 235.591 150.71 Q234.124 147.813 231.171 147.813 M231.171 144.804 Q235.891 144.804 238.374 148.547 Q240.876 152.271 240.876 159.38 Q240.876 166.471 238.374 170.213 Q235.891 173.937 231.171 173.937 Q226.45 173.937 223.949 170.213 Q221.466 166.471 221.466 159.38 Q221.466 152.271 223.949 148.547 Q226.45 144.804 231.171 144.804 Z\" fill=\"#000000\" fill-rule=\"nonzero\" fill-opacity=\"1\" /><path clip-path=\"url(#clip740)\" d=\"M16.4842 805.316 L16.4842 775.269 L21.895 775.269 L21.895 798.886 L35.9632 798.886 L35.9632 776.256 L41.3741 776.256 L41.3741 798.886 L58.5933 798.886 L58.5933 774.697 L64.0042 774.697 L64.0042 805.316 L16.4842 805.316 Z\" fill=\"#000000\" fill-rule=\"nonzero\" fill-opacity=\"1\" /><path clip-path=\"url(#clip740)\" d=\"M33.8307 743.727 Q33.2578 744.714 33.0032 745.892 Q32.7167 747.038 32.7167 748.438 Q32.7167 753.403 35.9632 756.077 Q39.1779 758.719 45.2253 758.719 L64.0042 758.719 L64.0042 764.607 L28.3562 764.607 L28.3562 758.719 L33.8944 758.719 Q30.6479 756.873 29.0883 753.913 Q27.4968 750.952 27.4968 746.719 Q27.4968 746.115 27.5923 745.382 Q27.656 744.65 27.8151 743.759 L33.8307 743.727 Z\" fill=\"#000000\" fill-rule=\"nonzero\" fill-opacity=\"1\" /><path clip-path=\"url(#clip740)\" d=\"M33.8307 718.074 Q33.2578 719.06 33.0032 720.238 Q32.7167 721.384 32.7167 722.784 Q32.7167 727.749 35.9632 730.423 Q39.1779 733.065 45.2253 733.065 L64.0042 733.065 L64.0042 738.953 L28.3562 738.953 L28.3562 733.065 L33.8944 733.065 Q30.6479 731.219 29.0883 728.259 Q27.4968 725.299 27.4968 721.065 Q27.4968 720.461 27.5923 719.729 Q27.656 718.997 27.8151 718.105 L33.8307 718.074 Z\" fill=\"#000000\" fill-rule=\"nonzero\" fill-opacity=\"1\" /><path clip-path=\"url(#clip740)\" d=\"M32.4621 699.549 Q32.4621 704.26 36.1542 706.997 Q39.8145 709.735 46.212 709.735 Q52.6095 709.735 56.3017 707.029 Q59.9619 704.292 59.9619 699.549 Q59.9619 694.871 56.2698 692.133 Q52.5777 689.396 46.212 689.396 Q39.8781 689.396 36.186 692.133 Q32.4621 694.871 32.4621 699.549 M27.4968 699.549 Q27.4968 691.911 32.4621 687.55 Q37.4273 683.19 46.212 683.19 Q54.9649 683.19 59.9619 687.55 Q64.9272 691.911 64.9272 699.549 Q64.9272 707.22 59.9619 711.581 Q54.9649 715.909 46.212 715.909 Q37.4273 715.909 32.4621 711.581 Q27.4968 707.22 27.4968 699.549 Z\" fill=\"#000000\" fill-rule=\"nonzero\" fill-opacity=\"1\" /><path clip-path=\"url(#clip740)\" d=\"M33.8307 652.825 Q33.2578 653.812 33.0032 654.989 Q32.7167 656.135 32.7167 657.536 Q32.7167 662.501 35.9632 665.175 Q39.1779 667.816 45.2253 667.816 L64.0042 667.816 L64.0042 673.705 L28.3562 673.705 L28.3562 667.816 L33.8944 667.816 Q30.6479 665.97 29.0883 663.01 Q27.4968 660.05 27.4968 655.817 Q27.4968 655.212 27.5923 654.48 Q27.656 653.748 27.8151 652.857 L33.8307 652.825 Z\" fill=\"#000000\" fill-rule=\"nonzero\" fill-opacity=\"1\" /><polyline clip-path=\"url(#clip742)\" style=\"stroke:#ff0000; stroke-linecap:round; stroke-linejoin:round; stroke-width:4; stroke-opacity:1; fill:none\" points=\"2294,85.838 2171.61,197.172 2049.21,312.012 1926.81,419.418 1804.41,526.152 1682.01,632.819 1559.61,739.483 1437.21,846.095 1314.82,986.92 1192.42,902.283 1070.02,809.625 947.62,693.177 825.221,575.133 702.823,435.076 580.424,413.812 458.025,225.805 335.627,120.041 \"/>\n",
       "<circle clip-path=\"url(#clip742)\" cx=\"2294\" cy=\"85.838\" r=\"14.4\" fill=\"#ff0000\" fill-rule=\"evenodd\" fill-opacity=\"1\" stroke=\"#000000\" stroke-opacity=\"1\" stroke-width=\"3.2\"/>\n",
       "<circle clip-path=\"url(#clip742)\" cx=\"2171.61\" cy=\"197.172\" r=\"14.4\" fill=\"#ff0000\" fill-rule=\"evenodd\" fill-opacity=\"1\" stroke=\"#000000\" stroke-opacity=\"1\" stroke-width=\"3.2\"/>\n",
       "<circle clip-path=\"url(#clip742)\" cx=\"2049.21\" cy=\"312.012\" r=\"14.4\" fill=\"#ff0000\" fill-rule=\"evenodd\" fill-opacity=\"1\" stroke=\"#000000\" stroke-opacity=\"1\" stroke-width=\"3.2\"/>\n",
       "<circle clip-path=\"url(#clip742)\" cx=\"1926.81\" cy=\"419.418\" r=\"14.4\" fill=\"#ff0000\" fill-rule=\"evenodd\" fill-opacity=\"1\" stroke=\"#000000\" stroke-opacity=\"1\" stroke-width=\"3.2\"/>\n",
       "<circle clip-path=\"url(#clip742)\" cx=\"1804.41\" cy=\"526.152\" r=\"14.4\" fill=\"#ff0000\" fill-rule=\"evenodd\" fill-opacity=\"1\" stroke=\"#000000\" stroke-opacity=\"1\" stroke-width=\"3.2\"/>\n",
       "<circle clip-path=\"url(#clip742)\" cx=\"1682.01\" cy=\"632.819\" r=\"14.4\" fill=\"#ff0000\" fill-rule=\"evenodd\" fill-opacity=\"1\" stroke=\"#000000\" stroke-opacity=\"1\" stroke-width=\"3.2\"/>\n",
       "<circle clip-path=\"url(#clip742)\" cx=\"1559.61\" cy=\"739.483\" r=\"14.4\" fill=\"#ff0000\" fill-rule=\"evenodd\" fill-opacity=\"1\" stroke=\"#000000\" stroke-opacity=\"1\" stroke-width=\"3.2\"/>\n",
       "<circle clip-path=\"url(#clip742)\" cx=\"1437.21\" cy=\"846.095\" r=\"14.4\" fill=\"#ff0000\" fill-rule=\"evenodd\" fill-opacity=\"1\" stroke=\"#000000\" stroke-opacity=\"1\" stroke-width=\"3.2\"/>\n",
       "<circle clip-path=\"url(#clip742)\" cx=\"1314.82\" cy=\"986.92\" r=\"14.4\" fill=\"#ff0000\" fill-rule=\"evenodd\" fill-opacity=\"1\" stroke=\"#000000\" stroke-opacity=\"1\" stroke-width=\"3.2\"/>\n",
       "<circle clip-path=\"url(#clip742)\" cx=\"1192.42\" cy=\"902.283\" r=\"14.4\" fill=\"#ff0000\" fill-rule=\"evenodd\" fill-opacity=\"1\" stroke=\"#000000\" stroke-opacity=\"1\" stroke-width=\"3.2\"/>\n",
       "<circle clip-path=\"url(#clip742)\" cx=\"1070.02\" cy=\"809.625\" r=\"14.4\" fill=\"#ff0000\" fill-rule=\"evenodd\" fill-opacity=\"1\" stroke=\"#000000\" stroke-opacity=\"1\" stroke-width=\"3.2\"/>\n",
       "<circle clip-path=\"url(#clip742)\" cx=\"947.62\" cy=\"693.177\" r=\"14.4\" fill=\"#ff0000\" fill-rule=\"evenodd\" fill-opacity=\"1\" stroke=\"#000000\" stroke-opacity=\"1\" stroke-width=\"3.2\"/>\n",
       "<circle clip-path=\"url(#clip742)\" cx=\"825.221\" cy=\"575.133\" r=\"14.4\" fill=\"#ff0000\" fill-rule=\"evenodd\" fill-opacity=\"1\" stroke=\"#000000\" stroke-opacity=\"1\" stroke-width=\"3.2\"/>\n",
       "<circle clip-path=\"url(#clip742)\" cx=\"702.823\" cy=\"435.076\" r=\"14.4\" fill=\"#ff0000\" fill-rule=\"evenodd\" fill-opacity=\"1\" stroke=\"#000000\" stroke-opacity=\"1\" stroke-width=\"3.2\"/>\n",
       "<circle clip-path=\"url(#clip742)\" cx=\"580.424\" cy=\"413.812\" r=\"14.4\" fill=\"#ff0000\" fill-rule=\"evenodd\" fill-opacity=\"1\" stroke=\"#000000\" stroke-opacity=\"1\" stroke-width=\"3.2\"/>\n",
       "<circle clip-path=\"url(#clip742)\" cx=\"458.025\" cy=\"225.805\" r=\"14.4\" fill=\"#ff0000\" fill-rule=\"evenodd\" fill-opacity=\"1\" stroke=\"#000000\" stroke-opacity=\"1\" stroke-width=\"3.2\"/>\n",
       "<circle clip-path=\"url(#clip742)\" cx=\"335.627\" cy=\"120.041\" r=\"14.4\" fill=\"#ff0000\" fill-rule=\"evenodd\" fill-opacity=\"1\" stroke=\"#000000\" stroke-opacity=\"1\" stroke-width=\"3.2\"/>\n",
       "<polyline clip-path=\"url(#clip742)\" style=\"stroke:#0000ff; stroke-linecap:round; stroke-linejoin:round; stroke-width:4; stroke-opacity:1; fill:none\" points=\"2294,107.218 2171.61,284.913 2049.21,499.659 1926.81,712.994 1804.41,926.315 1682.01,1139.94 1559.61,1241.51 1437.21,1372.3 1314.82,1042.07 1192.42,957.941 1070.02,944.896 947.62,760.431 825.221,617.463 702.823,475.545 580.424,413.812 458.025,243.527 335.627,168.434 \"/>\n",
       "<path clip-path=\"url(#clip742)\" d=\"M2278 91.2177 L2278 123.218 L2310 123.218 L2310 91.2177 L2278 91.2177 Z\" fill=\"#0000ff\" fill-rule=\"evenodd\" fill-opacity=\"1\" stroke=\"#000000\" stroke-opacity=\"1\" stroke-width=\"3.2\"/>\n",
       "<path clip-path=\"url(#clip742)\" d=\"M2155.61 268.913 L2155.61 300.913 L2187.61 300.913 L2187.61 268.913 L2155.61 268.913 Z\" fill=\"#0000ff\" fill-rule=\"evenodd\" fill-opacity=\"1\" stroke=\"#000000\" stroke-opacity=\"1\" stroke-width=\"3.2\"/>\n",
       "<path clip-path=\"url(#clip742)\" d=\"M2033.21 483.659 L2033.21 515.659 L2065.21 515.659 L2065.21 483.659 L2033.21 483.659 Z\" fill=\"#0000ff\" fill-rule=\"evenodd\" fill-opacity=\"1\" stroke=\"#000000\" stroke-opacity=\"1\" stroke-width=\"3.2\"/>\n",
       "<path clip-path=\"url(#clip742)\" d=\"M1910.81 696.994 L1910.81 728.994 L1942.81 728.994 L1942.81 696.994 L1910.81 696.994 Z\" fill=\"#0000ff\" fill-rule=\"evenodd\" fill-opacity=\"1\" stroke=\"#000000\" stroke-opacity=\"1\" stroke-width=\"3.2\"/>\n",
       "<path clip-path=\"url(#clip742)\" d=\"M1788.41 910.315 L1788.41 942.315 L1820.41 942.315 L1820.41 910.315 L1788.41 910.315 Z\" fill=\"#0000ff\" fill-rule=\"evenodd\" fill-opacity=\"1\" stroke=\"#000000\" stroke-opacity=\"1\" stroke-width=\"3.2\"/>\n",
       "<path clip-path=\"url(#clip742)\" d=\"M1666.01 1123.94 L1666.01 1155.94 L1698.01 1155.94 L1698.01 1123.94 L1666.01 1123.94 Z\" fill=\"#0000ff\" fill-rule=\"evenodd\" fill-opacity=\"1\" stroke=\"#000000\" stroke-opacity=\"1\" stroke-width=\"3.2\"/>\n",
       "<path clip-path=\"url(#clip742)\" d=\"M1543.61 1225.51 L1543.61 1257.51 L1575.61 1257.51 L1575.61 1225.51 L1543.61 1225.51 Z\" fill=\"#0000ff\" fill-rule=\"evenodd\" fill-opacity=\"1\" stroke=\"#000000\" stroke-opacity=\"1\" stroke-width=\"3.2\"/>\n",
       "<path clip-path=\"url(#clip742)\" d=\"M1421.21 1356.3 L1421.21 1388.3 L1453.21 1388.3 L1453.21 1356.3 L1421.21 1356.3 Z\" fill=\"#0000ff\" fill-rule=\"evenodd\" fill-opacity=\"1\" stroke=\"#000000\" stroke-opacity=\"1\" stroke-width=\"3.2\"/>\n",
       "<path clip-path=\"url(#clip742)\" d=\"M1298.82 1026.07 L1298.82 1058.07 L1330.82 1058.07 L1330.82 1026.07 L1298.82 1026.07 Z\" fill=\"#0000ff\" fill-rule=\"evenodd\" fill-opacity=\"1\" stroke=\"#000000\" stroke-opacity=\"1\" stroke-width=\"3.2\"/>\n",
       "<path clip-path=\"url(#clip742)\" d=\"M1176.42 941.941 L1176.42 973.941 L1208.42 973.941 L1208.42 941.941 L1176.42 941.941 Z\" fill=\"#0000ff\" fill-rule=\"evenodd\" fill-opacity=\"1\" stroke=\"#000000\" stroke-opacity=\"1\" stroke-width=\"3.2\"/>\n",
       "<path clip-path=\"url(#clip742)\" d=\"M1054.02 928.896 L1054.02 960.896 L1086.02 960.896 L1086.02 928.896 L1054.02 928.896 Z\" fill=\"#0000ff\" fill-rule=\"evenodd\" fill-opacity=\"1\" stroke=\"#000000\" stroke-opacity=\"1\" stroke-width=\"3.2\"/>\n",
       "<path clip-path=\"url(#clip742)\" d=\"M931.62 744.431 L931.62 776.431 L963.62 776.431 L963.62 744.431 L931.62 744.431 Z\" fill=\"#0000ff\" fill-rule=\"evenodd\" fill-opacity=\"1\" stroke=\"#000000\" stroke-opacity=\"1\" stroke-width=\"3.2\"/>\n",
       "<path clip-path=\"url(#clip742)\" d=\"M809.221 601.463 L809.221 633.463 L841.221 633.463 L841.221 601.463 L809.221 601.463 Z\" fill=\"#0000ff\" fill-rule=\"evenodd\" fill-opacity=\"1\" stroke=\"#000000\" stroke-opacity=\"1\" stroke-width=\"3.2\"/>\n",
       "<path clip-path=\"url(#clip742)\" d=\"M686.823 459.545 L686.823 491.545 L718.823 491.545 L718.823 459.545 L686.823 459.545 Z\" fill=\"#0000ff\" fill-rule=\"evenodd\" fill-opacity=\"1\" stroke=\"#000000\" stroke-opacity=\"1\" stroke-width=\"3.2\"/>\n",
       "<path clip-path=\"url(#clip742)\" d=\"M564.424 397.812 L564.424 429.812 L596.424 429.812 L596.424 397.812 L564.424 397.812 Z\" fill=\"#0000ff\" fill-rule=\"evenodd\" fill-opacity=\"1\" stroke=\"#000000\" stroke-opacity=\"1\" stroke-width=\"3.2\"/>\n",
       "<path clip-path=\"url(#clip742)\" d=\"M442.025 227.527 L442.025 259.527 L474.025 259.527 L474.025 227.527 L442.025 227.527 Z\" fill=\"#0000ff\" fill-rule=\"evenodd\" fill-opacity=\"1\" stroke=\"#000000\" stroke-opacity=\"1\" stroke-width=\"3.2\"/>\n",
       "<path clip-path=\"url(#clip742)\" d=\"M319.627 152.434 L319.627 184.434 L351.627 184.434 L351.627 152.434 L319.627 152.434 Z\" fill=\"#0000ff\" fill-rule=\"evenodd\" fill-opacity=\"1\" stroke=\"#000000\" stroke-opacity=\"1\" stroke-width=\"3.2\"/>\n",
       "<path clip-path=\"url(#clip740)\" d=\"M1603.2 1365.44 L2283.56 1365.44 L2283.56 1209.92 L1603.2 1209.92  Z\" fill=\"#ffffff\" fill-rule=\"evenodd\" fill-opacity=\"1\"/>\n",
       "<polyline clip-path=\"url(#clip740)\" style=\"stroke:#000000; stroke-linecap:round; stroke-linejoin:round; stroke-width:4; stroke-opacity:1; fill:none\" points=\"1603.2,1365.44 2283.56,1365.44 2283.56,1209.92 1603.2,1209.92 1603.2,1365.44 \"/>\n",
       "<polyline clip-path=\"url(#clip740)\" style=\"stroke:#ff0000; stroke-linecap:round; stroke-linejoin:round; stroke-width:4; stroke-opacity:1; fill:none\" points=\"1626.26,1261.76 1764.65,1261.76 \"/>\n",
       "<circle clip-path=\"url(#clip740)\" cx=\"1695.46\" cy=\"1261.76\" r=\"19.2211\" fill=\"#ff0000\" fill-rule=\"evenodd\" fill-opacity=\"1\" stroke=\"#000000\" stroke-opacity=\"1\" stroke-width=\"4.55111\"/>\n",
       "<path clip-path=\"url(#clip740)\" d=\"M1787.72 1244.48 L1807.58 1244.48 L1807.58 1248.42 L1792.4 1248.42 L1792.4 1258.6 L1806.1 1258.6 L1806.1 1262.54 L1792.4 1262.54 L1792.4 1279.04 L1787.72 1279.04 L1787.72 1244.48 Z\" fill=\"#000000\" fill-rule=\"nonzero\" fill-opacity=\"1\" /><path clip-path=\"url(#clip740)\" d=\"M1811.35 1253.12 L1815.61 1253.12 L1815.61 1279.04 L1811.35 1279.04 L1811.35 1253.12 M1811.35 1243.02 L1815.61 1243.02 L1815.61 1248.42 L1811.35 1248.42 L1811.35 1243.02 Z\" fill=\"#000000\" fill-rule=\"nonzero\" fill-opacity=\"1\" /><path clip-path=\"url(#clip740)\" d=\"M1846.08 1263.39 L1846.08 1279.04 L1841.82 1279.04 L1841.82 1263.53 Q1841.82 1259.85 1840.38 1258.02 Q1838.95 1256.19 1836.08 1256.19 Q1832.63 1256.19 1830.64 1258.39 Q1828.65 1260.59 1828.65 1264.39 L1828.65 1279.04 L1824.36 1279.04 L1824.36 1253.12 L1828.65 1253.12 L1828.65 1257.14 Q1830.17 1254.81 1832.23 1253.65 Q1834.32 1252.49 1837.02 1252.49 Q1841.49 1252.49 1843.78 1255.27 Q1846.08 1258.02 1846.08 1263.39 Z\" fill=\"#000000\" fill-rule=\"nonzero\" fill-opacity=\"1\" /><path clip-path=\"url(#clip740)\" d=\"M1854.57 1253.12 L1858.83 1253.12 L1858.83 1279.04 L1854.57 1279.04 L1854.57 1253.12 M1854.57 1243.02 L1858.83 1243.02 L1858.83 1248.42 L1854.57 1248.42 L1854.57 1243.02 Z\" fill=\"#000000\" fill-rule=\"nonzero\" fill-opacity=\"1\" /><path clip-path=\"url(#clip740)\" d=\"M1871.95 1245.75 L1871.95 1253.12 L1880.73 1253.12 L1880.73 1256.43 L1871.95 1256.43 L1871.95 1270.5 Q1871.95 1273.67 1872.81 1274.57 Q1873.69 1275.48 1876.35 1275.48 L1880.73 1275.48 L1880.73 1279.04 L1876.35 1279.04 Q1871.42 1279.04 1869.55 1277.21 Q1867.67 1275.36 1867.67 1270.5 L1867.67 1256.43 L1864.55 1256.43 L1864.55 1253.12 L1867.67 1253.12 L1867.67 1245.75 L1871.95 1245.75 Z\" fill=\"#000000\" fill-rule=\"nonzero\" fill-opacity=\"1\" /><path clip-path=\"url(#clip740)\" d=\"M1908.51 1265.01 L1908.51 1267.1 L1888.92 1267.1 Q1889.2 1271.5 1891.56 1273.81 Q1893.95 1276.1 1898.18 1276.1 Q1900.64 1276.1 1902.93 1275.5 Q1905.24 1274.9 1907.51 1273.69 L1907.51 1277.72 Q1905.22 1278.69 1902.81 1279.2 Q1900.4 1279.71 1897.93 1279.71 Q1891.72 1279.71 1888.09 1276.1 Q1884.48 1272.49 1884.48 1266.33 Q1884.48 1259.97 1887.9 1256.24 Q1891.35 1252.49 1897.19 1252.49 Q1902.42 1252.49 1905.45 1255.87 Q1908.51 1259.23 1908.51 1265.01 M1904.25 1263.76 Q1904.2 1260.27 1902.28 1258.19 Q1900.38 1256.1 1897.23 1256.1 Q1893.67 1256.1 1891.52 1258.12 Q1889.39 1260.13 1889.06 1263.79 L1904.25 1263.76 Z\" fill=\"#000000\" fill-rule=\"nonzero\" fill-opacity=\"1\" /><path clip-path=\"url(#clip740)\" d=\"M1935.43 1248.32 L1935.43 1275.2 L1941.07 1275.2 Q1948.23 1275.2 1951.54 1271.96 Q1954.87 1268.72 1954.87 1261.73 Q1954.87 1254.78 1951.54 1251.56 Q1948.23 1248.32 1941.07 1248.32 L1935.43 1248.32 M1930.75 1244.48 L1940.36 1244.48 Q1950.4 1244.48 1955.1 1248.67 Q1959.8 1252.84 1959.8 1261.73 Q1959.8 1270.66 1955.08 1274.85 Q1950.36 1279.04 1940.36 1279.04 L1930.75 1279.04 L1930.75 1244.48 Z\" fill=\"#000000\" fill-rule=\"nonzero\" fill-opacity=\"1\" /><path clip-path=\"url(#clip740)\" d=\"M1967.07 1253.12 L1971.33 1253.12 L1971.33 1279.04 L1967.07 1279.04 L1967.07 1253.12 M1967.07 1243.02 L1971.33 1243.02 L1971.33 1248.42 L1967.07 1248.42 L1967.07 1243.02 Z\" fill=\"#000000\" fill-rule=\"nonzero\" fill-opacity=\"1\" /><path clip-path=\"url(#clip740)\" d=\"M1993.37 1243.02 L1993.37 1246.56 L1989.29 1246.56 Q1987 1246.56 1986.1 1247.49 Q1985.22 1248.42 1985.22 1250.82 L1985.22 1253.12 L1992.23 1253.12 L1992.23 1256.43 L1985.22 1256.43 L1985.22 1279.04 L1980.94 1279.04 L1980.94 1256.43 L1976.86 1256.43 L1976.86 1253.12 L1980.94 1253.12 L1980.94 1251.31 Q1980.94 1246.98 1982.95 1245.01 Q1984.96 1243.02 1989.34 1243.02 L1993.37 1243.02 Z\" fill=\"#000000\" fill-rule=\"nonzero\" fill-opacity=\"1\" /><path clip-path=\"url(#clip740)\" d=\"M2010.06 1243.02 L2010.06 1246.56 L2005.98 1246.56 Q2003.69 1246.56 2002.79 1247.49 Q2001.91 1248.42 2001.91 1250.82 L2001.91 1253.12 L2008.92 1253.12 L2008.92 1256.43 L2001.91 1256.43 L2001.91 1279.04 L1997.63 1279.04 L1997.63 1256.43 L1993.55 1256.43 L1993.55 1253.12 L1997.63 1253.12 L1997.63 1251.31 Q1997.63 1246.98 1999.64 1245.01 Q2001.65 1243.02 2006.03 1243.02 L2010.06 1243.02 Z\" fill=\"#000000\" fill-rule=\"nonzero\" fill-opacity=\"1\" /><path clip-path=\"url(#clip740)\" d=\"M2035.8 1265.01 L2035.8 1267.1 L2016.21 1267.1 Q2016.49 1271.5 2018.85 1273.81 Q2021.24 1276.1 2025.47 1276.1 Q2027.93 1276.1 2030.22 1275.5 Q2032.53 1274.9 2034.8 1273.69 L2034.8 1277.72 Q2032.51 1278.69 2030.1 1279.2 Q2027.69 1279.71 2025.22 1279.71 Q2019.01 1279.71 2015.38 1276.1 Q2011.77 1272.49 2011.77 1266.33 Q2011.77 1259.97 2015.19 1256.24 Q2018.64 1252.49 2024.48 1252.49 Q2029.71 1252.49 2032.74 1255.87 Q2035.8 1259.23 2035.8 1265.01 M2031.54 1263.76 Q2031.49 1260.27 2029.57 1258.19 Q2027.67 1256.1 2024.52 1256.1 Q2020.96 1256.1 2018.81 1258.12 Q2016.68 1260.13 2016.35 1263.79 L2031.54 1263.76 Z\" fill=\"#000000\" fill-rule=\"nonzero\" fill-opacity=\"1\" /><path clip-path=\"url(#clip740)\" d=\"M2057.81 1257.1 Q2057.09 1256.68 2056.24 1256.5 Q2055.4 1256.29 2054.38 1256.29 Q2050.77 1256.29 2048.83 1258.65 Q2046.91 1260.99 2046.91 1265.38 L2046.91 1279.04 L2042.63 1279.04 L2042.63 1253.12 L2046.91 1253.12 L2046.91 1257.14 Q2048.25 1254.78 2050.4 1253.65 Q2052.56 1252.49 2055.63 1252.49 Q2056.07 1252.49 2056.61 1252.56 Q2057.14 1252.61 2057.79 1252.72 L2057.81 1257.1 Z\" fill=\"#000000\" fill-rule=\"nonzero\" fill-opacity=\"1\" /><path clip-path=\"url(#clip740)\" d=\"M2083.41 1265.01 L2083.41 1267.1 L2063.83 1267.1 Q2064.11 1271.5 2066.47 1273.81 Q2068.85 1276.1 2073.09 1276.1 Q2075.54 1276.1 2077.83 1275.5 Q2080.15 1274.9 2082.42 1273.69 L2082.42 1277.72 Q2080.13 1278.69 2077.72 1279.2 Q2075.31 1279.71 2072.83 1279.71 Q2066.63 1279.71 2063 1276.1 Q2059.38 1272.49 2059.38 1266.33 Q2059.38 1259.97 2062.81 1256.24 Q2066.26 1252.49 2072.09 1252.49 Q2077.32 1252.49 2080.36 1255.87 Q2083.41 1259.23 2083.41 1265.01 M2079.15 1263.76 Q2079.11 1260.27 2077.19 1258.19 Q2075.29 1256.1 2072.14 1256.1 Q2068.57 1256.1 2066.42 1258.12 Q2064.29 1260.13 2063.97 1263.79 L2079.15 1263.76 Z\" fill=\"#000000\" fill-rule=\"nonzero\" fill-opacity=\"1\" /><path clip-path=\"url(#clip740)\" d=\"M2111.95 1263.39 L2111.95 1279.04 L2107.69 1279.04 L2107.69 1263.53 Q2107.69 1259.85 2106.26 1258.02 Q2104.82 1256.19 2101.95 1256.19 Q2098.5 1256.19 2096.51 1258.39 Q2094.52 1260.59 2094.52 1264.39 L2094.52 1279.04 L2090.24 1279.04 L2090.24 1253.12 L2094.52 1253.12 L2094.52 1257.14 Q2096.05 1254.81 2098.11 1253.65 Q2100.19 1252.49 2102.9 1252.49 Q2107.37 1252.49 2109.66 1255.27 Q2111.95 1258.02 2111.95 1263.39 Z\" fill=\"#000000\" fill-rule=\"nonzero\" fill-opacity=\"1\" /><path clip-path=\"url(#clip740)\" d=\"M2139.11 1254.11 L2139.11 1258.09 Q2137.3 1257.1 2135.47 1256.61 Q2133.67 1256.1 2131.81 1256.1 Q2127.67 1256.1 2125.38 1258.74 Q2123.09 1261.36 2123.09 1266.1 Q2123.09 1270.85 2125.38 1273.49 Q2127.67 1276.1 2131.81 1276.1 Q2133.67 1276.1 2135.47 1275.62 Q2137.3 1275.11 2139.11 1274.11 L2139.11 1278.05 Q2137.32 1278.88 2135.4 1279.3 Q2133.5 1279.71 2131.35 1279.71 Q2125.5 1279.71 2122.05 1276.03 Q2118.6 1272.35 2118.6 1266.1 Q2118.6 1259.76 2122.07 1256.13 Q2125.56 1252.49 2131.63 1252.49 Q2133.6 1252.49 2135.47 1252.91 Q2137.35 1253.3 2139.11 1254.11 Z\" fill=\"#000000\" fill-rule=\"nonzero\" fill-opacity=\"1\" /><path clip-path=\"url(#clip740)\" d=\"M2168.69 1265.01 L2168.69 1267.1 L2149.11 1267.1 Q2149.38 1271.5 2151.75 1273.81 Q2154.13 1276.1 2158.37 1276.1 Q2160.82 1276.1 2163.11 1275.5 Q2165.43 1274.9 2167.69 1273.69 L2167.69 1277.72 Q2165.4 1278.69 2163 1279.2 Q2160.59 1279.71 2158.11 1279.71 Q2151.91 1279.71 2148.27 1276.1 Q2144.66 1272.49 2144.66 1266.33 Q2144.66 1259.97 2148.09 1256.24 Q2151.54 1252.49 2157.37 1252.49 Q2162.6 1252.49 2165.63 1255.87 Q2168.69 1259.23 2168.69 1265.01 M2164.43 1263.76 Q2164.38 1260.27 2162.46 1258.19 Q2160.56 1256.1 2157.42 1256.1 Q2153.85 1256.1 2151.7 1258.12 Q2149.57 1260.13 2149.25 1263.79 L2164.43 1263.76 Z\" fill=\"#000000\" fill-rule=\"nonzero\" fill-opacity=\"1\" /><polyline clip-path=\"url(#clip740)\" style=\"stroke:#0000ff; stroke-linecap:round; stroke-linejoin:round; stroke-width:4; stroke-opacity:1; fill:none\" points=\"1626.26,1313.6 1764.65,1313.6 \"/>\n",
       "<path clip-path=\"url(#clip740)\" d=\"M1674.1 1292.24 L1674.1 1334.96 L1716.81 1334.96 L1716.81 1292.24 L1674.1 1292.24 Z\" fill=\"#0000ff\" fill-rule=\"evenodd\" fill-opacity=\"1\" stroke=\"#000000\" stroke-opacity=\"1\" stroke-width=\"4.55111\"/>\n",
       "<path clip-path=\"url(#clip740)\" d=\"M1815.59 1298.98 L1815.59 1303.91 Q1813.23 1301.72 1810.54 1300.63 Q1807.88 1299.54 1804.87 1299.54 Q1798.95 1299.54 1795.8 1303.17 Q1792.65 1306.78 1792.65 1313.64 Q1792.65 1320.46 1795.8 1324.1 Q1798.95 1327.71 1804.87 1327.71 Q1807.88 1327.71 1810.54 1326.62 Q1813.23 1325.53 1815.59 1323.34 L1815.59 1328.22 Q1813.14 1329.89 1810.38 1330.72 Q1807.65 1331.55 1804.59 1331.55 Q1796.75 1331.55 1792.23 1326.76 Q1787.72 1321.95 1787.72 1313.64 Q1787.72 1305.3 1792.23 1300.51 Q1796.75 1295.7 1804.59 1295.7 Q1807.7 1295.7 1810.43 1296.53 Q1813.18 1297.34 1815.59 1298.98 Z\" fill=\"#000000\" fill-rule=\"nonzero\" fill-opacity=\"1\" /><path clip-path=\"url(#clip740)\" d=\"M1844.8 1316.85 L1844.8 1318.94 L1825.22 1318.94 Q1825.5 1323.34 1827.86 1325.65 Q1830.24 1327.94 1834.48 1327.94 Q1836.93 1327.94 1839.22 1327.34 Q1841.54 1326.74 1843.81 1325.53 L1843.81 1329.56 Q1841.52 1330.53 1839.11 1331.04 Q1836.7 1331.55 1834.22 1331.55 Q1828.02 1331.55 1824.39 1327.94 Q1820.77 1324.33 1820.77 1318.17 Q1820.77 1311.81 1824.2 1308.08 Q1827.65 1304.33 1833.48 1304.33 Q1838.71 1304.33 1841.75 1307.71 Q1844.8 1311.07 1844.8 1316.85 M1840.54 1315.6 Q1840.5 1312.11 1838.58 1310.03 Q1836.68 1307.94 1833.53 1307.94 Q1829.96 1307.94 1827.81 1309.96 Q1825.68 1311.97 1825.36 1315.63 L1840.54 1315.6 Z\" fill=\"#000000\" fill-rule=\"nonzero\" fill-opacity=\"1\" /><path clip-path=\"url(#clip740)\" d=\"M1873.34 1315.23 L1873.34 1330.88 L1869.08 1330.88 L1869.08 1315.37 Q1869.08 1311.69 1867.65 1309.86 Q1866.21 1308.03 1863.34 1308.03 Q1859.89 1308.03 1857.9 1310.23 Q1855.91 1312.43 1855.91 1316.23 L1855.91 1330.88 L1851.63 1330.88 L1851.63 1304.96 L1855.91 1304.96 L1855.91 1308.98 Q1857.44 1306.65 1859.5 1305.49 Q1861.58 1304.33 1864.29 1304.33 Q1868.76 1304.33 1871.05 1307.11 Q1873.34 1309.86 1873.34 1315.23 Z\" fill=\"#000000\" fill-rule=\"nonzero\" fill-opacity=\"1\" /><path clip-path=\"url(#clip740)\" d=\"M1886.05 1297.59 L1886.05 1304.96 L1894.83 1304.96 L1894.83 1308.27 L1886.05 1308.27 L1886.05 1322.34 Q1886.05 1325.51 1886.91 1326.41 Q1887.79 1327.32 1890.45 1327.32 L1894.83 1327.32 L1894.83 1330.88 L1890.45 1330.88 Q1885.52 1330.88 1883.64 1329.05 Q1881.77 1327.2 1881.77 1322.34 L1881.77 1308.27 L1878.64 1308.27 L1878.64 1304.96 L1881.77 1304.96 L1881.77 1297.59 L1886.05 1297.59 Z\" fill=\"#000000\" fill-rule=\"nonzero\" fill-opacity=\"1\" /><path clip-path=\"url(#clip740)\" d=\"M1922.6 1316.85 L1922.6 1318.94 L1903.02 1318.94 Q1903.3 1323.34 1905.66 1325.65 Q1908.04 1327.94 1912.28 1327.94 Q1914.73 1327.94 1917.02 1327.34 Q1919.34 1326.74 1921.61 1325.53 L1921.61 1329.56 Q1919.32 1330.53 1916.91 1331.04 Q1914.5 1331.55 1912.02 1331.55 Q1905.82 1331.55 1902.19 1327.94 Q1898.58 1324.33 1898.58 1318.17 Q1898.58 1311.81 1902 1308.08 Q1905.45 1304.33 1911.28 1304.33 Q1916.51 1304.33 1919.55 1307.71 Q1922.6 1311.07 1922.6 1316.85 M1918.34 1315.6 Q1918.3 1312.11 1916.38 1310.03 Q1914.48 1307.94 1911.33 1307.94 Q1907.76 1307.94 1905.61 1309.96 Q1903.48 1311.97 1903.16 1315.63 L1918.34 1315.6 Z\" fill=\"#000000\" fill-rule=\"nonzero\" fill-opacity=\"1\" /><path clip-path=\"url(#clip740)\" d=\"M1944.62 1308.94 Q1943.9 1308.52 1943.04 1308.34 Q1942.21 1308.13 1941.19 1308.13 Q1937.58 1308.13 1935.64 1310.49 Q1933.71 1312.83 1933.71 1317.22 L1933.71 1330.88 L1929.43 1330.88 L1929.43 1304.96 L1933.71 1304.96 L1933.71 1308.98 Q1935.06 1306.62 1937.21 1305.49 Q1939.36 1304.33 1942.44 1304.33 Q1942.88 1304.33 1943.41 1304.4 Q1943.95 1304.45 1944.59 1304.56 L1944.62 1308.94 Z\" fill=\"#000000\" fill-rule=\"nonzero\" fill-opacity=\"1\" /><path clip-path=\"url(#clip740)\" d=\"M1970.22 1316.85 L1970.22 1318.94 L1950.64 1318.94 Q1950.91 1323.34 1953.27 1325.65 Q1955.66 1327.94 1959.89 1327.94 Q1962.35 1327.94 1964.64 1327.34 Q1966.95 1326.74 1969.22 1325.53 L1969.22 1329.56 Q1966.93 1330.53 1964.52 1331.04 Q1962.12 1331.55 1959.64 1331.55 Q1953.44 1331.55 1949.8 1327.94 Q1946.19 1324.33 1946.19 1318.17 Q1946.19 1311.81 1949.62 1308.08 Q1953.07 1304.33 1958.9 1304.33 Q1964.13 1304.33 1967.16 1307.71 Q1970.22 1311.07 1970.22 1316.85 M1965.96 1315.6 Q1965.91 1312.11 1963.99 1310.03 Q1962.09 1307.94 1958.95 1307.94 Q1955.38 1307.94 1953.23 1309.96 Q1951.1 1311.97 1950.77 1315.63 L1965.96 1315.6 Z\" fill=\"#000000\" fill-rule=\"nonzero\" fill-opacity=\"1\" /><path clip-path=\"url(#clip740)\" d=\"M1994.27 1308.89 L1994.27 1294.86 L1998.53 1294.86 L1998.53 1330.88 L1994.27 1330.88 L1994.27 1326.99 Q1992.93 1329.31 1990.87 1330.44 Q1988.83 1331.55 1985.96 1331.55 Q1981.26 1331.55 1978.3 1327.8 Q1975.36 1324.05 1975.36 1317.94 Q1975.36 1311.83 1978.3 1308.08 Q1981.26 1304.33 1985.96 1304.33 Q1988.83 1304.33 1990.87 1305.47 Q1992.93 1306.58 1994.27 1308.89 M1979.76 1317.94 Q1979.76 1322.64 1981.68 1325.33 Q1983.62 1327.99 1987 1327.99 Q1990.38 1327.99 1992.32 1325.33 Q1994.27 1322.64 1994.27 1317.94 Q1994.27 1313.24 1992.32 1310.58 Q1990.38 1307.9 1987 1307.9 Q1983.62 1307.9 1981.68 1310.58 Q1979.76 1313.24 1979.76 1317.94 Z\" fill=\"#000000\" fill-rule=\"nonzero\" fill-opacity=\"1\" /><path clip-path=\"url(#clip740)\" d=\"M2027.23 1300.16 L2027.23 1327.04 L2032.88 1327.04 Q2040.03 1327.04 2043.34 1323.8 Q2046.68 1320.56 2046.68 1313.57 Q2046.68 1306.62 2043.34 1303.4 Q2040.03 1300.16 2032.88 1300.16 L2027.23 1300.16 M2022.56 1296.32 L2032.16 1296.32 Q2042.21 1296.32 2046.91 1300.51 Q2051.61 1304.68 2051.61 1313.57 Q2051.61 1322.5 2046.88 1326.69 Q2042.16 1330.88 2032.16 1330.88 L2022.56 1330.88 L2022.56 1296.32 Z\" fill=\"#000000\" fill-rule=\"nonzero\" fill-opacity=\"1\" /><path clip-path=\"url(#clip740)\" d=\"M2058.88 1304.96 L2063.13 1304.96 L2063.13 1330.88 L2058.88 1330.88 L2058.88 1304.96 M2058.88 1294.86 L2063.13 1294.86 L2063.13 1300.26 L2058.88 1300.26 L2058.88 1294.86 Z\" fill=\"#000000\" fill-rule=\"nonzero\" fill-opacity=\"1\" /><path clip-path=\"url(#clip740)\" d=\"M2085.17 1294.86 L2085.17 1298.4 L2081.1 1298.4 Q2078.81 1298.4 2077.9 1299.33 Q2077.02 1300.26 2077.02 1302.66 L2077.02 1304.96 L2084.04 1304.96 L2084.04 1308.27 L2077.02 1308.27 L2077.02 1330.88 L2072.74 1330.88 L2072.74 1308.27 L2068.67 1308.27 L2068.67 1304.96 L2072.74 1304.96 L2072.74 1303.15 Q2072.74 1298.82 2074.75 1296.85 Q2076.77 1294.86 2081.14 1294.86 L2085.17 1294.86 Z\" fill=\"#000000\" fill-rule=\"nonzero\" fill-opacity=\"1\" /><path clip-path=\"url(#clip740)\" d=\"M2101.86 1294.86 L2101.86 1298.4 L2097.79 1298.4 Q2095.5 1298.4 2094.59 1299.33 Q2093.71 1300.26 2093.71 1302.66 L2093.71 1304.96 L2100.73 1304.96 L2100.73 1308.27 L2093.71 1308.27 L2093.71 1330.88 L2089.43 1330.88 L2089.43 1308.27 L2085.36 1308.27 L2085.36 1304.96 L2089.43 1304.96 L2089.43 1303.15 Q2089.43 1298.82 2091.44 1296.85 Q2093.46 1294.86 2097.83 1294.86 L2101.86 1294.86 Z\" fill=\"#000000\" fill-rule=\"nonzero\" fill-opacity=\"1\" /><path clip-path=\"url(#clip740)\" d=\"M2127.6 1316.85 L2127.6 1318.94 L2108.02 1318.94 Q2108.3 1323.34 2110.66 1325.65 Q2113.04 1327.94 2117.28 1327.94 Q2119.73 1327.94 2122.02 1327.34 Q2124.34 1326.74 2126.61 1325.53 L2126.61 1329.56 Q2124.31 1330.53 2121.91 1331.04 Q2119.5 1331.55 2117.02 1331.55 Q2110.82 1331.55 2107.19 1327.94 Q2103.57 1324.33 2103.57 1318.17 Q2103.57 1311.81 2107 1308.08 Q2110.45 1304.33 2116.28 1304.33 Q2121.51 1304.33 2124.55 1307.71 Q2127.6 1311.07 2127.6 1316.85 M2123.34 1315.6 Q2123.3 1312.11 2121.37 1310.03 Q2119.48 1307.94 2116.33 1307.94 Q2112.76 1307.94 2110.61 1309.96 Q2108.48 1311.97 2108.16 1315.63 L2123.34 1315.6 Z\" fill=\"#000000\" fill-rule=\"nonzero\" fill-opacity=\"1\" /><path clip-path=\"url(#clip740)\" d=\"M2149.62 1308.94 Q2148.9 1308.52 2148.04 1308.34 Q2147.21 1308.13 2146.19 1308.13 Q2142.58 1308.13 2140.63 1310.49 Q2138.71 1312.83 2138.71 1317.22 L2138.71 1330.88 L2134.43 1330.88 L2134.43 1304.96 L2138.71 1304.96 L2138.71 1308.98 Q2140.06 1306.62 2142.21 1305.49 Q2144.36 1304.33 2147.44 1304.33 Q2147.88 1304.33 2148.41 1304.4 Q2148.94 1304.45 2149.59 1304.56 L2149.62 1308.94 Z\" fill=\"#000000\" fill-rule=\"nonzero\" fill-opacity=\"1\" /><path clip-path=\"url(#clip740)\" d=\"M2175.22 1316.85 L2175.22 1318.94 L2155.63 1318.94 Q2155.91 1323.34 2158.27 1325.65 Q2160.66 1327.94 2164.89 1327.94 Q2167.35 1327.94 2169.64 1327.34 Q2171.95 1326.74 2174.22 1325.53 L2174.22 1329.56 Q2171.93 1330.53 2169.52 1331.04 Q2167.12 1331.55 2164.64 1331.55 Q2158.43 1331.55 2154.8 1327.94 Q2151.19 1324.33 2151.19 1318.17 Q2151.19 1311.81 2154.62 1308.08 Q2158.06 1304.33 2163.9 1304.33 Q2169.13 1304.33 2172.16 1307.71 Q2175.22 1311.07 2175.22 1316.85 M2170.96 1315.6 Q2170.91 1312.11 2168.99 1310.03 Q2167.09 1307.94 2163.94 1307.94 Q2160.38 1307.94 2158.23 1309.96 Q2156.1 1311.97 2155.77 1315.63 L2170.96 1315.6 Z\" fill=\"#000000\" fill-rule=\"nonzero\" fill-opacity=\"1\" /><path clip-path=\"url(#clip740)\" d=\"M2203.76 1315.23 L2203.76 1330.88 L2199.5 1330.88 L2199.5 1315.37 Q2199.5 1311.69 2198.06 1309.86 Q2196.63 1308.03 2193.76 1308.03 Q2190.31 1308.03 2188.32 1310.23 Q2186.33 1312.43 2186.33 1316.23 L2186.33 1330.88 L2182.05 1330.88 L2182.05 1304.96 L2186.33 1304.96 L2186.33 1308.98 Q2187.86 1306.65 2189.92 1305.49 Q2192 1304.33 2194.71 1304.33 Q2199.18 1304.33 2201.47 1307.11 Q2203.76 1309.86 2203.76 1315.23 Z\" fill=\"#000000\" fill-rule=\"nonzero\" fill-opacity=\"1\" /><path clip-path=\"url(#clip740)\" d=\"M2230.91 1305.95 L2230.91 1309.93 Q2229.11 1308.94 2227.28 1308.45 Q2225.47 1307.94 2223.62 1307.94 Q2219.48 1307.94 2217.18 1310.58 Q2214.89 1313.2 2214.89 1317.94 Q2214.89 1322.69 2217.18 1325.33 Q2219.48 1327.94 2223.62 1327.94 Q2225.47 1327.94 2227.28 1327.46 Q2229.11 1326.95 2230.91 1325.95 L2230.91 1329.89 Q2229.13 1330.72 2227.21 1331.14 Q2225.31 1331.55 2223.16 1331.55 Q2217.3 1331.55 2213.85 1327.87 Q2210.4 1324.19 2210.4 1317.94 Q2210.4 1311.6 2213.87 1307.97 Q2217.37 1304.33 2223.43 1304.33 Q2225.4 1304.33 2227.28 1304.75 Q2229.15 1305.14 2230.91 1305.95 Z\" fill=\"#000000\" fill-rule=\"nonzero\" fill-opacity=\"1\" /><path clip-path=\"url(#clip740)\" d=\"M2260.49 1316.85 L2260.49 1318.94 L2240.91 1318.94 Q2241.19 1323.34 2243.55 1325.65 Q2245.93 1327.94 2250.17 1327.94 Q2252.62 1327.94 2254.92 1327.34 Q2257.23 1326.74 2259.5 1325.53 L2259.5 1329.56 Q2257.21 1330.53 2254.8 1331.04 Q2252.39 1331.55 2249.92 1331.55 Q2243.71 1331.55 2240.08 1327.94 Q2236.47 1324.33 2236.47 1318.17 Q2236.47 1311.81 2239.89 1308.08 Q2243.34 1304.33 2249.18 1304.33 Q2254.41 1304.33 2257.44 1307.71 Q2260.49 1311.07 2260.49 1316.85 M2256.24 1315.6 Q2256.19 1312.11 2254.27 1310.03 Q2252.37 1307.94 2249.22 1307.94 Q2245.66 1307.94 2243.5 1309.96 Q2241.37 1311.97 2241.05 1315.63 L2256.24 1315.6 Z\" fill=\"#000000\" fill-rule=\"nonzero\" fill-opacity=\"1\" /></svg>\n"
      ]
     },
     "execution_count": 8,
     "metadata": {},
     "output_type": "execute_result"
    }
   ],
   "source": [
    "# Jika kedua grafik digabung maka akan seperti berikut \n",
    "\n",
    "function tampil_kombo()\n",
    "    nilai_x = 1.0\n",
    "    nilai_eksak = turunan_eksak(nilai_x)\n",
    "\n",
    "    nilai_h = [10.0^(-k) for k in 0:16]\n",
    "    error_finite = []\n",
    "    error_central = []\n",
    "\n",
    "    for h in nilai_h\n",
    "        approxf = finite_difference(nilai_x, h)\n",
    "        errorf = errors(approxf, nilai_eksak)\n",
    "        push!(error_finite, errorf)\n",
    "\n",
    "        approxc = centered_difference(nilai_x, h)\n",
    "        errorc = errors(approxc, nilai_eksak)\n",
    "        push!(error_central, errorc)\n",
    "    end\n",
    "\n",
    "    plot(nilai_h, error_finite, xaxis=:log, yaxis=:log, xlabel=\"h\", ylabel=\"Error\", \n",
    "        label=\"Finite Difference\", color=:red, legend=:bottomright, marker=:circle)\n",
    "\n",
    "    plot!(nilai_h, error_central, label=\"Centered Difference\", color=:blue, legend=:bottomright, marker=:rect)\n",
    "end\n",
    "\n",
    "tampil_kombo()"
   ]
  },
  {
   "cell_type": "markdown",
   "id": "7570e165-6d6f-409c-8b8e-3d8fb097e1d1",
   "metadata": {},
   "source": [
    "<hr style=\"border:2px solid black\"> </hr>"
   ]
  },
  {
   "cell_type": "markdown",
   "id": "9ddde7ac-ca17-4d45-90b5-77bddba69f48",
   "metadata": {},
   "source": [
    "#### __1.10__\n",
    "Write a program to solve the quadratic equation $ax^2 + bx + c = 0$ using standard quadratic formula \n",
    "$$x = \\frac{-b +- \\sqrt{b^2 - 4ac}}{2a} $$\n",
    "or the alternative formula\n",
    "$$x = \\frac{2c}{-b -+ \\sqrt{b^2 - 4ac}} $$\n",
    "\n",
    "Your program should accept values for the coefficients $a, b,$ and $c$ as input and produce the two roots of the equation as output. Your program should detect when the roots are not real, but need not use complex arithmetic explicitly (for example, you could return the real and imaginary parts of the complex conjugate roots in this case). You should guard against unnecessary overflow, underflow, and cancellation. When should you use each of the two formulas? Try to make your program robust when given unusual input values, such as $a = 0$ or $c = 0$, which otherwise would make one of the formulas fail. Any root that is within the range of the floating-point system should be computed accurately, even if the other is out of range. Test your program using the following values for the coefficients:\n",
    "\n",
    "|$a$|$b$|$c$|\n",
    "|--|--|--|\n",
    "| $6$ | $5$ | $-4$ |\n",
    "| $6 x 10^{154}$ | $5 x 10^{154}$ | $-4 x 10^{154}$ |\n",
    "| $0$ | $1$ | $1$ |\n",
    "| $1$ | $-10^{5}$ | $1$ |\n",
    "| $1$ | $-4$ | $3.999999$ |\n",
    "| $10^{-155}$ | $-10^{155}$ | $10^{155}$ |"
   ]
  },
  {
   "cell_type": "code",
   "execution_count": 9,
   "id": "4539bce3-41f5-4117-992a-dbcf44c2c0c8",
   "metadata": {},
   "outputs": [
    {
     "name": "stdout",
     "output_type": "stream",
     "text": [
      "Koefisien: a=6, b=5, c=-4\n",
      "Akar 1: 0.5\n",
      "Akar 2: -1.3333333333333333\n",
      "------------------------------------\n",
      "Koefisien: a=6.0e154, b=5.0e154, c=-4.0e154\n",
      "Akar 1: Inf\n",
      "Akar 2: -Inf\n",
      "------------------------------------\n",
      "Koefisien: a=0, b=1, c=1\n",
      "Error: Koefisien 'a' harus bukan nol\n",
      "Akar 1: Tak terdefinisi\n",
      "Akar 2: Tak terdefinisi\n",
      "------------------------------------\n",
      "Koefisien: a=1, b=-100000.0, c=1\n",
      "Akar 1: 99999.99999\n",
      "Akar 2: 1.0000003385357559e-5\n",
      "------------------------------------\n",
      "Koefisien: a=1, b=-4, c=3.999999\n",
      "Akar 1: 2.00100000000007\n",
      "Akar 2: 1.9989999999999302\n",
      "------------------------------------\n",
      "Koefisien: a=1.0e-155, b=-1.0e155, c=1.0e155\n",
      "Akar 1: Inf\n",
      "Akar 2: -Inf\n",
      "------------------------------------\n"
     ]
    }
   ],
   "source": [
    "function solver_kuadratik(a, b, c)\n",
    "    # Kalau a = 0\n",
    "    if a == 0\n",
    "        println(\"Error: Koefisien 'a' harus bukan nol\")\n",
    "        return \"Tak terdefinisi\", \"Tak terdefinisi\"\n",
    "    end\n",
    "    diskriminan = b^2 - 4 * a * c\n",
    "    # Kalau diskriminan positif\n",
    "    if diskriminan >= 0\n",
    "        akar_diskriminan = sqrt(diskriminan)\n",
    "        x1 = (-b + akar_diskriminan) / (2 * a)\n",
    "        x2 = (-b - akar_diskriminan) / (2 * a)\n",
    "        return x1, x2\n",
    "    else\n",
    "    # Kalau diskriminan negatif\n",
    "        riil = -b / (2 * a)\n",
    "        imaginer = sqrt(abs(diskriminan)) / (2 * a)\n",
    "        x1 = complex(riil, imaginer)\n",
    "        x2 = conj(x1)\n",
    "        return x1, x2\n",
    "    end\n",
    "end\n",
    "\n",
    "function tampil()\n",
    "    koefisien = [\n",
    "        (6, 5, -4),\n",
    "        (6e154, 5e154, -4e154),\n",
    "        (0, 1, 1),\n",
    "        (1, -1e5, 1),\n",
    "        (1, -4, 3.999999),\n",
    "        (1e-155, -1e155, 1e155),\n",
    "    ]\n",
    "\n",
    "    for (a, b, c) in koefisien\n",
    "        println(\"Koefisien: a=$a, b=$b, c=$c\")\n",
    "        x1, x2 = solver_kuadratik(a, b, c)\n",
    "        println(\"Akar 1: $x1\")\n",
    "        println(\"Akar 2: $x2\")\n",
    "        println(\"------------------------------------\")\n",
    "    end\n",
    "end\n",
    "tampil()"
   ]
  },
  {
   "cell_type": "markdown",
   "id": "92638d65-d717-41c9-a9d1-bac884031998",
   "metadata": {},
   "source": [
    "<hr style=\"border:2px solid black\"> </hr>"
   ]
  },
  {
   "cell_type": "markdown",
   "id": "702d421f-6368-4754-bfeb-d170f04b8c3f",
   "metadata": {},
   "source": [
    "#### __1.12__\n",
    "$(a)$ Write a program to compute the mean $x_{bar}$ and standard deviation $σ$ of a finite sequence $x_{i}$. Your program should accept a vector $x$ of dimension $n$ as input and produce the mean and standard deviation of the sequence as output. For the standard deviation, try both the two-pass formula\n",
    "$$σ = [\\frac{1}{n-1} \\sum_{i=1}^{n}{(x_{i} - x̄)^2}]^{1/2}$$\n",
    "\n",
    "and the one-pass formula\n",
    "$$σ = [\\frac{1}{n-1} \\sum_{i=1}^{n}{(x_{i}^2 - nx̄^2)}]^{1/2}$$\n",
    "\n",
    "and compare the results for an input sequence of your choice.\n",
    "\n",
    "$(b)$ Can you devise an input data sequence that dramatically illustrates the numerical difference between these two mathematically equivalent formulas? (Caution: Beware of taking the square root of a negative number.)"
   ]
  },
  {
   "cell_type": "code",
   "execution_count": 10,
   "id": "4f63b537-6361-411a-aabb-3fb68e350d23",
   "metadata": {},
   "outputs": [
    {
     "name": "stdout",
     "output_type": "stream",
     "text": [
      "Mean(x̄): 135.66733333333335\n",
      "Two-way Standard Deviation(σ): 498.3384889838098\n",
      "One-way Standard Deviation(σ): 527.7877421822778\n"
     ]
    }
   ],
   "source": [
    "# (a)\n",
    "function hitung_mean_stdev(x)\n",
    "    n = length(x)\n",
    "    # Menghitung mean(x̄)\n",
    "    mean = sum(x) / n\n",
    "    # Menghitung two-way standard deviation (σ)\n",
    "    twoway_stdev = sqrt(sum(abs(xi - mean)^2 for xi in x) / (n - 1))\n",
    "    # Menghitung one-way standard deviation (σ)\n",
    "    oneway_stdev = sqrt(sum(abs(xi^2 - n * mean^2) for xi in x) / (n - 1))\n",
    "    return mean, twoway_stdev, oneway_stdev\n",
    "end\n",
    "\n",
    "# (b)\n",
    "data = [10, -2, 300, 0.004, -500, 1006]\n",
    "mean, twoway_stdev, oneway_stdev = hitung_mean_stdev(data)\n",
    "\n",
    "println(\"Mean(x̄): $mean\")\n",
    "println(\"Two-way Standard Deviation(σ): $twoway_stdev\")\n",
    "println(\"One-way Standard Deviation(σ): $oneway_stdev\")"
   ]
  },
  {
   "cell_type": "markdown",
   "id": "01709e29-237a-4510-b8d5-c48aa7509af3",
   "metadata": {},
   "source": [
    "<hr style=\"border:2px solid black\"> </hr>"
   ]
  }
 ],
 "metadata": {
  "kernelspec": {
   "display_name": "Julia 1.6.7",
   "language": "julia",
   "name": "julia-1.6"
  },
  "language_info": {
   "file_extension": ".jl",
   "mimetype": "application/julia",
   "name": "julia",
   "version": "1.6.7"
  }
 },
 "nbformat": 4,
 "nbformat_minor": 5
}
